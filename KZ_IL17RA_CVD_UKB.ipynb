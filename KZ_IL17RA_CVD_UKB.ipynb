{
 "cells": [
  {
   "cell_type": "markdown",
   "metadata": {},
   "source": [
    "# Load packages and Protein data"
   ]
  },
  {
   "cell_type": "code",
   "execution_count": 1,
   "metadata": {
    "scrolled": true
   },
   "outputs": [
    {
     "name": "stderr",
     "output_type": "stream",
     "text": [
      "Warning message:\n",
      "“package ‘arrow’ was built under R version 4.4.1”\n",
      "\n",
      "Attaching package: ‘arrow’\n",
      "\n",
      "\n",
      "The following object is masked from ‘package:utils’:\n",
      "\n",
      "    timestamp\n",
      "\n",
      "\n",
      "\n",
      "Attaching package: ‘dplyr’\n",
      "\n",
      "\n",
      "The following objects are masked from ‘package:stats’:\n",
      "\n",
      "    filter, lag\n",
      "\n",
      "\n",
      "The following objects are masked from ‘package:base’:\n",
      "\n",
      "    intersect, setdiff, setequal, union\n",
      "\n",
      "\n",
      "\n",
      "Attaching package: ‘reshape2’\n",
      "\n",
      "\n",
      "The following object is masked from ‘package:tidyr’:\n",
      "\n",
      "    smiths\n",
      "\n",
      "\n",
      "── \u001b[1mAttaching core tidyverse packages\u001b[22m ──────────────────────── tidyverse 2.0.0 ──\n",
      "\u001b[32m✔\u001b[39m \u001b[34mforcats  \u001b[39m 1.0.0     \u001b[32m✔\u001b[39m \u001b[34mpurrr    \u001b[39m 1.0.4\n",
      "\u001b[32m✔\u001b[39m \u001b[34mggplot2  \u001b[39m 3.5.1     \u001b[32m✔\u001b[39m \u001b[34mreadr    \u001b[39m 2.1.5\n",
      "\u001b[32m✔\u001b[39m \u001b[34mlubridate\u001b[39m 1.9.3     \u001b[32m✔\u001b[39m \u001b[34mtibble   \u001b[39m 3.2.1\n",
      "── \u001b[1mConflicts\u001b[22m ────────────────────────────────────────── tidyverse_conflicts() ──\n",
      "\u001b[31m✖\u001b[39m \u001b[34mreadr\u001b[39m::\u001b[32mcol_factor()\u001b[39m   masks \u001b[34mscales\u001b[39m::col_factor()\n",
      "\u001b[31m✖\u001b[39m \u001b[34mpurrr\u001b[39m::\u001b[32mdiscard()\u001b[39m      masks \u001b[34mscales\u001b[39m::discard()\n",
      "\u001b[31m✖\u001b[39m \u001b[34mlubridate\u001b[39m::\u001b[32mduration()\u001b[39m masks \u001b[34marrow\u001b[39m::duration()\n",
      "\u001b[31m✖\u001b[39m \u001b[34mdplyr\u001b[39m::\u001b[32mfilter()\u001b[39m       masks \u001b[34mstats\u001b[39m::filter()\n",
      "\u001b[31m✖\u001b[39m \u001b[34mdplyr\u001b[39m::\u001b[32mlag()\u001b[39m          masks \u001b[34mstats\u001b[39m::lag()\n",
      "\u001b[36mℹ\u001b[39m Use the conflicted package (\u001b[3m\u001b[34m<http://conflicted.r-lib.org/>\u001b[39m\u001b[23m) to force all conflicts to become errors\n",
      "\n",
      "Attaching package: ‘data.table’\n",
      "\n",
      "\n",
      "The following objects are masked from ‘package:lubridate’:\n",
      "\n",
      "    hour, isoweek, mday, minute, month, quarter, second, wday, week,\n",
      "    yday, year\n",
      "\n",
      "\n",
      "The following object is masked from ‘package:purrr’:\n",
      "\n",
      "    transpose\n",
      "\n",
      "\n",
      "The following objects are masked from ‘package:reshape2’:\n",
      "\n",
      "    dcast, melt\n",
      "\n",
      "\n",
      "The following objects are masked from ‘package:dplyr’:\n",
      "\n",
      "    between, first, last\n",
      "\n",
      "\n"
     ]
    }
   ],
   "source": [
    "library(broom)\n",
    "library(scales)\n",
    "library(stringr)\n",
    "library(arrow)\n",
    "library(survival)\n",
    "library(tidyr)\n",
    "library(dplyr)\n",
    "library(haven)\n",
    "library(reshape2)\n",
    "library(tidyverse)\n",
    "library(data.table)\n",
    "library(lubridate)\n",
    "library(ggplot2)"
   ]
  },
  {
   "cell_type": "code",
   "execution_count": 2,
   "metadata": {},
   "outputs": [],
   "source": [
    "#gp protein\n",
    "score_kz <- fread(\"sscore1206_All_combined.csv\")"
   ]
  },
  {
   "cell_type": "code",
   "execution_count": 3,
   "metadata": {},
   "outputs": [
    {
     "data": {
      "text/html": [
       "<style>\n",
       ".list-inline {list-style: none; margin:0; padding: 0}\n",
       ".list-inline>li {display: inline-block}\n",
       ".list-inline>li:not(:last-child)::after {content: \"\\00b7\"; padding: 0 .5ex}\n",
       "</style>\n",
       "<ol class=list-inline><li>487409</li><li>2074</li></ol>\n"
      ],
      "text/latex": [
       "\\begin{enumerate*}\n",
       "\\item 487409\n",
       "\\item 2074\n",
       "\\end{enumerate*}\n"
      ],
      "text/markdown": [
       "1. 487409\n",
       "2. 2074\n",
       "\n",
       "\n"
      ],
      "text/plain": [
       "[1] 487409   2074"
      ]
     },
     "metadata": {},
     "output_type": "display_data"
    }
   ],
   "source": [
    "dim(score_kz)"
   ]
  },
  {
   "cell_type": "code",
   "execution_count": 4,
   "metadata": {},
   "outputs": [
    {
     "data": {
      "text/plain": [
       "\n",
       "     1      2      3 \n",
       "162470 162469 162470 "
      ]
     },
     "metadata": {},
     "output_type": "display_data"
    }
   ],
   "source": [
    "score_kz$il17ra_333 <- 2\n",
    "score_kz$il17ra_333[score_kz$Interleukin17_receptor_A >= quantile(score_kz$Interleukin17_receptor_A,2/3)] <- 3\n",
    "score_kz$il17ra_333[score_kz$Interleukin17_receptor_A < quantile(score_kz$Interleukin17_receptor_A,1/3)] <- 1\n",
    "score_kz$il17ra_333<-as.factor(score_kz$il17ra_333)\n",
    "table(score_kz$il17ra_333)"
   ]
  },
  {
   "cell_type": "code",
   "execution_count": 37,
   "metadata": {},
   "outputs": [],
   "source": [
    "#UKB data\n",
    "data_all_pheno_cox2 <- fread(\"data_all_pheno_coxUKB.tsv\")"
   ]
  },
  {
   "cell_type": "code",
   "execution_count": 24,
   "metadata": {
    "code_folding": [
     1
    ]
   },
   "outputs": [],
   "source": [
    "#Formula-logistic regression\n",
    "batch_logistic_regression <- function(data, snp_list, outcome, covariates = NULL) {\n",
    "  results <- list()\n",
    "  \n",
    "  base_formula <- paste0(outcome, \" ~ \")\n",
    "  \n",
    "  for (snp in snp_list) {\n",
    "    if (!is.null(covariates) && length(covariates) > 0) {\n",
    "      formula <- as.formula(paste0(base_formula, snp, \" + \", paste(covariates, collapse = \" + \")))\n",
    "    } else {\n",
    "      formula <- as.formula(paste0(base_formula, snp))\n",
    "    }\n",
    "    \n",
    "\n",
    "    print(formula)\n",
    "    \n",
    "    tryCatch({\n",
    "      logistic_model <- glm(formula, data = data, family = binomial)\n",
    "      summary_model <- summary(logistic_model)\n",
    "      \n",
    "      coef <- summary_model$coefficients[snp, \"Estimate\"]\n",
    "      se <- summary_model$coefficients[snp, \"Std. Error\"]\n",
    "      p_value <- summary_model$coefficients[snp, \"Pr(>|z|)\"]\n",
    "      ci_lower <- exp(coef - 1.96 * se)\n",
    "      ci_upper <- exp(coef + 1.96 * se)\n",
    "      or <- exp(coef)\n",
    "      \n",
    "      results[[snp]] <- data.frame(\n",
    "        SNP = snp,\n",
    "        Beta = coef,\n",
    "        OR = or,\n",
    "        SE = se,\n",
    "        CI_Lower = ci_lower,\n",
    "        CI_Upper = ci_upper,\n",
    "        P_Value = p_value\n",
    "      )\n",
    "    }, error = function(e) {\n",
    "      warning(paste(\"Error in model for SNP:\", snp, \"- Skipping.\"))\n",
    "    })\n",
    "  }\n",
    "  \n",
    "  results_df <- do.call(rbind, results)\n",
    "  return(results_df)\n",
    "}"
   ]
  },
  {
   "cell_type": "code",
   "execution_count": 25,
   "metadata": {
    "code_folding": [
     1,
     28
    ]
   },
   "outputs": [],
   "source": [
    "#Formula-Cox regression\n",
    "analyze_cox_model <- function(data, time_var, event_var, group_var, covariates) {\n",
    "  df_filtered <- data %>% filter(.data[[time_var]] > 0)\n",
    "  if (nrow(df_filtered) != length(df_filtered[[time_var]]) || \n",
    "      nrow(df_filtered) != length(df_filtered[[event_var]])) {\n",
    "    stop(\"Time and status are different lengths after filtering. Please check your data.\")\n",
    "  }\n",
    "  \n",
    "  if (!all(unique(df_filtered[[event_var]]) %in% c(0, 1))) {\n",
    "    stop(\"Event variable must be binary (0 or 1).\")\n",
    "  }\n",
    "\n",
    "  surv_obj <- Surv(time = df_filtered[[time_var]], event = df_filtered[[event_var]] == 1)\n",
    "  \n",
    "  covariate_formula <- paste(covariates, collapse = \" + \")\n",
    "  formula <- as.formula(paste(\"surv_obj ~\", group_var, \"+\", covariate_formula))\n",
    "  \n",
    "  cox_fit <- coxph(formula, data = df_filtered)\n",
    "  \n",
    "  summary_cox <- summary(cox_fit)\n",
    "  print(summary_cox)\n",
    "  \n",
    "  results <- as.data.frame(summary_cox$coefficients)\n",
    "  colnames(results) <- c(\"Coefficient\", \"Exp(Coefficient)\", \"Standard Error\", \"z value\", \"p value\")\n",
    "  print(results)\n",
    "  \n",
    "  return(results)\n",
    "}\n",
    "analyze_cox_model0 <- function(data, time_var, event_var, group_var, covariates) {\n",
    "  df_filtered <- data %>% filter(.data[[time_var]] > 0)\n",
    "  df_filtered <- df_filtered %>% drop_na(all_of(covariates))\n",
    "  surv_obj <- Surv(time = df_filtered[[time_var]], event = df_filtered[[event_var]] == 1)\n",
    "  covariate_formula <- paste(covariates, collapse = \" + \")\n",
    "  formula <- as.formula(paste(\"surv_obj ~\", group_var, \"+\", covariate_formula))\n",
    "  cox_fit <- coxph(formula, data = df_filtered)\n",
    "  summary_cox <- summary(cox_fit)\n",
    "  print(summary_cox)\n",
    "  results <- summary_cox$coefficients\n",
    "  colnames(results) <- c(\"Coefficient\", \"Exp(Coefficient)\", \"Standard Error\", \"z value\", \"p value\")\n",
    "  print(results)\n",
    "}"
   ]
  },
  {
   "cell_type": "code",
   "execution_count": 38,
   "metadata": {},
   "outputs": [],
   "source": [
    "pro_list <- colnames(score_kz)[-1]"
   ]
  },
  {
   "cell_type": "code",
   "execution_count": 82,
   "metadata": {},
   "outputs": [
    {
     "data": {
      "text/plain": [
       "   Min. 1st Qu.  Median    Mean 3rd Qu.    Max. \n",
       "-1.1118  0.3515  0.9603  0.9670  1.5682  3.7822 "
      ]
     },
     "metadata": {},
     "output_type": "display_data"
    },
    {
     "data": {
      "text/plain": [
       "   Min. 1st Qu.  Median    Mean 3rd Qu.    Max. \n",
       " 0.0000  0.8318  0.8318  0.8067  0.8318  0.8318 "
      ]
     },
     "metadata": {},
     "output_type": "display_data"
    }
   ],
   "source": [
    "summary(score_kz$Interleukin17_receptor_A)\n",
    "summary(score_kz$Interleukin17A)"
   ]
  },
  {
   "cell_type": "markdown",
   "metadata": {
    "heading_collapsed": true
   },
   "source": [
    "# CHIP data"
   ]
  },
  {
   "cell_type": "code",
   "execution_count": 40,
   "metadata": {
    "hidden": true
   },
   "outputs": [],
   "source": [
    "calls_chip <- fread('All_CHIP_calls_for_UKB_March112024.txt') #17026"
   ]
  },
  {
   "cell_type": "code",
   "execution_count": 41,
   "metadata": {
    "hidden": true
   },
   "outputs": [
    {
     "data": {
      "text/html": [
       "'vumc_id'"
      ],
      "text/latex": [
       "'vumc\\_id'"
      ],
      "text/markdown": [
       "'vumc_id'"
      ],
      "text/plain": [
       "[1] \"vumc_id\""
      ]
     },
     "metadata": {},
     "output_type": "display_data"
    }
   ],
   "source": [
    "x <- load(\"Users_Kun_Zhao_vumc_id_ukb.Rdata\")\n",
    "x"
   ]
  },
  {
   "cell_type": "code",
   "execution_count": 42,
   "metadata": {
    "hidden": true
   },
   "outputs": [],
   "source": [
    "calls_chip <- merge(calls_chip,vumc_id, by.x = \"ID\", by.y = \"ID_Broad\", all.x = T)"
   ]
  },
  {
   "cell_type": "code",
   "execution_count": 43,
   "metadata": {
    "hidden": true
   },
   "outputs": [
    {
     "data": {
      "text/plain": [
       "\n",
       "     0      1 \n",
       "486474  15939 "
      ]
     },
     "metadata": {},
     "output_type": "display_data"
    }
   ],
   "source": [
    "table(data_all_pheno_cox2$chip)"
   ]
  },
  {
   "cell_type": "code",
   "execution_count": 46,
   "metadata": {
    "hidden": true
   },
   "outputs": [],
   "source": [
    "data_chip <- filter(data_all_pheno_cox2, data_all_pheno_cox2$chip==1)"
   ]
  },
  {
   "cell_type": "code",
   "execution_count": 47,
   "metadata": {
    "hidden": true
   },
   "outputs": [
    {
     "data": {
      "text/plain": [
       "\n",
       "    0     1 \n",
       "14984   955 "
      ]
     },
     "metadata": {},
     "output_type": "display_data"
    }
   ],
   "source": [
    "data_chip$CVD <- NA\n",
    "data_chip$CVD <- ifelse(data_chip$`Coronary atherosclerosis [Atherosclerotic heart disease]`==1|\n",
    "                        data_chip$`Myocardial infarction [Heart attack]`==1 |\n",
    "                        data_chip$Stroke==1|\n",
    "                        data_chip$`Heart failure`==1|\n",
    "                        data_chip$`Angina pectoris`==1|\n",
    "                        data_chip$`Peripheral vascular disease`==1,1, 0)\n",
    "table(data_chip$CVD)"
   ]
  },
  {
   "cell_type": "code",
   "execution_count": 48,
   "metadata": {
    "hidden": true
   },
   "outputs": [
    {
     "data": {
      "text/plain": [
       "\n",
       "    0     1 \n",
       "15135   804 "
      ]
     },
     "metadata": {},
     "output_type": "display_data"
    }
   ],
   "source": [
    "data_chip$ASCVD <- NA\n",
    "data_chip$ASCVD <- ifelse(data_chip$`Coronary atherosclerosis [Atherosclerotic heart disease]`==1|\n",
    "                        data_chip$`Myocardial infarction [Heart attack]`==1 |\n",
    "                        data_chip$`Heart failure`==1|\n",
    "                        data_chip$`Angina pectoris`==1|\n",
    "                        data_chip$`Peripheral vascular disease`==1,1, 0)\n",
    "table(data_chip$ASCVD)"
   ]
  },
  {
   "cell_type": "code",
   "execution_count": 49,
   "metadata": {
    "hidden": true
   },
   "outputs": [],
   "source": [
    "data_chip$CAD <- NA\n",
    "data_chip$CAD <- ifelse(data_chip$`Coronary atherosclerosis [Atherosclerotic heart disease]`==1|\n",
    "                        data_chip$`Myocardial infarction [Heart attack]`==1 |\n",
    "                        data_chip$`Angina pectoris`==1,1, 0)"
   ]
  },
  {
   "cell_type": "code",
   "execution_count": 50,
   "metadata": {
    "hidden": true
   },
   "outputs": [],
   "source": [
    "data_chip$AML <- NA\n",
    "data_chip$AML <- ifelse(data_chip$`Acute myeloid leukemia`==1|\n",
    "                        data_chip$`Myelodysplastic syndrome`==1 |\n",
    "                        data_chip$Myelofibrosis==1|\n",
    "                        data_chip$`Myeloproliferative disorder`==1|\n",
    "                        data_chip$`Polycythemia vera`==1|\n",
    "                        data_chip$`Essential thrombocythemia`==1,1, 0)"
   ]
  },
  {
   "cell_type": "code",
   "execution_count": 51,
   "metadata": {
    "hidden": true
   },
   "outputs": [
    {
     "data": {
      "text/plain": [
       "\n",
       "    0     1 \n",
       "15569   370 "
      ]
     },
     "metadata": {},
     "output_type": "display_data"
    }
   ],
   "source": [
    "data_chip$AID <- NA\n",
    "data_chip$AID <- ifelse(data_chip$`Rheumatoid arthritis`==1|\n",
    "                        data_chip$`Ankylosing spondylitis`==1 |\n",
    "                        data_chip$`Systemic lupus erythematosus [SLE]`==1|\n",
    "                        data_chip$Psoriasis==1|\n",
    "                        data_chip$`Psoriatic arthropathy`==1,1, 0)\n",
    "table(data_chip$AID)"
   ]
  },
  {
   "cell_type": "code",
   "execution_count": 52,
   "metadata": {
    "hidden": true
   },
   "outputs": [],
   "source": [
    "data_chip$VTE <- NA\n",
    "data_chip$VTE <- ifelse(data_chip$`Pulmonary embolism`==1|\n",
    "                        data_chip$`Venous thromboembolism`==1 ,1, 0)"
   ]
  },
  {
   "cell_type": "code",
   "execution_count": 53,
   "metadata": {
    "hidden": true
   },
   "outputs": [],
   "source": [
    "data_chip$MPN <- NA\n",
    "data_chip$MPN <- ifelse(data_chip$`Myeloproliferative disorder`==1|\n",
    "                        data_chip$VTE==1 |\n",
    "                        data_chip$`Chronic myeloproliferative disease*` == 1 ,1, 0)"
   ]
  },
  {
   "cell_type": "code",
   "execution_count": 54,
   "metadata": {
    "hidden": true
   },
   "outputs": [],
   "source": [
    "data_chip2 <- data_chip[,c(\"ID_VUMC\",\"baseline_age\", \"age2\", \"genetic_sex\", \"smoking_0\", \"PC1\",\"PC2\",\"PC3\",\"PCD4\",\"PC5\",\"BMI_0\",\"baseline_HTN\",\"baseline_DM\",\"systolicBP_0\",\"diastolicBP_0\",\"ldl_0\",\n",
    "                          \"Acute myeloid leukemia\",\"Heart failure\",\"AML\",\"ASCVD\",\"CVD\",\"CAD\",\"Myocardial infarction [Heart attack]\",\"Stroke\", \"Thrombosis of cerebral or precerebral arteries\",\"Venous thromboembolism\",\"VTE\",\"death\",\"AID\",\n",
    "                          \"Rheumatoid arthritis\",\"Ankylosing spondylitis\",\"Systemic lupus erythematosus [SLE]\",\"Psoriasis\",\"Psoriatic arthropathy\",\"Myeloproliferative disorder\", \"MPN\",\"Chronic myeloproliferative disease*\",\"Peripheral vascular disease\")]"
   ]
  },
  {
   "cell_type": "code",
   "execution_count": 55,
   "metadata": {
    "hidden": true
   },
   "outputs": [],
   "source": [
    "score_kz$ID <- as.character(score_kz$ID)\n",
    "data_chip2$ID_VUMC <- as.character(data_chip2$ID_VUMC)"
   ]
  },
  {
   "cell_type": "code",
   "execution_count": 56,
   "metadata": {
    "hidden": true
   },
   "outputs": [],
   "source": [
    "data_chip_protein <- merge(data_chip2, score_kz, by.x = \"ID_VUMC\" , by.y = \"ID\", all.x = T)"
   ]
  },
  {
   "cell_type": "code",
   "execution_count": 57,
   "metadata": {
    "hidden": true
   },
   "outputs": [
    {
     "data": {
      "text/html": [
       "<style>\n",
       ".list-inline {list-style: none; margin:0; padding: 0}\n",
       ".list-inline>li {display: inline-block}\n",
       ".list-inline>li:not(:last-child)::after {content: \"\\00b7\"; padding: 0 .5ex}\n",
       "</style>\n",
       "<ol class=list-inline><li>15939</li><li>2111</li></ol>\n"
      ],
      "text/latex": [
       "\\begin{enumerate*}\n",
       "\\item 15939\n",
       "\\item 2111\n",
       "\\end{enumerate*}\n"
      ],
      "text/markdown": [
       "1. 15939\n",
       "2. 2111\n",
       "\n",
       "\n"
      ],
      "text/plain": [
       "[1] 15939  2111"
      ]
     },
     "metadata": {},
     "output_type": "display_data"
    }
   ],
   "source": [
    "dim(data_chip_protein)"
   ]
  },
  {
   "cell_type": "markdown",
   "metadata": {
    "heading_collapsed": true
   },
   "source": [
    "# gIL17RA & CVD"
   ]
  },
  {
   "cell_type": "markdown",
   "metadata": {
    "heading_collapsed": true,
    "hidden": true
   },
   "source": [
    "## Overall CHIP"
   ]
  },
  {
   "cell_type": "code",
   "execution_count": 41,
   "metadata": {
    "hidden": true,
    "scrolled": true
   },
   "outputs": [
    {
     "name": "stdout",
     "output_type": "stream",
     "text": [
      "CVD ~ Interleukin17_receptor_A + baseline_age + age2 + genetic_sex + \n",
      "    smoking_0 + PC1 + PC2 + PC3 + PCD4 + PC5 + BMI_0 + baseline_DM + \n",
      "    systolicBP_0 + diastolicBP_0 + ldl_0\n",
      "<environment: 0x59676c5eda68>\n"
     ]
    },
    {
     "data": {
      "text/html": [
       "<table class=\"dataframe\">\n",
       "<caption>A data.frame: 1 × 7</caption>\n",
       "<thead>\n",
       "\t<tr><th></th><th scope=col>SNP</th><th scope=col>Beta</th><th scope=col>OR</th><th scope=col>SE</th><th scope=col>CI_Lower</th><th scope=col>CI_Upper</th><th scope=col>P_Value</th></tr>\n",
       "\t<tr><th></th><th scope=col>&lt;chr&gt;</th><th scope=col>&lt;dbl&gt;</th><th scope=col>&lt;dbl&gt;</th><th scope=col>&lt;dbl&gt;</th><th scope=col>&lt;dbl&gt;</th><th scope=col>&lt;dbl&gt;</th><th scope=col>&lt;dbl&gt;</th></tr>\n",
       "</thead>\n",
       "<tbody>\n",
       "\t<tr><th scope=row>Interleukin17_receptor_A</th><td>Interleukin17_receptor_A</td><td>-0.0712689</td><td>0.9312115</td><td>0.04523343</td><td>0.8522065</td><td>1.017541</td><td>0.1151226</td></tr>\n",
       "</tbody>\n",
       "</table>\n"
      ],
      "text/latex": [
       "A data.frame: 1 × 7\n",
       "\\begin{tabular}{r|lllllll}\n",
       "  & SNP & Beta & OR & SE & CI\\_Lower & CI\\_Upper & P\\_Value\\\\\n",
       "  & <chr> & <dbl> & <dbl> & <dbl> & <dbl> & <dbl> & <dbl>\\\\\n",
       "\\hline\n",
       "\tInterleukin17\\_receptor\\_A & Interleukin17\\_receptor\\_A & -0.0712689 & 0.9312115 & 0.04523343 & 0.8522065 & 1.017541 & 0.1151226\\\\\n",
       "\\end{tabular}\n"
      ],
      "text/markdown": [
       "\n",
       "A data.frame: 1 × 7\n",
       "\n",
       "| <!--/--> | SNP &lt;chr&gt; | Beta &lt;dbl&gt; | OR &lt;dbl&gt; | SE &lt;dbl&gt; | CI_Lower &lt;dbl&gt; | CI_Upper &lt;dbl&gt; | P_Value &lt;dbl&gt; |\n",
       "|---|---|---|---|---|---|---|---|\n",
       "| Interleukin17_receptor_A | Interleukin17_receptor_A | -0.0712689 | 0.9312115 | 0.04523343 | 0.8522065 | 1.017541 | 0.1151226 |\n",
       "\n"
      ],
      "text/plain": [
       "                         SNP                      Beta       OR       \n",
       "Interleukin17_receptor_A Interleukin17_receptor_A -0.0712689 0.9312115\n",
       "                         SE         CI_Lower  CI_Upper P_Value  \n",
       "Interleukin17_receptor_A 0.04523343 0.8522065 1.017541 0.1151226"
      ]
     },
     "metadata": {},
     "output_type": "display_data"
    }
   ],
   "source": [
    "logistic_mca <- batch_logistic_regression(\n",
    "  data = data_chip_protein,\n",
    "  snp_list = \"Interleukin17_receptor_A\",\n",
    "  outcome = \"CVD\",\n",
    "  covariates = c(\"baseline_age\", \"age2\", \"genetic_sex\", \"smoking_0\", \"PC1\",\"PC2\",\"PC3\",\"PCD4\",\"PC5\",\"BMI_0\",\"baseline_DM\",\"systolicBP_0\",\"diastolicBP_0\",\"ldl_0\")\n",
    ")\n",
    "logistic_mca"
   ]
  },
  {
   "cell_type": "code",
   "execution_count": 42,
   "metadata": {
    "hidden": true
   },
   "outputs": [
    {
     "name": "stdout",
     "output_type": "stream",
     "text": [
      "ASCVD ~ Interleukin17_receptor_A + baseline_age + age2 + genetic_sex + \n",
      "    smoking_0 + PC1 + PC2 + PC3 + PCD4 + PC5 + BMI_0 + baseline_DM + \n",
      "    systolicBP_0 + diastolicBP_0 + ldl_0\n",
      "<environment: 0x5969bddae990>\n"
     ]
    },
    {
     "data": {
      "text/html": [
       "<table class=\"dataframe\">\n",
       "<caption>A data.frame: 1 × 7</caption>\n",
       "<thead>\n",
       "\t<tr><th></th><th scope=col>SNP</th><th scope=col>Beta</th><th scope=col>OR</th><th scope=col>SE</th><th scope=col>CI_Lower</th><th scope=col>CI_Upper</th><th scope=col>P_Value</th></tr>\n",
       "\t<tr><th></th><th scope=col>&lt;chr&gt;</th><th scope=col>&lt;dbl&gt;</th><th scope=col>&lt;dbl&gt;</th><th scope=col>&lt;dbl&gt;</th><th scope=col>&lt;dbl&gt;</th><th scope=col>&lt;dbl&gt;</th><th scope=col>&lt;dbl&gt;</th></tr>\n",
       "</thead>\n",
       "<tbody>\n",
       "\t<tr><th scope=row>Interleukin17_receptor_A</th><td>Interleukin17_receptor_A</td><td>-0.07106488</td><td>0.9314015</td><td>0.0492088</td><td>0.8457647</td><td>1.025709</td><td>0.1486969</td></tr>\n",
       "</tbody>\n",
       "</table>\n"
      ],
      "text/latex": [
       "A data.frame: 1 × 7\n",
       "\\begin{tabular}{r|lllllll}\n",
       "  & SNP & Beta & OR & SE & CI\\_Lower & CI\\_Upper & P\\_Value\\\\\n",
       "  & <chr> & <dbl> & <dbl> & <dbl> & <dbl> & <dbl> & <dbl>\\\\\n",
       "\\hline\n",
       "\tInterleukin17\\_receptor\\_A & Interleukin17\\_receptor\\_A & -0.07106488 & 0.9314015 & 0.0492088 & 0.8457647 & 1.025709 & 0.1486969\\\\\n",
       "\\end{tabular}\n"
      ],
      "text/markdown": [
       "\n",
       "A data.frame: 1 × 7\n",
       "\n",
       "| <!--/--> | SNP &lt;chr&gt; | Beta &lt;dbl&gt; | OR &lt;dbl&gt; | SE &lt;dbl&gt; | CI_Lower &lt;dbl&gt; | CI_Upper &lt;dbl&gt; | P_Value &lt;dbl&gt; |\n",
       "|---|---|---|---|---|---|---|---|\n",
       "| Interleukin17_receptor_A | Interleukin17_receptor_A | -0.07106488 | 0.9314015 | 0.0492088 | 0.8457647 | 1.025709 | 0.1486969 |\n",
       "\n"
      ],
      "text/plain": [
       "                         SNP                      Beta        OR       \n",
       "Interleukin17_receptor_A Interleukin17_receptor_A -0.07106488 0.9314015\n",
       "                         SE        CI_Lower  CI_Upper P_Value  \n",
       "Interleukin17_receptor_A 0.0492088 0.8457647 1.025709 0.1486969"
      ]
     },
     "metadata": {},
     "output_type": "display_data"
    }
   ],
   "source": [
    "logistic_mca <- batch_logistic_regression(\n",
    "  data = data_chip_protein,\n",
    "  snp_list = \"Interleukin17_receptor_A\",\n",
    "  outcome = \"ASCVD\",\n",
    "  covariates = c(\"baseline_age\", \"age2\", \"genetic_sex\", \"smoking_0\", \"PC1\",\"PC2\",\"PC3\",\"PCD4\",\"PC5\",\"BMI_0\",\"baseline_DM\",\"systolicBP_0\",\"diastolicBP_0\",\"ldl_0\")\n",
    ")\n",
    "logistic_mca"
   ]
  },
  {
   "cell_type": "code",
   "execution_count": 43,
   "metadata": {
    "hidden": true
   },
   "outputs": [
    {
     "name": "stdout",
     "output_type": "stream",
     "text": [
      "CAD ~ Interleukin17_receptor_A + baseline_age + age2 + genetic_sex + \n",
      "    smoking_0 + PC1 + PC2 + PC3 + PCD4 + PC5 + BMI_0 + baseline_DM + \n",
      "    systolicBP_0 + diastolicBP_0 + ldl_0\n",
      "<environment: 0x59696ec360b0>\n"
     ]
    },
    {
     "data": {
      "text/html": [
       "<table class=\"dataframe\">\n",
       "<caption>A data.frame: 1 × 7</caption>\n",
       "<thead>\n",
       "\t<tr><th></th><th scope=col>SNP</th><th scope=col>Beta</th><th scope=col>OR</th><th scope=col>SE</th><th scope=col>CI_Lower</th><th scope=col>CI_Upper</th><th scope=col>P_Value</th></tr>\n",
       "\t<tr><th></th><th scope=col>&lt;chr&gt;</th><th scope=col>&lt;dbl&gt;</th><th scope=col>&lt;dbl&gt;</th><th scope=col>&lt;dbl&gt;</th><th scope=col>&lt;dbl&gt;</th><th scope=col>&lt;dbl&gt;</th><th scope=col>&lt;dbl&gt;</th></tr>\n",
       "</thead>\n",
       "<tbody>\n",
       "\t<tr><th scope=row>Interleukin17_receptor_A</th><td>Interleukin17_receptor_A</td><td>-0.04756861</td><td>0.953545</td><td>0.05860188</td><td>0.850077</td><td>1.069607</td><td>0.4169494</td></tr>\n",
       "</tbody>\n",
       "</table>\n"
      ],
      "text/latex": [
       "A data.frame: 1 × 7\n",
       "\\begin{tabular}{r|lllllll}\n",
       "  & SNP & Beta & OR & SE & CI\\_Lower & CI\\_Upper & P\\_Value\\\\\n",
       "  & <chr> & <dbl> & <dbl> & <dbl> & <dbl> & <dbl> & <dbl>\\\\\n",
       "\\hline\n",
       "\tInterleukin17\\_receptor\\_A & Interleukin17\\_receptor\\_A & -0.04756861 & 0.953545 & 0.05860188 & 0.850077 & 1.069607 & 0.4169494\\\\\n",
       "\\end{tabular}\n"
      ],
      "text/markdown": [
       "\n",
       "A data.frame: 1 × 7\n",
       "\n",
       "| <!--/--> | SNP &lt;chr&gt; | Beta &lt;dbl&gt; | OR &lt;dbl&gt; | SE &lt;dbl&gt; | CI_Lower &lt;dbl&gt; | CI_Upper &lt;dbl&gt; | P_Value &lt;dbl&gt; |\n",
       "|---|---|---|---|---|---|---|---|\n",
       "| Interleukin17_receptor_A | Interleukin17_receptor_A | -0.04756861 | 0.953545 | 0.05860188 | 0.850077 | 1.069607 | 0.4169494 |\n",
       "\n"
      ],
      "text/plain": [
       "                         SNP                      Beta        OR      \n",
       "Interleukin17_receptor_A Interleukin17_receptor_A -0.04756861 0.953545\n",
       "                         SE         CI_Lower CI_Upper P_Value  \n",
       "Interleukin17_receptor_A 0.05860188 0.850077 1.069607 0.4169494"
      ]
     },
     "metadata": {},
     "output_type": "display_data"
    }
   ],
   "source": [
    "logistic_mca <- batch_logistic_regression(\n",
    "  data = data_chip_protein,\n",
    "  snp_list = \"Interleukin17_receptor_A\",\n",
    "  outcome = \"CAD\",\n",
    "  covariates = c(\"baseline_age\", \"age2\", \"genetic_sex\", \"smoking_0\", \"PC1\",\"PC2\",\"PC3\",\"PCD4\",\"PC5\",\"BMI_0\",\"baseline_DM\",\"systolicBP_0\",\"diastolicBP_0\",\"ldl_0\")\n",
    ")\n",
    "logistic_mca"
   ]
  },
  {
   "cell_type": "code",
   "execution_count": 44,
   "metadata": {
    "hidden": true
   },
   "outputs": [
    {
     "name": "stdout",
     "output_type": "stream",
     "text": [
      "Stroke ~ Interleukin17_receptor_A + baseline_age + age2 + genetic_sex + \n",
      "    smoking_0 + PC1 + PC2 + PC3 + PCD4 + PC5 + BMI_0 + baseline_DM + \n",
      "    systolicBP_0 + diastolicBP_0 + ldl_0\n",
      "<environment: 0x5968d20a89a0>\n"
     ]
    },
    {
     "data": {
      "text/html": [
       "<table class=\"dataframe\">\n",
       "<caption>A data.frame: 1 × 7</caption>\n",
       "<thead>\n",
       "\t<tr><th></th><th scope=col>SNP</th><th scope=col>Beta</th><th scope=col>OR</th><th scope=col>SE</th><th scope=col>CI_Lower</th><th scope=col>CI_Upper</th><th scope=col>P_Value</th></tr>\n",
       "\t<tr><th></th><th scope=col>&lt;chr&gt;</th><th scope=col>&lt;dbl&gt;</th><th scope=col>&lt;dbl&gt;</th><th scope=col>&lt;dbl&gt;</th><th scope=col>&lt;dbl&gt;</th><th scope=col>&lt;dbl&gt;</th><th scope=col>&lt;dbl&gt;</th></tr>\n",
       "</thead>\n",
       "<tbody>\n",
       "\t<tr><th scope=row>Interleukin17_receptor_A</th><td>Interleukin17_receptor_A</td><td>-0.02116689</td><td>0.9790556</td><td>0.09342895</td><td>0.8152279</td><td>1.175806</td><td>0.820769</td></tr>\n",
       "</tbody>\n",
       "</table>\n"
      ],
      "text/latex": [
       "A data.frame: 1 × 7\n",
       "\\begin{tabular}{r|lllllll}\n",
       "  & SNP & Beta & OR & SE & CI\\_Lower & CI\\_Upper & P\\_Value\\\\\n",
       "  & <chr> & <dbl> & <dbl> & <dbl> & <dbl> & <dbl> & <dbl>\\\\\n",
       "\\hline\n",
       "\tInterleukin17\\_receptor\\_A & Interleukin17\\_receptor\\_A & -0.02116689 & 0.9790556 & 0.09342895 & 0.8152279 & 1.175806 & 0.820769\\\\\n",
       "\\end{tabular}\n"
      ],
      "text/markdown": [
       "\n",
       "A data.frame: 1 × 7\n",
       "\n",
       "| <!--/--> | SNP &lt;chr&gt; | Beta &lt;dbl&gt; | OR &lt;dbl&gt; | SE &lt;dbl&gt; | CI_Lower &lt;dbl&gt; | CI_Upper &lt;dbl&gt; | P_Value &lt;dbl&gt; |\n",
       "|---|---|---|---|---|---|---|---|\n",
       "| Interleukin17_receptor_A | Interleukin17_receptor_A | -0.02116689 | 0.9790556 | 0.09342895 | 0.8152279 | 1.175806 | 0.820769 |\n",
       "\n"
      ],
      "text/plain": [
       "                         SNP                      Beta        OR       \n",
       "Interleukin17_receptor_A Interleukin17_receptor_A -0.02116689 0.9790556\n",
       "                         SE         CI_Lower  CI_Upper P_Value \n",
       "Interleukin17_receptor_A 0.09342895 0.8152279 1.175806 0.820769"
      ]
     },
     "metadata": {},
     "output_type": "display_data"
    }
   ],
   "source": [
    "logistic_mca <- batch_logistic_regression(\n",
    "  data = data_chip_protein,\n",
    "  snp_list = \"Interleukin17_receptor_A\",\n",
    "  outcome = \"Stroke\",\n",
    "  covariates = c(\"baseline_age\", \"age2\", \"genetic_sex\", \"smoking_0\", \"PC1\",\"PC2\",\"PC3\",\"PCD4\",\"PC5\",\"BMI_0\",\"baseline_DM\",\"systolicBP_0\",\"diastolicBP_0\",\"ldl_0\")\n",
    ")\n",
    "logistic_mca"
   ]
  },
  {
   "cell_type": "code",
   "execution_count": 45,
   "metadata": {
    "hidden": true
   },
   "outputs": [
    {
     "name": "stdout",
     "output_type": "stream",
     "text": [
      "`Heart failure` ~ Interleukin17_receptor_A + baseline_age + age2 + \n",
      "    genetic_sex + smoking_0 + PC1 + PC2 + PC3 + PCD4 + PC5 + \n",
      "    BMI_0 + baseline_DM + systolicBP_0 + diastolicBP_0 + ldl_0\n",
      "<environment: 0x596b947bf6d8>\n"
     ]
    },
    {
     "data": {
      "text/html": [
       "<table class=\"dataframe\">\n",
       "<caption>A data.frame: 1 × 7</caption>\n",
       "<thead>\n",
       "\t<tr><th></th><th scope=col>SNP</th><th scope=col>Beta</th><th scope=col>OR</th><th scope=col>SE</th><th scope=col>CI_Lower</th><th scope=col>CI_Upper</th><th scope=col>P_Value</th></tr>\n",
       "\t<tr><th></th><th scope=col>&lt;chr&gt;</th><th scope=col>&lt;dbl&gt;</th><th scope=col>&lt;dbl&gt;</th><th scope=col>&lt;dbl&gt;</th><th scope=col>&lt;dbl&gt;</th><th scope=col>&lt;dbl&gt;</th><th scope=col>&lt;dbl&gt;</th></tr>\n",
       "</thead>\n",
       "<tbody>\n",
       "\t<tr><th scope=row>Interleukin17_receptor_A</th><td>Interleukin17_receptor_A</td><td>0.09180221</td><td>1.096148</td><td>0.1072291</td><td>0.8883702</td><td>1.352522</td><td>0.3919249</td></tr>\n",
       "</tbody>\n",
       "</table>\n"
      ],
      "text/latex": [
       "A data.frame: 1 × 7\n",
       "\\begin{tabular}{r|lllllll}\n",
       "  & SNP & Beta & OR & SE & CI\\_Lower & CI\\_Upper & P\\_Value\\\\\n",
       "  & <chr> & <dbl> & <dbl> & <dbl> & <dbl> & <dbl> & <dbl>\\\\\n",
       "\\hline\n",
       "\tInterleukin17\\_receptor\\_A & Interleukin17\\_receptor\\_A & 0.09180221 & 1.096148 & 0.1072291 & 0.8883702 & 1.352522 & 0.3919249\\\\\n",
       "\\end{tabular}\n"
      ],
      "text/markdown": [
       "\n",
       "A data.frame: 1 × 7\n",
       "\n",
       "| <!--/--> | SNP &lt;chr&gt; | Beta &lt;dbl&gt; | OR &lt;dbl&gt; | SE &lt;dbl&gt; | CI_Lower &lt;dbl&gt; | CI_Upper &lt;dbl&gt; | P_Value &lt;dbl&gt; |\n",
       "|---|---|---|---|---|---|---|---|\n",
       "| Interleukin17_receptor_A | Interleukin17_receptor_A | 0.09180221 | 1.096148 | 0.1072291 | 0.8883702 | 1.352522 | 0.3919249 |\n",
       "\n"
      ],
      "text/plain": [
       "                         SNP                      Beta       OR       SE       \n",
       "Interleukin17_receptor_A Interleukin17_receptor_A 0.09180221 1.096148 0.1072291\n",
       "                         CI_Lower  CI_Upper P_Value  \n",
       "Interleukin17_receptor_A 0.8883702 1.352522 0.3919249"
      ]
     },
     "metadata": {},
     "output_type": "display_data"
    }
   ],
   "source": [
    "logistic_mca <- batch_logistic_regression(\n",
    "  data = data_chip_protein,\n",
    "  snp_list = \"Interleukin17_receptor_A\",\n",
    "  outcome = \"`Heart failure`\",\n",
    "  covariates = c(\"baseline_age\", \"age2\", \"genetic_sex\", \"smoking_0\", \"PC1\",\"PC2\",\"PC3\",\"PCD4\",\"PC5\",\"BMI_0\",\"baseline_DM\",\"systolicBP_0\",\"diastolicBP_0\",\"ldl_0\")\n",
    ")\n",
    "logistic_mca"
   ]
  },
  {
   "cell_type": "code",
   "execution_count": 62,
   "metadata": {
    "hidden": true
   },
   "outputs": [
    {
     "name": "stdout",
     "output_type": "stream",
     "text": [
      "`Peripheral vascular disease` ~ Interleukin17_receptor_A + baseline_age + \n",
      "    age2 + genetic_sex + smoking_0 + PC1 + PC2 + PC3 + PCD4 + \n",
      "    PC5 + BMI_0 + baseline_DM + baseline_HTN + ldl_0 + AID\n",
      "<environment: 0x5968bfc36c20>\n"
     ]
    },
    {
     "data": {
      "text/html": [
       "<table class=\"dataframe\">\n",
       "<caption>A data.frame: 1 × 7</caption>\n",
       "<thead>\n",
       "\t<tr><th></th><th scope=col>SNP</th><th scope=col>Beta</th><th scope=col>OR</th><th scope=col>SE</th><th scope=col>CI_Lower</th><th scope=col>CI_Upper</th><th scope=col>P_Value</th></tr>\n",
       "\t<tr><th></th><th scope=col>&lt;chr&gt;</th><th scope=col>&lt;dbl&gt;</th><th scope=col>&lt;dbl&gt;</th><th scope=col>&lt;dbl&gt;</th><th scope=col>&lt;dbl&gt;</th><th scope=col>&lt;dbl&gt;</th><th scope=col>&lt;dbl&gt;</th></tr>\n",
       "</thead>\n",
       "<tbody>\n",
       "\t<tr><th scope=row>Interleukin17_receptor_A</th><td>Interleukin17_receptor_A</td><td>-0.1518247</td><td>0.8591389</td><td>0.08818832</td><td>0.7227631</td><td>1.021247</td><td>0.08514275</td></tr>\n",
       "</tbody>\n",
       "</table>\n"
      ],
      "text/latex": [
       "A data.frame: 1 × 7\n",
       "\\begin{tabular}{r|lllllll}\n",
       "  & SNP & Beta & OR & SE & CI\\_Lower & CI\\_Upper & P\\_Value\\\\\n",
       "  & <chr> & <dbl> & <dbl> & <dbl> & <dbl> & <dbl> & <dbl>\\\\\n",
       "\\hline\n",
       "\tInterleukin17\\_receptor\\_A & Interleukin17\\_receptor\\_A & -0.1518247 & 0.8591389 & 0.08818832 & 0.7227631 & 1.021247 & 0.08514275\\\\\n",
       "\\end{tabular}\n"
      ],
      "text/markdown": [
       "\n",
       "A data.frame: 1 × 7\n",
       "\n",
       "| <!--/--> | SNP &lt;chr&gt; | Beta &lt;dbl&gt; | OR &lt;dbl&gt; | SE &lt;dbl&gt; | CI_Lower &lt;dbl&gt; | CI_Upper &lt;dbl&gt; | P_Value &lt;dbl&gt; |\n",
       "|---|---|---|---|---|---|---|---|\n",
       "| Interleukin17_receptor_A | Interleukin17_receptor_A | -0.1518247 | 0.8591389 | 0.08818832 | 0.7227631 | 1.021247 | 0.08514275 |\n",
       "\n"
      ],
      "text/plain": [
       "                         SNP                      Beta       OR       \n",
       "Interleukin17_receptor_A Interleukin17_receptor_A -0.1518247 0.8591389\n",
       "                         SE         CI_Lower  CI_Upper P_Value   \n",
       "Interleukin17_receptor_A 0.08818832 0.7227631 1.021247 0.08514275"
      ]
     },
     "metadata": {},
     "output_type": "display_data"
    }
   ],
   "source": [
    "logistic_mca <- batch_logistic_regression(\n",
    "  data = data_chip_protein,\n",
    "  snp_list = \"Interleukin17_receptor_A\",\n",
    "  outcome = \"`Peripheral vascular disease`\",\n",
    "  covariates = c(\"baseline_age\", \"age2\", \"genetic_sex\", \"smoking_0\", \"PC1\",\"PC2\",\"PC3\",\"PCD4\",\"PC5\",\"BMI_0\",\"baseline_DM\",\"baseline_HTN\",\"ldl_0\",\"AID\")\n",
    ")\n",
    "logistic_mca"
   ]
  },
  {
   "cell_type": "markdown",
   "metadata": {
    "heading_collapsed": true,
    "hidden": true
   },
   "source": [
    "## JAK2-CHIP"
   ]
  },
  {
   "cell_type": "code",
   "execution_count": 44,
   "metadata": {
    "hidden": true
   },
   "outputs": [],
   "source": [
    "d3a <- filter(calls_chip, calls_chip$Gene.refGene == \"DNMT3A\")\n",
    "tet2 <-filter(calls_chip, calls_chip$Gene.refGene == \"TET2\")\n",
    "jak2 <-filter(calls_chip, calls_chip$Gene.refGene == \"JAK2\")"
   ]
  },
  {
   "cell_type": "code",
   "execution_count": 58,
   "metadata": {
    "hidden": true
   },
   "outputs": [],
   "source": [
    "data_chip_protein$d3a <- ifelse(data_chip_protein$ID_VUMC %in% d3a$ID_VUMC , 1, 0)\n",
    "data_chip_protein$tet2 <- ifelse(data_chip_protein$ID_VUMC %in% tet2$ID_VUMC , 1, 0)\n",
    "data_chip_protein$jak2 <- ifelse(data_chip_protein$ID_VUMC %in% jak2$ID_VUMC , 1, 0)"
   ]
  },
  {
   "cell_type": "code",
   "execution_count": 59,
   "metadata": {
    "hidden": true
   },
   "outputs": [],
   "source": [
    "data_jak2 <- filter(data_chip_protein, data_chip_protein$jak2 == 1)"
   ]
  },
  {
   "cell_type": "code",
   "execution_count": 60,
   "metadata": {
    "hidden": true,
    "scrolled": false
   },
   "outputs": [
    {
     "data": {
      "text/plain": [
       "\n",
       "   0    1 <NA> \n",
       " 187    5    0 "
      ]
     },
     "metadata": {},
     "output_type": "display_data"
    },
    {
     "data": {
      "text/plain": [
       "\n",
       "   0    1 <NA> \n",
       " 185    7    0 "
      ]
     },
     "metadata": {},
     "output_type": "display_data"
    },
    {
     "data": {
      "text/plain": [
       "\n",
       "   0    1 <NA> \n",
       " 185    7    0 "
      ]
     },
     "metadata": {},
     "output_type": "display_data"
    }
   ],
   "source": [
    "table(data_jak2$`Heart failure`, useNA= \"always\")\n",
    "table(data_jak2$`Myocardial infarction [Heart attack]`, useNA= \"always\")\n",
    "table(data_jak2$`Peripheral vascular disease`, useNA= \"always\")"
   ]
  },
  {
   "cell_type": "code",
   "execution_count": 133,
   "metadata": {
    "code_folding": [],
    "hidden": true
   },
   "outputs": [],
   "source": [
    "#save jak2 only data (192 ppl)\n",
    "save(data_jak2, file = \"data_jak2_192_UKB.Rdata\")"
   ]
  },
  {
   "cell_type": "code",
   "execution_count": 5,
   "metadata": {
    "hidden": true
   },
   "outputs": [
    {
     "data": {
      "text/html": [
       "'data_jak2'"
      ],
      "text/latex": [
       "'data\\_jak2'"
      ],
      "text/markdown": [
       "'data_jak2'"
      ],
      "text/plain": [
       "[1] \"data_jak2\""
      ]
     },
     "metadata": {},
     "output_type": "display_data"
    }
   ],
   "source": [
    "x <- load(\"data_jak2_192_UKB.Rdata\")\n",
    "x"
   ]
  },
  {
   "cell_type": "code",
   "execution_count": 46,
   "metadata": {
    "hidden": true
   },
   "outputs": [
    {
     "name": "stdout",
     "output_type": "stream",
     "text": [
      "CVD ~ Interleukin17_receptor_A + baseline_age + age2 + genetic_sex + \n",
      "    smoking_0 + PC1 + PC2 + PC3 + PCD4 + PC5 + BMI_0 + baseline_DM + \n",
      "    baseline_HTN + ldl_0 + AID\n",
      "<environment: 0x596b93b128e8>\n"
     ]
    },
    {
     "data": {
      "text/html": [
       "<table class=\"dataframe\">\n",
       "<caption>A data.frame: 1 × 7</caption>\n",
       "<thead>\n",
       "\t<tr><th></th><th scope=col>SNP</th><th scope=col>Beta</th><th scope=col>OR</th><th scope=col>SE</th><th scope=col>CI_Lower</th><th scope=col>CI_Upper</th><th scope=col>P_Value</th></tr>\n",
       "\t<tr><th></th><th scope=col>&lt;chr&gt;</th><th scope=col>&lt;dbl&gt;</th><th scope=col>&lt;dbl&gt;</th><th scope=col>&lt;dbl&gt;</th><th scope=col>&lt;dbl&gt;</th><th scope=col>&lt;dbl&gt;</th><th scope=col>&lt;dbl&gt;</th></tr>\n",
       "</thead>\n",
       "<tbody>\n",
       "\t<tr><th scope=row>Interleukin17_receptor_A</th><td>Interleukin17_receptor_A</td><td>-1.533325</td><td>0.215817</td><td>0.4867763</td><td>0.0831253</td><td>0.5603224</td><td>0.001632944</td></tr>\n",
       "</tbody>\n",
       "</table>\n"
      ],
      "text/latex": [
       "A data.frame: 1 × 7\n",
       "\\begin{tabular}{r|lllllll}\n",
       "  & SNP & Beta & OR & SE & CI\\_Lower & CI\\_Upper & P\\_Value\\\\\n",
       "  & <chr> & <dbl> & <dbl> & <dbl> & <dbl> & <dbl> & <dbl>\\\\\n",
       "\\hline\n",
       "\tInterleukin17\\_receptor\\_A & Interleukin17\\_receptor\\_A & -1.533325 & 0.215817 & 0.4867763 & 0.0831253 & 0.5603224 & 0.001632944\\\\\n",
       "\\end{tabular}\n"
      ],
      "text/markdown": [
       "\n",
       "A data.frame: 1 × 7\n",
       "\n",
       "| <!--/--> | SNP &lt;chr&gt; | Beta &lt;dbl&gt; | OR &lt;dbl&gt; | SE &lt;dbl&gt; | CI_Lower &lt;dbl&gt; | CI_Upper &lt;dbl&gt; | P_Value &lt;dbl&gt; |\n",
       "|---|---|---|---|---|---|---|---|\n",
       "| Interleukin17_receptor_A | Interleukin17_receptor_A | -1.533325 | 0.215817 | 0.4867763 | 0.0831253 | 0.5603224 | 0.001632944 |\n",
       "\n"
      ],
      "text/plain": [
       "                         SNP                      Beta      OR       SE       \n",
       "Interleukin17_receptor_A Interleukin17_receptor_A -1.533325 0.215817 0.4867763\n",
       "                         CI_Lower  CI_Upper  P_Value    \n",
       "Interleukin17_receptor_A 0.0831253 0.5603224 0.001632944"
      ]
     },
     "metadata": {},
     "output_type": "display_data"
    }
   ],
   "source": [
    "logistic_mca <- batch_logistic_regression(\n",
    "  data = data_jak2,\n",
    "  snp_list = \"Interleukin17_receptor_A\",\n",
    "  outcome = \"CVD\",\n",
    "  covariates = c(\"baseline_age\", \"age2\", \"genetic_sex\", \"smoking_0\", \"PC1\",\"PC2\",\"PC3\",\"PCD4\",\"PC5\",\"BMI_0\",\"baseline_DM\",\"baseline_HTN\",\"ldl_0\",\"AID\")\n",
    ")\n",
    "logistic_mca"
   ]
  },
  {
   "cell_type": "code",
   "execution_count": 47,
   "metadata": {
    "hidden": true
   },
   "outputs": [
    {
     "name": "stdout",
     "output_type": "stream",
     "text": [
      "ASCVD ~ Interleukin17_receptor_A + baseline_age + age2 + genetic_sex + \n",
      "    smoking_0 + PC1 + PC2 + PC3 + PCD4 + PC5 + BMI_0 + baseline_DM + \n",
      "    baseline_HTN + ldl_0 + AID\n",
      "<environment: 0x59677857fb90>\n"
     ]
    },
    {
     "data": {
      "text/html": [
       "<table class=\"dataframe\">\n",
       "<caption>A data.frame: 1 × 7</caption>\n",
       "<thead>\n",
       "\t<tr><th></th><th scope=col>SNP</th><th scope=col>Beta</th><th scope=col>OR</th><th scope=col>SE</th><th scope=col>CI_Lower</th><th scope=col>CI_Upper</th><th scope=col>P_Value</th></tr>\n",
       "\t<tr><th></th><th scope=col>&lt;chr&gt;</th><th scope=col>&lt;dbl&gt;</th><th scope=col>&lt;dbl&gt;</th><th scope=col>&lt;dbl&gt;</th><th scope=col>&lt;dbl&gt;</th><th scope=col>&lt;dbl&gt;</th><th scope=col>&lt;dbl&gt;</th></tr>\n",
       "</thead>\n",
       "<tbody>\n",
       "\t<tr><th scope=row>Interleukin17_receptor_A</th><td>Interleukin17_receptor_A</td><td>-1.896671</td><td>0.1500673</td><td>0.5512984</td><td>0.05093442</td><td>0.4421409</td><td>0.0005809152</td></tr>\n",
       "</tbody>\n",
       "</table>\n"
      ],
      "text/latex": [
       "A data.frame: 1 × 7\n",
       "\\begin{tabular}{r|lllllll}\n",
       "  & SNP & Beta & OR & SE & CI\\_Lower & CI\\_Upper & P\\_Value\\\\\n",
       "  & <chr> & <dbl> & <dbl> & <dbl> & <dbl> & <dbl> & <dbl>\\\\\n",
       "\\hline\n",
       "\tInterleukin17\\_receptor\\_A & Interleukin17\\_receptor\\_A & -1.896671 & 0.1500673 & 0.5512984 & 0.05093442 & 0.4421409 & 0.0005809152\\\\\n",
       "\\end{tabular}\n"
      ],
      "text/markdown": [
       "\n",
       "A data.frame: 1 × 7\n",
       "\n",
       "| <!--/--> | SNP &lt;chr&gt; | Beta &lt;dbl&gt; | OR &lt;dbl&gt; | SE &lt;dbl&gt; | CI_Lower &lt;dbl&gt; | CI_Upper &lt;dbl&gt; | P_Value &lt;dbl&gt; |\n",
       "|---|---|---|---|---|---|---|---|\n",
       "| Interleukin17_receptor_A | Interleukin17_receptor_A | -1.896671 | 0.1500673 | 0.5512984 | 0.05093442 | 0.4421409 | 0.0005809152 |\n",
       "\n"
      ],
      "text/plain": [
       "                         SNP                      Beta      OR        SE       \n",
       "Interleukin17_receptor_A Interleukin17_receptor_A -1.896671 0.1500673 0.5512984\n",
       "                         CI_Lower   CI_Upper  P_Value     \n",
       "Interleukin17_receptor_A 0.05093442 0.4421409 0.0005809152"
      ]
     },
     "metadata": {},
     "output_type": "display_data"
    }
   ],
   "source": [
    "logistic_mca <- batch_logistic_regression(\n",
    "  data = data_jak2,\n",
    "  snp_list = \"Interleukin17_receptor_A\",\n",
    "  outcome = \"ASCVD\",\n",
    "  covariates = c(\"baseline_age\", \"age2\", \"genetic_sex\", \"smoking_0\", \"PC1\",\"PC2\",\"PC3\",\"PCD4\",\"PC5\",\"BMI_0\",\"baseline_DM\",\"baseline_HTN\",\"ldl_0\",\"AID\")\n",
    ")\n",
    "logistic_mca"
   ]
  },
  {
   "cell_type": "code",
   "execution_count": 48,
   "metadata": {
    "hidden": true
   },
   "outputs": [
    {
     "name": "stdout",
     "output_type": "stream",
     "text": [
      "CAD ~ Interleukin17_receptor_A + baseline_age + age2 + genetic_sex + \n",
      "    smoking_0 + PC1 + PC2 + PC3 + PCD4 + PC5 + BMI_0 + baseline_DM + \n",
      "    baseline_HTN + ldl_0 + AID\n",
      "<environment: 0x5967758f36c8>\n"
     ]
    },
    {
     "name": "stderr",
     "output_type": "stream",
     "text": [
      "Warning message:\n",
      "“glm.fit: fitted probabilities numerically 0 or 1 occurred”\n"
     ]
    },
    {
     "data": {
      "text/html": [
       "<table class=\"dataframe\">\n",
       "<caption>A data.frame: 1 × 7</caption>\n",
       "<thead>\n",
       "\t<tr><th></th><th scope=col>SNP</th><th scope=col>Beta</th><th scope=col>OR</th><th scope=col>SE</th><th scope=col>CI_Lower</th><th scope=col>CI_Upper</th><th scope=col>P_Value</th></tr>\n",
       "\t<tr><th></th><th scope=col>&lt;chr&gt;</th><th scope=col>&lt;dbl&gt;</th><th scope=col>&lt;dbl&gt;</th><th scope=col>&lt;dbl&gt;</th><th scope=col>&lt;dbl&gt;</th><th scope=col>&lt;dbl&gt;</th><th scope=col>&lt;dbl&gt;</th></tr>\n",
       "</thead>\n",
       "<tbody>\n",
       "\t<tr><th scope=row>Interleukin17_receptor_A</th><td>Interleukin17_receptor_A</td><td>-2.797349</td><td>0.06097151</td><td>0.9568266</td><td>0.00934673</td><td>0.3977353</td><td>0.003460435</td></tr>\n",
       "</tbody>\n",
       "</table>\n"
      ],
      "text/latex": [
       "A data.frame: 1 × 7\n",
       "\\begin{tabular}{r|lllllll}\n",
       "  & SNP & Beta & OR & SE & CI\\_Lower & CI\\_Upper & P\\_Value\\\\\n",
       "  & <chr> & <dbl> & <dbl> & <dbl> & <dbl> & <dbl> & <dbl>\\\\\n",
       "\\hline\n",
       "\tInterleukin17\\_receptor\\_A & Interleukin17\\_receptor\\_A & -2.797349 & 0.06097151 & 0.9568266 & 0.00934673 & 0.3977353 & 0.003460435\\\\\n",
       "\\end{tabular}\n"
      ],
      "text/markdown": [
       "\n",
       "A data.frame: 1 × 7\n",
       "\n",
       "| <!--/--> | SNP &lt;chr&gt; | Beta &lt;dbl&gt; | OR &lt;dbl&gt; | SE &lt;dbl&gt; | CI_Lower &lt;dbl&gt; | CI_Upper &lt;dbl&gt; | P_Value &lt;dbl&gt; |\n",
       "|---|---|---|---|---|---|---|---|\n",
       "| Interleukin17_receptor_A | Interleukin17_receptor_A | -2.797349 | 0.06097151 | 0.9568266 | 0.00934673 | 0.3977353 | 0.003460435 |\n",
       "\n"
      ],
      "text/plain": [
       "                         SNP                      Beta      OR        \n",
       "Interleukin17_receptor_A Interleukin17_receptor_A -2.797349 0.06097151\n",
       "                         SE        CI_Lower   CI_Upper  P_Value    \n",
       "Interleukin17_receptor_A 0.9568266 0.00934673 0.3977353 0.003460435"
      ]
     },
     "metadata": {},
     "output_type": "display_data"
    }
   ],
   "source": [
    "logistic_mca <- batch_logistic_regression(\n",
    "  data = data_jak2,\n",
    "  snp_list = \"Interleukin17_receptor_A\",\n",
    "  outcome = \"CAD\",\n",
    "  covariates = c(\"baseline_age\", \"age2\", \"genetic_sex\", \"smoking_0\", \"PC1\",\"PC2\",\"PC3\",\"PCD4\",\"PC5\",\"BMI_0\",\"baseline_DM\",\"baseline_HTN\",\"ldl_0\",\"AID\")\n",
    ")\n",
    "logistic_mca"
   ]
  },
  {
   "cell_type": "code",
   "execution_count": 49,
   "metadata": {
    "hidden": true
   },
   "outputs": [
    {
     "name": "stdout",
     "output_type": "stream",
     "text": [
      "Stroke ~ Interleukin17_receptor_A + baseline_age + age2 + genetic_sex + \n",
      "    smoking_0 + PC1 + PC2 + PC3 + PCD4 + PC5 + BMI_0 + baseline_DM + \n",
      "    baseline_HTN + ldl_0 + AID\n",
      "<environment: 0x59676f4bfdc8>\n"
     ]
    },
    {
     "name": "stderr",
     "output_type": "stream",
     "text": [
      "Warning message:\n",
      "“glm.fit: fitted probabilities numerically 0 or 1 occurred”\n"
     ]
    },
    {
     "data": {
      "text/html": [
       "<table class=\"dataframe\">\n",
       "<caption>A data.frame: 1 × 7</caption>\n",
       "<thead>\n",
       "\t<tr><th></th><th scope=col>SNP</th><th scope=col>Beta</th><th scope=col>OR</th><th scope=col>SE</th><th scope=col>CI_Lower</th><th scope=col>CI_Upper</th><th scope=col>P_Value</th></tr>\n",
       "\t<tr><th></th><th scope=col>&lt;chr&gt;</th><th scope=col>&lt;dbl&gt;</th><th scope=col>&lt;dbl&gt;</th><th scope=col>&lt;dbl&gt;</th><th scope=col>&lt;dbl&gt;</th><th scope=col>&lt;dbl&gt;</th><th scope=col>&lt;dbl&gt;</th></tr>\n",
       "</thead>\n",
       "<tbody>\n",
       "\t<tr><th scope=row>Interleukin17_receptor_A</th><td>Interleukin17_receptor_A</td><td>-1.176304</td><td>0.3084166</td><td>1.02219</td><td>0.04159412</td><td>2.286881</td><td>0.2498277</td></tr>\n",
       "</tbody>\n",
       "</table>\n"
      ],
      "text/latex": [
       "A data.frame: 1 × 7\n",
       "\\begin{tabular}{r|lllllll}\n",
       "  & SNP & Beta & OR & SE & CI\\_Lower & CI\\_Upper & P\\_Value\\\\\n",
       "  & <chr> & <dbl> & <dbl> & <dbl> & <dbl> & <dbl> & <dbl>\\\\\n",
       "\\hline\n",
       "\tInterleukin17\\_receptor\\_A & Interleukin17\\_receptor\\_A & -1.176304 & 0.3084166 & 1.02219 & 0.04159412 & 2.286881 & 0.2498277\\\\\n",
       "\\end{tabular}\n"
      ],
      "text/markdown": [
       "\n",
       "A data.frame: 1 × 7\n",
       "\n",
       "| <!--/--> | SNP &lt;chr&gt; | Beta &lt;dbl&gt; | OR &lt;dbl&gt; | SE &lt;dbl&gt; | CI_Lower &lt;dbl&gt; | CI_Upper &lt;dbl&gt; | P_Value &lt;dbl&gt; |\n",
       "|---|---|---|---|---|---|---|---|\n",
       "| Interleukin17_receptor_A | Interleukin17_receptor_A | -1.176304 | 0.3084166 | 1.02219 | 0.04159412 | 2.286881 | 0.2498277 |\n",
       "\n"
      ],
      "text/plain": [
       "                         SNP                      Beta      OR        SE     \n",
       "Interleukin17_receptor_A Interleukin17_receptor_A -1.176304 0.3084166 1.02219\n",
       "                         CI_Lower   CI_Upper P_Value  \n",
       "Interleukin17_receptor_A 0.04159412 2.286881 0.2498277"
      ]
     },
     "metadata": {},
     "output_type": "display_data"
    }
   ],
   "source": [
    "logistic_mca <- batch_logistic_regression(\n",
    "  data = data_jak2,\n",
    "  snp_list = \"Interleukin17_receptor_A\",\n",
    "  outcome = \"Stroke\",\n",
    "  covariates = c(\"baseline_age\", \"age2\", \"genetic_sex\", \"smoking_0\", \"PC1\",\"PC2\",\"PC3\",\"PCD4\",\"PC5\",\"BMI_0\",\"baseline_DM\",\"baseline_HTN\",\"ldl_0\",\"AID\")\n",
    ")\n",
    "logistic_mca"
   ]
  },
  {
   "cell_type": "code",
   "execution_count": 83,
   "metadata": {
    "hidden": true
   },
   "outputs": [
    {
     "name": "stdout",
     "output_type": "stream",
     "text": [
      "`Heart failure` ~ Interleukin17_receptor_A + baseline_age + age2 + \n",
      "    genetic_sex + smoking_0 + PC1 + PC2 + PC3 + PCD4 + PC5 + \n",
      "    baseline_DM + baseline_HTN\n",
      "<environment: 0x5a5443e3b4f0>\n"
     ]
    },
    {
     "name": "stderr",
     "output_type": "stream",
     "text": [
      "Warning message:\n",
      "“glm.fit: fitted probabilities numerically 0 or 1 occurred”\n"
     ]
    },
    {
     "data": {
      "text/html": [
       "<table class=\"dataframe\">\n",
       "<caption>A data.frame: 1 × 7</caption>\n",
       "<thead>\n",
       "\t<tr><th></th><th scope=col>SNP</th><th scope=col>Beta</th><th scope=col>OR</th><th scope=col>SE</th><th scope=col>CI_Lower</th><th scope=col>CI_Upper</th><th scope=col>P_Value</th></tr>\n",
       "\t<tr><th></th><th scope=col>&lt;chr&gt;</th><th scope=col>&lt;dbl&gt;</th><th scope=col>&lt;dbl&gt;</th><th scope=col>&lt;dbl&gt;</th><th scope=col>&lt;dbl&gt;</th><th scope=col>&lt;dbl&gt;</th><th scope=col>&lt;dbl&gt;</th></tr>\n",
       "</thead>\n",
       "<tbody>\n",
       "\t<tr><th scope=row>Interleukin17_receptor_A</th><td>Interleukin17_receptor_A</td><td>-1.400961</td><td>0.2463602</td><td>0.8514316</td><td>0.046432</td><td>1.307145</td><td>0.0998837</td></tr>\n",
       "</tbody>\n",
       "</table>\n"
      ],
      "text/latex": [
       "A data.frame: 1 × 7\n",
       "\\begin{tabular}{r|lllllll}\n",
       "  & SNP & Beta & OR & SE & CI\\_Lower & CI\\_Upper & P\\_Value\\\\\n",
       "  & <chr> & <dbl> & <dbl> & <dbl> & <dbl> & <dbl> & <dbl>\\\\\n",
       "\\hline\n",
       "\tInterleukin17\\_receptor\\_A & Interleukin17\\_receptor\\_A & -1.400961 & 0.2463602 & 0.8514316 & 0.046432 & 1.307145 & 0.0998837\\\\\n",
       "\\end{tabular}\n"
      ],
      "text/markdown": [
       "\n",
       "A data.frame: 1 × 7\n",
       "\n",
       "| <!--/--> | SNP &lt;chr&gt; | Beta &lt;dbl&gt; | OR &lt;dbl&gt; | SE &lt;dbl&gt; | CI_Lower &lt;dbl&gt; | CI_Upper &lt;dbl&gt; | P_Value &lt;dbl&gt; |\n",
       "|---|---|---|---|---|---|---|---|\n",
       "| Interleukin17_receptor_A | Interleukin17_receptor_A | -1.400961 | 0.2463602 | 0.8514316 | 0.046432 | 1.307145 | 0.0998837 |\n",
       "\n"
      ],
      "text/plain": [
       "                         SNP                      Beta      OR        SE       \n",
       "Interleukin17_receptor_A Interleukin17_receptor_A -1.400961 0.2463602 0.8514316\n",
       "                         CI_Lower CI_Upper P_Value  \n",
       "Interleukin17_receptor_A 0.046432 1.307145 0.0998837"
      ]
     },
     "metadata": {},
     "output_type": "display_data"
    }
   ],
   "source": [
    "logistic_mca <- batch_logistic_regression(\n",
    "  data = data_jak2,\n",
    "  snp_list = \"Interleukin17_receptor_A\",\n",
    "  outcome = \"`Heart failure`\",\n",
    "  covariates = c(\"baseline_age\", \"age2\", \"genetic_sex\", \"smoking_0\", \"PC1\",\"PC2\",\"PC3\",\"PCD4\",\"PC5\",\"baseline_DM\",\"baseline_HTN\")\n",
    ")\n",
    "logistic_mca"
   ]
  },
  {
   "cell_type": "code",
   "execution_count": 51,
   "metadata": {
    "hidden": true
   },
   "outputs": [
    {
     "name": "stdout",
     "output_type": "stream",
     "text": [
      "`Myocardial infarction [Heart attack]` ~ Interleukin17_receptor_A + \n",
      "    baseline_age + age2 + genetic_sex + smoking_0 + PC1 + PC2 + \n",
      "    PC3 + PCD4 + PC5 + BMI_0 + baseline_DM + baseline_HTN + ldl_0 + \n",
      "    AID\n",
      "<environment: 0x596ba86d42b8>\n"
     ]
    },
    {
     "name": "stderr",
     "output_type": "stream",
     "text": [
      "Warning message:\n",
      "“glm.fit: fitted probabilities numerically 0 or 1 occurred”\n"
     ]
    },
    {
     "data": {
      "text/html": [
       "<table class=\"dataframe\">\n",
       "<caption>A data.frame: 1 × 7</caption>\n",
       "<thead>\n",
       "\t<tr><th></th><th scope=col>SNP</th><th scope=col>Beta</th><th scope=col>OR</th><th scope=col>SE</th><th scope=col>CI_Lower</th><th scope=col>CI_Upper</th><th scope=col>P_Value</th></tr>\n",
       "\t<tr><th></th><th scope=col>&lt;chr&gt;</th><th scope=col>&lt;dbl&gt;</th><th scope=col>&lt;dbl&gt;</th><th scope=col>&lt;dbl&gt;</th><th scope=col>&lt;dbl&gt;</th><th scope=col>&lt;dbl&gt;</th><th scope=col>&lt;dbl&gt;</th></tr>\n",
       "</thead>\n",
       "<tbody>\n",
       "\t<tr><th scope=row>Interleukin17_receptor_A</th><td>Interleukin17_receptor_A</td><td>-2.983787</td><td>0.05060086</td><td>1.439244</td><td>0.003013344</td><td>0.8497028</td><td>0.03815715</td></tr>\n",
       "</tbody>\n",
       "</table>\n"
      ],
      "text/latex": [
       "A data.frame: 1 × 7\n",
       "\\begin{tabular}{r|lllllll}\n",
       "  & SNP & Beta & OR & SE & CI\\_Lower & CI\\_Upper & P\\_Value\\\\\n",
       "  & <chr> & <dbl> & <dbl> & <dbl> & <dbl> & <dbl> & <dbl>\\\\\n",
       "\\hline\n",
       "\tInterleukin17\\_receptor\\_A & Interleukin17\\_receptor\\_A & -2.983787 & 0.05060086 & 1.439244 & 0.003013344 & 0.8497028 & 0.03815715\\\\\n",
       "\\end{tabular}\n"
      ],
      "text/markdown": [
       "\n",
       "A data.frame: 1 × 7\n",
       "\n",
       "| <!--/--> | SNP &lt;chr&gt; | Beta &lt;dbl&gt; | OR &lt;dbl&gt; | SE &lt;dbl&gt; | CI_Lower &lt;dbl&gt; | CI_Upper &lt;dbl&gt; | P_Value &lt;dbl&gt; |\n",
       "|---|---|---|---|---|---|---|---|\n",
       "| Interleukin17_receptor_A | Interleukin17_receptor_A | -2.983787 | 0.05060086 | 1.439244 | 0.003013344 | 0.8497028 | 0.03815715 |\n",
       "\n"
      ],
      "text/plain": [
       "                         SNP                      Beta      OR         SE      \n",
       "Interleukin17_receptor_A Interleukin17_receptor_A -2.983787 0.05060086 1.439244\n",
       "                         CI_Lower    CI_Upper  P_Value   \n",
       "Interleukin17_receptor_A 0.003013344 0.8497028 0.03815715"
      ]
     },
     "metadata": {},
     "output_type": "display_data"
    }
   ],
   "source": [
    "logistic_mca <- batch_logistic_regression(\n",
    "  data = data_jak2,\n",
    "  snp_list = \"Interleukin17_receptor_A\",\n",
    "  outcome = \"`Myocardial infarction [Heart attack]`\",\n",
    "  covariates = c(\"baseline_age\", \"age2\", \"genetic_sex\", \"smoking_0\", \"PC1\",\"PC2\",\"PC3\",\"PCD4\",\"PC5\",\"BMI_0\",\"baseline_DM\",\"baseline_HTN\",\"ldl_0\",\"AID\")\n",
    ")\n",
    "logistic_mca"
   ]
  },
  {
   "cell_type": "code",
   "execution_count": 61,
   "metadata": {
    "hidden": true
   },
   "outputs": [
    {
     "name": "stdout",
     "output_type": "stream",
     "text": [
      "`Peripheral vascular disease` ~ Interleukin17_receptor_A + baseline_age + \n",
      "    age2 + genetic_sex + smoking_0 + PC1 + PC2 + PC3 + PCD4 + \n",
      "    PC5 + BMI_0 + baseline_DM + baseline_HTN + ldl_0 + AID\n",
      "<environment: 0x5969b00383a8>\n"
     ]
    },
    {
     "name": "stderr",
     "output_type": "stream",
     "text": [
      "Warning message:\n",
      "“glm.fit: fitted probabilities numerically 0 or 1 occurred”\n"
     ]
    },
    {
     "data": {
      "text/html": [
       "<table class=\"dataframe\">\n",
       "<caption>A data.frame: 1 × 7</caption>\n",
       "<thead>\n",
       "\t<tr><th></th><th scope=col>SNP</th><th scope=col>Beta</th><th scope=col>OR</th><th scope=col>SE</th><th scope=col>CI_Lower</th><th scope=col>CI_Upper</th><th scope=col>P_Value</th></tr>\n",
       "\t<tr><th></th><th scope=col>&lt;chr&gt;</th><th scope=col>&lt;dbl&gt;</th><th scope=col>&lt;dbl&gt;</th><th scope=col>&lt;dbl&gt;</th><th scope=col>&lt;dbl&gt;</th><th scope=col>&lt;dbl&gt;</th><th scope=col>&lt;dbl&gt;</th></tr>\n",
       "</thead>\n",
       "<tbody>\n",
       "\t<tr><th scope=row>Interleukin17_receptor_A</th><td>Interleukin17_receptor_A</td><td>-0.8021389</td><td>0.4483689</td><td>0.7466922</td><td>0.103762</td><td>1.93746</td><td>0.2827077</td></tr>\n",
       "</tbody>\n",
       "</table>\n"
      ],
      "text/latex": [
       "A data.frame: 1 × 7\n",
       "\\begin{tabular}{r|lllllll}\n",
       "  & SNP & Beta & OR & SE & CI\\_Lower & CI\\_Upper & P\\_Value\\\\\n",
       "  & <chr> & <dbl> & <dbl> & <dbl> & <dbl> & <dbl> & <dbl>\\\\\n",
       "\\hline\n",
       "\tInterleukin17\\_receptor\\_A & Interleukin17\\_receptor\\_A & -0.8021389 & 0.4483689 & 0.7466922 & 0.103762 & 1.93746 & 0.2827077\\\\\n",
       "\\end{tabular}\n"
      ],
      "text/markdown": [
       "\n",
       "A data.frame: 1 × 7\n",
       "\n",
       "| <!--/--> | SNP &lt;chr&gt; | Beta &lt;dbl&gt; | OR &lt;dbl&gt; | SE &lt;dbl&gt; | CI_Lower &lt;dbl&gt; | CI_Upper &lt;dbl&gt; | P_Value &lt;dbl&gt; |\n",
       "|---|---|---|---|---|---|---|---|\n",
       "| Interleukin17_receptor_A | Interleukin17_receptor_A | -0.8021389 | 0.4483689 | 0.7466922 | 0.103762 | 1.93746 | 0.2827077 |\n",
       "\n"
      ],
      "text/plain": [
       "                         SNP                      Beta       OR       \n",
       "Interleukin17_receptor_A Interleukin17_receptor_A -0.8021389 0.4483689\n",
       "                         SE        CI_Lower CI_Upper P_Value  \n",
       "Interleukin17_receptor_A 0.7466922 0.103762 1.93746  0.2827077"
      ]
     },
     "metadata": {},
     "output_type": "display_data"
    }
   ],
   "source": [
    "logistic_mca <- batch_logistic_regression(\n",
    "  data = data_jak2,\n",
    "  snp_list = \"Interleukin17_receptor_A\",\n",
    "  outcome = \"`Peripheral vascular disease`\",\n",
    "  covariates = c(\"baseline_age\", \"age2\", \"genetic_sex\", \"smoking_0\", \"PC1\",\"PC2\",\"PC3\",\"PCD4\",\"PC5\",\"BMI_0\",\"baseline_DM\",\"baseline_HTN\",\"ldl_0\",\"AID\")\n",
    ")\n",
    "logistic_mca"
   ]
  },
  {
   "cell_type": "markdown",
   "metadata": {
    "heading_collapsed": true,
    "hidden": true
   },
   "source": [
    "## Change 3.2 to Firth logistic"
   ]
  },
  {
   "cell_type": "code",
   "execution_count": 122,
   "metadata": {
    "code_folding": [
     3
    ],
    "hidden": true
   },
   "outputs": [],
   "source": [
    "library(logistf)\n",
    "library(dplyr)\n",
    "\n",
    "run_firth_logistic <- function(data, outcome, exposure, covariates) {\n",
    "  formula_str <- paste(outcome, \"~\", paste(c(exposure, covariates), collapse = \" + \"))\n",
    "  fml <- as.formula(formula_str)\n",
    "\n",
    "  tryCatch({\n",
    "    fit <- logistf(\n",
    "      fml, data = data,\n",
    "      control = logistf.control(maxit = 1000, maxstep = 5),\n",
    "      plcontrol = logistpl.control(maxit = 1000)\n",
    "    )\n",
    "\n",
    "    if (!exposure %in% names(fit$coefficients)) {\n",
    "      stop(\"Exposure not found in model.\")\n",
    "    }\n",
    "\n",
    "    coef <- fit$coefficients[exposure]\n",
    "    se <- if (!is.null(dimnames(fit$var))) sqrt(fit$var[exposure, exposure]) else NA\n",
    "    ci <- tryCatch(exp(confint(fit)[exposure, ]), error = function(e) c(NA, NA))\n",
    "    or <- exp(coef)\n",
    "    p <- fit$prob[exposure]\n",
    "\n",
    "    N_total <- nrow(data)\n",
    "    N_event <- sum(data[[outcome]] == 1, na.rm = TRUE)\n",
    "\n",
    "    tibble(\n",
    "      Variable = exposure,\n",
    "      N = N_total,\n",
    "      Nevent = N_event,\n",
    "      OR = round(or, 2),\n",
    "      CI_Lower = round(ci[1], 2),\n",
    "      CI_Upper = round(ci[2], 2),\n",
    "      P_Value = signif(p, 3)\n",
    "    )\n",
    "  }, error = function(e) {\n",
    "    warning(paste(\"Error with variable:\", exposure, \"-\", e$message))\n",
    "    tibble(\n",
    "      Variable = exposure,\n",
    "      N = nrow(data),\n",
    "      Nevent = sum(data[[outcome]] == 1, na.rm = TRUE),\n",
    "      OR = NA,\n",
    "      CI_Lower = NA,\n",
    "      CI_Upper = NA,\n",
    "      P_Value = NA\n",
    "    )\n",
    "  })\n",
    "}"
   ]
  },
  {
   "cell_type": "code",
   "execution_count": 123,
   "metadata": {
    "hidden": true
   },
   "outputs": [
    {
     "name": "stdout",
     "output_type": "stream",
     "text": [
      "\u001b[90m# A tibble: 1 × 7\u001b[39m\n",
      "  Variable                     N Nevent    OR CI_Lower CI_Upper P_Value\n",
      "  \u001b[3m\u001b[90m<chr>\u001b[39m\u001b[23m                    \u001b[3m\u001b[90m<int>\u001b[39m\u001b[23m  \u001b[3m\u001b[90m<int>\u001b[39m\u001b[23m \u001b[3m\u001b[90m<dbl>\u001b[39m\u001b[23m    \u001b[3m\u001b[90m<dbl>\u001b[39m\u001b[23m    \u001b[3m\u001b[90m<dbl>\u001b[39m\u001b[23m   \u001b[3m\u001b[90m<dbl>\u001b[39m\u001b[23m\n",
      "\u001b[90m1\u001b[39m Interleukin17_receptor_A   192     21  0.38     0.17     0.77 0.006\u001b[4m7\u001b[24m\u001b[4m1\u001b[24m\n"
     ]
    }
   ],
   "source": [
    "result <- run_firth_logistic(\n",
    "  data = data_jak2,\n",
    "  outcome = \"CVD\",\n",
    "  exposure = \"Interleukin17_receptor_A\",\n",
    "  covariates = c(\"baseline_age\", \"age2\", \"genetic_sex\", \"smoking_0\",\n",
    "                 \"PC1\", \"PC2\", \"PC3\", \"PCD4\", \"PC5\", \"baseline_HTN\",\"baseline_DM\", \"ldl_0\", \"AID\")\n",
    ")\n",
    "\n",
    "print(result)"
   ]
  },
  {
   "cell_type": "code",
   "execution_count": 105,
   "metadata": {
    "hidden": true
   },
   "outputs": [
    {
     "name": "stdout",
     "output_type": "stream",
     "text": [
      "\u001b[90m# A tibble: 1 × 7\u001b[39m\n",
      "  Variable                     N Nevent    OR CI_Lower CI_Upper P_Value\n",
      "  \u001b[3m\u001b[90m<chr>\u001b[39m\u001b[23m                    \u001b[3m\u001b[90m<int>\u001b[39m\u001b[23m  \u001b[3m\u001b[90m<int>\u001b[39m\u001b[23m \u001b[3m\u001b[90m<dbl>\u001b[39m\u001b[23m    \u001b[3m\u001b[90m<dbl>\u001b[39m\u001b[23m    \u001b[3m\u001b[90m<dbl>\u001b[39m\u001b[23m   \u001b[3m\u001b[90m<dbl>\u001b[39m\u001b[23m\n",
      "\u001b[90m1\u001b[39m Interleukin17_receptor_A   192     21  0.38     0.17     0.77 0.006\u001b[4m7\u001b[24m\u001b[4m1\u001b[24m\n"
     ]
    }
   ],
   "source": [
    "result <- run_firth_logistic(\n",
    "  data = data_jak2,\n",
    "  outcome = \"CVD\",\n",
    "  exposure = \"Interleukin17_receptor_A\",\n",
    "  covariates = c(\"baseline_age\", \"age2\", \"genetic_sex\", \"smoking_0\",\n",
    "                 \"PC1\", \"PC2\", \"PC3\", \"PCD4\", \"PC5\", \"baseline_HTN\",\"baseline_DM\", \"ldl_0\", \"AID\")\n",
    ")\n",
    "\n",
    "print(result)"
   ]
  },
  {
   "cell_type": "code",
   "execution_count": 124,
   "metadata": {
    "hidden": true
   },
   "outputs": [
    {
     "name": "stdout",
     "output_type": "stream",
     "text": [
      "\u001b[90m# A tibble: 1 × 7\u001b[39m\n",
      "  Variable                     N Nevent    OR CI_Lower CI_Upper P_Value\n",
      "  \u001b[3m\u001b[90m<chr>\u001b[39m\u001b[23m                    \u001b[3m\u001b[90m<int>\u001b[39m\u001b[23m  \u001b[3m\u001b[90m<int>\u001b[39m\u001b[23m \u001b[3m\u001b[90m<dbl>\u001b[39m\u001b[23m    \u001b[3m\u001b[90m<dbl>\u001b[39m\u001b[23m    \u001b[3m\u001b[90m<dbl>\u001b[39m\u001b[23m   \u001b[3m\u001b[90m<dbl>\u001b[39m\u001b[23m\n",
      "\u001b[90m1\u001b[39m Interleukin17_receptor_A   192     20  0.31     0.13     0.65 0.001\u001b[4m6\u001b[24m\u001b[4m6\u001b[24m\n"
     ]
    }
   ],
   "source": [
    "result <- run_firth_logistic(\n",
    "  data = data_jak2,\n",
    "  outcome = \"ASCVD\",\n",
    "  exposure = \"Interleukin17_receptor_A\",\n",
    "  covariates = c(\"baseline_age\", \"age2\", \"genetic_sex\", \"smoking_0\",\n",
    "                 \"PC1\", \"PC2\", \"PC3\", \"PCD4\", \"PC5\", \"baseline_HTN\", \"baseline_DM\", \"ldl_0\", \"AID\")\n",
    ")\n",
    "\n",
    "print(result)"
   ]
  },
  {
   "cell_type": "code",
   "execution_count": 125,
   "metadata": {
    "hidden": true,
    "scrolled": true
   },
   "outputs": [
    {
     "name": "stdout",
     "output_type": "stream",
     "text": [
      "\u001b[90m# A tibble: 1 × 7\u001b[39m\n",
      "  Variable                     N Nevent    OR CI_Lower CI_Upper P_Value\n",
      "  \u001b[3m\u001b[90m<chr>\u001b[39m\u001b[23m                    \u001b[3m\u001b[90m<int>\u001b[39m\u001b[23m  \u001b[3m\u001b[90m<int>\u001b[39m\u001b[23m \u001b[3m\u001b[90m<dbl>\u001b[39m\u001b[23m    \u001b[3m\u001b[90m<dbl>\u001b[39m\u001b[23m    \u001b[3m\u001b[90m<dbl>\u001b[39m\u001b[23m   \u001b[3m\u001b[90m<dbl>\u001b[39m\u001b[23m\n",
      "\u001b[90m1\u001b[39m Interleukin17_receptor_A   192     13   0.3      0.1     0.75   0.009\n"
     ]
    }
   ],
   "source": [
    "result <- run_firth_logistic(\n",
    "  data = data_jak2,\n",
    "  outcome = \"CAD\",\n",
    "  exposure = \"Interleukin17_receptor_A\",\n",
    "  covariates = c(\"baseline_age\", \"age2\", \"genetic_sex\", \"smoking_0\",\n",
    "                 \"PC1\", \"PC2\", \"PC3\", \"PCD4\", \"PC5\", \"baseline_HTN\",\"baseline_DM\", \"ldl_0\", \"AID\")\n",
    ")\n",
    "\n",
    "print(result)"
   ]
  },
  {
   "cell_type": "code",
   "execution_count": 126,
   "metadata": {
    "hidden": true
   },
   "outputs": [
    {
     "name": "stdout",
     "output_type": "stream",
     "text": [
      "\u001b[90m# A tibble: 1 × 7\u001b[39m\n",
      "  Variable                     N Nevent    OR CI_Lower CI_Upper P_Value\n",
      "  \u001b[3m\u001b[90m<chr>\u001b[39m\u001b[23m                    \u001b[3m\u001b[90m<int>\u001b[39m\u001b[23m  \u001b[3m\u001b[90m<int>\u001b[39m\u001b[23m \u001b[3m\u001b[90m<dbl>\u001b[39m\u001b[23m    \u001b[3m\u001b[90m<dbl>\u001b[39m\u001b[23m    \u001b[3m\u001b[90m<dbl>\u001b[39m\u001b[23m   \u001b[3m\u001b[90m<dbl>\u001b[39m\u001b[23m\n",
      "\u001b[90m1\u001b[39m Interleukin17_receptor_A   192      5  0.72     0.19     2.34   0.584\n"
     ]
    }
   ],
   "source": [
    "result <- run_firth_logistic(\n",
    "  data = data_jak2,\n",
    "  outcome = \"Stroke\",\n",
    "  exposure = \"Interleukin17_receptor_A\",\n",
    "  covariates = c(\"baseline_age\", \"age2\", \"genetic_sex\", \"smoking_0\",\n",
    "                 \"PC1\", \"PC2\", \"PC3\", \"PCD4\", \"PC5\", \"baseline_HTN\",\"baseline_DM\",\"AID\")\n",
    ")\n",
    "\n",
    "print(result)"
   ]
  },
  {
   "cell_type": "code",
   "execution_count": 127,
   "metadata": {
    "hidden": true
   },
   "outputs": [
    {
     "name": "stdout",
     "output_type": "stream",
     "text": [
      "\u001b[90m# A tibble: 1 × 7\u001b[39m\n",
      "  Variable                     N Nevent    OR CI_Lower CI_Upper P_Value\n",
      "  \u001b[3m\u001b[90m<chr>\u001b[39m\u001b[23m                    \u001b[3m\u001b[90m<int>\u001b[39m\u001b[23m  \u001b[3m\u001b[90m<int>\u001b[39m\u001b[23m \u001b[3m\u001b[90m<dbl>\u001b[39m\u001b[23m    \u001b[3m\u001b[90m<dbl>\u001b[39m\u001b[23m    \u001b[3m\u001b[90m<dbl>\u001b[39m\u001b[23m   \u001b[3m\u001b[90m<dbl>\u001b[39m\u001b[23m\n",
      "\u001b[90m1\u001b[39m Interleukin17_receptor_A   192      0  0.63      0.2     1.71   0.365\n"
     ]
    }
   ],
   "source": [
    "result <- run_firth_logistic(\n",
    "  data = data_jak2,\n",
    "  outcome = \"`Peripheral vascular disease`\",\n",
    "  exposure = \"Interleukin17_receptor_A\",\n",
    "  covariates = c(\"baseline_age\", \"age2\", \"genetic_sex\", \"smoking_0\",\n",
    "                 \"PC1\", \"PC2\", \"PC3\", \"PCD4\", \"PC5\", \"baseline_HTN\",\"baseline_DM\",\"AID\")\n",
    ")\n",
    "\n",
    "print(result)"
   ]
  },
  {
   "cell_type": "code",
   "execution_count": 138,
   "metadata": {
    "hidden": true
   },
   "outputs": [
    {
     "name": "stdout",
     "output_type": "stream",
     "text": [
      "\u001b[90m# A tibble: 1 × 7\u001b[39m\n",
      "  Variable                     N Nevent    OR CI_Lower CI_Upper P_Value\n",
      "  \u001b[3m\u001b[90m<chr>\u001b[39m\u001b[23m                    \u001b[3m\u001b[90m<int>\u001b[39m\u001b[23m  \u001b[3m\u001b[90m<int>\u001b[39m\u001b[23m \u001b[3m\u001b[90m<dbl>\u001b[39m\u001b[23m    \u001b[3m\u001b[90m<dbl>\u001b[39m\u001b[23m    \u001b[3m\u001b[90m<dbl>\u001b[39m\u001b[23m   \u001b[3m\u001b[90m<dbl>\u001b[39m\u001b[23m\n",
      "\u001b[90m1\u001b[39m Interleukin17_receptor_A   192      0  0.24     0.02     0.98  0.045\u001b[4m7\u001b[24m\n"
     ]
    }
   ],
   "source": [
    "result <- run_firth_logistic(\n",
    "  data = data_jak2,\n",
    "  outcome = \"`Heart failure`\",\n",
    "  exposure = \"Interleukin17_receptor_A\",\n",
    "  covariates = c(\"baseline_age\", \"age2\", \"genetic_sex\",\n",
    "                 \"PC1\", \"PC2\", \"PC3\", \"PCD4\", \"PC5\", \"baseline_HTN\",\"baseline_DM\", \"ldl_0\",\"AID\")\n",
    ")\n",
    "\n",
    "print(result)"
   ]
  },
  {
   "cell_type": "code",
   "execution_count": 130,
   "metadata": {
    "hidden": true
   },
   "outputs": [
    {
     "name": "stdout",
     "output_type": "stream",
     "text": [
      "\u001b[90m# A tibble: 1 × 7\u001b[39m\n",
      "  Variable                     N Nevent    OR CI_Lower CI_Upper P_Value\n",
      "  \u001b[3m\u001b[90m<chr>\u001b[39m\u001b[23m                    \u001b[3m\u001b[90m<int>\u001b[39m\u001b[23m  \u001b[3m\u001b[90m<int>\u001b[39m\u001b[23m \u001b[3m\u001b[90m<dbl>\u001b[39m\u001b[23m    \u001b[3m\u001b[90m<dbl>\u001b[39m\u001b[23m    \u001b[3m\u001b[90m<dbl>\u001b[39m\u001b[23m   \u001b[3m\u001b[90m<dbl>\u001b[39m\u001b[23m\n",
      "\u001b[90m1\u001b[39m Interleukin17_receptor_A   192      0  0.22     0.01     1.03  0.054\u001b[4m5\u001b[24m\n"
     ]
    }
   ],
   "source": [
    "result <- run_firth_logistic(\n",
    "  data = data_jak2,\n",
    "  outcome = \"`Heart failure`\",\n",
    "  exposure = \"Interleukin17_receptor_A\",\n",
    "  covariates = c(\"baseline_age\", \"age2\", \"genetic_sex\", \"smoking_0\",\n",
    "                 \"PC1\", \"PC2\", \"PC3\", \"PCD4\", \"PC5\", \"baseline_HTN\",\"baseline_DM\", \"ldl_0\",\"AID\")\n",
    ")\n",
    "\n",
    "print(result)"
   ]
  },
  {
   "cell_type": "code",
   "execution_count": 131,
   "metadata": {
    "hidden": true
   },
   "outputs": [
    {
     "data": {
      "text/plain": [
       "\n",
       "  0   1 \n",
       "185   7 "
      ]
     },
     "metadata": {},
     "output_type": "display_data"
    }
   ],
   "source": [
    "table(data_jak2$`Myocardial infarction [Heart attack]`)"
   ]
  },
  {
   "cell_type": "code",
   "execution_count": 144,
   "metadata": {
    "hidden": true
   },
   "outputs": [
    {
     "name": "stdout",
     "output_type": "stream",
     "text": [
      "\u001b[90m# A tibble: 1 × 7\u001b[39m\n",
      "  Variable                     N Nevent    OR CI_Lower CI_Upper P_Value\n",
      "  \u001b[3m\u001b[90m<chr>\u001b[39m\u001b[23m                    \u001b[3m\u001b[90m<int>\u001b[39m\u001b[23m  \u001b[3m\u001b[90m<int>\u001b[39m\u001b[23m \u001b[3m\u001b[90m<dbl>\u001b[39m\u001b[23m    \u001b[3m\u001b[90m<dbl>\u001b[39m\u001b[23m    \u001b[3m\u001b[90m<dbl>\u001b[39m\u001b[23m   \u001b[3m\u001b[90m<dbl>\u001b[39m\u001b[23m\n",
      "\u001b[90m1\u001b[39m Interleukin17_receptor_A   192      0  0.47     0.13      1.4   0.178\n"
     ]
    }
   ],
   "source": [
    "result <- run_firth_logistic(\n",
    "  data = data_jak2,\n",
    "  outcome = \"`Myocardial infarction [Heart attack]`\",\n",
    "  exposure = \"Interleukin17_receptor_A\",\n",
    "  covariates = c(\"baseline_age\", \"age2\", \"genetic_sex\", \"smoking_0\",\n",
    "                 \"PC1\", \"PC2\", \"PC3\", \"PCD4\", \"PC5\", \"baseline_HTN\",\"baseline_DM\",\"AID\", \"ldl_0\")\n",
    ")\n",
    "\n",
    "print(result)"
   ]
  },
  {
   "cell_type": "code",
   "execution_count": null,
   "metadata": {
    "hidden": true
   },
   "outputs": [],
   "source": []
  },
  {
   "cell_type": "markdown",
   "metadata": {
    "heading_collapsed": true,
    "hidden": true
   },
   "source": [
    "## JAK2 by VAF group"
   ]
  },
  {
   "cell_type": "code",
   "execution_count": 7,
   "metadata": {
    "hidden": true
   },
   "outputs": [
    {
     "data": {
      "text/plain": [
       "\n",
       "V617F \n",
       "  192 "
      ]
     },
     "metadata": {},
     "output_type": "display_data"
    },
    {
     "data": {
      "text/plain": [
       "   Min. 1st Qu.  Median    Mean 3rd Qu.    Max. \n",
       " 0.1350  0.2552  0.3330  0.4140  0.5655  0.9670 "
      ]
     },
     "metadata": {},
     "output_type": "display_data"
    }
   ],
   "source": [
    "table(jak2$NonsynOI)\n",
    "summary(jak2$AF)"
   ]
  },
  {
   "cell_type": "code",
   "execution_count": 114,
   "metadata": {
    "hidden": true,
    "scrolled": false
   },
   "outputs": [
    {
     "data": {
      "image/png": "[encoded data removed]",
      "text/plain": [
       "plot without title"
      ]
     },
     "metadata": {
      "image/png": {
       "height": 420,
       "width": 420
      }
     },
     "output_type": "display_data"
    }
   ],
   "source": [
    "ggplot(jak2, aes(x = AF)) +\n",
    "  geom_histogram(binwidth = 0.05, fill = \"#56B4E9\", color = \"black\") +\n",
    "  labs(title = \"JAK2 VAF\", x = \"VAF\", y = \"N\") +\n",
    "  theme_minimal(base_size = 14)"
   ]
  },
  {
   "cell_type": "code",
   "execution_count": 8,
   "metadata": {
    "hidden": true
   },
   "outputs": [],
   "source": [
    "jak2_af <- jak2[,c(\"ID_VUMC\",\"AF\")]"
   ]
  },
  {
   "cell_type": "code",
   "execution_count": 9,
   "metadata": {
    "hidden": true
   },
   "outputs": [],
   "source": [
    "jak2_af$ID_VUMC <- as.character(jak2_af$ID_VUMC)\n",
    "data_jak2 <- merge(data_jak2,jak2_af, by = \"ID_VUMC\",all.x = T)"
   ]
  },
  {
   "cell_type": "code",
   "execution_count": 10,
   "metadata": {
    "hidden": true
   },
   "outputs": [
    {
     "data": {
      "text/plain": [
       "\n",
       " 1  2  3 \n",
       "62 66 64 "
      ]
     },
     "metadata": {},
     "output_type": "display_data"
    }
   ],
   "source": [
    "data_jak2$jak2_af333 <- 2\n",
    "data_jak2$jak2_af333[data_jak2$AF >= quantile(data_jak2$AF,2/3)] <- 3\n",
    "data_jak2$jak2_af333[data_jak2$AF < quantile(data_jak2$AF,1/3)] <- 1\n",
    "data_jak2$jak2_af333 <- as.factor(data_jak2$jak2_af333)\n",
    "table(data_jak2$jak2_af333)"
   ]
  },
  {
   "cell_type": "code",
   "execution_count": 17,
   "metadata": {
    "hidden": true
   },
   "outputs": [],
   "source": [
    "data_jak2_low <- filter(data_jak2, data_jak2$jak2_af333 == 1)\n",
    "data_jak2_inter <- filter(data_jak2, data_jak2$jak2_af333 == 2)\n",
    "data_jak2_high <- filter(data_jak2, data_jak2$jak2_af333 == 3)"
   ]
  },
  {
   "cell_type": "code",
   "execution_count": 65,
   "metadata": {
    "hidden": true
   },
   "outputs": [
    {
     "data": {
      "text/plain": [
       "\n",
       " 0  1 \n",
       "52 10 "
      ]
     },
     "metadata": {},
     "output_type": "display_data"
    },
    {
     "data": {
      "text/plain": [
       "\n",
       " 0  1 \n",
       "60  6 "
      ]
     },
     "metadata": {},
     "output_type": "display_data"
    },
    {
     "data": {
      "text/plain": [
       "\n",
       " 0  1 \n",
       "59  5 "
      ]
     },
     "metadata": {},
     "output_type": "display_data"
    }
   ],
   "source": [
    "table(data_jak2_low$CVD)\n",
    "table(data_jak2_inter$CVD)\n",
    "table(data_jak2_high$CVD)"
   ]
  },
  {
   "cell_type": "code",
   "execution_count": 63,
   "metadata": {
    "hidden": true
   },
   "outputs": [
    {
     "data": {
      "text/plain": [
       "   Min. 1st Qu.  Median    Mean 3rd Qu.    Max. \n",
       " 0.1350  0.1990  0.2180  0.2192  0.2500  0.2710 "
      ]
     },
     "metadata": {},
     "output_type": "display_data"
    },
    {
     "data": {
      "text/plain": [
       "   Min. 1st Qu.  Median    Mean 3rd Qu.    Max. \n",
       " 0.2720  0.2945  0.3330  0.3401  0.3752  0.4740 "
      ]
     },
     "metadata": {},
     "output_type": "display_data"
    },
    {
     "data": {
      "text/plain": [
       "   Min. 1st Qu.  Median    Mean 3rd Qu.    Max. \n",
       " 0.4840  0.5665  0.6355  0.6790  0.7843  0.9670 "
      ]
     },
     "metadata": {},
     "output_type": "display_data"
    }
   ],
   "source": [
    "summary(data_jak2_low$AF)\n",
    "summary(data_jak2_inter$AF)\n",
    "summary(data_jak2_high$AF)"
   ]
  },
  {
   "cell_type": "code",
   "execution_count": 13,
   "metadata": {
    "hidden": true
   },
   "outputs": [],
   "source": [
    "library(dplyr)\n",
    "library(tidyr)\n",
    "library(logistf)"
   ]
  },
  {
   "cell_type": "code",
   "execution_count": 33,
   "metadata": {
    "hidden": true
   },
   "outputs": [
    {
     "name": "stdout",
     "output_type": "stream",
     "text": [
      "logistf(formula = CVD ~ Interleukin17_receptor_A + baseline_age + \n",
      "    genetic_sex + smoking_0 + PC1 + PC2 + PC3 + PCD4 + PC5, data = data_jak2_low, \n",
      "    control = logistf.control(maxit = 1000, maxstep = 5), plcontrol = logistpl.control(maxit = 1000))\n",
      "\n",
      "Model fitted by Penalized ML\n",
      "Coefficients:\n",
      "                                 coef   se(coef)   lower 0.95 upper 0.95\n",
      "(Intercept)              -3.689123559 4.56550027 -14.63753881 5.35201464\n",
      "Interleukin17_receptor_A -0.514164784 0.44040597  -1.52611445 0.35476779\n",
      "baseline_age              0.065259420 0.06870847  -0.06977242 0.22929668\n",
      "genetic_sex              -0.007953038 0.65433355  -1.37938044 1.40659981\n",
      "smoking_0                -0.167314672 0.61420601  -1.53238819 1.07306987\n",
      "PC1                       0.120955467 0.17028613  -0.22432682 0.49494986\n",
      "PC2                       0.016221800 0.15854365  -0.30761806 0.36757450\n",
      "PC3                      -0.107806152 0.17671303  -0.49207453 0.25587136\n",
      "PCD4                      0.005616449 0.04680414  -0.08853103 0.29555912\n",
      "PC5                      -0.010243045 0.03570837  -0.10560716 0.05805221\n",
      "                                Chisq         p method\n",
      "(Intercept)              0.5854364183 0.4441893      2\n",
      "Interleukin17_receptor_A 1.2973919195 0.2546902      2\n",
      "baseline_age             0.8265149392 0.3632822      2\n",
      "genetic_sex              0.0001320485 0.9908315      2\n",
      "smoking_0                0.0670495440 0.7956821      2\n",
      "PC1                      0.4638258713 0.4958414      2\n",
      "PC2                      0.0094031831 0.9227502      2\n",
      "PC3                      0.3383008017 0.5608117      2\n",
      "PCD4                     0.0131223490 0.9087996      2\n",
      "PC5                      0.0777292771 0.7803985      2\n",
      "\n",
      "Method: 1-Wald, 2-Profile penalized log-likelihood, 3-None\n",
      "\n",
      "Likelihood ratio test=3.655625 on 9 df, p=0.9325833, n=62\n",
      "Wald test = 21.24421 on 9 df, p = 0.01160913"
     ]
    }
   ],
   "source": [
    "firth <- logistf(CVD ~ Interleukin17_receptor_A + baseline_age  + genetic_sex + smoking_0\n",
    "                 +PC1+PC2+PC3+PCD4+PC5, data = data_jak2_low,\n",
    "                 control = logistf.control(maxit = 1000, maxstep = 5),\n",
    "                 plcontrol = logistpl.control(maxit = 1000)\n",
    ")\n",
    "summary(firth)"
   ]
  },
  {
   "cell_type": "code",
   "execution_count": 32,
   "metadata": {
    "hidden": true
   },
   "outputs": [
    {
     "name": "stdout",
     "output_type": "stream",
     "text": [
      "logistf(formula = CVD ~ Interleukin17_receptor_A + baseline_age + \n",
      "    genetic_sex + smoking_0 + PC1 + PC2 + PC3 + PCD4 + PC5, data = data_jak2_inter, \n",
      "    control = logistf.control(maxit = 1000, maxstep = 5), plcontrol = logistpl.control(maxit = 1000))\n",
      "\n",
      "Model fitted by Penalized ML\n",
      "Coefficients:\n",
      "                                  coef   se(coef)   lower 0.95  upper 0.95\n",
      "(Intercept)              -14.352423633 6.54130210 -37.03712294 -0.93664497\n",
      "Interleukin17_receptor_A  -1.488199403 0.67680958  -3.65112730 -0.08742583\n",
      "baseline_age               0.203287745 0.09564791   0.01099929  0.52252334\n",
      "genetic_sex                0.442141240 0.94990451  -1.58963857  3.24361361\n",
      "smoking_0                 -0.706725024 0.71980613  -2.93589659  0.79592148\n",
      "PC1                       -0.110150494 0.25446590  -0.76395549  0.47160651\n",
      "PC2                       -0.163325708 0.23309397  -0.77575507  0.45242894\n",
      "PC3                       -0.089302858 0.21677338  -0.59447670  0.43901177\n",
      "PCD4                      -0.009132163 0.07171416  -0.18174016  0.18143809\n",
      "PC5                        0.109488832 0.04674029   0.01313637  0.24230906\n",
      "                              Chisq          p method\n",
      "(Intercept)              4.54791648 0.03295883      2\n",
      "Interleukin17_receptor_A 4.37408514 0.03648941      2\n",
      "baseline_age             4.41684406 0.03558580      2\n",
      "genetic_sex              0.16101845 0.68822058      2\n",
      "smoking_0                0.74592653 0.38776899      2\n",
      "PC1                      0.14173099 0.70656621      2\n",
      "PC2                      0.32691485 0.56748141      2\n",
      "PC3                      0.12737123 0.72117336      2\n",
      "PCD4                     0.01184842 0.91332109      2\n",
      "PC5                      4.99261848 0.02545566      2\n",
      "\n",
      "Method: 1-Wald, 2-Profile penalized log-likelihood, 3-None\n",
      "\n",
      "Likelihood ratio test=11.16295 on 9 df, p=0.2647044, n=66\n",
      "Wald test = 20.77779 on 9 df, p = 0.01367447"
     ]
    }
   ],
   "source": [
    "firth <- logistf(CVD ~ Interleukin17_receptor_A + baseline_age  + genetic_sex + smoking_0\n",
    "                 +PC1+PC2+PC3+PCD4+PC5, data = data_jak2_inter,\n",
    "                 control = logistf.control(maxit = 1000, maxstep = 5),\n",
    "                 plcontrol = logistpl.control(maxit = 1000)\n",
    ")\n",
    "summary(firth)"
   ]
  },
  {
   "cell_type": "code",
   "execution_count": 36,
   "metadata": {
    "hidden": true
   },
   "outputs": [
    {
     "name": "stdout",
     "output_type": "stream",
     "text": [
      "logistf(formula = CVD ~ Interleukin17_receptor_A + baseline_age + \n",
      "    genetic_sex + smoking_0 + PC1 + PC2 + PC3 + PCD4 + PC5 + \n",
      "    baseline_HTN + ldl_0 + AID, data = data_jak2_high, control = logistf.control(maxit = 1000, \n",
      "    maxstep = 5), plcontrol = logistpl.control(maxit = 1000))\n",
      "\n",
      "Model fitted by Penalized ML\n",
      "Coefficients:\n",
      "                                coef   se(coef)    lower 0.95 upper 0.95\n",
      "(Intercept)              -8.16551617 6.85395217 -77.255568236 19.8748950\n",
      "Interleukin17_receptor_A -1.89601157 0.81436432  -6.297185271 -0.1722355\n",
      "baseline_age              0.20233241 0.09612419   0.002944959  0.7519569\n",
      "genetic_sex              -0.01750279 1.02752711  -3.227135818  3.3433193\n",
      "smoking_0                 0.15332436 0.93890650  -6.491398550  3.9236035\n",
      "PC1                       0.04011165 0.06872639  -0.210704230  0.8108426\n",
      "PC2                      -0.15992332 0.38147706  -4.358656533  1.3465466\n",
      "PC3                       0.52049758 0.41701839  -1.569207139  3.2456048\n",
      "PCD4                      0.29185205 0.18487766  -0.116330548  1.6790105\n",
      "PC5                      -0.10541467 0.08379489  -0.522520154  0.1975590\n",
      "baseline_HTN              2.77536042 1.29158542  -0.399772371 12.3926307\n",
      "ldl_0                    -2.10250044 1.19586192  -8.615680629  0.7245070\n",
      "AID                       0.61549447 2.02871728  -4.998947967  8.4270672\n",
      "                                Chisq          p method\n",
      "(Intercept)              0.6129941779 0.43366267      2\n",
      "Interleukin17_receptor_A 4.7338618113 0.02957441      2\n",
      "baseline_age             3.9840027919 0.04593428      2\n",
      "genetic_sex              0.0002172755 0.98823939      2\n",
      "smoking_0                0.0149523463 0.90267744      2\n",
      "PC1                      0.1964208852 0.65762545      2\n",
      "PC2                      0.0967593909 0.75575370      2\n",
      "PC3                      0.5165872231 0.47230112      2\n",
      "PCD4                     1.7112369309 0.19082496      2\n",
      "PC5                      0.9182104501 0.33794529      2\n",
      "baseline_HTN             2.9102477690 0.08801835      2\n",
      "ldl_0                    1.6600263579 0.19759977      2\n",
      "AID                      0.0675705178 0.79490751      2\n",
      "\n",
      "Method: 1-Wald, 2-Profile penalized log-likelihood, 3-None\n",
      "\n",
      "Likelihood ratio test=16.51417 on 12 df, p=0.1688041, n=60\n",
      "Wald test = 17.25005 on 12 df, p = 0.1404308"
     ]
    }
   ],
   "source": [
    "firth <- logistf(CVD ~ Interleukin17_receptor_A + baseline_age + genetic_sex + smoking_0\n",
    "                 +PC1+PC2+PC3+PCD4+PC5+baseline_HTN+ldl_0+AID, data = data_jak2_high,\n",
    "                control = logistf.control(maxit = 1000, maxstep = 5),\n",
    "                plcontrol = logistpl.control(maxit = 1000)\n",
    ")\n",
    "summary(firth)"
   ]
  },
  {
   "cell_type": "code",
   "execution_count": 71,
   "metadata": {
    "hidden": true
   },
   "outputs": [
    {
     "data": {
      "text/html": [
       "0.252243475524218"
      ],
      "text/latex": [
       "0.252243475524218"
      ],
      "text/markdown": [
       "0.252243475524218"
      ],
      "text/plain": [
       "[1] 0.2522435"
      ]
     },
     "metadata": {},
     "output_type": "display_data"
    },
    {
     "data": {
      "text/html": [
       "0.850736676849829"
      ],
      "text/latex": [
       "0.850736676849829"
      ],
      "text/markdown": [
       "0.850736676849829"
      ],
      "text/plain": [
       "[1] 0.8507367"
      ]
     },
     "metadata": {},
     "output_type": "display_data"
    },
    {
     "data": {
      "text/html": [
       "0.740974592202171"
      ],
      "text/latex": [
       "0.740974592202171"
      ],
      "text/markdown": [
       "0.740974592202171"
      ],
      "text/plain": [
       "[1] 0.7409746"
      ]
     },
     "metadata": {},
     "output_type": "display_data"
    }
   ],
   "source": [
    "exp(-0.514164784-1.96*0.44040597)\n",
    "exp(-1.488199403+1.96*0.67680958)\n",
    "exp(-1.89594301+1.96*0.81436432)"
   ]
  },
  {
   "cell_type": "code",
   "execution_count": null,
   "metadata": {
    "hidden": true
   },
   "outputs": [],
   "source": [
    "#VAF by 262"
   ]
  },
  {
   "cell_type": "code",
   "execution_count": 11,
   "metadata": {
    "hidden": true
   },
   "outputs": [
    {
     "data": {
      "text/plain": [
       "\n",
       "  1   2   3 \n",
       " 38 115  39 "
      ]
     },
     "metadata": {},
     "output_type": "display_data"
    }
   ],
   "source": [
    "data_jak2$jak2_af262 <- 2\n",
    "data_jak2$jak2_af262[data_jak2$AF >= quantile(data_jak2$AF,0.8)] <- 3\n",
    "data_jak2$jak2_af262[data_jak2$AF < quantile(data_jak2$AF,0.2)] <- 1\n",
    "data_jak2$jak2_af262 <- as.factor(data_jak2$jak2_af262)\n",
    "table(data_jak2$jak2_af262)"
   ]
  },
  {
   "cell_type": "code",
   "execution_count": 12,
   "metadata": {
    "hidden": true
   },
   "outputs": [],
   "source": [
    "data_jak2_low <- filter(data_jak2, data_jak2$jak2_af262 == 1)\n",
    "data_jak2_inter <- filter(data_jak2, data_jak2$jak2_af262 == 2)\n",
    "data_jak2_high <- filter(data_jak2, data_jak2$jak2_af262 == 3)"
   ]
  },
  {
   "cell_type": "code",
   "execution_count": 14,
   "metadata": {
    "hidden": true,
    "scrolled": true
   },
   "outputs": [
    {
     "name": "stderr",
     "output_type": "stream",
     "text": [
      "Warning message in logistf(CVD ~ Interleukin17_receptor_A + baseline_age + age2 + :\n",
      "“logistf.fit: Maximum number of iterations for full model exceeded. Try to increase the number of iterations or alter step size by passing 'logistf.control(maxit=..., maxstep=...)' to parameter control”\n",
      "Warning message in logistf(CVD ~ Interleukin17_receptor_A + baseline_age + age2 + :\n",
      "“Nonconverged PL confidence limits: maximum number of iterations for variables: (Intercept), baseline_age, age2 exceeded. Try to increase the number of iterations by passing 'logistpl.control(maxit=...)' to parameter plcontrol”\n"
     ]
    },
    {
     "name": "stdout",
     "output_type": "stream",
     "text": [
      "logistf(formula = CVD ~ Interleukin17_receptor_A + baseline_age + \n",
      "    age2 + genetic_sex + smoking_0 + PC1 + PC2 + PC3 + PCD4 + \n",
      "    PC5 + baseline_HTN + ldl_0 + AID, data = data_jak2_low)\n",
      "\n",
      "Model fitted by Penalized ML\n",
      "Coefficients:\n",
      "                                  coef     se(coef)    lower 0.95   upper 0.95\n",
      "(Intercept)              -33.291828568 113.18386798 -527.23230856 229.67907182\n",
      "Interleukin17_receptor_A  -0.252729351   0.78578646   -2.82178947   1.61621774\n",
      "baseline_age               0.757492769   3.78736179   -8.18437660  17.07429307\n",
      "age2                      -0.004071738   0.03126989   -0.13660214   0.07019698\n",
      "genetic_sex               -0.367609337   0.99170690   -2.89728625   2.39673946\n",
      "smoking_0                 -0.697708651   0.88993916   -3.18783719   1.33492939\n",
      "PC1                        0.436801932   0.24675436   -0.12471080   1.30544748\n",
      "PC2                        0.583408579   0.31498823   -0.17971529   1.70473235\n",
      "PC3                        0.204035481   0.26393781   -0.51779146   0.94718531\n",
      "PCD4                       0.503233064   0.28477081   -0.08694739   1.41813499\n",
      "PC5                       -0.119225093   0.08010963   -0.55057053   0.06622852\n",
      "baseline_HTN               1.849671876   1.56397583   -1.98820819   6.43424578\n",
      "ldl_0                      1.087534679   0.74112713   -0.70032406   3.27644608\n",
      "AID                        2.293508662   2.28468579   -3.38257726   7.74138167\n",
      "                              Chisq         p method\n",
      "(Intercept)              0.05903089 0.8080343      2\n",
      "Interleukin17_receptor_A 0.08514974 0.7704363      2\n",
      "baseline_age             0.02696846 0.8695574      2\n",
      "age2                     0.01126518 0.9154732      2\n",
      "genetic_sex              0.10048853 0.7512442      2\n",
      "smoking_0                0.64569097 0.4216575      2\n",
      "PC1                      2.25405298 0.1332650      2\n",
      "PC2                      1.79242694 0.1806307      2\n",
      "PC3                      0.43646841 0.5088319      2\n",
      "PCD4                     1.78847541 0.1811120      2\n",
      "PC5                      1.03290313 0.3094778      2\n",
      "baseline_HTN             0.89107001 0.3451875      2\n",
      "ldl_0                    1.50372203 0.2200996      2\n",
      "AID                      0.83382305 0.3611694      2\n",
      "\n",
      "Method: 1-Wald, 2-Profile penalized log-likelihood, 3-None\n",
      "\n",
      "Likelihood ratio test=9.711766 on 13 df, p=0.7173173, n=36\n",
      "Wald test = 12.94224 on 13 df, p = 0.4522832"
     ]
    }
   ],
   "source": [
    "firth <- logistf(CVD ~ Interleukin17_receptor_A + baseline_age + age2 + genetic_sex + smoking_0\n",
    "                 +PC1+PC2+PC3+PCD4+PC5+baseline_HTN+ldl_0+AID, data = data_jak2_low)\n",
    "summary(firth)"
   ]
  },
  {
   "cell_type": "code",
   "execution_count": 15,
   "metadata": {
    "hidden": true,
    "scrolled": true
   },
   "outputs": [
    {
     "name": "stdout",
     "output_type": "stream",
     "text": [
      "logistf(formula = CVD ~ Interleukin17_receptor_A + baseline_age + \n",
      "    age2 + genetic_sex + smoking_0 + PC1 + PC2 + PC3 + PCD4 + \n",
      "    PC5 + baseline_HTN + ldl_0 + AID, data = data_jak2_inter)\n",
      "\n",
      "Model fitted by Penalized ML\n",
      "Coefficients:\n",
      "                                  coef     se(coef)   lower 0.95  upper 0.95\n",
      "(Intercept)              -14.179194428 22.426510692 -74.49456019 33.21034723\n",
      "Interleukin17_receptor_A  -0.609671319  0.511998873  -1.85969955  0.60756280\n",
      "baseline_age               0.496333346  0.774973059  -1.15776014  2.53762435\n",
      "age2                      -0.003517236  0.006661667  -0.02072486  0.01083867\n",
      "genetic_sex               -1.258598655  0.754078856  -3.25860346  0.39688911\n",
      "smoking_0                  0.251159964  0.618573875  -1.31368409  1.71320796\n",
      "PC1                        0.126420985  0.184191613  -0.30881977  0.59347624\n",
      "PC2                       -0.068803492  0.157139156  -0.48788609  0.28615415\n",
      "PC3                       -0.178991371  0.201553160  -0.68739774  0.29644270\n",
      "PCD4                      -0.021751855  0.060447826  -0.16542881  0.14203220\n",
      "PC5                        0.079957198  0.041328826  -0.01208869  0.17694656\n",
      "baseline_HTN               1.785112684  0.854101774  -0.03184526  3.90700416\n",
      "ldl_0                     -1.037018018  0.469062976  -2.28159783 -0.01300697\n",
      "AID                        3.136252105  1.173135036   0.71256624  6.02511572\n",
      "                              Chisq          p method\n",
      "(Intercept)              0.30628701 0.57996761      2\n",
      "Interleukin17_receptor_A 0.99515174 0.31848649      2\n",
      "baseline_age             0.31337342 0.57561746      2\n",
      "age2                     0.21164386 0.64548200      2\n",
      "genetic_sex              2.21232738 0.13691198      2\n",
      "smoking_0                0.10881400 0.74149844      2\n",
      "PC1                      0.32853894 0.56652068      2\n",
      "PC2                      0.13530024 0.71299865      2\n",
      "PC3                      0.56079291 0.45394094      2\n",
      "PCD4                     0.08680359 0.76828075      2\n",
      "PC5                      2.94351575 0.08622287      2\n",
      "baseline_HTN             3.70741870 0.05417111      2\n",
      "ldl_0                    3.94782444 0.04693201      2\n",
      "AID                      6.31876021 0.01194671      2\n",
      "\n",
      "Method: 1-Wald, 2-Profile penalized log-likelihood, 3-None\n",
      "\n",
      "Likelihood ratio test=21.59164 on 13 df, p=0.06202109, n=106\n",
      "Wald test = 34.46474 on 13 df, p = 0.001022564"
     ]
    }
   ],
   "source": [
    "firth <- logistf(CVD ~ Interleukin17_receptor_A + baseline_age + age2 + genetic_sex + smoking_0\n",
    "                 +PC1+PC2+PC3+PCD4+PC5+baseline_HTN+ldl_0+AID, data = data_jak2_inter)\n",
    "summary(firth)"
   ]
  },
  {
   "cell_type": "code",
   "execution_count": 16,
   "metadata": {
    "hidden": true
   },
   "outputs": [
    {
     "name": "stderr",
     "output_type": "stream",
     "text": [
      "Warning message in logistf(CVD ~ Interleukin17_receptor_A + baseline_age + age2 + :\n",
      "“logistf.fit: Maximum number of iterations for full model exceeded. Try to increase the number of iterations or alter step size by passing 'logistf.control(maxit=..., maxstep=...)' to parameter control”\n"
     ]
    },
    {
     "name": "stdout",
     "output_type": "stream",
     "text": [
      "logistf(formula = CVD ~ Interleukin17_receptor_A + baseline_age + \n",
      "    age2 + genetic_sex + smoking_0 + PC1 + PC2 + PC3 + PCD4 + \n",
      "    PC5 + baseline_HTN + ldl_0 + AID, data = data_jak2_high)\n",
      "\n",
      "Model fitted by Penalized ML\n",
      "Coefficients:\n",
      "                                coef    se(coef)    lower 0.95   upper 0.95\n",
      "(Intercept)              36.74555176 53.12093492 -268.01599512 237.81960323\n",
      "Interleukin17_receptor_A -0.93151901  0.69434901   -4.32234560   0.55210810\n",
      "baseline_age             -1.33220372  1.84984171   -8.64066489   8.28199018\n",
      "age2                      0.01225809  0.01548323   -0.06277983   0.07586344\n",
      "genetic_sex               0.79118614  1.37630122   -3.46994617   7.76295167\n",
      "smoking_0                 0.14514263  0.82193489   -3.32223706   3.79422959\n",
      "PC1                       0.07878984  0.07051770   -0.10600337   0.52595945\n",
      "PC2                      -0.39610932  0.38647858   -2.84373114   0.71927442\n",
      "PC3                       0.28069286  0.32071505   -1.05561493   1.47241328\n",
      "PCD4                      0.22032957  0.16066988   -0.11488755   0.90309161\n",
      "PC5                      -0.12291406  0.08639233   -0.53098802   0.06128185\n",
      "baseline_HTN              1.63861771  1.17030087   -1.52381541   7.63485301\n",
      "ldl_0                    -0.60065023  1.01382769   -6.23216412   3.16798559\n",
      "AID                      -0.37762737  1.98560091   -5.85106082   5.48747081\n",
      "                              Chisq         p method\n",
      "(Intercept)              0.23472399 0.6280430      2\n",
      "Interleukin17_receptor_A 1.42527904 0.2325365      2\n",
      "baseline_age             0.24995928 0.6171038      2\n",
      "age2                     0.30923336 0.5781510      2\n",
      "genetic_sex              0.18474751 0.6673247      2\n",
      "smoking_0                0.01344045 0.9077057      2\n",
      "PC1                      0.86197312 0.3531871      2\n",
      "PC2                      0.68301988 0.4085488      2\n",
      "PC3                      0.48160020 0.4876984      2\n",
      "PCD4                     1.55409163 0.2125324      2\n",
      "PC5                      1.66618691 0.1967700      2\n",
      "baseline_HTN             1.19680720 0.2739608      2\n",
      "ldl_0                    0.14557142 0.7028039      2\n",
      "AID                      0.02946306 0.8637142      2\n",
      "\n",
      "Method: 1-Wald, 2-Profile penalized log-likelihood, 3-None\n",
      "\n",
      "Likelihood ratio test=8.120583 on 13 df, p=0.8356567, n=38\n",
      "Wald test = 15.77424 on 13 df, p = 0.2615358"
     ]
    }
   ],
   "source": [
    "firth <- logistf(CVD ~ Interleukin17_receptor_A + baseline_age + age2 + genetic_sex + smoking_0\n",
    "                 +PC1+PC2+PC3+PCD4+PC5+baseline_HTN+ldl_0+AID, data = data_jak2_high)\n",
    "summary(firth)"
   ]
  },
  {
   "cell_type": "markdown",
   "metadata": {
    "hidden": true
   },
   "source": [
    "## All ppl"
   ]
  },
  {
   "cell_type": "code",
   "execution_count": 83,
   "metadata": {
    "hidden": true
   },
   "outputs": [],
   "source": [
    "data_all_pheno_cox2$CVD <- NA\n",
    "data_all_pheno_cox2$CVD <- ifelse(data_all_pheno_cox2$`Coronary atherosclerosis [Atherosclerotic heart disease]`==1|\n",
    "                        data_all_pheno_cox2$`Myocardial infarction [Heart attack]`==1 |\n",
    "                        data_all_pheno_cox2$Stroke==1|\n",
    "                        data_all_pheno_cox2$`Heart failure`==1|\n",
    "                        data_all_pheno_cox2$`Angina pectoris`==1|\n",
    "                        data_all_pheno_cox2$`Peripheral vascular disease`==1,1, 0)\n",
    "data_all_pheno_cox2$CVD <- ifelse(is.na(data_all_pheno_cox2$CVD),0,data_all_pheno_cox2$CVD)"
   ]
  },
  {
   "cell_type": "code",
   "execution_count": 86,
   "metadata": {
    "hidden": true
   },
   "outputs": [
    {
     "data": {
      "text/plain": [
       "\n",
       "     0      1 \n",
       "484186  18227 "
      ]
     },
     "metadata": {},
     "output_type": "display_data"
    }
   ],
   "source": [
    "data_all_pheno_cox2$ASCVD <- NA\n",
    "data_all_pheno_cox2$ASCVD <- ifelse(data_all_pheno_cox2$`Coronary atherosclerosis [Atherosclerotic heart disease]`==1|\n",
    "                        data_all_pheno_cox2$`Myocardial infarction [Heart attack]`==1 |\n",
    "                        data_all_pheno_cox2$`Heart failure`==1|\n",
    "                        data_all_pheno_cox2$`Angina pectoris`==1|\n",
    "                        data_all_pheno_cox2$`Peripheral vascular disease`==1,1, 0)\n",
    "table(data_all_pheno_cox2$ASCVD)"
   ]
  },
  {
   "cell_type": "code",
   "execution_count": 87,
   "metadata": {
    "hidden": true
   },
   "outputs": [],
   "source": [
    "data_all_pheno_cox2$CAD <- NA\n",
    "data_all_pheno_cox2$CAD <- ifelse(data_all_pheno_cox2$`Coronary atherosclerosis [Atherosclerotic heart disease]`==1|\n",
    "                        data_all_pheno_cox2$`Myocardial infarction [Heart attack]`==1 |\n",
    "                        data_all_pheno_cox2$`Angina pectoris`==1,1, 0)"
   ]
  },
  {
   "cell_type": "code",
   "execution_count": 84,
   "metadata": {
    "hidden": true
   },
   "outputs": [
    {
     "data": {
      "text/plain": [
       "\n",
       "     0      1   <NA> \n",
       "491542  10871      0 "
      ]
     },
     "metadata": {},
     "output_type": "display_data"
    }
   ],
   "source": [
    "data_all_pheno_cox2$AID <- NA\n",
    "data_all_pheno_cox2$AID <- ifelse(data_all_pheno_cox2$`Rheumatoid arthritis`==1|\n",
    "                        data_all_pheno_cox2$`Ankylosing spondylitis`==1 |\n",
    "                        data_all_pheno_cox2$`Systemic lupus erythematosus [SLE]`==1|\n",
    "                        data_all_pheno_cox2$Psoriasis==1|\n",
    "                        data_all_pheno_cox2$`Psoriatic arthropathy`==1,1, 0)\n",
    "data_all_pheno_cox2$AID <- ifelse(is.na(data_all_pheno_cox2$AID),0,data_all_pheno_cox2$AID)\n",
    "table(data_all_pheno_cox2$AID, useNA = \"always\")"
   ]
  },
  {
   "cell_type": "code",
   "execution_count": 89,
   "metadata": {
    "hidden": true
   },
   "outputs": [],
   "source": [
    "data_all_cvd <- data_all_pheno_cox2[,c(\"ID_VUMC\",\"baseline_age\", \"age2\", \"genetic_sex\", \"smoking_0\", \"PC1\",\"PC2\",\"PC3\",\"PCD4\",\"PC5\",\"BMI_0\",\"baseline_HTN\",\"baseline_DM\",\"systolicBP_0\",\"diastolicBP_0\",\"ldl_0\",\n",
    "                          \"Acute myeloid leukemia\",\"Heart failure\",\"ASCVD\",\"CVD\",\"CAD\",\"Myocardial infarction [Heart attack]\",\"Stroke\", \"Thrombosis of cerebral or precerebral arteries\",\"Venous thromboembolism\",\"death\",\"AID\",\n",
    "                          \"Rheumatoid arthritis\",\"Ankylosing spondylitis\",\"Systemic lupus erythematosus [SLE]\",\"Psoriasis\",\"Psoriatic arthropathy\",\"Myeloproliferative disorder\",\"Chronic myeloproliferative disease*\",\"Peripheral vascular disease\")]"
   ]
  },
  {
   "cell_type": "code",
   "execution_count": 91,
   "metadata": {
    "hidden": true
   },
   "outputs": [
    {
     "data": {
      "text/plain": [
       "\n",
       "     0      1   <NA> \n",
       "480728  21685      0 "
      ]
     },
     "metadata": {},
     "output_type": "display_data"
    }
   ],
   "source": [
    "table(data_all_cvd$CVD,useNA=\"always\")"
   ]
  },
  {
   "cell_type": "code",
   "execution_count": 92,
   "metadata": {
    "hidden": true
   },
   "outputs": [],
   "source": [
    "data_all_cvd$ID_VUMC <- as.character(data_all_cvd$ID_VUMC)"
   ]
  },
  {
   "cell_type": "code",
   "execution_count": 93,
   "metadata": {
    "hidden": true
   },
   "outputs": [],
   "source": [
    "il17ra <- score_kz[,c(\"ID\",\"Interleukin17_receptor_A\")]\n",
    "data_all_cvd <- merge(data_all_cvd, il17ra, by.x = \"ID_VUMC\" , by.y = \"ID\", all.x = T)"
   ]
  },
  {
   "cell_type": "code",
   "execution_count": 205,
   "metadata": {
    "hidden": true
   },
   "outputs": [
    {
     "data": {
      "text/plain": [
       "   Min. 1st Qu.  Median    Mean 3rd Qu.    Max.    NA's \n",
       " -1.112   0.351   0.960   0.967   1.568   3.782   15342 "
      ]
     },
     "metadata": {},
     "output_type": "display_data"
    }
   ],
   "source": [
    "summary(data_all_cvd$Interleukin17_receptor_A)"
   ]
  },
  {
   "cell_type": "code",
   "execution_count": 94,
   "metadata": {
    "hidden": true
   },
   "outputs": [
    {
     "name": "stdout",
     "output_type": "stream",
     "text": [
      "CVD ~ Interleukin17_receptor_A + baseline_age + age2 + genetic_sex + \n",
      "    smoking_0 + PC1 + PC2 + PC3 + PCD4 + PC5 + ldl_0 + BMI_0 + \n",
      "    systolicBP_0 + diastolicBP_0 + baseline_DM + AID\n",
      "<environment: 0x596777bbe2f0>\n"
     ]
    },
    {
     "data": {
      "text/html": [
       "<table class=\"dataframe\">\n",
       "<caption>A data.frame: 1 × 7</caption>\n",
       "<thead>\n",
       "\t<tr><th></th><th scope=col>SNP</th><th scope=col>Beta</th><th scope=col>OR</th><th scope=col>SE</th><th scope=col>CI_Lower</th><th scope=col>CI_Upper</th><th scope=col>P_Value</th></tr>\n",
       "\t<tr><th></th><th scope=col>&lt;chr&gt;</th><th scope=col>&lt;dbl&gt;</th><th scope=col>&lt;dbl&gt;</th><th scope=col>&lt;dbl&gt;</th><th scope=col>&lt;dbl&gt;</th><th scope=col>&lt;dbl&gt;</th><th scope=col>&lt;dbl&gt;</th></tr>\n",
       "</thead>\n",
       "<tbody>\n",
       "\t<tr><th scope=row>Interleukin17_receptor_A</th><td>Interleukin17_receptor_A</td><td>-0.004437138</td><td>0.9955727</td><td>0.009469385</td><td>0.9772653</td><td>1.014223</td><td>0.6393719</td></tr>\n",
       "</tbody>\n",
       "</table>\n"
      ],
      "text/latex": [
       "A data.frame: 1 × 7\n",
       "\\begin{tabular}{r|lllllll}\n",
       "  & SNP & Beta & OR & SE & CI\\_Lower & CI\\_Upper & P\\_Value\\\\\n",
       "  & <chr> & <dbl> & <dbl> & <dbl> & <dbl> & <dbl> & <dbl>\\\\\n",
       "\\hline\n",
       "\tInterleukin17\\_receptor\\_A & Interleukin17\\_receptor\\_A & -0.004437138 & 0.9955727 & 0.009469385 & 0.9772653 & 1.014223 & 0.6393719\\\\\n",
       "\\end{tabular}\n"
      ],
      "text/markdown": [
       "\n",
       "A data.frame: 1 × 7\n",
       "\n",
       "| <!--/--> | SNP &lt;chr&gt; | Beta &lt;dbl&gt; | OR &lt;dbl&gt; | SE &lt;dbl&gt; | CI_Lower &lt;dbl&gt; | CI_Upper &lt;dbl&gt; | P_Value &lt;dbl&gt; |\n",
       "|---|---|---|---|---|---|---|---|\n",
       "| Interleukin17_receptor_A | Interleukin17_receptor_A | -0.004437138 | 0.9955727 | 0.009469385 | 0.9772653 | 1.014223 | 0.6393719 |\n",
       "\n"
      ],
      "text/plain": [
       "                         SNP                      Beta         OR       \n",
       "Interleukin17_receptor_A Interleukin17_receptor_A -0.004437138 0.9955727\n",
       "                         SE          CI_Lower  CI_Upper P_Value  \n",
       "Interleukin17_receptor_A 0.009469385 0.9772653 1.014223 0.6393719"
      ]
     },
     "metadata": {},
     "output_type": "display_data"
    }
   ],
   "source": [
    "logistic_mca <- batch_logistic_regression(\n",
    "  data = data_all_cvd,\n",
    "  snp_list = \"Interleukin17_receptor_A\",\n",
    "  outcome = \"CVD\",\n",
    "  covariates = c(\"baseline_age\", \"age2\", \"genetic_sex\", \"smoking_0\", \"PC1\",\"PC2\",\"PC3\",\"PCD4\",\"PC5\",\"ldl_0\",\"BMI_0\",\"systolicBP_0\",\"diastolicBP_0\",\"baseline_DM\",\"AID\")\n",
    ")\n",
    "logistic_mca"
   ]
  },
  {
   "cell_type": "code",
   "execution_count": 95,
   "metadata": {
    "hidden": true
   },
   "outputs": [
    {
     "name": "stdout",
     "output_type": "stream",
     "text": [
      "ASCVD ~ Interleukin17_receptor_A + baseline_age + age2 + genetic_sex + \n",
      "    smoking_0 + PC1 + PC2 + PC3 + PCD4 + PC5 + ldl_0 + BMI_0 + \n",
      "    systolicBP_0 + diastolicBP_0 + baseline_DM + AID\n",
      "<environment: 0x5967711ca668>\n"
     ]
    },
    {
     "data": {
      "text/html": [
       "<table class=\"dataframe\">\n",
       "<caption>A data.frame: 1 × 7</caption>\n",
       "<thead>\n",
       "\t<tr><th></th><th scope=col>SNP</th><th scope=col>Beta</th><th scope=col>OR</th><th scope=col>SE</th><th scope=col>CI_Lower</th><th scope=col>CI_Upper</th><th scope=col>P_Value</th></tr>\n",
       "\t<tr><th></th><th scope=col>&lt;chr&gt;</th><th scope=col>&lt;dbl&gt;</th><th scope=col>&lt;dbl&gt;</th><th scope=col>&lt;dbl&gt;</th><th scope=col>&lt;dbl&gt;</th><th scope=col>&lt;dbl&gt;</th><th scope=col>&lt;dbl&gt;</th></tr>\n",
       "</thead>\n",
       "<tbody>\n",
       "\t<tr><th scope=row>Interleukin17_receptor_A</th><td>Interleukin17_receptor_A</td><td>-0.002703851</td><td>0.9972998</td><td>0.01027403</td><td>0.9774179</td><td>1.017586</td><td>0.792417</td></tr>\n",
       "</tbody>\n",
       "</table>\n"
      ],
      "text/latex": [
       "A data.frame: 1 × 7\n",
       "\\begin{tabular}{r|lllllll}\n",
       "  & SNP & Beta & OR & SE & CI\\_Lower & CI\\_Upper & P\\_Value\\\\\n",
       "  & <chr> & <dbl> & <dbl> & <dbl> & <dbl> & <dbl> & <dbl>\\\\\n",
       "\\hline\n",
       "\tInterleukin17\\_receptor\\_A & Interleukin17\\_receptor\\_A & -0.002703851 & 0.9972998 & 0.01027403 & 0.9774179 & 1.017586 & 0.792417\\\\\n",
       "\\end{tabular}\n"
      ],
      "text/markdown": [
       "\n",
       "A data.frame: 1 × 7\n",
       "\n",
       "| <!--/--> | SNP &lt;chr&gt; | Beta &lt;dbl&gt; | OR &lt;dbl&gt; | SE &lt;dbl&gt; | CI_Lower &lt;dbl&gt; | CI_Upper &lt;dbl&gt; | P_Value &lt;dbl&gt; |\n",
       "|---|---|---|---|---|---|---|---|\n",
       "| Interleukin17_receptor_A | Interleukin17_receptor_A | -0.002703851 | 0.9972998 | 0.01027403 | 0.9774179 | 1.017586 | 0.792417 |\n",
       "\n"
      ],
      "text/plain": [
       "                         SNP                      Beta         OR       \n",
       "Interleukin17_receptor_A Interleukin17_receptor_A -0.002703851 0.9972998\n",
       "                         SE         CI_Lower  CI_Upper P_Value \n",
       "Interleukin17_receptor_A 0.01027403 0.9774179 1.017586 0.792417"
      ]
     },
     "metadata": {},
     "output_type": "display_data"
    }
   ],
   "source": [
    "logistic_mca <- batch_logistic_regression(\n",
    "  data = data_all_cvd,\n",
    "  snp_list = \"Interleukin17_receptor_A\",\n",
    "  outcome = \"ASCVD\",\n",
    "  covariates = c(\"baseline_age\", \"age2\", \"genetic_sex\", \"smoking_0\", \"PC1\",\"PC2\",\"PC3\",\"PCD4\",\"PC5\",\"ldl_0\",\"BMI_0\",\"systolicBP_0\",\"diastolicBP_0\",\"baseline_DM\",\"AID\")\n",
    ")\n",
    "logistic_mca"
   ]
  },
  {
   "cell_type": "code",
   "execution_count": 96,
   "metadata": {
    "hidden": true
   },
   "outputs": [
    {
     "name": "stdout",
     "output_type": "stream",
     "text": [
      "CAD ~ Interleukin17_receptor_A + baseline_age + age2 + genetic_sex + \n",
      "    smoking_0 + PC1 + PC2 + PC3 + PCD4 + PC5 + ldl_0 + BMI_0 + \n",
      "    systolicBP_0 + diastolicBP_0 + baseline_DM + AID\n",
      "<environment: 0x596b94821760>\n"
     ]
    },
    {
     "data": {
      "text/html": [
       "<table class=\"dataframe\">\n",
       "<caption>A data.frame: 1 × 7</caption>\n",
       "<thead>\n",
       "\t<tr><th></th><th scope=col>SNP</th><th scope=col>Beta</th><th scope=col>OR</th><th scope=col>SE</th><th scope=col>CI_Lower</th><th scope=col>CI_Upper</th><th scope=col>P_Value</th></tr>\n",
       "\t<tr><th></th><th scope=col>&lt;chr&gt;</th><th scope=col>&lt;dbl&gt;</th><th scope=col>&lt;dbl&gt;</th><th scope=col>&lt;dbl&gt;</th><th scope=col>&lt;dbl&gt;</th><th scope=col>&lt;dbl&gt;</th><th scope=col>&lt;dbl&gt;</th></tr>\n",
       "</thead>\n",
       "<tbody>\n",
       "\t<tr><th scope=row>Interleukin17_receptor_A</th><td>Interleukin17_receptor_A</td><td>-0.0009183841</td><td>0.999082</td><td>0.0125585</td><td>0.9747902</td><td>1.023979</td><td>0.9417039</td></tr>\n",
       "</tbody>\n",
       "</table>\n"
      ],
      "text/latex": [
       "A data.frame: 1 × 7\n",
       "\\begin{tabular}{r|lllllll}\n",
       "  & SNP & Beta & OR & SE & CI\\_Lower & CI\\_Upper & P\\_Value\\\\\n",
       "  & <chr> & <dbl> & <dbl> & <dbl> & <dbl> & <dbl> & <dbl>\\\\\n",
       "\\hline\n",
       "\tInterleukin17\\_receptor\\_A & Interleukin17\\_receptor\\_A & -0.0009183841 & 0.999082 & 0.0125585 & 0.9747902 & 1.023979 & 0.9417039\\\\\n",
       "\\end{tabular}\n"
      ],
      "text/markdown": [
       "\n",
       "A data.frame: 1 × 7\n",
       "\n",
       "| <!--/--> | SNP &lt;chr&gt; | Beta &lt;dbl&gt; | OR &lt;dbl&gt; | SE &lt;dbl&gt; | CI_Lower &lt;dbl&gt; | CI_Upper &lt;dbl&gt; | P_Value &lt;dbl&gt; |\n",
       "|---|---|---|---|---|---|---|---|\n",
       "| Interleukin17_receptor_A | Interleukin17_receptor_A | -0.0009183841 | 0.999082 | 0.0125585 | 0.9747902 | 1.023979 | 0.9417039 |\n",
       "\n"
      ],
      "text/plain": [
       "                         SNP                      Beta          OR      \n",
       "Interleukin17_receptor_A Interleukin17_receptor_A -0.0009183841 0.999082\n",
       "                         SE        CI_Lower  CI_Upper P_Value  \n",
       "Interleukin17_receptor_A 0.0125585 0.9747902 1.023979 0.9417039"
      ]
     },
     "metadata": {},
     "output_type": "display_data"
    }
   ],
   "source": [
    "logistic_mca <- batch_logistic_regression(\n",
    "  data = data_all_cvd,\n",
    "  snp_list = \"Interleukin17_receptor_A\",\n",
    "  outcome = \"CAD\",\n",
    "  covariates = c(\"baseline_age\", \"age2\", \"genetic_sex\", \"smoking_0\", \"PC1\",\"PC2\",\"PC3\",\"PCD4\",\"PC5\",\"ldl_0\",\"BMI_0\",\"systolicBP_0\",\"diastolicBP_0\",\"baseline_DM\",\"AID\")\n",
    ")\n",
    "logistic_mca"
   ]
  },
  {
   "cell_type": "code",
   "execution_count": 97,
   "metadata": {
    "hidden": true
   },
   "outputs": [
    {
     "name": "stdout",
     "output_type": "stream",
     "text": [
      "Stroke ~ Interleukin17_receptor_A + baseline_age + age2 + genetic_sex + \n",
      "    smoking_0 + PC1 + PC2 + PC3 + PCD4 + PC5 + ldl_0 + BMI_0 + \n",
      "    systolicBP_0 + diastolicBP_0 + baseline_DM + AID\n",
      "<environment: 0x596b9465f710>\n"
     ]
    },
    {
     "data": {
      "text/html": [
       "<table class=\"dataframe\">\n",
       "<caption>A data.frame: 1 × 7</caption>\n",
       "<thead>\n",
       "\t<tr><th></th><th scope=col>SNP</th><th scope=col>Beta</th><th scope=col>OR</th><th scope=col>SE</th><th scope=col>CI_Lower</th><th scope=col>CI_Upper</th><th scope=col>P_Value</th></tr>\n",
       "\t<tr><th></th><th scope=col>&lt;chr&gt;</th><th scope=col>&lt;dbl&gt;</th><th scope=col>&lt;dbl&gt;</th><th scope=col>&lt;dbl&gt;</th><th scope=col>&lt;dbl&gt;</th><th scope=col>&lt;dbl&gt;</th><th scope=col>&lt;dbl&gt;</th></tr>\n",
       "</thead>\n",
       "<tbody>\n",
       "\t<tr><th scope=row>Interleukin17_receptor_A</th><td>Interleukin17_receptor_A</td><td>-0.01300904</td><td>0.9870752</td><td>0.02030804</td><td>0.9485576</td><td>1.027157</td><td>0.5217919</td></tr>\n",
       "</tbody>\n",
       "</table>\n"
      ],
      "text/latex": [
       "A data.frame: 1 × 7\n",
       "\\begin{tabular}{r|lllllll}\n",
       "  & SNP & Beta & OR & SE & CI\\_Lower & CI\\_Upper & P\\_Value\\\\\n",
       "  & <chr> & <dbl> & <dbl> & <dbl> & <dbl> & <dbl> & <dbl>\\\\\n",
       "\\hline\n",
       "\tInterleukin17\\_receptor\\_A & Interleukin17\\_receptor\\_A & -0.01300904 & 0.9870752 & 0.02030804 & 0.9485576 & 1.027157 & 0.5217919\\\\\n",
       "\\end{tabular}\n"
      ],
      "text/markdown": [
       "\n",
       "A data.frame: 1 × 7\n",
       "\n",
       "| <!--/--> | SNP &lt;chr&gt; | Beta &lt;dbl&gt; | OR &lt;dbl&gt; | SE &lt;dbl&gt; | CI_Lower &lt;dbl&gt; | CI_Upper &lt;dbl&gt; | P_Value &lt;dbl&gt; |\n",
       "|---|---|---|---|---|---|---|---|\n",
       "| Interleukin17_receptor_A | Interleukin17_receptor_A | -0.01300904 | 0.9870752 | 0.02030804 | 0.9485576 | 1.027157 | 0.5217919 |\n",
       "\n"
      ],
      "text/plain": [
       "                         SNP                      Beta        OR       \n",
       "Interleukin17_receptor_A Interleukin17_receptor_A -0.01300904 0.9870752\n",
       "                         SE         CI_Lower  CI_Upper P_Value  \n",
       "Interleukin17_receptor_A 0.02030804 0.9485576 1.027157 0.5217919"
      ]
     },
     "metadata": {},
     "output_type": "display_data"
    }
   ],
   "source": [
    "logistic_mca <- batch_logistic_regression(\n",
    "  data = data_all_cvd,\n",
    "  snp_list = \"Interleukin17_receptor_A\",\n",
    "  outcome = \"Stroke\",\n",
    "  covariates = c(\"baseline_age\", \"age2\", \"genetic_sex\", \"smoking_0\", \"PC1\",\"PC2\",\"PC3\",\"PCD4\",\"PC5\",\"ldl_0\",\"BMI_0\",\"systolicBP_0\",\"diastolicBP_0\",\"baseline_DM\",\"AID\")\n",
    ")\n",
    "logistic_mca"
   ]
  },
  {
   "cell_type": "code",
   "execution_count": 98,
   "metadata": {
    "hidden": true
   },
   "outputs": [
    {
     "name": "stdout",
     "output_type": "stream",
     "text": [
      "`Peripheral vascular disease` ~ Interleukin17_receptor_A + baseline_age + \n",
      "    age2 + genetic_sex + smoking_0 + PC1 + PC2 + PC3 + PCD4 + \n",
      "    PC5 + ldl_0 + BMI_0 + systolicBP_0 + diastolicBP_0 + baseline_DM + \n",
      "    AID\n",
      "<environment: 0x596ba69e8e28>\n"
     ]
    },
    {
     "data": {
      "text/html": [
       "<table class=\"dataframe\">\n",
       "<caption>A data.frame: 1 × 7</caption>\n",
       "<thead>\n",
       "\t<tr><th></th><th scope=col>SNP</th><th scope=col>Beta</th><th scope=col>OR</th><th scope=col>SE</th><th scope=col>CI_Lower</th><th scope=col>CI_Upper</th><th scope=col>P_Value</th></tr>\n",
       "\t<tr><th></th><th scope=col>&lt;chr&gt;</th><th scope=col>&lt;dbl&gt;</th><th scope=col>&lt;dbl&gt;</th><th scope=col>&lt;dbl&gt;</th><th scope=col>&lt;dbl&gt;</th><th scope=col>&lt;dbl&gt;</th><th scope=col>&lt;dbl&gt;</th></tr>\n",
       "</thead>\n",
       "<tbody>\n",
       "\t<tr><th scope=row>Interleukin17_receptor_A</th><td>Interleukin17_receptor_A</td><td>-0.01223672</td><td>0.9878378</td><td>0.01807535</td><td>0.9534537</td><td>1.023462</td><td>0.4984161</td></tr>\n",
       "</tbody>\n",
       "</table>\n"
      ],
      "text/latex": [
       "A data.frame: 1 × 7\n",
       "\\begin{tabular}{r|lllllll}\n",
       "  & SNP & Beta & OR & SE & CI\\_Lower & CI\\_Upper & P\\_Value\\\\\n",
       "  & <chr> & <dbl> & <dbl> & <dbl> & <dbl> & <dbl> & <dbl>\\\\\n",
       "\\hline\n",
       "\tInterleukin17\\_receptor\\_A & Interleukin17\\_receptor\\_A & -0.01223672 & 0.9878378 & 0.01807535 & 0.9534537 & 1.023462 & 0.4984161\\\\\n",
       "\\end{tabular}\n"
      ],
      "text/markdown": [
       "\n",
       "A data.frame: 1 × 7\n",
       "\n",
       "| <!--/--> | SNP &lt;chr&gt; | Beta &lt;dbl&gt; | OR &lt;dbl&gt; | SE &lt;dbl&gt; | CI_Lower &lt;dbl&gt; | CI_Upper &lt;dbl&gt; | P_Value &lt;dbl&gt; |\n",
       "|---|---|---|---|---|---|---|---|\n",
       "| Interleukin17_receptor_A | Interleukin17_receptor_A | -0.01223672 | 0.9878378 | 0.01807535 | 0.9534537 | 1.023462 | 0.4984161 |\n",
       "\n"
      ],
      "text/plain": [
       "                         SNP                      Beta        OR       \n",
       "Interleukin17_receptor_A Interleukin17_receptor_A -0.01223672 0.9878378\n",
       "                         SE         CI_Lower  CI_Upper P_Value  \n",
       "Interleukin17_receptor_A 0.01807535 0.9534537 1.023462 0.4984161"
      ]
     },
     "metadata": {},
     "output_type": "display_data"
    }
   ],
   "source": [
    "logistic_mca <- batch_logistic_regression(\n",
    "  data = data_all_cvd,\n",
    "  snp_list = \"Interleukin17_receptor_A\",\n",
    "  outcome = \"`Peripheral vascular disease`\",\n",
    "  covariates = c(\"baseline_age\", \"age2\", \"genetic_sex\", \"smoking_0\", \"PC1\",\"PC2\",\"PC3\",\"PCD4\",\"PC5\",\"ldl_0\",\"BMI_0\",\"systolicBP_0\",\"diastolicBP_0\",\"baseline_DM\",\"AID\")\n",
    ")\n",
    "logistic_mca"
   ]
  },
  {
   "cell_type": "code",
   "execution_count": 99,
   "metadata": {
    "hidden": true
   },
   "outputs": [
    {
     "name": "stdout",
     "output_type": "stream",
     "text": [
      "`Myocardial infarction [Heart attack]` ~ Interleukin17_receptor_A + \n",
      "    baseline_age + age2 + genetic_sex + smoking_0 + PC1 + PC2 + \n",
      "    PC3 + PCD4 + PC5 + ldl_0 + BMI_0 + systolicBP_0 + diastolicBP_0 + \n",
      "    baseline_DM + AID\n",
      "<environment: 0x596b94071c40>\n"
     ]
    },
    {
     "data": {
      "text/html": [
       "<table class=\"dataframe\">\n",
       "<caption>A data.frame: 1 × 7</caption>\n",
       "<thead>\n",
       "\t<tr><th></th><th scope=col>SNP</th><th scope=col>Beta</th><th scope=col>OR</th><th scope=col>SE</th><th scope=col>CI_Lower</th><th scope=col>CI_Upper</th><th scope=col>P_Value</th></tr>\n",
       "\t<tr><th></th><th scope=col>&lt;chr&gt;</th><th scope=col>&lt;dbl&gt;</th><th scope=col>&lt;dbl&gt;</th><th scope=col>&lt;dbl&gt;</th><th scope=col>&lt;dbl&gt;</th><th scope=col>&lt;dbl&gt;</th><th scope=col>&lt;dbl&gt;</th></tr>\n",
       "</thead>\n",
       "<tbody>\n",
       "\t<tr><th scope=row>Interleukin17_receptor_A</th><td>Interleukin17_receptor_A</td><td>-0.004408549</td><td>0.9956012</td><td>0.01754757</td><td>0.9619414</td><td>1.030439</td><td>0.8016331</td></tr>\n",
       "</tbody>\n",
       "</table>\n"
      ],
      "text/latex": [
       "A data.frame: 1 × 7\n",
       "\\begin{tabular}{r|lllllll}\n",
       "  & SNP & Beta & OR & SE & CI\\_Lower & CI\\_Upper & P\\_Value\\\\\n",
       "  & <chr> & <dbl> & <dbl> & <dbl> & <dbl> & <dbl> & <dbl>\\\\\n",
       "\\hline\n",
       "\tInterleukin17\\_receptor\\_A & Interleukin17\\_receptor\\_A & -0.004408549 & 0.9956012 & 0.01754757 & 0.9619414 & 1.030439 & 0.8016331\\\\\n",
       "\\end{tabular}\n"
      ],
      "text/markdown": [
       "\n",
       "A data.frame: 1 × 7\n",
       "\n",
       "| <!--/--> | SNP &lt;chr&gt; | Beta &lt;dbl&gt; | OR &lt;dbl&gt; | SE &lt;dbl&gt; | CI_Lower &lt;dbl&gt; | CI_Upper &lt;dbl&gt; | P_Value &lt;dbl&gt; |\n",
       "|---|---|---|---|---|---|---|---|\n",
       "| Interleukin17_receptor_A | Interleukin17_receptor_A | -0.004408549 | 0.9956012 | 0.01754757 | 0.9619414 | 1.030439 | 0.8016331 |\n",
       "\n"
      ],
      "text/plain": [
       "                         SNP                      Beta         OR       \n",
       "Interleukin17_receptor_A Interleukin17_receptor_A -0.004408549 0.9956012\n",
       "                         SE         CI_Lower  CI_Upper P_Value  \n",
       "Interleukin17_receptor_A 0.01754757 0.9619414 1.030439 0.8016331"
      ]
     },
     "metadata": {},
     "output_type": "display_data"
    }
   ],
   "source": [
    "logistic_mca <- batch_logistic_regression(\n",
    "  data = data_all_cvd,\n",
    "  snp_list = \"Interleukin17_receptor_A\",\n",
    "  outcome = \"`Myocardial infarction [Heart attack]`\",\n",
    "  covariates = c(\"baseline_age\", \"age2\", \"genetic_sex\", \"smoking_0\", \"PC1\",\"PC2\",\"PC3\",\"PCD4\",\"PC5\",\"ldl_0\",\"BMI_0\",\"systolicBP_0\",\"diastolicBP_0\",\"baseline_DM\",\"AID\")\n",
    ")\n",
    "logistic_mca"
   ]
  },
  {
   "cell_type": "code",
   "execution_count": 100,
   "metadata": {
    "hidden": true
   },
   "outputs": [
    {
     "name": "stdout",
     "output_type": "stream",
     "text": [
      "`Heart failure` ~ Interleukin17_receptor_A + baseline_age + age2 + \n",
      "    genetic_sex + smoking_0 + PC1 + PC2 + PC3 + PCD4 + PC5 + \n",
      "    ldl_0 + BMI_0 + systolicBP_0 + diastolicBP_0 + baseline_DM + \n",
      "    AID\n",
      "<environment: 0x596778acfe98>\n"
     ]
    },
    {
     "data": {
      "text/html": [
       "<table class=\"dataframe\">\n",
       "<caption>A data.frame: 1 × 7</caption>\n",
       "<thead>\n",
       "\t<tr><th></th><th scope=col>SNP</th><th scope=col>Beta</th><th scope=col>OR</th><th scope=col>SE</th><th scope=col>CI_Lower</th><th scope=col>CI_Upper</th><th scope=col>P_Value</th></tr>\n",
       "\t<tr><th></th><th scope=col>&lt;chr&gt;</th><th scope=col>&lt;dbl&gt;</th><th scope=col>&lt;dbl&gt;</th><th scope=col>&lt;dbl&gt;</th><th scope=col>&lt;dbl&gt;</th><th scope=col>&lt;dbl&gt;</th><th scope=col>&lt;dbl&gt;</th></tr>\n",
       "</thead>\n",
       "<tbody>\n",
       "\t<tr><th scope=row>Interleukin17_receptor_A</th><td>Interleukin17_receptor_A</td><td>0.005214842</td><td>1.005228</td><td>0.02581723</td><td>0.9556277</td><td>1.057404</td><td>0.8399239</td></tr>\n",
       "</tbody>\n",
       "</table>\n"
      ],
      "text/latex": [
       "A data.frame: 1 × 7\n",
       "\\begin{tabular}{r|lllllll}\n",
       "  & SNP & Beta & OR & SE & CI\\_Lower & CI\\_Upper & P\\_Value\\\\\n",
       "  & <chr> & <dbl> & <dbl> & <dbl> & <dbl> & <dbl> & <dbl>\\\\\n",
       "\\hline\n",
       "\tInterleukin17\\_receptor\\_A & Interleukin17\\_receptor\\_A & 0.005214842 & 1.005228 & 0.02581723 & 0.9556277 & 1.057404 & 0.8399239\\\\\n",
       "\\end{tabular}\n"
      ],
      "text/markdown": [
       "\n",
       "A data.frame: 1 × 7\n",
       "\n",
       "| <!--/--> | SNP &lt;chr&gt; | Beta &lt;dbl&gt; | OR &lt;dbl&gt; | SE &lt;dbl&gt; | CI_Lower &lt;dbl&gt; | CI_Upper &lt;dbl&gt; | P_Value &lt;dbl&gt; |\n",
       "|---|---|---|---|---|---|---|---|\n",
       "| Interleukin17_receptor_A | Interleukin17_receptor_A | 0.005214842 | 1.005228 | 0.02581723 | 0.9556277 | 1.057404 | 0.8399239 |\n",
       "\n"
      ],
      "text/plain": [
       "                         SNP                      Beta        OR      \n",
       "Interleukin17_receptor_A Interleukin17_receptor_A 0.005214842 1.005228\n",
       "                         SE         CI_Lower  CI_Upper P_Value  \n",
       "Interleukin17_receptor_A 0.02581723 0.9556277 1.057404 0.8399239"
      ]
     },
     "metadata": {},
     "output_type": "display_data"
    }
   ],
   "source": [
    "logistic_mca <- batch_logistic_regression(\n",
    "  data = data_all_cvd,\n",
    "  snp_list = \"Interleukin17_receptor_A\",\n",
    "  outcome = \"`Heart failure`\",\n",
    "  covariates = c(\"baseline_age\", \"age2\", \"genetic_sex\", \"smoking_0\", \"PC1\",\"PC2\",\"PC3\",\"PCD4\",\"PC5\",\"ldl_0\",\"BMI_0\",\"systolicBP_0\",\"diastolicBP_0\",\"baseline_DM\",\"AID\")\n",
    ")\n",
    "logistic_mca"
   ]
  },
  {
   "cell_type": "markdown",
   "metadata": {
    "heading_collapsed": true,
    "hidden": true
   },
   "source": [
    "## Other CHIP"
   ]
  },
  {
   "cell_type": "code",
   "execution_count": 102,
   "metadata": {
    "hidden": true
   },
   "outputs": [
    {
     "data": {
      "text/plain": [
       "\n",
       "    0     1  <NA> \n",
       "14813   934     0 "
      ]
     },
     "metadata": {},
     "output_type": "display_data"
    }
   ],
   "source": [
    "data_chip_nonjak2 <-  filter(data_chip_protein, data_chip_protein$jak2 == 0)\n",
    "table(data_chip_nonjak2$CVD, useNA= \"always\")"
   ]
  },
  {
   "cell_type": "code",
   "execution_count": 105,
   "metadata": {
    "hidden": true
   },
   "outputs": [
    {
     "name": "stdout",
     "output_type": "stream",
     "text": [
      "CVD ~ Interleukin17_receptor_A + baseline_age + age2 + genetic_sex + \n",
      "    smoking_0 + PC1 + PC2 + PC3 + PCD4 + PC5 + ldl_0 + BMI_0 + \n",
      "    baseline_HTN + baseline_DM + AID\n",
      "<environment: 0x596776c7e048>\n"
     ]
    },
    {
     "data": {
      "text/html": [
       "<table class=\"dataframe\">\n",
       "<caption>A data.frame: 1 × 7</caption>\n",
       "<thead>\n",
       "\t<tr><th></th><th scope=col>SNP</th><th scope=col>Beta</th><th scope=col>OR</th><th scope=col>SE</th><th scope=col>CI_Lower</th><th scope=col>CI_Upper</th><th scope=col>P_Value</th></tr>\n",
       "\t<tr><th></th><th scope=col>&lt;chr&gt;</th><th scope=col>&lt;dbl&gt;</th><th scope=col>&lt;dbl&gt;</th><th scope=col>&lt;dbl&gt;</th><th scope=col>&lt;dbl&gt;</th><th scope=col>&lt;dbl&gt;</th><th scope=col>&lt;dbl&gt;</th></tr>\n",
       "</thead>\n",
       "<tbody>\n",
       "\t<tr><th scope=row>Interleukin17_receptor_A</th><td>Interleukin17_receptor_A</td><td>-0.0549146</td><td>0.946566</td><td>0.04621085</td><td>0.8646004</td><td>1.036302</td><td>0.2346961</td></tr>\n",
       "</tbody>\n",
       "</table>\n"
      ],
      "text/latex": [
       "A data.frame: 1 × 7\n",
       "\\begin{tabular}{r|lllllll}\n",
       "  & SNP & Beta & OR & SE & CI\\_Lower & CI\\_Upper & P\\_Value\\\\\n",
       "  & <chr> & <dbl> & <dbl> & <dbl> & <dbl> & <dbl> & <dbl>\\\\\n",
       "\\hline\n",
       "\tInterleukin17\\_receptor\\_A & Interleukin17\\_receptor\\_A & -0.0549146 & 0.946566 & 0.04621085 & 0.8646004 & 1.036302 & 0.2346961\\\\\n",
       "\\end{tabular}\n"
      ],
      "text/markdown": [
       "\n",
       "A data.frame: 1 × 7\n",
       "\n",
       "| <!--/--> | SNP &lt;chr&gt; | Beta &lt;dbl&gt; | OR &lt;dbl&gt; | SE &lt;dbl&gt; | CI_Lower &lt;dbl&gt; | CI_Upper &lt;dbl&gt; | P_Value &lt;dbl&gt; |\n",
       "|---|---|---|---|---|---|---|---|\n",
       "| Interleukin17_receptor_A | Interleukin17_receptor_A | -0.0549146 | 0.946566 | 0.04621085 | 0.8646004 | 1.036302 | 0.2346961 |\n",
       "\n"
      ],
      "text/plain": [
       "                         SNP                      Beta       OR      \n",
       "Interleukin17_receptor_A Interleukin17_receptor_A -0.0549146 0.946566\n",
       "                         SE         CI_Lower  CI_Upper P_Value  \n",
       "Interleukin17_receptor_A 0.04621085 0.8646004 1.036302 0.2346961"
      ]
     },
     "metadata": {},
     "output_type": "display_data"
    }
   ],
   "source": [
    "logistic_mca <- batch_logistic_regression(\n",
    "  data = data_chip_nonjak2,\n",
    "  snp_list = \"Interleukin17_receptor_A\",\n",
    "  outcome = \"CVD\",\n",
    "  covariates = c(\"baseline_age\", \"age2\", \"genetic_sex\", \"smoking_0\", \"PC1\",\"PC2\",\"PC3\",\"PCD4\",\"PC5\",\"ldl_0\",\"BMI_0\",\"baseline_HTN\",\"baseline_DM\",\"AID\")\n",
    ")\n",
    "logistic_mca"
   ]
  },
  {
   "cell_type": "code",
   "execution_count": 106,
   "metadata": {
    "hidden": true
   },
   "outputs": [
    {
     "name": "stdout",
     "output_type": "stream",
     "text": [
      "ASCVD ~ Interleukin17_receptor_A + baseline_age + age2 + genetic_sex + \n",
      "    smoking_0 + PC1 + PC2 + PC3 + PCD4 + PC5 + ldl_0 + BMI_0 + \n",
      "    baseline_HTN + baseline_DM + AID\n",
      "<environment: 0x596770099050>\n"
     ]
    },
    {
     "data": {
      "text/html": [
       "<table class=\"dataframe\">\n",
       "<caption>A data.frame: 1 × 7</caption>\n",
       "<thead>\n",
       "\t<tr><th></th><th scope=col>SNP</th><th scope=col>Beta</th><th scope=col>OR</th><th scope=col>SE</th><th scope=col>CI_Lower</th><th scope=col>CI_Upper</th><th scope=col>P_Value</th></tr>\n",
       "\t<tr><th></th><th scope=col>&lt;chr&gt;</th><th scope=col>&lt;dbl&gt;</th><th scope=col>&lt;dbl&gt;</th><th scope=col>&lt;dbl&gt;</th><th scope=col>&lt;dbl&gt;</th><th scope=col>&lt;dbl&gt;</th><th scope=col>&lt;dbl&gt;</th></tr>\n",
       "</thead>\n",
       "<tbody>\n",
       "\t<tr><th scope=row>Interleukin17_receptor_A</th><td>Interleukin17_receptor_A</td><td>-0.04663859</td><td>0.9544323</td><td>0.05025823</td><td>0.8648971</td><td>1.053236</td><td>0.3534184</td></tr>\n",
       "</tbody>\n",
       "</table>\n"
      ],
      "text/latex": [
       "A data.frame: 1 × 7\n",
       "\\begin{tabular}{r|lllllll}\n",
       "  & SNP & Beta & OR & SE & CI\\_Lower & CI\\_Upper & P\\_Value\\\\\n",
       "  & <chr> & <dbl> & <dbl> & <dbl> & <dbl> & <dbl> & <dbl>\\\\\n",
       "\\hline\n",
       "\tInterleukin17\\_receptor\\_A & Interleukin17\\_receptor\\_A & -0.04663859 & 0.9544323 & 0.05025823 & 0.8648971 & 1.053236 & 0.3534184\\\\\n",
       "\\end{tabular}\n"
      ],
      "text/markdown": [
       "\n",
       "A data.frame: 1 × 7\n",
       "\n",
       "| <!--/--> | SNP &lt;chr&gt; | Beta &lt;dbl&gt; | OR &lt;dbl&gt; | SE &lt;dbl&gt; | CI_Lower &lt;dbl&gt; | CI_Upper &lt;dbl&gt; | P_Value &lt;dbl&gt; |\n",
       "|---|---|---|---|---|---|---|---|\n",
       "| Interleukin17_receptor_A | Interleukin17_receptor_A | -0.04663859 | 0.9544323 | 0.05025823 | 0.8648971 | 1.053236 | 0.3534184 |\n",
       "\n"
      ],
      "text/plain": [
       "                         SNP                      Beta        OR       \n",
       "Interleukin17_receptor_A Interleukin17_receptor_A -0.04663859 0.9544323\n",
       "                         SE         CI_Lower  CI_Upper P_Value  \n",
       "Interleukin17_receptor_A 0.05025823 0.8648971 1.053236 0.3534184"
      ]
     },
     "metadata": {},
     "output_type": "display_data"
    }
   ],
   "source": [
    "logistic_mca <- batch_logistic_regression(\n",
    "  data = data_chip_nonjak2,\n",
    "  snp_list = \"Interleukin17_receptor_A\",\n",
    "  outcome = \"ASCVD\",\n",
    "  covariates = c(\"baseline_age\", \"age2\", \"genetic_sex\", \"smoking_0\", \"PC1\",\"PC2\",\"PC3\",\"PCD4\",\"PC5\",\"ldl_0\",\"BMI_0\",\"baseline_HTN\",\"baseline_DM\",\"AID\")\n",
    ")\n",
    "logistic_mca"
   ]
  },
  {
   "cell_type": "code",
   "execution_count": 107,
   "metadata": {
    "hidden": true
   },
   "outputs": [
    {
     "name": "stdout",
     "output_type": "stream",
     "text": [
      "CAD ~ Interleukin17_receptor_A + baseline_age + age2 + genetic_sex + \n",
      "    smoking_0 + PC1 + PC2 + PC3 + PCD4 + PC5 + ldl_0 + BMI_0 + \n",
      "    baseline_HTN + baseline_DM + AID\n",
      "<environment: 0x5967748d0fa0>\n"
     ]
    },
    {
     "data": {
      "text/html": [
       "<table class=\"dataframe\">\n",
       "<caption>A data.frame: 1 × 7</caption>\n",
       "<thead>\n",
       "\t<tr><th></th><th scope=col>SNP</th><th scope=col>Beta</th><th scope=col>OR</th><th scope=col>SE</th><th scope=col>CI_Lower</th><th scope=col>CI_Upper</th><th scope=col>P_Value</th></tr>\n",
       "\t<tr><th></th><th scope=col>&lt;chr&gt;</th><th scope=col>&lt;dbl&gt;</th><th scope=col>&lt;dbl&gt;</th><th scope=col>&lt;dbl&gt;</th><th scope=col>&lt;dbl&gt;</th><th scope=col>&lt;dbl&gt;</th><th scope=col>&lt;dbl&gt;</th></tr>\n",
       "</thead>\n",
       "<tbody>\n",
       "\t<tr><th scope=row>Interleukin17_receptor_A</th><td>Interleukin17_receptor_A</td><td>-0.01851875</td><td>0.9816517</td><td>0.05982111</td><td>0.873045</td><td>1.103769</td><td>0.7568888</td></tr>\n",
       "</tbody>\n",
       "</table>\n"
      ],
      "text/latex": [
       "A data.frame: 1 × 7\n",
       "\\begin{tabular}{r|lllllll}\n",
       "  & SNP & Beta & OR & SE & CI\\_Lower & CI\\_Upper & P\\_Value\\\\\n",
       "  & <chr> & <dbl> & <dbl> & <dbl> & <dbl> & <dbl> & <dbl>\\\\\n",
       "\\hline\n",
       "\tInterleukin17\\_receptor\\_A & Interleukin17\\_receptor\\_A & -0.01851875 & 0.9816517 & 0.05982111 & 0.873045 & 1.103769 & 0.7568888\\\\\n",
       "\\end{tabular}\n"
      ],
      "text/markdown": [
       "\n",
       "A data.frame: 1 × 7\n",
       "\n",
       "| <!--/--> | SNP &lt;chr&gt; | Beta &lt;dbl&gt; | OR &lt;dbl&gt; | SE &lt;dbl&gt; | CI_Lower &lt;dbl&gt; | CI_Upper &lt;dbl&gt; | P_Value &lt;dbl&gt; |\n",
       "|---|---|---|---|---|---|---|---|\n",
       "| Interleukin17_receptor_A | Interleukin17_receptor_A | -0.01851875 | 0.9816517 | 0.05982111 | 0.873045 | 1.103769 | 0.7568888 |\n",
       "\n"
      ],
      "text/plain": [
       "                         SNP                      Beta        OR       \n",
       "Interleukin17_receptor_A Interleukin17_receptor_A -0.01851875 0.9816517\n",
       "                         SE         CI_Lower CI_Upper P_Value  \n",
       "Interleukin17_receptor_A 0.05982111 0.873045 1.103769 0.7568888"
      ]
     },
     "metadata": {},
     "output_type": "display_data"
    }
   ],
   "source": [
    "logistic_mca <- batch_logistic_regression(\n",
    "  data = data_chip_nonjak2,\n",
    "  snp_list = \"Interleukin17_receptor_A\",\n",
    "  outcome = \"CAD\",\n",
    "  covariates = c(\"baseline_age\", \"age2\", \"genetic_sex\", \"smoking_0\", \"PC1\",\"PC2\",\"PC3\",\"PCD4\",\"PC5\",\"ldl_0\",\"BMI_0\",\"baseline_HTN\",\"baseline_DM\",\"AID\")\n",
    ")\n",
    "logistic_mca"
   ]
  },
  {
   "cell_type": "code",
   "execution_count": 108,
   "metadata": {
    "hidden": true
   },
   "outputs": [
    {
     "name": "stdout",
     "output_type": "stream",
     "text": [
      "Stroke ~ Interleukin17_receptor_A + baseline_age + age2 + genetic_sex + \n",
      "    smoking_0 + PC1 + PC2 + PC3 + PCD4 + PC5 + ldl_0 + BMI_0 + \n",
      "    baseline_HTN + baseline_DM + AID\n",
      "<environment: 0x596b94389370>\n"
     ]
    },
    {
     "data": {
      "text/html": [
       "<table class=\"dataframe\">\n",
       "<caption>A data.frame: 1 × 7</caption>\n",
       "<thead>\n",
       "\t<tr><th></th><th scope=col>SNP</th><th scope=col>Beta</th><th scope=col>OR</th><th scope=col>SE</th><th scope=col>CI_Lower</th><th scope=col>CI_Upper</th><th scope=col>P_Value</th></tr>\n",
       "\t<tr><th></th><th scope=col>&lt;chr&gt;</th><th scope=col>&lt;dbl&gt;</th><th scope=col>&lt;dbl&gt;</th><th scope=col>&lt;dbl&gt;</th><th scope=col>&lt;dbl&gt;</th><th scope=col>&lt;dbl&gt;</th><th scope=col>&lt;dbl&gt;</th></tr>\n",
       "</thead>\n",
       "<tbody>\n",
       "\t<tr><th scope=row>Interleukin17_receptor_A</th><td>Interleukin17_receptor_A</td><td>-0.02435197</td><td>0.9759421</td><td>0.09487642</td><td>0.8103332</td><td>1.175397</td><td>0.7974332</td></tr>\n",
       "</tbody>\n",
       "</table>\n"
      ],
      "text/latex": [
       "A data.frame: 1 × 7\n",
       "\\begin{tabular}{r|lllllll}\n",
       "  & SNP & Beta & OR & SE & CI\\_Lower & CI\\_Upper & P\\_Value\\\\\n",
       "  & <chr> & <dbl> & <dbl> & <dbl> & <dbl> & <dbl> & <dbl>\\\\\n",
       "\\hline\n",
       "\tInterleukin17\\_receptor\\_A & Interleukin17\\_receptor\\_A & -0.02435197 & 0.9759421 & 0.09487642 & 0.8103332 & 1.175397 & 0.7974332\\\\\n",
       "\\end{tabular}\n"
      ],
      "text/markdown": [
       "\n",
       "A data.frame: 1 × 7\n",
       "\n",
       "| <!--/--> | SNP &lt;chr&gt; | Beta &lt;dbl&gt; | OR &lt;dbl&gt; | SE &lt;dbl&gt; | CI_Lower &lt;dbl&gt; | CI_Upper &lt;dbl&gt; | P_Value &lt;dbl&gt; |\n",
       "|---|---|---|---|---|---|---|---|\n",
       "| Interleukin17_receptor_A | Interleukin17_receptor_A | -0.02435197 | 0.9759421 | 0.09487642 | 0.8103332 | 1.175397 | 0.7974332 |\n",
       "\n"
      ],
      "text/plain": [
       "                         SNP                      Beta        OR       \n",
       "Interleukin17_receptor_A Interleukin17_receptor_A -0.02435197 0.9759421\n",
       "                         SE         CI_Lower  CI_Upper P_Value  \n",
       "Interleukin17_receptor_A 0.09487642 0.8103332 1.175397 0.7974332"
      ]
     },
     "metadata": {},
     "output_type": "display_data"
    }
   ],
   "source": [
    "logistic_mca <- batch_logistic_regression(\n",
    "  data = data_chip_nonjak2,\n",
    "  snp_list = \"Interleukin17_receptor_A\",\n",
    "  outcome = \"Stroke\",\n",
    "  covariates = c(\"baseline_age\", \"age2\", \"genetic_sex\", \"smoking_0\", \"PC1\",\"PC2\",\"PC3\",\"PCD4\",\"PC5\",\"ldl_0\",\"BMI_0\",\"baseline_HTN\",\"baseline_DM\",\"AID\")\n",
    ")\n",
    "logistic_mca"
   ]
  },
  {
   "cell_type": "code",
   "execution_count": 109,
   "metadata": {
    "hidden": true
   },
   "outputs": [
    {
     "name": "stdout",
     "output_type": "stream",
     "text": [
      "`Myocardial infarction [Heart attack]` ~ Interleukin17_receptor_A + \n",
      "    baseline_age + age2 + genetic_sex + smoking_0 + PC1 + PC2 + \n",
      "    PC3 + PCD4 + PC5 + ldl_0 + BMI_0 + baseline_HTN + baseline_DM + \n",
      "    AID\n",
      "<environment: 0x596778e59f18>\n"
     ]
    },
    {
     "data": {
      "text/html": [
       "<table class=\"dataframe\">\n",
       "<caption>A data.frame: 1 × 7</caption>\n",
       "<thead>\n",
       "\t<tr><th></th><th scope=col>SNP</th><th scope=col>Beta</th><th scope=col>OR</th><th scope=col>SE</th><th scope=col>CI_Lower</th><th scope=col>CI_Upper</th><th scope=col>P_Value</th></tr>\n",
       "\t<tr><th></th><th scope=col>&lt;chr&gt;</th><th scope=col>&lt;dbl&gt;</th><th scope=col>&lt;dbl&gt;</th><th scope=col>&lt;dbl&gt;</th><th scope=col>&lt;dbl&gt;</th><th scope=col>&lt;dbl&gt;</th><th scope=col>&lt;dbl&gt;</th></tr>\n",
       "</thead>\n",
       "<tbody>\n",
       "\t<tr><th scope=row>Interleukin17_receptor_A</th><td>Interleukin17_receptor_A</td><td>0.008981499</td><td>1.009022</td><td>0.08395173</td><td>0.8559324</td><td>1.189493</td><td>0.9148016</td></tr>\n",
       "</tbody>\n",
       "</table>\n"
      ],
      "text/latex": [
       "A data.frame: 1 × 7\n",
       "\\begin{tabular}{r|lllllll}\n",
       "  & SNP & Beta & OR & SE & CI\\_Lower & CI\\_Upper & P\\_Value\\\\\n",
       "  & <chr> & <dbl> & <dbl> & <dbl> & <dbl> & <dbl> & <dbl>\\\\\n",
       "\\hline\n",
       "\tInterleukin17\\_receptor\\_A & Interleukin17\\_receptor\\_A & 0.008981499 & 1.009022 & 0.08395173 & 0.8559324 & 1.189493 & 0.9148016\\\\\n",
       "\\end{tabular}\n"
      ],
      "text/markdown": [
       "\n",
       "A data.frame: 1 × 7\n",
       "\n",
       "| <!--/--> | SNP &lt;chr&gt; | Beta &lt;dbl&gt; | OR &lt;dbl&gt; | SE &lt;dbl&gt; | CI_Lower &lt;dbl&gt; | CI_Upper &lt;dbl&gt; | P_Value &lt;dbl&gt; |\n",
       "|---|---|---|---|---|---|---|---|\n",
       "| Interleukin17_receptor_A | Interleukin17_receptor_A | 0.008981499 | 1.009022 | 0.08395173 | 0.8559324 | 1.189493 | 0.9148016 |\n",
       "\n"
      ],
      "text/plain": [
       "                         SNP                      Beta        OR      \n",
       "Interleukin17_receptor_A Interleukin17_receptor_A 0.008981499 1.009022\n",
       "                         SE         CI_Lower  CI_Upper P_Value  \n",
       "Interleukin17_receptor_A 0.08395173 0.8559324 1.189493 0.9148016"
      ]
     },
     "metadata": {},
     "output_type": "display_data"
    }
   ],
   "source": [
    "logistic_mca <- batch_logistic_regression(\n",
    "  data = data_chip_nonjak2,\n",
    "  snp_list = \"Interleukin17_receptor_A\",\n",
    "  outcome = \"`Myocardial infarction [Heart attack]`\",\n",
    "  covariates = c(\"baseline_age\", \"age2\", \"genetic_sex\", \"smoking_0\", \"PC1\",\"PC2\",\"PC3\",\"PCD4\",\"PC5\",\"ldl_0\",\"BMI_0\",\"baseline_HTN\",\"baseline_DM\",\"AID\")\n",
    ")\n",
    "logistic_mca"
   ]
  },
  {
   "cell_type": "code",
   "execution_count": 110,
   "metadata": {
    "hidden": true
   },
   "outputs": [
    {
     "name": "stdout",
     "output_type": "stream",
     "text": [
      "`Heart failure` ~ Interleukin17_receptor_A + baseline_age + age2 + \n",
      "    genetic_sex + smoking_0 + PC1 + PC2 + PC3 + PCD4 + PC5 + \n",
      "    ldl_0 + BMI_0 + baseline_HTN + baseline_DM + AID\n",
      "<environment: 0x596777ca0610>\n"
     ]
    },
    {
     "data": {
      "text/html": [
       "<table class=\"dataframe\">\n",
       "<caption>A data.frame: 1 × 7</caption>\n",
       "<thead>\n",
       "\t<tr><th></th><th scope=col>SNP</th><th scope=col>Beta</th><th scope=col>OR</th><th scope=col>SE</th><th scope=col>CI_Lower</th><th scope=col>CI_Upper</th><th scope=col>P_Value</th></tr>\n",
       "\t<tr><th></th><th scope=col>&lt;chr&gt;</th><th scope=col>&lt;dbl&gt;</th><th scope=col>&lt;dbl&gt;</th><th scope=col>&lt;dbl&gt;</th><th scope=col>&lt;dbl&gt;</th><th scope=col>&lt;dbl&gt;</th><th scope=col>&lt;dbl&gt;</th></tr>\n",
       "</thead>\n",
       "<tbody>\n",
       "\t<tr><th scope=row>Interleukin17_receptor_A</th><td>Interleukin17_receptor_A</td><td>0.131714</td><td>1.140782</td><td>0.1093202</td><td>0.920762</td><td>1.413377</td><td>0.2282629</td></tr>\n",
       "</tbody>\n",
       "</table>\n"
      ],
      "text/latex": [
       "A data.frame: 1 × 7\n",
       "\\begin{tabular}{r|lllllll}\n",
       "  & SNP & Beta & OR & SE & CI\\_Lower & CI\\_Upper & P\\_Value\\\\\n",
       "  & <chr> & <dbl> & <dbl> & <dbl> & <dbl> & <dbl> & <dbl>\\\\\n",
       "\\hline\n",
       "\tInterleukin17\\_receptor\\_A & Interleukin17\\_receptor\\_A & 0.131714 & 1.140782 & 0.1093202 & 0.920762 & 1.413377 & 0.2282629\\\\\n",
       "\\end{tabular}\n"
      ],
      "text/markdown": [
       "\n",
       "A data.frame: 1 × 7\n",
       "\n",
       "| <!--/--> | SNP &lt;chr&gt; | Beta &lt;dbl&gt; | OR &lt;dbl&gt; | SE &lt;dbl&gt; | CI_Lower &lt;dbl&gt; | CI_Upper &lt;dbl&gt; | P_Value &lt;dbl&gt; |\n",
       "|---|---|---|---|---|---|---|---|\n",
       "| Interleukin17_receptor_A | Interleukin17_receptor_A | 0.131714 | 1.140782 | 0.1093202 | 0.920762 | 1.413377 | 0.2282629 |\n",
       "\n"
      ],
      "text/plain": [
       "                         SNP                      Beta     OR       SE       \n",
       "Interleukin17_receptor_A Interleukin17_receptor_A 0.131714 1.140782 0.1093202\n",
       "                         CI_Lower CI_Upper P_Value  \n",
       "Interleukin17_receptor_A 0.920762 1.413377 0.2282629"
      ]
     },
     "metadata": {},
     "output_type": "display_data"
    }
   ],
   "source": [
    "logistic_mca <- batch_logistic_regression(\n",
    "  data = data_chip_nonjak2,\n",
    "  snp_list = \"Interleukin17_receptor_A\",\n",
    "  outcome = \"`Heart failure`\",\n",
    "  covariates = c(\"baseline_age\", \"age2\", \"genetic_sex\", \"smoking_0\", \"PC1\",\"PC2\",\"PC3\",\"PCD4\",\"PC5\",\"ldl_0\",\"BMI_0\",\"baseline_HTN\",\"baseline_DM\",\"AID\")\n",
    ")\n",
    "logistic_mca"
   ]
  },
  {
   "cell_type": "code",
   "execution_count": 111,
   "metadata": {
    "collapsed": true,
    "hidden": true
   },
   "outputs": [
    {
     "name": "stdout",
     "output_type": "stream",
     "text": [
      "`Peripheral vascular disease` ~ Interleukin17_receptor_A + baseline_age + \n",
      "    age2 + genetic_sex + smoking_0 + PC1 + PC2 + PC3 + PCD4 + \n",
      "    PC5 + ldl_0 + BMI_0 + baseline_HTN + baseline_DM + AID\n",
      "<environment: 0x59677144f5b8>\n"
     ]
    },
    {
     "data": {
      "text/html": [
       "<table class=\"dataframe\">\n",
       "<caption>A data.frame: 1 × 7</caption>\n",
       "<thead>\n",
       "\t<tr><th></th><th scope=col>SNP</th><th scope=col>Beta</th><th scope=col>OR</th><th scope=col>SE</th><th scope=col>CI_Lower</th><th scope=col>CI_Upper</th><th scope=col>P_Value</th></tr>\n",
       "\t<tr><th></th><th scope=col>&lt;chr&gt;</th><th scope=col>&lt;dbl&gt;</th><th scope=col>&lt;dbl&gt;</th><th scope=col>&lt;dbl&gt;</th><th scope=col>&lt;dbl&gt;</th><th scope=col>&lt;dbl&gt;</th><th scope=col>&lt;dbl&gt;</th></tr>\n",
       "</thead>\n",
       "<tbody>\n",
       "\t<tr><th scope=row>Interleukin17_receptor_A</th><td>Interleukin17_receptor_A</td><td>-0.1428871</td><td>0.8668519</td><td>0.08923068</td><td>0.7277634</td><td>1.032523</td><td>0.1093054</td></tr>\n",
       "</tbody>\n",
       "</table>\n"
      ],
      "text/latex": [
       "A data.frame: 1 × 7\n",
       "\\begin{tabular}{r|lllllll}\n",
       "  & SNP & Beta & OR & SE & CI\\_Lower & CI\\_Upper & P\\_Value\\\\\n",
       "  & <chr> & <dbl> & <dbl> & <dbl> & <dbl> & <dbl> & <dbl>\\\\\n",
       "\\hline\n",
       "\tInterleukin17\\_receptor\\_A & Interleukin17\\_receptor\\_A & -0.1428871 & 0.8668519 & 0.08923068 & 0.7277634 & 1.032523 & 0.1093054\\\\\n",
       "\\end{tabular}\n"
      ],
      "text/markdown": [
       "\n",
       "A data.frame: 1 × 7\n",
       "\n",
       "| <!--/--> | SNP &lt;chr&gt; | Beta &lt;dbl&gt; | OR &lt;dbl&gt; | SE &lt;dbl&gt; | CI_Lower &lt;dbl&gt; | CI_Upper &lt;dbl&gt; | P_Value &lt;dbl&gt; |\n",
       "|---|---|---|---|---|---|---|---|\n",
       "| Interleukin17_receptor_A | Interleukin17_receptor_A | -0.1428871 | 0.8668519 | 0.08923068 | 0.7277634 | 1.032523 | 0.1093054 |\n",
       "\n"
      ],
      "text/plain": [
       "                         SNP                      Beta       OR       \n",
       "Interleukin17_receptor_A Interleukin17_receptor_A -0.1428871 0.8668519\n",
       "                         SE         CI_Lower  CI_Upper P_Value  \n",
       "Interleukin17_receptor_A 0.08923068 0.7277634 1.032523 0.1093054"
      ]
     },
     "metadata": {},
     "output_type": "display_data"
    }
   ],
   "source": [
    "logistic_mca <- batch_logistic_regression(\n",
    "  data = data_chip_nonjak2,\n",
    "  snp_list = \"Interleukin17_receptor_A\",\n",
    "  outcome = \"`Peripheral vascular disease`\",\n",
    "  covariates = c(\"baseline_age\", \"age2\", \"genetic_sex\", \"smoking_0\", \"PC1\",\"PC2\",\"PC3\",\"PCD4\",\"PC5\",\"ldl_0\",\"BMI_0\",\"baseline_HTN\",\"baseline_DM\",\"AID\")\n",
    ")\n",
    "logistic_mca"
   ]
  },
  {
   "cell_type": "markdown",
   "metadata": {
    "heading_collapsed": true
   },
   "source": [
    "# JAK2 & CVD incidence"
   ]
  },
  {
   "cell_type": "markdown",
   "metadata": {
    "hidden": true
   },
   "source": [
    "## Data organization"
   ]
  },
  {
   "cell_type": "code",
   "execution_count": 178,
   "metadata": {
    "hidden": true
   },
   "outputs": [
    {
     "data": {
      "text/html": [
       "<style>\n",
       ".list-inline {list-style: none; margin:0; padding: 0}\n",
       ".list-inline>li {display: inline-block}\n",
       ".list-inline>li:not(:last-child)::after {content: \"\\00b7\"; padding: 0 .5ex}\n",
       "</style>\n",
       "<ol class=list-inline><li>502413</li><li>4853</li></ol>\n"
      ],
      "text/latex": [
       "\\begin{enumerate*}\n",
       "\\item 502413\n",
       "\\item 4853\n",
       "\\end{enumerate*}\n"
      ],
      "text/markdown": [
       "1. 502413\n",
       "2. 4853\n",
       "\n",
       "\n"
      ],
      "text/plain": [
       "[1] 502413   4853"
      ]
     },
     "metadata": {},
     "output_type": "display_data"
    }
   ],
   "source": [
    "dim(data_all_pheno_cox2)"
   ]
  },
  {
   "cell_type": "code",
   "execution_count": 179,
   "metadata": {
    "hidden": true
   },
   "outputs": [
    {
     "data": {
      "text/plain": [
       "\n",
       "     0      1   <NA> \n",
       "489276  13137      0 "
      ]
     },
     "metadata": {},
     "output_type": "display_data"
    },
    {
     "data": {
      "text/html": [
       "<style>\n",
       ".dl-inline {width: auto; margin:0; padding: 0}\n",
       ".dl-inline>dt, .dl-inline>dd {float: none; width: auto; display: inline-block}\n",
       ".dl-inline>dt::after {content: \":\\0020\"; padding-right: .5ex}\n",
       ".dl-inline>dt:not(:first-of-type) {padding-left: .5ex}\n",
       "</style><dl class=dl-inline><dt>Min.</dt><dd><time datetime=\"1990-01-01\">1990-01-01</time></dd><dt>1st Qu.</dt><dd><time datetime=\"2001-07-30\">2001-07-30</time></dd><dt>Median</dt><dd><time datetime=\"2007-06-04\">2007-06-04</time></dd><dt>Mean</dt><dd><time datetime=\"2006-06-11\">2006-06-11</time></dd><dt>3rd Qu.</dt><dd><time datetime=\"2012-04-12\">2012-04-12</time></dd><dt>Max.</dt><dd><time datetime=\"2017-09-19\">2017-09-19</time></dd></dl>\n"
      ],
      "text/latex": [
       "\\begin{description*}\n",
       "\\item[Min.] 1990-01-01\n",
       "\\item[1st Qu.] 2001-07-30\n",
       "\\item[Median] 2007-06-04\n",
       "\\item[Mean] 2006-06-11\n",
       "\\item[3rd Qu.] 2012-04-12\n",
       "\\item[Max.] 2017-09-19\n",
       "\\end{description*}\n"
      ],
      "text/markdown": [
       "Min.\n",
       ":   1990-01-011st Qu.\n",
       ":   2001-07-30Median\n",
       ":   2007-06-04Mean\n",
       ":   2006-06-113rd Qu.\n",
       ":   2012-04-12Max.\n",
       ":   2017-09-19\n",
       "\n"
      ],
      "text/plain": [
       "        Min.      1st Qu.       Median         Mean      3rd Qu.         Max. \n",
       "\"1990-01-01\" \"2001-07-30\" \"2007-06-04\" \"2006-06-11\" \"2012-04-12\" \"2017-09-19\" \n",
       "        NA's \n",
       "    \"489276\" "
      ]
     },
     "metadata": {},
     "output_type": "display_data"
    },
    {
     "data": {
      "text/html": [
       "<style>\n",
       ".dl-inline {width: auto; margin:0; padding: 0}\n",
       ".dl-inline>dt, .dl-inline>dd {float: none; width: auto; display: inline-block}\n",
       ".dl-inline>dt::after {content: \":\\0020\"; padding-right: .5ex}\n",
       ".dl-inline>dt:not(:first-of-type) {padding-left: .5ex}\n",
       "</style><dl class=dl-inline><dt>Min.</dt><dd><time datetime=\"2006-03-13\">2006-03-13</time></dd><dt>1st Qu.</dt><dd><time datetime=\"2008-05-22\">2008-05-22</time></dd><dt>Median</dt><dd><time datetime=\"2009-01-26\">2009-01-26</time></dd><dt>Mean</dt><dd><time datetime=\"2009-01-22\">2009-01-22</time></dd><dt>3rd Qu.</dt><dd><time datetime=\"2009-10-06\">2009-10-06</time></dd><dt>Max.</dt><dd><time datetime=\"2010-10-01\">2010-10-01</time></dd></dl>\n"
      ],
      "text/latex": [
       "\\begin{description*}\n",
       "\\item[Min.] 2006-03-13\n",
       "\\item[1st Qu.] 2008-05-22\n",
       "\\item[Median] 2009-01-26\n",
       "\\item[Mean] 2009-01-22\n",
       "\\item[3rd Qu.] 2009-10-06\n",
       "\\item[Max.] 2010-10-01\n",
       "\\end{description*}\n"
      ],
      "text/markdown": [
       "Min.\n",
       ":   2006-03-131st Qu.\n",
       ":   2008-05-22Median\n",
       ":   2009-01-26Mean\n",
       ":   2009-01-223rd Qu.\n",
       ":   2009-10-06Max.\n",
       ":   2010-10-01\n",
       "\n"
      ],
      "text/plain": [
       "        Min.      1st Qu.       Median         Mean      3rd Qu.         Max. \n",
       "\"2006-03-13\" \"2008-05-22\" \"2009-01-26\" \"2009-01-22\" \"2009-10-06\" \"2010-10-01\" "
      ]
     },
     "metadata": {},
     "output_type": "display_data"
    },
    {
     "data": {
      "text/html": [
       "<style>\n",
       ".dl-inline {width: auto; margin:0; padding: 0}\n",
       ".dl-inline>dt, .dl-inline>dd {float: none; width: auto; display: inline-block}\n",
       ".dl-inline>dt::after {content: \":\\0020\"; padding-right: .5ex}\n",
       ".dl-inline>dt:not(:first-of-type) {padding-left: .5ex}\n",
       "</style><dl class=dl-inline><dt>Min.</dt><dd><time datetime=\"2006-05-10\">2006-05-10</time></dd><dt>1st Qu.</dt><dd><time datetime=\"2021-07-21\">2021-07-21</time></dd><dt>Median</dt><dd><time datetime=\"2021-07-21\">2021-07-21</time></dd><dt>Mean</dt><dd><time datetime=\"2021-03-06\">2021-03-06</time></dd><dt>3rd Qu.</dt><dd><time datetime=\"2021-07-21\">2021-07-21</time></dd><dt>Max.</dt><dd><time datetime=\"2021-07-21\">2021-07-21</time></dd></dl>\n"
      ],
      "text/latex": [
       "\\begin{description*}\n",
       "\\item[Min.] 2006-05-10\n",
       "\\item[1st Qu.] 2021-07-21\n",
       "\\item[Median] 2021-07-21\n",
       "\\item[Mean] 2021-03-06\n",
       "\\item[3rd Qu.] 2021-07-21\n",
       "\\item[Max.] 2021-07-21\n",
       "\\end{description*}\n"
      ],
      "text/markdown": [
       "Min.\n",
       ":   2006-05-101st Qu.\n",
       ":   2021-07-21Median\n",
       ":   2021-07-21Mean\n",
       ":   2021-03-063rd Qu.\n",
       ":   2021-07-21Max.\n",
       ":   2021-07-21\n",
       "\n"
      ],
      "text/plain": [
       "        Min.      1st Qu.       Median         Mean      3rd Qu.         Max. \n",
       "\"2006-05-10\" \"2021-07-21\" \"2021-07-21\" \"2021-03-06\" \"2021-07-21\" \"2021-07-21\" "
      ]
     },
     "metadata": {},
     "output_type": "display_data"
    }
   ],
   "source": [
    "table(data_all_pheno_cox2$`Venous thromboembolism`,useNA = \"always\")\n",
    "summary(data_all_pheno_cox2$`time_Venous thromboembolism`)\n",
    "summary(data_all_pheno_cox2$min_date)\n",
    "summary(data_all_pheno_cox2$max_date)"
   ]
  },
  {
   "cell_type": "code",
   "execution_count": 180,
   "metadata": {
    "hidden": true
   },
   "outputs": [
    {
     "data": {
      "text/plain": [
       "   Min. 1st Qu.  Median    Mean 3rd Qu.    Max.    NA's \n",
       "  -20.3    -7.4    -1.5    -2.4     3.4    10.3  489276 "
      ]
     },
     "metadata": {},
     "output_type": "display_data"
    },
    {
     "data": {
      "text/plain": [
       "   Min. 1st Qu.  Median    Mean 3rd Qu.    Max. \n",
       " -20.32   11.54   12.34   11.74   13.07   15.36 "
      ]
     },
     "metadata": {},
     "output_type": "display_data"
    }
   ],
   "source": [
    "data_all_pheno_cox2$surv_VTE <- NA\n",
    "data_all_pheno_cox2$surv_all <- NA\n",
    "data_all_pheno_cox2$surv_VTE <- as.numeric(difftime(data_all_pheno_cox2$`time_Venous thromboembolism`, data_all_pheno_cox2$min_date, units =\"days\"))/365.25\n",
    "data_all_pheno_cox2$surv_all <- as.numeric(difftime(data_all_pheno_cox2$max_date, data_all_pheno_cox2$min_date, units =\"days\"))/365.25\n",
    "summary(data_all_pheno_cox2$surv_VTE)\n",
    "data_all_pheno_cox2$surv_VTE <- ifelse(is.na(data_all_pheno_cox2$surv_VTE),data_all_pheno_cox2$surv_all,data_all_pheno_cox2$surv_VTE)\n",
    "summary(data_all_pheno_cox2$surv_VTE)"
   ]
  },
  {
   "cell_type": "code",
   "execution_count": 181,
   "metadata": {
    "hidden": true
   },
   "outputs": [
    {
     "data": {
      "text/plain": [
       "\n",
       "     0      1 \n",
       "502221    192 "
      ]
     },
     "metadata": {},
     "output_type": "display_data"
    }
   ],
   "source": [
    "data_all_pheno_cox2$jak2 <- ifelse(data_all_pheno_cox2$ID_VUMC %in% jak2$ID_VUMC , 1, 0)\n",
    "table(data_all_pheno_cox2$jak2)"
   ]
  },
  {
   "cell_type": "code",
   "execution_count": 182,
   "metadata": {
    "hidden": true
   },
   "outputs": [
    {
     "data": {
      "text/plain": [
       "   Min. 1st Qu.  Median    Mean 3rd Qu.    Max.    NA's \n",
       "  -19.1    -4.7     0.1    -0.7     4.3     9.6  500990 "
      ]
     },
     "metadata": {},
     "output_type": "display_data"
    },
    {
     "data": {
      "text/plain": [
       "   Min. 1st Qu.  Median    Mean 3rd Qu.    Max. \n",
       " -19.09   11.65   12.38   12.08   13.10   15.36 "
      ]
     },
     "metadata": {},
     "output_type": "display_data"
    }
   ],
   "source": [
    "data_all_pheno_cox2$surv_AHD <- NA\n",
    "data_all_pheno_cox2$surv_AHD <- as.numeric(difftime(data_all_pheno_cox2$`time_Coronary atherosclerosis [Atherosclerotic heart disease]`, data_all_pheno_cox2$min_date, units =\"days\"))/365.25\n",
    "summary(data_all_pheno_cox2$surv_AHD)\n",
    "data_all_pheno_cox2$surv_AHD <- ifelse(is.na(data_all_pheno_cox2$surv_AHD),data_all_pheno_cox2$surv_all,data_all_pheno_cox2$surv_AHD)\n",
    "summary(data_all_pheno_cox2$surv_AHD)"
   ]
  },
  {
   "cell_type": "code",
   "execution_count": 183,
   "metadata": {
    "hidden": true
   },
   "outputs": [
    {
     "data": {
      "text/plain": [
       "   Min. 1st Qu.  Median    Mean 3rd Qu.    Max.    NA's \n",
       "  -20.4    -8.2    -2.3    -2.9     3.2     9.6  496437 "
      ]
     },
     "metadata": {},
     "output_type": "display_data"
    },
    {
     "data": {
      "text/plain": [
       "   Min. 1st Qu.  Median    Mean 3rd Qu.    Max. \n",
       " -20.43   11.62   12.37   11.95   13.09   15.36 "
      ]
     },
     "metadata": {},
     "output_type": "display_data"
    }
   ],
   "source": [
    "data_all_pheno_cox2$surv_AMI <- NA\n",
    "data_all_pheno_cox2$surv_AMI <- as.numeric(difftime(data_all_pheno_cox2$`time_Myocardial infarction [Heart attack]`, data_all_pheno_cox2$min_date, units =\"days\"))/365.25\n",
    "summary(data_all_pheno_cox2$surv_AMI)\n",
    "data_all_pheno_cox2$surv_AMI <- ifelse(is.na(data_all_pheno_cox2$surv_AMI),data_all_pheno_cox2$surv_all,data_all_pheno_cox2$surv_AMI)\n",
    "summary(data_all_pheno_cox2$surv_AMI)"
   ]
  },
  {
   "cell_type": "code",
   "execution_count": 184,
   "metadata": {
    "hidden": true
   },
   "outputs": [
    {
     "data": {
      "text/plain": [
       "   Min. 1st Qu.  Median    Mean 3rd Qu.    Max.    NA's \n",
       "  -20.1    -4.7     1.2    -0.4     4.9     9.8  497984 "
      ]
     },
     "metadata": {},
     "output_type": "display_data"
    },
    {
     "data": {
      "text/plain": [
       "   Min. 1st Qu.  Median    Mean 3rd Qu.    Max. \n",
       " -20.06   11.63   12.38   12.01   13.09   15.36 "
      ]
     },
     "metadata": {},
     "output_type": "display_data"
    }
   ],
   "source": [
    "data_all_pheno_cox2$surv_str <- NA\n",
    "data_all_pheno_cox2$surv_str <- as.numeric(difftime(data_all_pheno_cox2$`time_Stroke`, data_all_pheno_cox2$min_date, units =\"days\"))/365.25\n",
    "summary(data_all_pheno_cox2$surv_str)\n",
    "data_all_pheno_cox2$surv_str <- ifelse(is.na(data_all_pheno_cox2$surv_str),data_all_pheno_cox2$surv_all,data_all_pheno_cox2$surv_str)\n",
    "summary(data_all_pheno_cox2$surv_str)"
   ]
  },
  {
   "cell_type": "code",
   "execution_count": 185,
   "metadata": {
    "hidden": true
   },
   "outputs": [
    {
     "data": {
      "text/plain": [
       "   Min. 1st Qu.  Median    Mean 3rd Qu.    Max.    NA's \n",
       "  -19.3    -2.3     2.5     1.0     5.2     9.5  499669 "
      ]
     },
     "metadata": {},
     "output_type": "display_data"
    },
    {
     "data": {
      "text/plain": [
       "   Min. 1st Qu.  Median    Mean 3rd Qu.    Max. \n",
       " -19.34   11.64   12.38   12.06   13.10   15.36 "
      ]
     },
     "metadata": {},
     "output_type": "display_data"
    }
   ],
   "source": [
    "data_all_pheno_cox2$surv_hf <- NA\n",
    "data_all_pheno_cox2$surv_hf <- as.numeric(difftime(data_all_pheno_cox2$`time_Heart failure`, data_all_pheno_cox2$min_date, units =\"days\"))/365.25\n",
    "summary(data_all_pheno_cox2$surv_hf)\n",
    "data_all_pheno_cox2$surv_hf <- ifelse(is.na(data_all_pheno_cox2$surv_hf),data_all_pheno_cox2$surv_all,data_all_pheno_cox2$surv_hf)\n",
    "summary(data_all_pheno_cox2$surv_hf)"
   ]
  },
  {
   "cell_type": "code",
   "execution_count": 186,
   "metadata": {
    "hidden": true
   },
   "outputs": [
    {
     "data": {
      "text/plain": [
       "   Min. 1st Qu.  Median    Mean 3rd Qu.    Max.    NA's \n",
       "  -20.3    -8.8    -4.0    -3.8     2.1     9.8  495107 "
      ]
     },
     "metadata": {},
     "output_type": "display_data"
    },
    {
     "data": {
      "text/plain": [
       "   Min. 1st Qu.  Median    Mean 3rd Qu.    Max. \n",
       " -20.30   11.62   12.37   11.89   13.09   15.36 "
      ]
     },
     "metadata": {},
     "output_type": "display_data"
    }
   ],
   "source": [
    "data_all_pheno_cox2$surv_AP <- NA\n",
    "data_all_pheno_cox2$surv_AP <- as.numeric(difftime(data_all_pheno_cox2$`time_Angina pectoris`, data_all_pheno_cox2$min_date, units =\"days\"))/365.25\n",
    "summary(data_all_pheno_cox2$surv_AP)\n",
    "data_all_pheno_cox2$surv_AP <- ifelse(is.na(data_all_pheno_cox2$surv_AP),data_all_pheno_cox2$surv_all,data_all_pheno_cox2$surv_AP)\n",
    "summary(data_all_pheno_cox2$surv_AP)"
   ]
  },
  {
   "cell_type": "code",
   "execution_count": 187,
   "metadata": {
    "hidden": true
   },
   "outputs": [
    {
     "data": {
      "text/plain": [
       "   Min. 1st Qu.  Median    Mean 3rd Qu.    Max.    NA's \n",
       "  -20.4    -6.4    -0.7    -1.9     3.5     9.7  496826 "
      ]
     },
     "metadata": {},
     "output_type": "display_data"
    },
    {
     "data": {
      "text/plain": [
       "   Min. 1st Qu.  Median    Mean 3rd Qu.    Max. \n",
       " -20.39   11.63   12.37   11.97   13.09   15.36 "
      ]
     },
     "metadata": {},
     "output_type": "display_data"
    }
   ],
   "source": [
    "data_all_pheno_cox2$surv_PVD <- NA\n",
    "data_all_pheno_cox2$surv_PVD <- as.numeric(difftime(data_all_pheno_cox2$`time_Peripheral vascular disease`, data_all_pheno_cox2$min_date, units =\"days\"))/365.25\n",
    "summary(data_all_pheno_cox2$surv_PVD)\n",
    "data_all_pheno_cox2$surv_PVD <- ifelse(is.na(data_all_pheno_cox2$surv_PVD),data_all_pheno_cox2$surv_all,data_all_pheno_cox2$surv_PVD)\n",
    "summary(data_all_pheno_cox2$surv_PVD)"
   ]
  },
  {
   "cell_type": "code",
   "execution_count": 188,
   "metadata": {
    "hidden": true
   },
   "outputs": [],
   "source": [
    "data_all_pheno_cox2 <- data_all_pheno_cox2 %>% mutate(surv_CVD = pmin(surv_PVD,surv_AP,surv_hf,surv_str,surv_AMI,surv_AHD))"
   ]
  },
  {
   "cell_type": "code",
   "execution_count": 189,
   "metadata": {
    "hidden": true
   },
   "outputs": [
    {
     "data": {
      "text/plain": [
       "   Min. 1st Qu.  Median    Mean 3rd Qu.    Max. \n",
       " -20.43   11.50   12.33   11.51   13.07   15.36 "
      ]
     },
     "metadata": {},
     "output_type": "display_data"
    }
   ],
   "source": [
    "summary(data_all_pheno_cox2$surv_CVD)"
   ]
  },
  {
   "cell_type": "code",
   "execution_count": 191,
   "metadata": {
    "hidden": true
   },
   "outputs": [],
   "source": [
    "data_all_pheno_cox2$jak2 <- ifelse(data_all_pheno_cox2$chip == 1 & data_all_pheno_cox2$jak2 == 0, NA, data_all_pheno_cox2$jak2)"
   ]
  },
  {
   "cell_type": "code",
   "execution_count": 192,
   "metadata": {
    "hidden": true
   },
   "outputs": [
    {
     "data": {
      "text/plain": [
       "\n",
       "     0      1   <NA> \n",
       "486474    192  15747 "
      ]
     },
     "metadata": {},
     "output_type": "display_data"
    }
   ],
   "source": [
    "table(data_all_pheno_cox2$jak2, useNA =\"always\")"
   ]
  },
  {
   "cell_type": "code",
   "execution_count": 22,
   "metadata": {
    "hidden": true,
    "scrolled": true
   },
   "outputs": [
    {
     "data": {
      "text/html": [
       "'data_all_pheno_cox3'"
      ],
      "text/latex": [
       "'data\\_all\\_pheno\\_cox3'"
      ],
      "text/markdown": [
       "'data_all_pheno_cox3'"
      ],
      "text/plain": [
       "[1] \"data_all_pheno_cox3\""
      ]
     },
     "metadata": {},
     "output_type": "display_data"
    }
   ],
   "source": [
    "x <- load(\"data_all_pheno_cox3_IL17R.Rdata\")\n",
    "x"
   ]
  },
  {
   "cell_type": "code",
   "execution_count": 95,
   "metadata": {
    "hidden": true
   },
   "outputs": [
    {
     "data": {
      "text/plain": [
       "\n",
       "     0      1 \n",
       "469321  17750 "
      ]
     },
     "metadata": {},
     "output_type": "display_data"
    }
   ],
   "source": [
    "data_all_pheno_cox3$ASCVD <- NA\n",
    "data_all_pheno_cox3$ASCVD <- ifelse(data_all_pheno_cox3$`Coronary atherosclerosis [Atherosclerotic heart disease]`==1|\n",
    "                        data_all_pheno_cox3$`Myocardial infarction [Heart attack]`==1 |\n",
    "                        data_all_pheno_cox3$`Heart failure`==1|\n",
    "                        data_all_pheno_cox3$`Angina pectoris`==1|\n",
    "                        data_all_pheno_cox3$`Peripheral vascular disease`==1,1, 0)\n",
    "table(data_all_pheno_cox3$ASCVD)"
   ]
  },
  {
   "cell_type": "code",
   "execution_count": 96,
   "metadata": {
    "hidden": true
   },
   "outputs": [],
   "source": [
    "data_all_pheno_cox3$CAD <- NA\n",
    "data_all_pheno_cox3$CAD <- ifelse(data_all_pheno_cox3$`Coronary atherosclerosis [Atherosclerotic heart disease]`==1|\n",
    "                        data_all_pheno_cox3$`Myocardial infarction [Heart attack]`==1 |\n",
    "                        data_all_pheno_cox3$`Angina pectoris`==1,1, 0)"
   ]
  },
  {
   "cell_type": "code",
   "execution_count": 97,
   "metadata": {
    "hidden": true
   },
   "outputs": [
    {
     "data": {
      "text/plain": [
       "\n",
       "     0      1 \n",
       "482765   4306 "
      ]
     },
     "metadata": {},
     "output_type": "display_data"
    }
   ],
   "source": [
    "table(data_all_pheno_cox3$Stroke)"
   ]
  },
  {
   "cell_type": "code",
   "execution_count": 98,
   "metadata": {
    "hidden": true
   },
   "outputs": [],
   "source": [
    "data_all_pheno_cox3 <- data_all_pheno_cox3 %>% mutate(surv_CAD = pmin(surv_AP,surv_AMI,surv_AHD))\n",
    "data_all_pheno_cox3 <- data_all_pheno_cox3 %>% mutate(surv_ASCVD = pmin(surv_AP,surv_AMI,surv_AHD,surv_PVD,surv_hf))"
   ]
  },
  {
   "cell_type": "code",
   "execution_count": 27,
   "metadata": {
    "hidden": true
   },
   "outputs": [
    {
     "name": "stdout",
     "output_type": "stream",
     "text": [
      "jak2 ~ Interleukin17_receptor_A + baseline_age + age2 + genetic_sex + \n",
      "    smoking_0 + PC1 + PC2 + PC3 + PCD4 + PC5\n",
      "<environment: 0x5722108b6838>\n"
     ]
    },
    {
     "name": "stderr",
     "output_type": "stream",
     "text": [
      "Warning message:\n",
      "“glm.fit: fitted probabilities numerically 0 or 1 occurred”\n"
     ]
    },
    {
     "data": {
      "text/html": [
       "<table class=\"dataframe\">\n",
       "<caption>A data.frame: 1 × 7</caption>\n",
       "<thead>\n",
       "\t<tr><th></th><th scope=col>SNP</th><th scope=col>Beta</th><th scope=col>OR</th><th scope=col>SE</th><th scope=col>CI_Lower</th><th scope=col>CI_Upper</th><th scope=col>P_Value</th></tr>\n",
       "\t<tr><th></th><th scope=col>&lt;chr&gt;</th><th scope=col>&lt;dbl&gt;</th><th scope=col>&lt;dbl&gt;</th><th scope=col>&lt;dbl&gt;</th><th scope=col>&lt;dbl&gt;</th><th scope=col>&lt;dbl&gt;</th><th scope=col>&lt;dbl&gt;</th></tr>\n",
       "</thead>\n",
       "<tbody>\n",
       "\t<tr><th scope=row>Interleukin17_receptor_A</th><td>Interleukin17_receptor_A</td><td>-0.06173999</td><td>0.9401273</td><td>0.0922013</td><td>0.7846994</td><td>1.126341</td><td>0.503099</td></tr>\n",
       "</tbody>\n",
       "</table>\n"
      ],
      "text/latex": [
       "A data.frame: 1 × 7\n",
       "\\begin{tabular}{r|lllllll}\n",
       "  & SNP & Beta & OR & SE & CI\\_Lower & CI\\_Upper & P\\_Value\\\\\n",
       "  & <chr> & <dbl> & <dbl> & <dbl> & <dbl> & <dbl> & <dbl>\\\\\n",
       "\\hline\n",
       "\tInterleukin17\\_receptor\\_A & Interleukin17\\_receptor\\_A & -0.06173999 & 0.9401273 & 0.0922013 & 0.7846994 & 1.126341 & 0.503099\\\\\n",
       "\\end{tabular}\n"
      ],
      "text/markdown": [
       "\n",
       "A data.frame: 1 × 7\n",
       "\n",
       "| <!--/--> | SNP &lt;chr&gt; | Beta &lt;dbl&gt; | OR &lt;dbl&gt; | SE &lt;dbl&gt; | CI_Lower &lt;dbl&gt; | CI_Upper &lt;dbl&gt; | P_Value &lt;dbl&gt; |\n",
       "|---|---|---|---|---|---|---|---|\n",
       "| Interleukin17_receptor_A | Interleukin17_receptor_A | -0.06173999 | 0.9401273 | 0.0922013 | 0.7846994 | 1.126341 | 0.503099 |\n",
       "\n"
      ],
      "text/plain": [
       "                         SNP                      Beta        OR       \n",
       "Interleukin17_receptor_A Interleukin17_receptor_A -0.06173999 0.9401273\n",
       "                         SE        CI_Lower  CI_Upper P_Value \n",
       "Interleukin17_receptor_A 0.0922013 0.7846994 1.126341 0.503099"
      ]
     },
     "metadata": {},
     "output_type": "display_data"
    }
   ],
   "source": [
    "logistic_mca <- batch_logistic_regression(\n",
    "  data = data_all_pheno_cox3,\n",
    "  snp_list = \"Interleukin17_receptor_A\",\n",
    "  outcome = \"jak2\",\n",
    "  covariates = c(\"baseline_age\", \"age2\", \"genetic_sex\", \"smoking_0\", \"PC1\",\"PC2\",\"PC3\",\"PCD4\",\"PC5\")\n",
    ")\n",
    "logistic_mca"
   ]
  },
  {
   "cell_type": "markdown",
   "metadata": {
    "hidden": true
   },
   "source": [
    "## JAK2 & CVD incidence; Interaction model with IL17RA"
   ]
  },
  {
   "cell_type": "code",
   "execution_count": 15,
   "metadata": {
    "hidden": true
   },
   "outputs": [
    {
     "data": {
      "text/html": [
       "<style>\n",
       ".list-inline {list-style: none; margin:0; padding: 0}\n",
       ".list-inline>li {display: inline-block}\n",
       ".list-inline>li:not(:last-child)::after {content: \"\\00b7\"; padding: 0 .5ex}\n",
       "</style>\n",
       "<ol class=list-inline><li>487409</li><li>4874</li></ol>\n"
      ],
      "text/latex": [
       "\\begin{enumerate*}\n",
       "\\item 487409\n",
       "\\item 4874\n",
       "\\end{enumerate*}\n"
      ],
      "text/markdown": [
       "1. 487409\n",
       "2. 4874\n",
       "\n",
       "\n"
      ],
      "text/plain": [
       "[1] 487409   4874"
      ]
     },
     "metadata": {},
     "output_type": "display_data"
    },
    {
     "data": {
      "text/html": [
       "<style>\n",
       ".list-inline {list-style: none; margin:0; padding: 0}\n",
       ".list-inline>li {display: inline-block}\n",
       ".list-inline>li:not(:last-child)::after {content: \"\\00b7\"; padding: 0 .5ex}\n",
       "</style>\n",
       "<ol class=list-inline><li>502413</li><li>4849</li></ol>\n"
      ],
      "text/latex": [
       "\\begin{enumerate*}\n",
       "\\item 502413\n",
       "\\item 4849\n",
       "\\end{enumerate*}\n"
      ],
      "text/markdown": [
       "1. 502413\n",
       "2. 4849\n",
       "\n",
       "\n"
      ],
      "text/plain": [
       "[1] 502413   4849"
      ]
     },
     "metadata": {},
     "output_type": "display_data"
    }
   ],
   "source": [
    "dim(data_all_pheno_cox3)\n",
    "dim(data_all_pheno_cox2)"
   ]
  },
  {
   "cell_type": "code",
   "execution_count": 44,
   "metadata": {
    "hidden": true
   },
   "outputs": [
    {
     "data": {
      "text/plain": [
       "\n",
       "     0      1   <NA> \n",
       "486879    192    338 "
      ]
     },
     "metadata": {},
     "output_type": "display_data"
    },
    {
     "data": {
      "text/plain": [
       "\n",
       "     0      1 \n",
       "465956  21115 "
      ]
     },
     "metadata": {},
     "output_type": "display_data"
    },
    {
     "data": {
      "text/plain": [
       "   Min. 1st Qu.  Median    Mean 3rd Qu.    Max.    NA's \n",
       " -20.43   11.50   12.33   11.50   13.05   15.36     338 "
      ]
     },
     "metadata": {},
     "output_type": "display_data"
    },
    {
     "data": {
      "text/plain": [
       "   Min. 1st Qu.  Median    Mean 3rd Qu.    Max. \n",
       "-1.1118  0.3515  0.9603  0.9670  1.5682  3.7822 "
      ]
     },
     "metadata": {},
     "output_type": "display_data"
    }
   ],
   "source": [
    "table(data_all_pheno_cox3$jak2, useNA = \"always\")\n",
    "table(data_all_pheno_cox3$CVD)\n",
    "summary(data_all_pheno_cox3$surv_CVD)\n",
    "summary(data_all_pheno_cox3$Interleukin17_receptor_A)"
   ]
  },
  {
   "cell_type": "code",
   "execution_count": 167,
   "metadata": {
    "hidden": true
   },
   "outputs": [],
   "source": [
    "data_filter <- filter(data_all_pheno_cox3,data_all_pheno_cox3$surv_ASCVD >0)"
   ]
  },
  {
   "cell_type": "code",
   "execution_count": 168,
   "metadata": {
    "hidden": true,
    "scrolled": true
   },
   "outputs": [
    {
     "data": {
      "text/plain": [
       "Call:\n",
       "coxph(formula = Surv(surv_ASCVD, ASCVD) ~ jak2 + baseline_age + \n",
       "    age2 + genetic_sex + smoking_0 + PC1 + PC2 + PC3 + PCD4 + \n",
       "    PC5 + baseline_DM + BMI_0 + baseline_HTN, data = data_filter)\n",
       "\n",
       "  n= 474370, number of events= 7378 \n",
       "   (2379 observations deleted due to missingness)\n",
       "\n",
       "                   coef  exp(coef)   se(coef)      z Pr(>|z|)    \n",
       "jak2          0.7828354  2.1876664  0.3782202  2.070 0.038472 *  \n",
       "baseline_age  0.0857730  1.0895589  0.0237135  3.617 0.000298 ***\n",
       "age2         -0.0003022  0.9996979  0.0002077 -1.455 0.145757    \n",
       "genetic_sex   0.5231491  1.6873329  0.0240639 21.740  < 2e-16 ***\n",
       "smoking_0     0.2806305  1.3239643  0.0164692 17.040  < 2e-16 ***\n",
       "PC1          -0.0013273  0.9986736  0.0003077 -4.314 1.60e-05 ***\n",
       "PC2          -0.0004014  0.9995987  0.0006048 -0.664 0.506848    \n",
       "PC3           0.0045193  1.0045295  0.0010257  4.406 1.05e-05 ***\n",
       "PCD4          0.0049128  1.0049249  0.0011959  4.108 3.99e-05 ***\n",
       "PC5           0.0100663  1.0101171  0.0014601  6.894 5.41e-12 ***\n",
       "baseline_DM   0.3644765  1.4397601  0.0495327  7.358 1.86e-13 ***\n",
       "BMI_0         0.0183210  1.0184899  0.0024640  7.435 1.04e-13 ***\n",
       "baseline_HTN  0.5987615  1.8198636  0.0307039 19.501  < 2e-16 ***\n",
       "---\n",
       "Signif. codes:  0 ‘***’ 0.001 ‘**’ 0.01 ‘*’ 0.05 ‘.’ 0.1 ‘ ’ 1\n",
       "\n",
       "             exp(coef) exp(-coef) lower .95 upper .95\n",
       "jak2            2.1877     0.4571    1.0424    4.5912\n",
       "baseline_age    1.0896     0.9178    1.0401    1.1414\n",
       "age2            0.9997     1.0003    0.9993    1.0001\n",
       "genetic_sex     1.6873     0.5927    1.6096    1.7688\n",
       "smoking_0       1.3240     0.7553    1.2819    1.3674\n",
       "PC1             0.9987     1.0013    0.9981    0.9993\n",
       "PC2             0.9996     1.0004    0.9984    1.0008\n",
       "PC3             1.0045     0.9955    1.0025    1.0066\n",
       "PCD4            1.0049     0.9951    1.0026    1.0073\n",
       "PC5             1.0101     0.9900    1.0072    1.0130\n",
       "baseline_DM     1.4398     0.6946    1.3066    1.5865\n",
       "BMI_0           1.0185     0.9818    1.0136    1.0234\n",
       "baseline_HTN    1.8199     0.5495    1.7136    1.9327\n",
       "\n",
       "Concordance= 0.688  (se = 0.003 )\n",
       "Likelihood ratio test= 3208  on 13 df,   p=<2e-16\n",
       "Wald test            = 3232  on 13 df,   p=<2e-16\n",
       "Score (logrank) test = 3517  on 13 df,   p=<2e-16\n"
      ]
     },
     "metadata": {},
     "output_type": "display_data"
    }
   ],
   "source": [
    "cox_fit <- coxph(Surv(surv_ASCVD,ASCVD)~ jak2 + baseline_age+age2+genetic_sex+smoking_0+PC1+PC2+PC3+PCD4+PC5+ baseline_DM+ BMI_0+baseline_HTN, data = data_filter)\n",
    "summary(cox_fit)"
   ]
  },
  {
   "cell_type": "code",
   "execution_count": 164,
   "metadata": {
    "hidden": true,
    "scrolled": false
   },
   "outputs": [
    {
     "data": {
      "text/plain": [
       "Call:\n",
       "coxph(formula = Surv(surv_CVD, CVD) ~ jak2 + Interleukin17_receptor_A + \n",
       "    Interleukin17_receptor_A * jak2 + baseline_age + age2 + genetic_sex + \n",
       "    smoking_0 + PC1 + PC2 + PC3 + PCD4 + PC5 + ldl_0 + baseline_DM + \n",
       "    BMI_0 + baseline_HTN + AID, data = data_filter)\n",
       "\n",
       "  n= 449805, number of events= 8697 \n",
       "   (25343 observations deleted due to missingness)\n",
       "\n",
       "                                    coef  exp(coef)   se(coef)      z Pr(>|z|)\n",
       "jak2                           1.433e+00  4.191e+00  4.340e-01  3.302 0.000961\n",
       "Interleukin17_receptor_A       3.263e-03  1.003e+00  1.369e-02  0.238 0.811652\n",
       "baseline_age                   5.002e-02  1.051e+00  2.195e-02  2.279 0.022661\n",
       "age2                           4.258e-05  1.000e+00  1.921e-04  0.222 0.824590\n",
       "genetic_sex                    5.310e-01  1.701e+00  2.226e-02 23.856  < 2e-16\n",
       "smoking_0                      2.553e-01  1.291e+00  1.520e-02 16.792  < 2e-16\n",
       "PC1                           -9.864e-04  9.990e-01  2.772e-04 -3.558 0.000374\n",
       "PC2                           -6.086e-04  9.994e-01  5.111e-04 -1.191 0.233732\n",
       "PC3                            2.915e-03  1.003e+00  8.819e-04  3.305 0.000950\n",
       "PCD4                           5.456e-03  1.005e+00  1.126e-03  4.844 1.28e-06\n",
       "PC5                            1.157e-02  1.012e+00  1.336e-03  8.657  < 2e-16\n",
       "ldl_0                          1.580e-01  1.171e+00  1.248e-02 12.667  < 2e-16\n",
       "baseline_DM                    4.387e-01  1.551e+00  4.783e-02  9.173  < 2e-16\n",
       "BMI_0                          1.736e-02  1.018e+00  2.295e-03  7.564 3.91e-14\n",
       "baseline_HTN                   6.211e-01  1.861e+00  2.878e-02 21.585  < 2e-16\n",
       "AID                            1.145e+00  3.141e+00  4.298e-02 26.630  < 2e-16\n",
       "jak2:Interleukin17_receptor_A -1.432e+00  2.389e-01  5.826e-01 -2.458 0.013989\n",
       "                                 \n",
       "jak2                          ***\n",
       "Interleukin17_receptor_A         \n",
       "baseline_age                  *  \n",
       "age2                             \n",
       "genetic_sex                   ***\n",
       "smoking_0                     ***\n",
       "PC1                           ***\n",
       "PC2                              \n",
       "PC3                           ***\n",
       "PCD4                          ***\n",
       "PC5                           ***\n",
       "ldl_0                         ***\n",
       "baseline_DM                   ***\n",
       "BMI_0                         ***\n",
       "baseline_HTN                  ***\n",
       "AID                           ***\n",
       "jak2:Interleukin17_receptor_A *  \n",
       "---\n",
       "Signif. codes:  0 ‘***’ 0.001 ‘**’ 0.01 ‘*’ 0.05 ‘.’ 0.1 ‘ ’ 1\n",
       "\n",
       "                              exp(coef) exp(-coef) lower .95 upper .95\n",
       "jak2                             4.1906     0.2386   1.79011    9.8102\n",
       "Interleukin17_receptor_A         1.0033     0.9967   0.97670    1.0306\n",
       "baseline_age                     1.0513     0.9512   1.00703    1.0975\n",
       "age2                             1.0000     1.0000   0.99967    1.0004\n",
       "genetic_sex                      1.7006     0.5880   1.62799    1.7764\n",
       "smoking_0                        1.2909     0.7747   1.25296    1.3299\n",
       "PC1                              0.9990     1.0010   0.99847    0.9996\n",
       "PC2                              0.9994     1.0006   0.99839    1.0004\n",
       "PC3                              1.0029     0.9971   1.00119    1.0047\n",
       "PCD4                             1.0055     0.9946   1.00325    1.0077\n",
       "PC5                              1.0116     0.9885   1.00899    1.0143\n",
       "ldl_0                            1.1712     0.8538   1.14293    1.2002\n",
       "baseline_DM                      1.5507     0.6449   1.41197    1.7031\n",
       "BMI_0                            1.0175     0.9828   1.01294    1.0221\n",
       "baseline_HTN                     1.8610     0.5373   1.75898    1.9690\n",
       "AID                              3.1413     0.3183   2.88748    3.4174\n",
       "jak2:Interleukin17_receptor_A    0.2389     4.1858   0.07627    0.7484\n",
       "\n",
       "Concordance= 0.697  (se = 0.003 )\n",
       "Likelihood ratio test= 4420  on 17 df,   p=<2e-16\n",
       "Wald test            = 4612  on 17 df,   p=<2e-16\n",
       "Score (logrank) test = 5063  on 17 df,   p=<2e-16\n"
      ]
     },
     "metadata": {},
     "output_type": "display_data"
    }
   ],
   "source": [
    "data_filter <- filter(data_all_pheno_cox3,data_all_pheno_cox3$surv_CVD >0)\n",
    "cox_fit <- coxph(Surv(surv_CVD,CVD)~ jak2 + Interleukin17_receptor_A + Interleukin17_receptor_A*jak2 +\n",
    "                 baseline_age+age2+genetic_sex+smoking_0+PC1+PC2+PC3+PCD4+PC5+ldl_0+baseline_DM+BMI_0+baseline_HTN+AID, data = data_filter)\n",
    "summary(cox_fit)"
   ]
  },
  {
   "cell_type": "code",
   "execution_count": 217,
   "metadata": {
    "hidden": true,
    "scrolled": false
   },
   "outputs": [
    {
     "data": {
      "text/plain": [
       "Call:\n",
       "coxph(formula = Surv(surv_ASCVD, ASCVD) ~ jak2 + Interleukin17_receptor_A + \n",
       "    Interleukin17_receptor_A * jak2 + baseline_age + age2 + genetic_sex + \n",
       "    smoking_0 + PC1 + PC2 + PC3 + PCD4 + PC5 + ldl_0 + baseline_DM + \n",
       "    BMI_0 + baseline_HTN + AID, data = data_filter)\n",
       "\n",
       "  n= 451304, number of events= 7033 \n",
       "   (25445 observations deleted due to missingness)\n",
       "\n",
       "                                    coef  exp(coef)   se(coef)      z Pr(>|z|)\n",
       "jak2                           1.6658187  5.2900023  0.4340526  3.838 0.000124\n",
       "Interleukin17_receptor_A       0.0093939  1.0094381  0.0152249  0.617 0.537231\n",
       "baseline_age                   0.0640080  1.0661009  0.0243318  2.631 0.008523\n",
       "age2                          -0.0001084  0.9998916  0.0002132 -0.508 0.611167\n",
       "genetic_sex                    0.5697079  1.7677506  0.0248559 22.920  < 2e-16\n",
       "smoking_0                      0.2678370  1.3071341  0.0168563 15.889  < 2e-16\n",
       "PC1                           -0.0010556  0.9989449  0.0003126 -3.377 0.000732\n",
       "PC2                           -0.0004797  0.9995204  0.0006088 -0.788 0.430703\n",
       "PC3                            0.0045093  1.0045195  0.0010340  4.361 1.30e-05\n",
       "PCD4                           0.0050075  1.0050201  0.0012236  4.092 4.27e-05\n",
       "PC5                            0.0107019  1.0107594  0.0014899  7.183 6.81e-13\n",
       "ldl_0                          0.1646629  1.1789956  0.0138608 11.880  < 2e-16\n",
       "baseline_DM                    0.4826584  1.6203763  0.0520473  9.273  < 2e-16\n",
       "BMI_0                          0.0177954  1.0179547  0.0025478  6.985 2.85e-12\n",
       "baseline_HTN                   0.6335144  1.8842209  0.0318553 19.887  < 2e-16\n",
       "AID                            1.1136778  3.0455388  0.0480549 23.175  < 2e-16\n",
       "jak2:Interleukin17_receptor_A -1.4399027  0.2369508  0.5824718 -2.472 0.013434\n",
       "                                 \n",
       "jak2                          ***\n",
       "Interleukin17_receptor_A         \n",
       "baseline_age                  ** \n",
       "age2                             \n",
       "genetic_sex                   ***\n",
       "smoking_0                     ***\n",
       "PC1                           ***\n",
       "PC2                              \n",
       "PC3                           ***\n",
       "PCD4                          ***\n",
       "PC5                           ***\n",
       "ldl_0                         ***\n",
       "baseline_DM                   ***\n",
       "BMI_0                         ***\n",
       "baseline_HTN                  ***\n",
       "AID                           ***\n",
       "jak2:Interleukin17_receptor_A *  \n",
       "---\n",
       "Signif. codes:  0 ‘***’ 0.001 ‘**’ 0.01 ‘*’ 0.05 ‘.’ 0.1 ‘ ’ 1\n",
       "\n",
       "                              exp(coef) exp(-coef) lower .95 upper .95\n",
       "jak2                             5.2900     0.1890   2.25938   12.3857\n",
       "Interleukin17_receptor_A         1.0094     0.9907   0.97976    1.0400\n",
       "baseline_age                     1.0661     0.9380   1.01645    1.1182\n",
       "age2                             0.9999     1.0001   0.99947    1.0003\n",
       "genetic_sex                      1.7678     0.5657   1.68370    1.8560\n",
       "smoking_0                        1.3071     0.7650   1.26465    1.3510\n",
       "PC1                              0.9989     1.0011   0.99833    0.9996\n",
       "PC2                              0.9995     1.0005   0.99833    1.0007\n",
       "PC3                              1.0045     0.9955   1.00249    1.0066\n",
       "PCD4                             1.0050     0.9950   1.00261    1.0074\n",
       "PC5                              1.0108     0.9894   1.00781    1.0137\n",
       "ldl_0                            1.1790     0.8482   1.14740    1.2115\n",
       "baseline_DM                      1.6204     0.6171   1.46323    1.7944\n",
       "BMI_0                            1.0180     0.9824   1.01288    1.0231\n",
       "baseline_HTN                     1.8842     0.5307   1.77018    2.0056\n",
       "AID                              3.0455     0.3283   2.77179    3.3463\n",
       "jak2:Interleukin17_receptor_A    0.2370     4.2203   0.07566    0.7421\n",
       "\n",
       "Concordance= 0.699  (se = 0.003 )\n",
       "Likelihood ratio test= 3600  on 17 df,   p=<2e-16\n",
       "Wald test            = 3764  on 17 df,   p=<2e-16\n",
       "Score (logrank) test = 4121  on 17 df,   p=<2e-16\n"
      ]
     },
     "metadata": {},
     "output_type": "display_data"
    }
   ],
   "source": [
    "data_filter <- filter(data_all_pheno_cox3,data_all_pheno_cox3$surv_ASCVD >0)\n",
    "cox_fit <- coxph(Surv(surv_ASCVD,ASCVD)~ jak2 + Interleukin17_receptor_A + Interleukin17_receptor_A*jak2 +\n",
    "                 baseline_age+age2+genetic_sex+smoking_0+PC1+PC2+PC3+PCD4+PC5+ldl_0+baseline_DM+BMI_0+baseline_HTN+AID, data = data_filter)\n",
    "summary(cox_fit)"
   ]
  },
  {
   "cell_type": "code",
   "execution_count": 218,
   "metadata": {
    "hidden": true,
    "scrolled": true
   },
   "outputs": [
    {
     "data": {
      "text/plain": [
       "Call:\n",
       "coxph(formula = Surv(surv_CAD, CAD) ~ jak2 + Interleukin17_receptor_A + \n",
       "    Interleukin17_receptor_A * jak2 + baseline_age + age2 + genetic_sex + \n",
       "    smoking_0 + PC1 + PC2 + PC3 + PCD4 + PC5 + ldl_0 + baseline_DM + \n",
       "    BMI_0 + baseline_HTN + AID, data = data_filter)\n",
       "\n",
       "  n= 454139, number of events= 4230 \n",
       "   (25626 observations deleted due to missingness)\n",
       "\n",
       "                                    coef  exp(coef)   se(coef)      z Pr(>|z|)\n",
       "jak2                           1.4494349  4.2607059  0.5809147  2.495 0.012592\n",
       "Interleukin17_receptor_A       0.0060909  1.0061094  0.0196272  0.310 0.756312\n",
       "baseline_age                   0.1944691  1.2146659  0.0334571  5.812 6.16e-09\n",
       "age2                          -0.0011889  0.9988118  0.0002911 -4.084 4.44e-05\n",
       "genetic_sex                    0.8873649  2.4287214  0.0332611 26.679  < 2e-16\n",
       "smoking_0                      0.2132722  1.2377215  0.0218343  9.768  < 2e-16\n",
       "PC1                           -0.0016336  0.9983677  0.0004788 -3.412 0.000645\n",
       "PC2                           -0.0020308  0.9979713  0.0007651 -2.654 0.007945\n",
       "PC3                            0.0048531  1.0048649  0.0012569  3.861 0.000113\n",
       "PCD4                           0.0048098  1.0048214  0.0015384  3.126 0.001769\n",
       "PC5                            0.0143993  1.0145034  0.0018948  7.599 2.98e-14\n",
       "ldl_0                          0.3158301  1.3713972  0.0175193 18.028  < 2e-16\n",
       "baseline_DM                    0.5422509  1.7198739  0.0658121  8.239  < 2e-16\n",
       "BMI_0                          0.0341896  1.0347807  0.0032255 10.600  < 2e-16\n",
       "baseline_HTN                   0.6402592  1.8969725  0.0406652 15.745  < 2e-16\n",
       "AID                            1.1175135  3.0572428  0.0610624 18.301  < 2e-16\n",
       "jak2:Interleukin17_receptor_A -2.0744022  0.1256315  0.9513494 -2.180 0.029222\n",
       "                                 \n",
       "jak2                          *  \n",
       "Interleukin17_receptor_A         \n",
       "baseline_age                  ***\n",
       "age2                          ***\n",
       "genetic_sex                   ***\n",
       "smoking_0                     ***\n",
       "PC1                           ***\n",
       "PC2                           ** \n",
       "PC3                           ***\n",
       "PCD4                          ** \n",
       "PC5                           ***\n",
       "ldl_0                         ***\n",
       "baseline_DM                   ***\n",
       "BMI_0                         ***\n",
       "baseline_HTN                  ***\n",
       "AID                           ***\n",
       "jak2:Interleukin17_receptor_A *  \n",
       "---\n",
       "Signif. codes:  0 ‘***’ 0.001 ‘**’ 0.01 ‘*’ 0.05 ‘.’ 0.1 ‘ ’ 1\n",
       "\n",
       "                              exp(coef) exp(-coef) lower .95 upper .95\n",
       "jak2                             4.2607     0.2347   1.36460   13.3032\n",
       "Interleukin17_receptor_A         1.0061     0.9939   0.96814    1.0456\n",
       "baseline_age                     1.2147     0.8233   1.13757    1.2970\n",
       "age2                             0.9988     1.0012   0.99824    0.9994\n",
       "genetic_sex                      2.4287     0.4117   2.27544    2.5923\n",
       "smoking_0                        1.2377     0.8079   1.18587    1.2918\n",
       "PC1                              0.9984     1.0016   0.99743    0.9993\n",
       "PC2                              0.9980     1.0020   0.99648    0.9995\n",
       "PC3                              1.0049     0.9952   1.00239    1.0073\n",
       "PCD4                             1.0048     0.9952   1.00180    1.0079\n",
       "PC5                              1.0145     0.9857   1.01074    1.0183\n",
       "ldl_0                            1.3714     0.7292   1.32511    1.4193\n",
       "baseline_DM                      1.7199     0.5814   1.51174    1.9567\n",
       "BMI_0                            1.0348     0.9664   1.02826    1.0413\n",
       "baseline_HTN                     1.8970     0.5272   1.75165    2.0544\n",
       "AID                              3.0572     0.3271   2.71240    3.4459\n",
       "jak2:Interleukin17_receptor_A    0.1256     7.9598   0.01947    0.8108\n",
       "\n",
       "Concordance= 0.735  (se = 0.004 )\n",
       "Likelihood ratio test= 3045  on 17 df,   p=<2e-16\n",
       "Wald test            = 2952  on 17 df,   p=<2e-16\n",
       "Score (logrank) test = 3250  on 17 df,   p=<2e-16\n"
      ]
     },
     "metadata": {},
     "output_type": "display_data"
    }
   ],
   "source": [
    "data_filter <- filter(data_all_pheno_cox3,data_all_pheno_cox3$surv_CAD >0)\n",
    "\n",
    "cox_fit <- coxph(Surv(surv_CAD,CAD)~ jak2 + Interleukin17_receptor_A + Interleukin17_receptor_A*jak2 +\n",
    "                 baseline_age+age2+genetic_sex+smoking_0+PC1+PC2+PC3+PCD4+PC5+ldl_0+baseline_DM+BMI_0+baseline_HTN+AID, data = data_filter)\n",
    "summary(cox_fit)"
   ]
  },
  {
   "cell_type": "code",
   "execution_count": 219,
   "metadata": {
    "hidden": true,
    "scrolled": true
   },
   "outputs": [
    {
     "data": {
      "text/plain": [
       "Call:\n",
       "coxph(formula = Surv(surv_str, Stroke) ~ jak2 + Interleukin17_receptor_A + \n",
       "    Interleukin17_receptor_A * jak2 + baseline_age + age2 + genetic_sex + \n",
       "    smoking_0 + PC1 + PC2 + PC3 + PCD4 + PC5 + ldl_0 + baseline_DM + \n",
       "    BMI_0 + baseline_HTN + AID, data = data_filter)\n",
       "\n",
       "  n= 459256, number of events= 2265 \n",
       "   (25916 observations deleted due to missingness)\n",
       "\n",
       "                                    coef  exp(coef)   se(coef)      z Pr(>|z|)\n",
       "jak2                           1.5394015  4.6617995  0.7296809  2.110  0.03488\n",
       "Interleukin17_receptor_A      -0.0228735  0.9773862  0.0268536 -0.852  0.39433\n",
       "baseline_age                   0.0188973  1.0190770  0.0456807  0.414  0.67911\n",
       "age2                           0.0004852  1.0004853  0.0003952  1.228  0.21955\n",
       "genetic_sex                    0.4357976  1.5461958  0.0437868  9.953  < 2e-16\n",
       "smoking_0                      0.2448334  1.2774085  0.0301782  8.113 4.94e-16\n",
       "PC1                           -0.0008960  0.9991044  0.0005271 -1.700  0.08917\n",
       "PC2                           -0.0001348  0.9998652  0.0009080 -0.149  0.88194\n",
       "PC3                           -0.0034166  0.9965893  0.0016828 -2.030  0.04233\n",
       "PCD4                           0.0090544  1.0090955  0.0026205  3.455  0.00055\n",
       "PC5                            0.0132203  1.0133080  0.0026024  5.080 3.78e-07\n",
       "ldl_0                          0.0505802  1.0518813  0.0247722  2.042  0.04117\n",
       "baseline_DM                    0.4834780  1.6217049  0.0836042  5.783 7.34e-09\n",
       "BMI_0                          0.0115874  1.0116548  0.0045240  2.561  0.01043\n",
       "baseline_HTN                   0.7118464  2.0377503  0.0528251 13.476  < 2e-16\n",
       "AID                            1.0562419  2.8755440  0.0830687 12.715  < 2e-16\n",
       "jak2:Interleukin17_receptor_A -1.6432781  0.1933452  1.0811311 -1.520  0.12852\n",
       "                                 \n",
       "jak2                          *  \n",
       "Interleukin17_receptor_A         \n",
       "baseline_age                     \n",
       "age2                             \n",
       "genetic_sex                   ***\n",
       "smoking_0                     ***\n",
       "PC1                           .  \n",
       "PC2                              \n",
       "PC3                           *  \n",
       "PCD4                          ***\n",
       "PC5                           ***\n",
       "ldl_0                         *  \n",
       "baseline_DM                   ***\n",
       "BMI_0                         *  \n",
       "baseline_HTN                  ***\n",
       "AID                           ***\n",
       "jak2:Interleukin17_receptor_A    \n",
       "---\n",
       "Signif. codes:  0 ‘***’ 0.001 ‘**’ 0.01 ‘*’ 0.05 ‘.’ 0.1 ‘ ’ 1\n",
       "\n",
       "                              exp(coef) exp(-coef) lower .95 upper .95\n",
       "jak2                             4.6618     0.2145   1.11544   19.4831\n",
       "Interleukin17_receptor_A         0.9774     1.0231   0.92727    1.0302\n",
       "baseline_age                     1.0191     0.9813   0.93180    1.1145\n",
       "age2                             1.0005     0.9995   0.99971    1.0013\n",
       "genetic_sex                      1.5462     0.6467   1.41903    1.6848\n",
       "smoking_0                        1.2774     0.7828   1.20404    1.3552\n",
       "PC1                              0.9991     1.0009   0.99807    1.0001\n",
       "PC2                              0.9999     1.0001   0.99809    1.0016\n",
       "PC3                              0.9966     1.0034   0.99331    0.9999\n",
       "PCD4                             1.0091     0.9910   1.00393    1.0143\n",
       "PC5                              1.0133     0.9869   1.00815    1.0185\n",
       "ldl_0                            1.0519     0.9507   1.00203    1.1042\n",
       "baseline_DM                      1.6217     0.6166   1.37660    1.9105\n",
       "BMI_0                            1.0117     0.9885   1.00272    1.0207\n",
       "baseline_HTN                     2.0378     0.4907   1.83733    2.2600\n",
       "AID                              2.8755     0.3478   2.44350    3.3840\n",
       "jak2:Interleukin17_receptor_A    0.1933     5.1721   0.02323    1.6091\n",
       "\n",
       "Concordance= 0.724  (se = 0.005 )\n",
       "Likelihood ratio test= 1548  on 17 df,   p=<2e-16\n",
       "Wald test            = 1600  on 17 df,   p=<2e-16\n",
       "Score (logrank) test = 1853  on 17 df,   p=<2e-16\n"
      ]
     },
     "metadata": {},
     "output_type": "display_data"
    }
   ],
   "source": [
    "data_filter <- filter(data_all_pheno_cox3,data_all_pheno_cox3$surv_str >0)\n",
    "\n",
    "cox_fit <- coxph(Surv(surv_str,Stroke)~ jak2 + Interleukin17_receptor_A + Interleukin17_receptor_A*jak2 +\n",
    "                 baseline_age+age2+genetic_sex+smoking_0+PC1+PC2+PC3+PCD4+PC5+ldl_0+baseline_DM+BMI_0+baseline_HTN+AID, data = data_filter)\n",
    "summary(cox_fit)"
   ]
  },
  {
   "cell_type": "code",
   "execution_count": 220,
   "metadata": {
    "hidden": true,
    "scrolled": true
   },
   "outputs": [
    {
     "data": {
      "text/plain": [
       "Call:\n",
       "coxph(formula = Surv(surv_AMI, `Myocardial infarction [Heart attack]`) ~ \n",
       "    jak2 + Interleukin17_receptor_A + Interleukin17_receptor_A * \n",
       "        jak2 + baseline_age + age2 + genetic_sex + smoking_0 + \n",
       "        PC1 + PC2 + PC3 + PCD4 + PC5 + ldl_0 + baseline_DM + \n",
       "        BMI_0 + baseline_HTN + AID, data = data_filter)\n",
       "\n",
       "  n= 457736, number of events= 2212 \n",
       "   (25844 observations deleted due to missingness)\n",
       "\n",
       "                                    coef  exp(coef)   se(coef)      z Pr(>|z|)\n",
       "jak2                           1.8706357  6.4924225  0.6955253  2.690 0.007155\n",
       "Interleukin17_receptor_A      -0.0292675  0.9711566  0.0271556 -1.078 0.281136\n",
       "baseline_age                   0.1697964  1.1850636  0.0450847  3.766 0.000166\n",
       "age2                          -0.0010292  0.9989713  0.0003938 -2.614 0.008958\n",
       "genetic_sex                    1.1429597  3.1360363  0.0484010 23.614  < 2e-16\n",
       "smoking_0                      0.3250429  1.3840901  0.0298566 10.887  < 2e-16\n",
       "PC1                           -0.0020545  0.9979476  0.0007156 -2.871 0.004091\n",
       "PC2                           -0.0004896  0.9995105  0.0014676 -0.334 0.738655\n",
       "PC3                            0.0084399  1.0084756  0.0023806  3.545 0.000392\n",
       "PCD4                           0.0071652  1.0071910  0.0022480  3.187 0.001436\n",
       "PC5                            0.0128490  1.0129319  0.0026343  4.878 1.07e-06\n",
       "ldl_0                          0.3750966  1.4551320  0.0240325 15.608  < 2e-16\n",
       "baseline_DM                    0.6420291  1.9003330  0.0887118  7.237 4.58e-13\n",
       "BMI_0                          0.0233642  1.0236393  0.0046399  5.036 4.77e-07\n",
       "baseline_HTN                   0.6147675  1.8492266  0.0568539 10.813  < 2e-16\n",
       "AID                            1.1416864  3.1320459  0.0824063 13.854  < 2e-16\n",
       "jak2:Interleukin17_receptor_A -0.9213950  0.3979635  0.7929227 -1.162 0.245226\n",
       "                                 \n",
       "jak2                          ** \n",
       "Interleukin17_receptor_A         \n",
       "baseline_age                  ***\n",
       "age2                          ** \n",
       "genetic_sex                   ***\n",
       "smoking_0                     ***\n",
       "PC1                           ** \n",
       "PC2                              \n",
       "PC3                           ***\n",
       "PCD4                          ** \n",
       "PC5                           ***\n",
       "ldl_0                         ***\n",
       "baseline_DM                   ***\n",
       "BMI_0                         ***\n",
       "baseline_HTN                  ***\n",
       "AID                           ***\n",
       "jak2:Interleukin17_receptor_A    \n",
       "---\n",
       "Signif. codes:  0 ‘***’ 0.001 ‘**’ 0.01 ‘*’ 0.05 ‘.’ 0.1 ‘ ’ 1\n",
       "\n",
       "                              exp(coef) exp(-coef) lower .95 upper .95\n",
       "jak2                             6.4924     0.1540   1.66102   25.3769\n",
       "Interleukin17_receptor_A         0.9712     1.0297   0.92082    1.0242\n",
       "baseline_age                     1.1851     0.8438   1.08484    1.2945\n",
       "age2                             0.9990     1.0010   0.99820    0.9997\n",
       "genetic_sex                      3.1360     0.3189   2.85221    3.4481\n",
       "smoking_0                        1.3841     0.7225   1.30542    1.4675\n",
       "PC1                              0.9979     1.0021   0.99655    0.9993\n",
       "PC2                              0.9995     1.0005   0.99664    1.0024\n",
       "PC3                              1.0085     0.9916   1.00378    1.0132\n",
       "PCD4                             1.0072     0.9929   1.00276    1.0116\n",
       "PC5                              1.0129     0.9872   1.00772    1.0182\n",
       "ldl_0                            1.4551     0.6872   1.38818    1.5253\n",
       "baseline_DM                      1.9003     0.5262   1.59705    2.2612\n",
       "BMI_0                            1.0236     0.9769   1.01437    1.0330\n",
       "baseline_HTN                     1.8492     0.5408   1.65423    2.0672\n",
       "AID                              3.1320     0.3193   2.66492    3.6811\n",
       "jak2:Interleukin17_receptor_A    0.3980     2.5128   0.08412    1.8827\n",
       "\n",
       "Concordance= 0.752  (se = 0.005 )\n",
       "Likelihood ratio test= 1860  on 17 df,   p=<2e-16\n",
       "Wald test            = 1777  on 17 df,   p=<2e-16\n",
       "Score (logrank) test = 1963  on 17 df,   p=<2e-16\n"
      ]
     },
     "metadata": {},
     "output_type": "display_data"
    }
   ],
   "source": [
    "data_filter <- filter(data_all_pheno_cox3,data_all_pheno_cox3$surv_AMI >0)\n",
    "\n",
    "cox_fit <- coxph(Surv(surv_AMI,`Myocardial infarction [Heart attack]`)~ jak2 + Interleukin17_receptor_A + Interleukin17_receptor_A*jak2 +\n",
    "                 baseline_age+age2+genetic_sex+smoking_0+PC1+PC2+PC3+PCD4+PC5+ldl_0+baseline_DM+BMI_0+baseline_HTN+AID, data = data_filter)\n",
    "summary(cox_fit)"
   ]
  },
  {
   "cell_type": "code",
   "execution_count": 222,
   "metadata": {
    "hidden": true,
    "scrolled": true
   },
   "outputs": [
    {
     "data": {
      "text/plain": [
       "Call:\n",
       "coxph(formula = Surv(surv_hf, `Heart failure`) ~ jak2 + Interleukin17_receptor_A + \n",
       "    Interleukin17_receptor_A * jak2 + baseline_age + age2 + genetic_sex + \n",
       "    smoking_0 + PC1 + PC2 + PC3 + PCD4 + PC5 + ldl_0 + baseline_DM + \n",
       "    BMI_0 + baseline_HTN + AID, data = data_filter)\n",
       "\n",
       "  n= 460148, number of events= 1623 \n",
       "   (25983 observations deleted due to missingness)\n",
       "\n",
       "                                    coef  exp(coef)   se(coef)      z Pr(>|z|)\n",
       "jak2                           1.8563707  6.4004651  0.7217009  2.572  0.01010\n",
       "Interleukin17_receptor_A       0.0173872  1.0175392  0.0316679  0.549  0.58297\n",
       "baseline_age                   0.2109347  1.2348317  0.0657046  3.210  0.00133\n",
       "age2                          -0.0009313  0.9990691  0.0005555 -1.677  0.09361\n",
       "genetic_sex                    0.7215574  2.0576352  0.0548103 13.165  < 2e-16\n",
       "smoking_0                      0.2471833  1.2804138  0.0364809  6.776 1.24e-11\n",
       "PC1                           -0.0019013  0.9981005  0.0007422 -2.562  0.01041\n",
       "PC2                            0.0017385  1.0017400  0.0020679  0.841  0.40051\n",
       "PC3                            0.0062567  1.0062763  0.0034248  1.827  0.06772\n",
       "PCD4                           0.0086111  1.0086482  0.0030161  2.855  0.00430\n",
       "PC5                            0.0027385  1.0027422  0.0031847  0.860  0.38986\n",
       "ldl_0                         -0.1518732  0.8590972  0.0305825 -4.966 6.83e-07\n",
       "baseline_DM                    0.5709675  1.7699787  0.0797900  7.156 8.31e-13\n",
       "BMI_0                          0.0585806  1.0603305  0.0047686 12.285  < 2e-16\n",
       "baseline_HTN                   0.8630194  2.3703068  0.0575242 15.003  < 2e-16\n",
       "AID                            1.0004037  2.7193793  0.0970957 10.303  < 2e-16\n",
       "jak2:Interleukin17_receptor_A -1.7703247  0.1702777  1.0699319 -1.655  0.09800\n",
       "                                 \n",
       "jak2                          *  \n",
       "Interleukin17_receptor_A         \n",
       "baseline_age                  ** \n",
       "age2                          .  \n",
       "genetic_sex                   ***\n",
       "smoking_0                     ***\n",
       "PC1                           *  \n",
       "PC2                              \n",
       "PC3                           .  \n",
       "PCD4                          ** \n",
       "PC5                              \n",
       "ldl_0                         ***\n",
       "baseline_DM                   ***\n",
       "BMI_0                         ***\n",
       "baseline_HTN                  ***\n",
       "AID                           ***\n",
       "jak2:Interleukin17_receptor_A .  \n",
       "---\n",
       "Signif. codes:  0 ‘***’ 0.001 ‘**’ 0.01 ‘*’ 0.05 ‘.’ 0.1 ‘ ’ 1\n",
       "\n",
       "                              exp(coef) exp(-coef) lower .95 upper .95\n",
       "jak2                             6.4005     0.1562   1.55560   26.3345\n",
       "Interleukin17_receptor_A         1.0175     0.9828   0.95630    1.0827\n",
       "baseline_age                     1.2348     0.8098   1.08563    1.4045\n",
       "age2                             0.9991     1.0009   0.99798    1.0002\n",
       "genetic_sex                      2.0576     0.4860   1.84805    2.2910\n",
       "smoking_0                        1.2804     0.7810   1.19206    1.3753\n",
       "PC1                              0.9981     1.0019   0.99665    0.9996\n",
       "PC2                              1.0017     0.9983   0.99769    1.0058\n",
       "PC3                              1.0063     0.9938   0.99954    1.0131\n",
       "PCD4                             1.0086     0.9914   1.00270    1.0146\n",
       "PC5                              1.0027     0.9973   0.99650    1.0090\n",
       "ldl_0                            0.8591     1.1640   0.80912    0.9122\n",
       "baseline_DM                      1.7700     0.5650   1.51374    2.0696\n",
       "BMI_0                            1.0603     0.9431   1.05047    1.0703\n",
       "baseline_HTN                     2.3703     0.4219   2.11758    2.6532\n",
       "AID                              2.7194     0.3677   2.24813    3.2894\n",
       "jak2:Interleukin17_receptor_A    0.1703     5.8728   0.02091    1.3864\n",
       "\n",
       "Concordance= 0.806  (se = 0.005 )\n",
       "Likelihood ratio test= 2255  on 17 df,   p=<2e-16\n",
       "Wald test            = 2204  on 17 df,   p=<2e-16\n",
       "Score (logrank) test = 2978  on 17 df,   p=<2e-16\n"
      ]
     },
     "metadata": {},
     "output_type": "display_data"
    }
   ],
   "source": [
    "data_filter <- filter(data_all_pheno_cox3,data_all_pheno_cox3$surv_hf >0)\n",
    "\n",
    "cox_fit <- coxph(Surv(surv_hf,`Heart failure`)~ jak2 + Interleukin17_receptor_A + Interleukin17_receptor_A*jak2 +\n",
    "                 baseline_age+age2+genetic_sex+smoking_0+PC1+PC2+PC3+PCD4+PC5+ldl_0+baseline_DM+BMI_0+baseline_HTN+AID, data = data_filter)\n",
    "summary(cox_fit)"
   ]
  },
  {
   "cell_type": "code",
   "execution_count": 223,
   "metadata": {
    "collapsed": true,
    "hidden": true
   },
   "outputs": [
    {
     "data": {
      "text/plain": [
       "Call:\n",
       "coxph(formula = Surv(surv_PVD, `Peripheral vascular disease`) ~ \n",
       "    jak2 + Interleukin17_receptor_A + Interleukin17_receptor_A * \n",
       "        jak2 + baseline_age + age2 + genetic_sex + smoking_0 + \n",
       "        PC1 + PC2 + PC3 + PCD4 + PC5 + ldl_0 + baseline_DM + \n",
       "        BMI_0 + baseline_HTN + AID, data = data_filter)\n",
       "\n",
       "  n= 458249, number of events= 2326 \n",
       "   (25872 observations deleted due to missingness)\n",
       "\n",
       "                                    coef  exp(coef)   se(coef)      z Pr(>|z|)\n",
       "jak2                           1.5530916  4.7260586  0.8037817  1.932  0.05333\n",
       "Interleukin17_receptor_A       0.0064677  1.0064887  0.0265009  0.244  0.80719\n",
       "baseline_age                  -0.0814529  0.9217762  0.0385770 -2.111  0.03473\n",
       "age2                           0.0010050  1.0010055  0.0003424  2.935  0.00333\n",
       "genetic_sex                    0.0767174  1.0797369  0.0425559  1.803  0.07143\n",
       "smoking_0                      0.5013145  1.6508899  0.0283694 17.671  < 2e-16\n",
       "PC1                           -0.0003234  0.9996767  0.0004573 -0.707  0.47951\n",
       "PC2                            0.0005803  1.0005804  0.0009627  0.603  0.54670\n",
       "PC3                            0.0034737  1.0034797  0.0016844  2.062  0.03919\n",
       "PCD4                           0.0043282  1.0043376  0.0021063  2.055  0.03989\n",
       "PC5                            0.0076495  1.0076789  0.0026025  2.939  0.00329\n",
       "ldl_0                         -0.0622846  0.9396154  0.0249454 -2.497  0.01253\n",
       "baseline_DM                    0.6527256  1.9207690  0.0852753  7.654 1.94e-14\n",
       "BMI_0                         -0.0455775  0.9554456  0.0048826 -9.335  < 2e-16\n",
       "baseline_HTN                   0.7077727  2.0294660  0.0556768 12.712  < 2e-16\n",
       "AID                            1.0625676  2.8937916  0.0829827 12.805  < 2e-16\n",
       "jak2:Interleukin17_receptor_A -0.4910718  0.6119701  0.7891821 -0.622  0.53377\n",
       "                                 \n",
       "jak2                          .  \n",
       "Interleukin17_receptor_A         \n",
       "baseline_age                  *  \n",
       "age2                          ** \n",
       "genetic_sex                   .  \n",
       "smoking_0                     ***\n",
       "PC1                              \n",
       "PC2                              \n",
       "PC3                           *  \n",
       "PCD4                          *  \n",
       "PC5                           ** \n",
       "ldl_0                         *  \n",
       "baseline_DM                   ***\n",
       "BMI_0                         ***\n",
       "baseline_HTN                  ***\n",
       "AID                           ***\n",
       "jak2:Interleukin17_receptor_A    \n",
       "---\n",
       "Signif. codes:  0 ‘***’ 0.001 ‘**’ 0.01 ‘*’ 0.05 ‘.’ 0.1 ‘ ’ 1\n",
       "\n",
       "                              exp(coef) exp(-coef) lower .95 upper .95\n",
       "jak2                             4.7261     0.2116    0.9780   22.8391\n",
       "Interleukin17_receptor_A         1.0065     0.9936    0.9555    1.0601\n",
       "baseline_age                     0.9218     1.0849    0.8547    0.9942\n",
       "age2                             1.0010     0.9990    1.0003    1.0017\n",
       "genetic_sex                      1.0797     0.9262    0.9933    1.1737\n",
       "smoking_0                        1.6509     0.6057    1.5616    1.7453\n",
       "PC1                              0.9997     1.0003    0.9988    1.0006\n",
       "PC2                              1.0006     0.9994    0.9987    1.0025\n",
       "PC3                              1.0035     0.9965    1.0002    1.0068\n",
       "PCD4                             1.0043     0.9957    1.0002    1.0085\n",
       "PC5                              1.0077     0.9924    1.0026    1.0128\n",
       "ldl_0                            0.9396     1.0643    0.8948    0.9867\n",
       "baseline_DM                      1.9208     0.5206    1.6251    2.2702\n",
       "BMI_0                            0.9554     1.0466    0.9463    0.9646\n",
       "baseline_HTN                     2.0295     0.4927    1.8197    2.2635\n",
       "AID                              2.8938     0.3456    2.4594    3.4049\n",
       "jak2:Interleukin17_receptor_A    0.6120     1.6341    0.1303    2.8740\n",
       "\n",
       "Concordance= 0.671  (se = 0.006 )\n",
       "Likelihood ratio test= 1062  on 17 df,   p=<2e-16\n",
       "Wald test            = 1215  on 17 df,   p=<2e-16\n",
       "Score (logrank) test = 1293  on 17 df,   p=<2e-16\n"
      ]
     },
     "metadata": {},
     "output_type": "display_data"
    }
   ],
   "source": [
    "data_filter <- filter(data_all_pheno_cox3,data_all_pheno_cox3$surv_PVD >0)\n",
    "\n",
    "cox_fit <- coxph(Surv(surv_PVD,`Peripheral vascular disease`)~ jak2 + Interleukin17_receptor_A + Interleukin17_receptor_A*jak2 +\n",
    "                 baseline_age+age2+genetic_sex+smoking_0+PC1+PC2+PC3+PCD4+PC5+ldl_0+baseline_DM+BMI_0+baseline_HTN+AID, data = data_filter)\n",
    "summary(cox_fit)"
   ]
  },
  {
   "cell_type": "markdown",
   "metadata": {
    "heading_collapsed": true,
    "hidden": true
   },
   "source": [
    "## Interaction by VAF group"
   ]
  },
  {
   "cell_type": "code",
   "execution_count": 38,
   "metadata": {
    "hidden": true
   },
   "outputs": [
    {
     "data": {
      "text/plain": [
       "\n",
       " 1  2  3 \n",
       "62 66 64 "
      ]
     },
     "metadata": {},
     "output_type": "display_data"
    }
   ],
   "source": [
    "jak2_af$jak2_af333 <- 2\n",
    "jak2_af$jak2_af333[jak2_af$AF >= quantile(jak2_af$AF,2/3)] <- 3\n",
    "jak2_af$jak2_af333[jak2_af$AF < quantile(jak2_af$AF,1/3)] <- 1\n",
    "jak2_af$jak2_af333 <- as.factor(jak2_af$jak2_af333)\n",
    "table(jak2_af$jak2_af333)"
   ]
  },
  {
   "cell_type": "code",
   "execution_count": 45,
   "metadata": {
    "hidden": true
   },
   "outputs": [],
   "source": [
    "jak2_af$ID_VUMC <- as.character(jak2_af$ID_VUMC)\n",
    "data_all_pheno_cox4 <- merge(data_all_pheno_cox3,jak2_af, by.x = \"ID\" ,by.y = \"ID_VUMC\",all.x = T)"
   ]
  },
  {
   "cell_type": "code",
   "execution_count": 46,
   "metadata": {
    "hidden": true
   },
   "outputs": [],
   "source": [
    "data_all_pheno_jak <- filter(data_all_pheno_cox4,data_all_pheno_cox4$jak2 == 1 | data_all_pheno_cox4$chip == 0)"
   ]
  },
  {
   "cell_type": "code",
   "execution_count": 47,
   "metadata": {
    "hidden": true
   },
   "outputs": [
    {
     "data": {
      "text/html": [
       "<style>\n",
       ".list-inline {list-style: none; margin:0; padding: 0}\n",
       ".list-inline>li {display: inline-block}\n",
       ".list-inline>li:not(:last-child)::after {content: \"\\00b7\"; padding: 0 .5ex}\n",
       "</style>\n",
       "<ol class=list-inline><li>471356</li><li>4876</li></ol>\n"
      ],
      "text/latex": [
       "\\begin{enumerate*}\n",
       "\\item 471356\n",
       "\\item 4876\n",
       "\\end{enumerate*}\n"
      ],
      "text/markdown": [
       "1. 471356\n",
       "2. 4876\n",
       "\n",
       "\n"
      ],
      "text/plain": [
       "[1] 471356   4876"
      ]
     },
     "metadata": {},
     "output_type": "display_data"
    }
   ],
   "source": [
    "dim(data_all_pheno_jak)"
   ]
  },
  {
   "cell_type": "code",
   "execution_count": 48,
   "metadata": {
    "hidden": true
   },
   "outputs": [],
   "source": [
    "data_all_pheno_jak$AF <- ifelse(is.na(data_all_pheno_jak$AF),0, data_all_pheno_jak$AF)"
   ]
  },
  {
   "cell_type": "code",
   "execution_count": 49,
   "metadata": {
    "hidden": true
   },
   "outputs": [
    {
     "data": {
      "text/plain": [
       "     Min.   1st Qu.    Median      Mean   3rd Qu.      Max. \n",
       "0.0000000 0.0000000 0.0000000 0.0001686 0.0000000 0.9670000 "
      ]
     },
     "metadata": {},
     "output_type": "display_data"
    }
   ],
   "source": [
    "summary(data_all_pheno_jak$AF)"
   ]
  },
  {
   "cell_type": "markdown",
   "metadata": {
    "heading_collapsed": true
   },
   "source": [
    "#save data"
   ]
  },
  {
   "cell_type": "code",
   "execution_count": 31,
   "metadata": {
    "hidden": true
   },
   "outputs": [],
   "source": [
    "save(data_all_pheno_jak, file = \"data_all_pheno_JAK2CHIP.Rdata\")"
   ]
  },
  {
   "cell_type": "code",
   "execution_count": 1,
   "metadata": {
    "hidden": true
   },
   "outputs": [
    {
     "data": {
      "text/html": [
       "'data_all_pheno_jak'"
      ],
      "text/latex": [
       "'data\\_all\\_pheno\\_jak'"
      ],
      "text/markdown": [
       "'data_all_pheno_jak'"
      ],
      "text/plain": [
       "[1] \"data_all_pheno_jak\""
      ]
     },
     "metadata": {},
     "output_type": "display_data"
    }
   ],
   "source": [
    "x <- load(\"data_all_pheno_JAK2CHIP.Rdata\")\n",
    "x"
   ]
  },
  {
   "cell_type": "code",
   "execution_count": 8,
   "metadata": {
    "hidden": true
   },
   "outputs": [
    {
     "data": {
      "text/plain": [
       "\n",
       "     0      1      2      3 \n",
       "471164     62     66     64 "
      ]
     },
     "metadata": {},
     "output_type": "display_data"
    }
   ],
   "source": [
    "data_all_pheno_jak$jak2_af333 <- ifelse(is.na(data_all_pheno_jak$jak2_af333),0, data_all_pheno_jak$jak2_af333)\n",
    "table(data_all_pheno_jak$jak2_af333)"
   ]
  },
  {
   "cell_type": "code",
   "execution_count": 51,
   "metadata": {
    "hidden": true
   },
   "outputs": [],
   "source": [
    "data_filter <- filter(data_all_pheno_jak,data_all_pheno_jak$surv_CVD >0)"
   ]
  },
  {
   "cell_type": "code",
   "execution_count": 24,
   "metadata": {
    "hidden": true,
    "scrolled": true
   },
   "outputs": [
    {
     "data": {
      "text/plain": [
       "Call:\n",
       "coxph(formula = Surv(surv_CVD, CVD) ~ AF + Interleukin17_receptor_A + \n",
       "    Interleukin17_receptor_A * AF + baseline_age + age2 + genetic_sex + \n",
       "    smoking_0 + PC1 + PC2 + PC3 + PCD4 + PC5 + ldl_0 + baseline_DM + \n",
       "    BMI_0 + baseline_HTN + AID, data = data_filter)\n",
       "\n",
       "  n= 435437, number of events= 8345 \n",
       "   (24557 observations deleted due to missingness)\n",
       "\n",
       "                                  coef  exp(coef)   se(coef)      z Pr(>|z|)\n",
       "AF                           2.024e+00  7.569e+00  7.706e-01  2.627 0.008625\n",
       "Interleukin17_receptor_A     2.925e-03  1.003e+00  1.398e-02  0.209 0.834236\n",
       "baseline_age                 5.148e-02  1.053e+00  2.230e-02  2.309 0.020953\n",
       "age2                         2.855e-05  1.000e+00  1.954e-04  0.146 0.883804\n",
       "genetic_sex                  5.305e-01  1.700e+00  2.271e-02 23.361  < 2e-16\n",
       "smoking_0                    2.530e-01  1.288e+00  1.554e-02 16.282  < 2e-16\n",
       "PC1                         -9.779e-04  9.990e-01  2.794e-04 -3.500 0.000465\n",
       "PC2                         -2.878e-04  9.997e-01  5.403e-04 -0.533 0.594297\n",
       "PC3                          3.193e-03  1.003e+00  9.315e-04  3.428 0.000609\n",
       "PCD4                         5.632e-03  1.006e+00  1.158e-03  4.864 1.15e-06\n",
       "PC5                          1.195e-02  1.012e+00  1.363e-03  8.768  < 2e-16\n",
       "ldl_0                        1.547e-01  1.167e+00  1.275e-02 12.135  < 2e-16\n",
       "baseline_DM                  4.424e-01  1.556e+00  4.885e-02  9.056  < 2e-16\n",
       "BMI_0                        1.722e-02  1.017e+00  2.339e-03  7.361 1.82e-13\n",
       "baseline_HTN                 6.306e-01  1.879e+00  2.939e-02 21.456  < 2e-16\n",
       "AID                          1.136e+00  3.115e+00  4.404e-02 25.799  < 2e-16\n",
       "AF:Interleukin17_receptor_A -1.456e+00  2.332e-01  9.275e-01 -1.570 0.116515\n",
       "                               \n",
       "AF                          ** \n",
       "Interleukin17_receptor_A       \n",
       "baseline_age                *  \n",
       "age2                           \n",
       "genetic_sex                 ***\n",
       "smoking_0                   ***\n",
       "PC1                         ***\n",
       "PC2                            \n",
       "PC3                         ***\n",
       "PCD4                        ***\n",
       "PC5                         ***\n",
       "ldl_0                       ***\n",
       "baseline_DM                 ***\n",
       "BMI_0                       ***\n",
       "baseline_HTN                ***\n",
       "AID                         ***\n",
       "AF:Interleukin17_receptor_A    \n",
       "---\n",
       "Signif. codes:  0 ‘***’ 0.001 ‘**’ 0.01 ‘*’ 0.05 ‘.’ 0.1 ‘ ’ 1\n",
       "\n",
       "                            exp(coef) exp(-coef) lower .95 upper .95\n",
       "AF                             7.5691     0.1321   1.67144   34.2761\n",
       "Interleukin17_receptor_A       1.0029     0.9971   0.97583    1.0308\n",
       "baseline_age                   1.0528     0.9498   1.00781    1.0999\n",
       "age2                           1.0000     1.0000   0.99965    1.0004\n",
       "genetic_sex                    1.6997     0.5883   1.62571    1.7771\n",
       "smoking_0                      1.2879     0.7765   1.24924    1.3277\n",
       "PC1                            0.9990     1.0010   0.99848    0.9996\n",
       "PC2                            0.9997     1.0003   0.99865    1.0008\n",
       "PC3                            1.0032     0.9968   1.00137    1.0050\n",
       "PCD4                           1.0056     0.9944   1.00337    1.0079\n",
       "PC5                            1.0120     0.9881   1.00932    1.0147\n",
       "ldl_0                          1.1673     0.8567   1.13852    1.1969\n",
       "baseline_DM                    1.5564     0.6425   1.41428    1.7127\n",
       "BMI_0                          1.0174     0.9829   1.01272    1.0220\n",
       "baseline_HTN                   1.8788     0.5323   1.77362    1.9902\n",
       "AID                            3.1152     0.3210   2.85758    3.3961\n",
       "AF:Interleukin17_receptor_A    0.2332     4.2878   0.03787    1.4363\n",
       "\n",
       "Concordance= 0.698  (se = 0.003 )\n",
       "Likelihood ratio test= 4250  on 17 df,   p=<2e-16\n",
       "Wald test            = 4442  on 17 df,   p=<2e-16\n",
       "Score (logrank) test = 4880  on 17 df,   p=<2e-16\n"
      ]
     },
     "metadata": {},
     "output_type": "display_data"
    }
   ],
   "source": [
    "cox_fit <- coxph(Surv(surv_CVD,CVD)~ AF + Interleukin17_receptor_A + Interleukin17_receptor_A*AF +\n",
    "                 baseline_age+age2+genetic_sex+smoking_0+PC1+PC2+PC3+PCD4+PC5+ldl_0+baseline_DM+BMI_0+baseline_HTN+AID, data = data_filter)\n",
    "summary(cox_fit)"
   ]
  },
  {
   "cell_type": "code",
   "execution_count": 52,
   "metadata": {
    "hidden": true
   },
   "outputs": [
    {
     "data": {
      "text/html": [
       "'numeric'"
      ],
      "text/latex": [
       "'numeric'"
      ],
      "text/markdown": [
       "'numeric'"
      ],
      "text/plain": [
       "[1] \"numeric\""
      ]
     },
     "metadata": {},
     "output_type": "display_data"
    }
   ],
   "source": [
    "class(data_filter$jak2_af333)"
   ]
  },
  {
   "cell_type": "code",
   "execution_count": 60,
   "metadata": {
    "collapsed": true,
    "hidden": true
   },
   "outputs": [
    {
     "data": {
      "text/plain": [
       "Call:\n",
       "coxph(formula = Surv(surv_CVD, CVD) ~ jak2_af333 + Interleukin17_receptor_A + \n",
       "    Interleukin17_receptor_A * jak2_af333 + baseline_age + age2 + \n",
       "    genetic_sex + smoking_0 + PC1 + PC2 + PC3 + PCD4 + PC5 + \n",
       "    baseline_DM + BMI_0 + baseline_HTN + AID, data = data_filter)\n",
       "\n",
       "  n= 457709, number of events= 8754 \n",
       "   (2285 observations deleted due to missingness)\n",
       "\n",
       "                                          coef  exp(coef)   se(coef)      z\n",
       "jak2_af333                           0.4898394  1.6320541  0.1832751  2.673\n",
       "Interleukin17_receptor_A             0.0014007  1.0014017  0.0136471  0.103\n",
       "baseline_age                         0.0706643  1.0732209  0.0217305  3.252\n",
       "age2                                -0.0001425  0.9998575  0.0001904 -0.748\n",
       "genetic_sex                          0.4950631  1.6406018  0.0219825 22.521\n",
       "smoking_0                            0.2561348  1.2919269  0.0151765 16.877\n",
       "PC1                                 -0.0011508  0.9988498  0.0002732 -4.212\n",
       "PC2                                 -0.0001199  0.9998801  0.0005357 -0.224\n",
       "PC3                                  0.0031038  1.0031086  0.0009219  3.367\n",
       "PCD4                                 0.0055274  1.0055427  0.0011308  4.888\n",
       "PC5                                  0.0111231  1.0111852  0.0013336  8.341\n",
       "baseline_DM                          0.3303090  1.3913980  0.0464341  7.113\n",
       "BMI_0                                0.0167865  1.0169282  0.0022648  7.412\n",
       "baseline_HTN                         0.5815441  1.7887984  0.0283570 20.508\n",
       "AID                                  1.1523993  3.1657795  0.0428971 26.864\n",
       "jak2_af333:Interleukin17_receptor_A -0.4879130  0.6139063  0.2341693 -2.084\n",
       "                                    Pr(>|z|)    \n",
       "jak2_af333                           0.00752 ** \n",
       "Interleukin17_receptor_A             0.91825    \n",
       "baseline_age                         0.00115 ** \n",
       "age2                                 0.45427    \n",
       "genetic_sex                          < 2e-16 ***\n",
       "smoking_0                            < 2e-16 ***\n",
       "PC1                                 2.53e-05 ***\n",
       "PC2                                  0.82285    \n",
       "PC3                                  0.00076 ***\n",
       "PCD4                                1.02e-06 ***\n",
       "PC5                                  < 2e-16 ***\n",
       "baseline_DM                         1.13e-12 ***\n",
       "BMI_0                               1.25e-13 ***\n",
       "baseline_HTN                         < 2e-16 ***\n",
       "AID                                  < 2e-16 ***\n",
       "jak2_af333:Interleukin17_receptor_A  0.03720 *  \n",
       "---\n",
       "Signif. codes:  0 ‘***’ 0.001 ‘**’ 0.01 ‘*’ 0.05 ‘.’ 0.1 ‘ ’ 1\n",
       "\n",
       "                                    exp(coef) exp(-coef) lower .95 upper .95\n",
       "jak2_af333                             1.6321     0.6127    1.1395    2.3374\n",
       "Interleukin17_receptor_A               1.0014     0.9986    0.9750    1.0285\n",
       "baseline_age                           1.0732     0.9318    1.0285    1.1199\n",
       "age2                                   0.9999     1.0001    0.9995    1.0002\n",
       "genetic_sex                            1.6406     0.6095    1.5714    1.7128\n",
       "smoking_0                              1.2919     0.7740    1.2541    1.3309\n",
       "PC1                                    0.9988     1.0012    0.9983    0.9994\n",
       "PC2                                    0.9999     1.0001    0.9988    1.0009\n",
       "PC3                                    1.0031     0.9969    1.0013    1.0049\n",
       "PCD4                                   1.0055     0.9945    1.0033    1.0078\n",
       "PC5                                    1.0112     0.9889    1.0085    1.0138\n",
       "baseline_DM                            1.3914     0.7187    1.2704    1.5240\n",
       "BMI_0                                  1.0169     0.9834    1.0124    1.0215\n",
       "baseline_HTN                           1.7888     0.5590    1.6921    1.8910\n",
       "AID                                    3.1658     0.3159    2.9105    3.4435\n",
       "jak2_af333:Interleukin17_receptor_A    0.6139     1.6289    0.3880    0.9715\n",
       "\n",
       "Concordance= 0.695  (se = 0.003 )\n",
       "Likelihood ratio test= 4321  on 16 df,   p=<2e-16\n",
       "Wald test            = 4578  on 16 df,   p=<2e-16\n",
       "Score (logrank) test = 5048  on 16 df,   p=<2e-16\n"
      ]
     },
     "metadata": {},
     "output_type": "display_data"
    }
   ],
   "source": [
    "cox_fit <- coxph(Surv(surv_CVD,CVD)~ jak2_af333 + Interleukin17_receptor_A + Interleukin17_receptor_A*jak2_af333 +\n",
    "                 baseline_age+age2+genetic_sex+smoking_0+PC1+PC2+PC3+PCD4+PC5+baseline_DM+BMI_0+baseline_HTN+AID, data = data_filter)\n",
    "summary(cox_fit)"
   ]
  },
  {
   "cell_type": "code",
   "execution_count": 62,
   "metadata": {
    "hidden": true
   },
   "outputs": [
    {
     "data": {
      "text/html": [
       "0.971473612635316"
      ],
      "text/latex": [
       "0.971473612635316"
      ],
      "text/markdown": [
       "0.971473612635316"
      ],
      "text/plain": [
       "[1] 0.9714736"
      ]
     },
     "metadata": {},
     "output_type": "display_data"
    },
    {
     "data": {
      "text/html": [
       "0.3879476667369"
      ],
      "text/latex": [
       "0.3879476667369"
      ],
      "text/markdown": [
       "0.3879476667369"
      ],
      "text/plain": [
       "[1] 0.3879477"
      ]
     },
     "metadata": {},
     "output_type": "display_data"
    }
   ],
   "source": [
    "exp(-0.4879130+1.96*0.2341693)\n",
    "exp(-0.4879130-1.96*0.2341693)"
   ]
  },
  {
   "cell_type": "markdown",
   "metadata": {},
   "source": [
    "# JAK2 & CVD by IL17RA group"
   ]
  },
  {
   "cell_type": "code",
   "execution_count": 3,
   "metadata": {},
   "outputs": [
    {
     "data": {
      "text/plain": [
       "\n",
       "     1      2      3 \n",
       "157119 157118 157119 "
      ]
     },
     "metadata": {},
     "output_type": "display_data"
    }
   ],
   "source": [
    "data_all_pheno_jak$il17ra_333 <- 2\n",
    "data_all_pheno_jak$il17ra_333[data_all_pheno_jak$Interleukin17_receptor_A >= quantile(data_all_pheno_jak$Interleukin17_receptor_A,2/3)] <- 3\n",
    "data_all_pheno_jak$il17ra_333[data_all_pheno_jak$Interleukin17_receptor_A < quantile(data_all_pheno_jak$Interleukin17_receptor_A,1/3)] <- 1\n",
    "data_all_pheno_jak$il17ra_333<-as.factor(data_all_pheno_jak$il17ra_333)\n",
    "table(data_all_pheno_jak$il17ra_333)"
   ]
  },
  {
   "cell_type": "markdown",
   "metadata": {},
   "source": [
    "## 5groups"
   ]
  },
  {
   "cell_type": "code",
   "execution_count": 59,
   "metadata": {},
   "outputs": [
    {
     "data": {
      "text/plain": [
       "\n",
       "    1     2     3     4     5 \n",
       "94272 94271 94271 94271 94271 "
      ]
     },
     "metadata": {},
     "output_type": "display_data"
    }
   ],
   "source": [
    "data_all_pheno_jak <- data_all_pheno_jak %>%\n",
    "  mutate(il17_group5 = ntile(Interleukin17_receptor_A, 5))\n",
    "table(data_all_pheno_jak$il17_group5)"
   ]
  },
  {
   "cell_type": "code",
   "execution_count": 61,
   "metadata": {},
   "outputs": [],
   "source": [
    "il17ra_1 <- filter(data_all_pheno_jak, data_all_pheno_jak$il17_group5 == 1)\n",
    "il17ra_2 <- filter(data_all_pheno_jak, data_all_pheno_jak$il17_group5 == 2)\n",
    "il17ra_345 <- filter(data_all_pheno_jak, data_all_pheno_jak$il17_group5 == 3 |data_all_pheno_jak$il17_group5 == 4 | data_all_pheno_jak$il17_group5 == 5)"
   ]
  },
  {
   "cell_type": "code",
   "execution_count": 78,
   "metadata": {},
   "outputs": [
    {
     "data": {
      "text/plain": [
       "   \n",
       "        0     1\n",
       "  0 90118  4115\n",
       "  1    31     8"
      ]
     },
     "metadata": {},
     "output_type": "display_data"
    },
    {
     "data": {
      "text/plain": [
       "   \n",
       "        0     1\n",
       "  0 90260  3978\n",
       "  1    27     6"
      ]
     },
     "metadata": {},
     "output_type": "display_data"
    },
    {
     "data": {
      "text/plain": [
       "   \n",
       "         0      1\n",
       "  0 270623  12070\n",
       "  1    113      7"
      ]
     },
     "metadata": {},
     "output_type": "display_data"
    }
   ],
   "source": [
    "table(il17ra_1$jak2,il17ra_1$CVD)\n",
    "table(il17ra_2$jak2,il17ra_2$CVD)\n",
    "table(il17ra_345$jak2,il17ra_345$CVD)"
   ]
  },
  {
   "cell_type": "code",
   "execution_count": 64,
   "metadata": {
    "collapsed": true
   },
   "outputs": [
    {
     "name": "stdout",
     "output_type": "stream",
     "text": [
      "Call:\n",
      "coxph(formula = formula, data = df_filtered)\n",
      "\n",
      "  n= 87033, number of events= 1675 \n",
      "   (4899 observations deleted due to missingness)\n",
      "\n",
      "                    coef  exp(coef)   se(coef)      z Pr(>|z|)    \n",
      "jak2           1.6224370  5.0654196  0.5783319  2.805 0.005026 ** \n",
      "baseline_age   0.1363220  1.1460509  0.0516752  2.638 0.008338 ** \n",
      "age2          -0.0007242  0.9992761  0.0004520 -1.602 0.109106    \n",
      "genetic_sex    0.5171056  1.6771663  0.0516119 10.019  < 2e-16 ***\n",
      "smoking_0      0.2242709  1.2514100  0.0350158  6.405 1.51e-10 ***\n",
      "PC1           -0.0022128  0.9977897  0.0010809 -2.047 0.040636 *  \n",
      "PC2            0.0031705  1.0031755  0.0043418  0.730 0.465253    \n",
      "PC3            0.0120840  1.0121573  0.0068879  1.754 0.079367 .  \n",
      "PCD4           0.0075565  1.0075851  0.0029787  2.537 0.011185 *  \n",
      "PC5            0.0140890  1.0141887  0.0030265  4.655 3.24e-06 ***\n",
      "ldl_0          0.1054512  1.1112119  0.0285146  3.698 0.000217 ***\n",
      "baseline_DM    0.6455186  1.9069758  0.1089172  5.927 3.09e-09 ***\n",
      "BMI_0          0.0216069  1.0218421  0.0052932  4.082 4.46e-05 ***\n",
      "systolicBP_0   0.0112781  1.0113420  0.0018212  6.193 5.92e-10 ***\n",
      "diastolicBP_0 -0.0028089  0.9971950  0.0034494 -0.814 0.415464    \n",
      "AID            1.3400911  3.8193914  0.0912068 14.693  < 2e-16 ***\n",
      "---\n",
      "Signif. codes:  0 ‘***’ 0.001 ‘**’ 0.01 ‘*’ 0.05 ‘.’ 0.1 ‘ ’ 1\n",
      "\n",
      "              exp(coef) exp(-coef) lower .95 upper .95\n",
      "jak2             5.0654     0.1974    1.6306   15.7359\n",
      "baseline_age     1.1461     0.8726    1.0357    1.2682\n",
      "age2             0.9993     1.0007    0.9984    1.0002\n",
      "genetic_sex      1.6772     0.5962    1.5158    1.8557\n",
      "smoking_0        1.2514     0.7991    1.1684    1.3403\n",
      "PC1              0.9978     1.0022    0.9957    0.9999\n",
      "PC2              1.0032     0.9968    0.9947    1.0117\n",
      "PC3              1.0122     0.9880    0.9986    1.0259\n",
      "PCD4             1.0076     0.9925    1.0017    1.0135\n",
      "PC5              1.0142     0.9860    1.0082    1.0202\n",
      "ldl_0            1.1112     0.8999    1.0508    1.1751\n",
      "baseline_DM      1.9070     0.5244    1.5404    2.3608\n",
      "BMI_0            1.0218     0.9786    1.0113    1.0325\n",
      "systolicBP_0     1.0113     0.9888    1.0077    1.0150\n",
      "diastolicBP_0    0.9972     1.0028    0.9905    1.0040\n",
      "AID              3.8194     0.2618    3.1942    4.5670\n",
      "\n",
      "Concordance= 0.702  (se = 0.006 )\n",
      "Likelihood ratio test= 913.1  on 16 df,   p=<2e-16\n",
      "Wald test            = 933.9  on 16 df,   p=<2e-16\n",
      "Score (logrank) test = 1032  on 16 df,   p=<2e-16\n",
      "\n",
      "                Coefficient Exp(Coefficient) Standard Error    z value\n",
      "jak2           1.6224369844        5.0654196   0.5783319168  2.8053734\n",
      "baseline_age   0.1363220054        1.1460509   0.0516751884  2.6380553\n",
      "age2          -0.0007241758        0.9992761   0.0004519819 -1.6022232\n",
      "genetic_sex    0.5171056372        1.6771663   0.0516118982 10.0191168\n",
      "smoking_0      0.2242709238        1.2514100   0.0350158289  6.4048441\n",
      "PC1           -0.0022127651        0.9977897   0.0010808633 -2.0472201\n",
      "PC2            0.0031705080        1.0031755   0.0043418249  0.7302247\n",
      "PC3            0.0120840155        1.0121573   0.0068879420  1.7543724\n",
      "PCD4           0.0075564663        1.0075851   0.0029786502  2.5368760\n",
      "PC5            0.0140889586        1.0141887   0.0030264571  4.6552647\n",
      "ldl_0          0.1054511905        1.1112119   0.0285145895  3.6981486\n",
      "baseline_DM    0.6455186209        1.9069758   0.1089171757  5.9266926\n",
      "BMI_0          0.0216069491        1.0218421   0.0052931653  4.0820469\n",
      "systolicBP_0   0.0112781338        1.0113420   0.0018212263  6.1926044\n",
      "diastolicBP_0 -0.0028089394        0.9971950   0.0034494456 -0.8143162\n",
      "AID            1.3400910877        3.8193914   0.0912067808 14.6928888\n",
      "                   p value\n",
      "jak2          5.025832e-03\n",
      "baseline_age  8.338298e-03\n",
      "age2          1.091063e-01\n",
      "genetic_sex   1.256204e-23\n",
      "smoking_0     1.505231e-10\n",
      "PC1           4.063648e-02\n",
      "PC2           4.652528e-01\n",
      "PC3           7.936671e-02\n",
      "PCD4          1.118466e-02\n",
      "PC5           3.235648e-06\n",
      "ldl_0         2.171777e-04\n",
      "baseline_DM   3.090968e-09\n",
      "BMI_0         4.464078e-05\n",
      "systolicBP_0  5.917813e-10\n",
      "diastolicBP_0 4.154638e-01\n",
      "AID           7.159530e-49\n"
     ]
    }
   ],
   "source": [
    "results <- analyze_cox_model(\n",
    "  data = il17ra_1, \n",
    "  time_var = \"surv_CVD\", \n",
    "  event_var = \"CVD\", \n",
    "  group_var = \"jak2\", \n",
    "  covariates = c(\"baseline_age\", \"age2\", \"genetic_sex\", \"smoking_0\", \"PC1\", \"PC2\", \"PC3\", \"PCD4\", \"PC5\",\"ldl_0\",\"baseline_DM\",\"BMI_0\",\"systolicBP_0\",\"diastolicBP_0\",\"AID\")\n",
    ")"
   ]
  },
  {
   "cell_type": "code",
   "execution_count": 65,
   "metadata": {
    "collapsed": true
   },
   "outputs": [
    {
     "name": "stdout",
     "output_type": "stream",
     "text": [
      "Call:\n",
      "coxph(formula = formula, data = df_filtered)\n",
      "\n",
      "  n= 87177, number of events= 1698 \n",
      "   (4903 observations deleted due to missingness)\n",
      "\n",
      "                    coef  exp(coef)   se(coef)      z Pr(>|z|)    \n",
      "jak2           1.7434096  5.7168023  0.5783780  3.014 0.002576 ** \n",
      "baseline_age  -0.0052823  0.9947316  0.0489965 -0.108 0.914146    \n",
      "age2           0.0005233  1.0005235  0.0004302  1.216 0.223851    \n",
      "genetic_sex    0.4757053  1.6091488  0.0510233  9.323  < 2e-16 ***\n",
      "smoking_0      0.2811932  1.3247094  0.0344134  8.171 3.06e-16 ***\n",
      "PC1           -0.0016912  0.9983102  0.0007566 -2.235 0.025397 *  \n",
      "PC2            0.0028624  1.0028665  0.0030795  0.929 0.352633    \n",
      "PC3            0.0096353  1.0096819  0.0050004  1.927 0.053990 .  \n",
      "PCD4           0.0049236  1.0049357  0.0026542  1.855 0.063591 .  \n",
      "PC5            0.0113396  1.0114041  0.0030603  3.705 0.000211 ***\n",
      "ldl_0          0.1253600  1.1335565  0.0283339  4.424 9.67e-06 ***\n",
      "baseline_DM    0.7762349  2.1732742  0.1042397  7.447 9.58e-14 ***\n",
      "BMI_0          0.0168586  1.0170016  0.0052910  3.186 0.001441 ** \n",
      "systolicBP_0   0.0074585  1.0074864  0.0018384  4.057 4.97e-05 ***\n",
      "diastolicBP_0  0.0025855  1.0025888  0.0034462  0.750 0.453114    \n",
      "AID            1.0835105  2.9550350  0.1014093 10.685  < 2e-16 ***\n",
      "---\n",
      "Signif. codes:  0 ‘***’ 0.001 ‘**’ 0.01 ‘*’ 0.05 ‘.’ 0.1 ‘ ’ 1\n",
      "\n",
      "              exp(coef) exp(-coef) lower .95 upper .95\n",
      "jak2             5.7168     0.1749    1.8401   17.7611\n",
      "baseline_age     0.9947     1.0053    0.9036    1.0950\n",
      "age2             1.0005     0.9995    0.9997    1.0014\n",
      "genetic_sex      1.6091     0.6214    1.4560    1.7784\n",
      "smoking_0        1.3247     0.7549    1.2383    1.4171\n",
      "PC1              0.9983     1.0017    0.9968    0.9998\n",
      "PC2              1.0029     0.9971    0.9968    1.0089\n",
      "PC3              1.0097     0.9904    0.9998    1.0196\n",
      "PCD4             1.0049     0.9951    0.9997    1.0102\n",
      "PC5              1.0114     0.9887    1.0054    1.0175\n",
      "ldl_0            1.1336     0.8822    1.0723    1.1983\n",
      "baseline_DM      2.1733     0.4601    1.7717    2.6659\n",
      "BMI_0            1.0170     0.9833    1.0065    1.0276\n",
      "systolicBP_0     1.0075     0.9926    1.0039    1.0111\n",
      "diastolicBP_0    1.0026     0.9974    0.9958    1.0094\n",
      "AID              2.9550     0.3384    2.4224    3.6048\n",
      "\n",
      "Concordance= 0.692  (se = 0.006 )\n",
      "Likelihood ratio test= 818.2  on 16 df,   p=<2e-16\n",
      "Wald test            = 829.5  on 16 df,   p=<2e-16\n",
      "Score (logrank) test = 897.4  on 16 df,   p=<2e-16\n",
      "\n",
      "                Coefficient Exp(Coefficient) Standard Error    z value\n",
      "jak2           1.7434096137        5.7168023   0.5783779674  3.0143085\n",
      "baseline_age  -0.0052823353        0.9947316   0.0489965127 -0.1078104\n",
      "age2           0.0005233281        1.0005235   0.0004302445  1.2163504\n",
      "genetic_sex    0.4757053415        1.6091488   0.0510233398  9.3232890\n",
      "smoking_0      0.2811931512        1.3247094   0.0344134420  8.1710266\n",
      "PC1           -0.0016912474        0.9983102   0.0007566062 -2.2353073\n",
      "PC2            0.0028623803        1.0028665   0.0030795023  0.9294944\n",
      "PC3            0.0096353457        1.0096819   0.0050003869  1.9269200\n",
      "PCD4           0.0049235942        1.0049357   0.0026541783  1.8550352\n",
      "PC5            0.0113395935        1.0114041   0.0030602639  3.7054300\n",
      "ldl_0          0.1253600005        1.1335565   0.0283339419  4.4243756\n",
      "baseline_DM    0.7762348554        2.1732742   0.1042397420  7.4466306\n",
      "BMI_0          0.0168586421        1.0170016   0.0052909750  3.1863016\n",
      "systolicBP_0   0.0074585468        1.0074864   0.0018383878  4.0571128\n",
      "diastolicBP_0  0.0025854837        1.0025888   0.0034462413  0.7502329\n",
      "AID            1.0835104965        2.9550350   0.1014093331 10.6845244\n",
      "                   p value\n",
      "jak2          2.575658e-03\n",
      "baseline_age  9.141461e-01\n",
      "age2          2.238515e-01\n",
      "genetic_sex   1.127886e-20\n",
      "smoking_0     3.057761e-16\n",
      "PC1           2.539718e-02\n",
      "PC2           3.526329e-01\n",
      "PC3           5.398960e-02\n",
      "PCD4          6.359120e-02\n",
      "PC5           2.110324e-04\n",
      "ldl_0         9.672163e-06\n",
      "baseline_DM   9.575422e-14\n",
      "BMI_0         1.441043e-03\n",
      "systolicBP_0  4.968310e-05\n",
      "diastolicBP_0 4.531144e-01\n",
      "AID           1.202638e-26\n"
     ]
    }
   ],
   "source": [
    "results <- analyze_cox_model(\n",
    "  data = il17ra_2, \n",
    "  time_var = \"surv_CVD\", \n",
    "  event_var = \"CVD\", \n",
    "  group_var = \"jak2\", \n",
    "  covariates = c(\"baseline_age\", \"age2\", \"genetic_sex\", \"smoking_0\", \"PC1\", \"PC2\", \"PC3\", \"PCD4\", \"PC5\",\"ldl_0\",\"baseline_DM\",\"BMI_0\",\"systolicBP_0\",\"diastolicBP_0\",\"AID\")\n",
    ")"
   ]
  },
  {
   "cell_type": "code",
   "execution_count": 80,
   "metadata": {
    "collapsed": true
   },
   "outputs": [
    {
     "name": "stderr",
     "output_type": "stream",
     "text": [
      "Warning message in coxph.fit(X, Y, istrat, offset, init, control, weights = weights, :\n",
      "“Loglik converged before variable  1 ; coefficient may be infinite. ”\n"
     ]
    },
    {
     "name": "stdout",
     "output_type": "stream",
     "text": [
      "Call:\n",
      "coxph(formula = formula, data = df_filtered)\n",
      "\n",
      "  n= 261227, number of events= 4972 \n",
      "   (14755 observations deleted due to missingness)\n",
      "\n",
      "                    coef  exp(coef)   se(coef)      z Pr(>|z|)    \n",
      "jak2          -1.216e+01  5.258e-06  2.706e+02 -0.045   0.9642    \n",
      "baseline_age   3.925e-02  1.040e+00  2.878e-02  1.364   0.1726    \n",
      "age2           1.152e-04  1.000e+00  2.528e-04  0.456   0.6487    \n",
      "genetic_sex    4.780e-01  1.613e+00  2.983e-02 16.025  < 2e-16 ***\n",
      "smoking_0      2.647e-01  1.303e+00  2.014e-02 13.144  < 2e-16 ***\n",
      "PC1           -7.650e-04  9.992e-01  3.328e-04 -2.298   0.0215 *  \n",
      "PC2           -3.455e-04  9.997e-01  5.773e-04 -0.598   0.5496    \n",
      "PC3            2.466e-03  1.002e+00  1.031e-03  2.393   0.0167 *  \n",
      "PCD4           6.192e-03  1.006e+00  1.531e-03  4.043 5.28e-05 ***\n",
      "PC5            1.330e-02  1.013e+00  1.761e-03  7.552 4.28e-14 ***\n",
      "ldl_0          9.002e-02  1.094e+00  1.670e-02  5.389 7.09e-08 ***\n",
      "baseline_DM    6.184e-01  1.856e+00  6.248e-02  9.898  < 2e-16 ***\n",
      "BMI_0          2.180e-02  1.022e+00  3.065e-03  7.111 1.15e-12 ***\n",
      "systolicBP_0   8.963e-03  1.009e+00  1.071e-03  8.372  < 2e-16 ***\n",
      "diastolicBP_0  3.763e-04  1.000e+00  2.004e-03  0.188   0.8510    \n",
      "AID            1.131e+00  3.100e+00  5.786e-02 19.553  < 2e-16 ***\n",
      "---\n",
      "Signif. codes:  0 ‘***’ 0.001 ‘**’ 0.01 ‘*’ 0.05 ‘.’ 0.1 ‘ ’ 1\n",
      "\n",
      "              exp(coef) exp(-coef)  lower .95  upper .95\n",
      "jak2          5.258e-06  1.902e+05 2.625e-236 1.053e+225\n",
      "baseline_age  1.040e+00  9.615e-01  9.830e-01  1.100e+00\n",
      "age2          1.000e+00  9.999e-01  9.996e-01  1.001e+00\n",
      "genetic_sex   1.613e+00  6.200e-01  1.521e+00  1.710e+00\n",
      "smoking_0     1.303e+00  7.674e-01  1.253e+00  1.356e+00\n",
      "PC1           9.992e-01  1.001e+00  9.986e-01  9.999e-01\n",
      "PC2           9.997e-01  1.000e+00  9.985e-01  1.001e+00\n",
      "PC3           1.002e+00  9.975e-01  1.000e+00  1.004e+00\n",
      "PCD4          1.006e+00  9.938e-01  1.003e+00  1.009e+00\n",
      "PC5           1.013e+00  9.868e-01  1.010e+00  1.017e+00\n",
      "ldl_0         1.094e+00  9.139e-01  1.059e+00  1.131e+00\n",
      "baseline_DM   1.856e+00  5.388e-01  1.642e+00  2.098e+00\n",
      "BMI_0         1.022e+00  9.784e-01  1.016e+00  1.028e+00\n",
      "systolicBP_0  1.009e+00  9.911e-01  1.007e+00  1.011e+00\n",
      "diastolicBP_0 1.000e+00  9.996e-01  9.965e-01  1.004e+00\n",
      "AID           3.100e+00  3.226e-01  2.767e+00  3.472e+00\n",
      "\n",
      "Concordance= 0.691  (se = 0.004 )\n",
      "Likelihood ratio test= 2369  on 16 df,   p=<2e-16\n",
      "Wald test            = 1454  on 16 df,   p=<2e-16\n",
      "Score (logrank) test = 2571  on 16 df,   p=<2e-16\n",
      "\n",
      "                Coefficient Exp(Coefficient) Standard Error     z value\n",
      "jak2          -1.215585e+01     5.257531e-06   2.705606e+02 -0.04492837\n",
      "baseline_age   3.924524e-02     1.040026e+00   2.877501e-02  1.36386548\n",
      "age2           1.151785e-04     1.000115e+00   2.527886e-04  0.45563186\n",
      "genetic_sex    4.779813e-01     1.612815e+00   2.982736e-02 16.02493016\n",
      "smoking_0      2.647450e-01     1.303099e+00   2.014127e-02 13.14440280\n",
      "PC1           -7.650215e-04     9.992353e-01   3.328502e-04 -2.29839577\n",
      "PC2           -3.454508e-04     9.996546e-01   5.772606e-04 -0.59843129\n",
      "PC3            2.466395e-03     1.002469e+00   1.030518e-03  2.39335366\n",
      "PCD4           6.191639e-03     1.006211e+00   1.531450e-03  4.04299273\n",
      "PC5            1.330143e-02     1.013390e+00   1.761283e-03  7.55212541\n",
      "ldl_0          9.001993e-02     1.094196e+00   1.670446e-02  5.38897459\n",
      "baseline_DM    6.183762e-01     1.855912e+00   6.247800e-02  9.89750360\n",
      "BMI_0          2.179642e-02     1.022036e+00   3.065177e-03  7.11098163\n",
      "systolicBP_0   8.962835e-03     1.009003e+00   1.070582e-03  8.37192550\n",
      "diastolicBP_0  3.763477e-04     1.000376e+00   2.003662e-03  0.18782990\n",
      "AID            1.131319e+00     3.099743e+00   5.785896e-02 19.55304740\n",
      "                   p value\n",
      "jak2          9.641644e-01\n",
      "baseline_age  1.726099e-01\n",
      "age2          6.486547e-01\n",
      "genetic_sex   8.558699e-58\n",
      "smoking_0     1.832465e-39\n",
      "PC1           2.153927e-02\n",
      "PC2           5.495522e-01\n",
      "PC3           1.669514e-02\n",
      "PCD4          5.277326e-05\n",
      "PC5           4.282119e-14\n",
      "ldl_0         7.086082e-08\n",
      "baseline_DM   4.267954e-23\n",
      "BMI_0         1.152205e-12\n",
      "systolicBP_0  5.668428e-17\n",
      "diastolicBP_0 8.510100e-01\n",
      "AID           3.886000e-85\n"
     ]
    }
   ],
   "source": [
    "results <- analyze_cox_model(\n",
    "  data = il17ra_345, \n",
    "  time_var = \"surv_CVD\", \n",
    "  event_var = \"CVD\", \n",
    "  group_var = \"jak2\", \n",
    "  covariates = c(\"baseline_age\", \"age2\", \"genetic_sex\", \"smoking_0\", \"PC1\", \"PC2\", \"PC3\", \"PCD4\", \"PC5\",\"ldl_0\",\"baseline_DM\",\"BMI_0\",\"systolicBP_0\",\"diastolicBP_0\",\"AID\")\n",
    ")"
   ]
  },
  {
   "cell_type": "markdown",
   "metadata": {
    "heading_collapsed": true
   },
   "source": [
    "## Three groups"
   ]
  },
  {
   "cell_type": "code",
   "execution_count": 4,
   "metadata": {
    "hidden": true
   },
   "outputs": [
    {
     "data": {
      "text/plain": [
       "   \n",
       "         0      1\n",
       "  1 157058     61\n",
       "  2 157046     72\n",
       "  3 157060     59"
      ]
     },
     "metadata": {},
     "output_type": "display_data"
    }
   ],
   "source": [
    "table(data_all_pheno_jak$il17ra_333, data_all_pheno_jak$jak2)"
   ]
  },
  {
   "cell_type": "code",
   "execution_count": 112,
   "metadata": {
    "hidden": true,
    "scrolled": true
   },
   "outputs": [
    {
     "name": "stdout",
     "output_type": "stream",
     "text": [
      "Call:\n",
      "coxph(formula = formula, data = df_filtered)\n",
      "\n",
      "  n= 145139, number of events= 2830 \n",
      "   (8154 observations deleted due to missingness)\n",
      "\n",
      "                   coef  exp(coef)   se(coef)      z Pr(>|z|)    \n",
      "jak2          1.4216558  4.1439762  0.5005248  2.840  0.00451 ** \n",
      "baseline_age  0.0798890  1.0831668  0.0389104  2.053  0.04006 *  \n",
      "age2         -0.0001985  0.9998015  0.0003402 -0.583  0.55961    \n",
      "genetic_sex   0.5015096  1.6512120  0.0388978 12.893  < 2e-16 ***\n",
      "smoking_0     0.2421872  1.2740327  0.0267781  9.044  < 2e-16 ***\n",
      "PC1          -0.0019671  0.9980348  0.0007454 -2.639  0.00831 ** \n",
      "PC2           0.0036383  1.0036450  0.0032688  1.113  0.26568    \n",
      "PC3           0.0118462  1.0119166  0.0052276  2.266  0.02345 *  \n",
      "PCD4          0.0099439  1.0099935  0.0023869  4.166 3.10e-05 ***\n",
      "PC5           0.0117198  1.0117888  0.0023554  4.976 6.50e-07 ***\n",
      "ldl_0         0.1675000  1.1823453  0.0217981  7.684 1.54e-14 ***\n",
      "baseline_DM   0.5214649  1.6844935  0.0839320  6.213 5.20e-10 ***\n",
      "BMI_0         0.0156936  1.0158174  0.0040325  3.892 9.95e-05 ***\n",
      "baseline_HTN  0.5714203  1.7707804  0.0509145 11.223  < 2e-16 ***\n",
      "AID           1.2486487  3.4856298  0.0721201 17.313  < 2e-16 ***\n",
      "---\n",
      "Signif. codes:  0 ‘***’ 0.001 ‘**’ 0.01 ‘*’ 0.05 ‘.’ 0.1 ‘ ’ 1\n",
      "\n",
      "             exp(coef) exp(-coef) lower .95 upper .95\n",
      "jak2            4.1440     0.2413    1.5537   11.0526\n",
      "baseline_age    1.0832     0.9232    1.0036    1.1690\n",
      "age2            0.9998     1.0002    0.9991    1.0005\n",
      "genetic_sex     1.6512     0.6056    1.5300    1.7820\n",
      "smoking_0       1.2740     0.7849    1.2089    1.3427\n",
      "PC1             0.9980     1.0020    0.9966    0.9995\n",
      "PC2             1.0036     0.9964    0.9972    1.0101\n",
      "PC3             1.0119     0.9882    1.0016    1.0223\n",
      "PCD4            1.0100     0.9901    1.0053    1.0147\n",
      "PC5             1.0118     0.9883    1.0071    1.0165\n",
      "ldl_0           1.1823     0.8458    1.1329    1.2340\n",
      "baseline_DM     1.6845     0.5937    1.4290    1.9857\n",
      "BMI_0           1.0158     0.9844    1.0078    1.0239\n",
      "baseline_HTN    1.7708     0.5647    1.6026    1.9566\n",
      "AID             3.4856     0.2869    3.0262    4.0149\n",
      "\n",
      "Concordance= 0.7  (se = 0.005 )\n",
      "Likelihood ratio test= 1494  on 15 df,   p=<2e-16\n",
      "Wald test            = 1569  on 15 df,   p=<2e-16\n",
      "Score (logrank) test = 1739  on 15 df,   p=<2e-16\n",
      "\n",
      "               Coefficient Exp(Coefficient) Standard Error    z value\n",
      "jak2          1.4216557705        4.1439762   0.5005248154  2.8403302\n",
      "baseline_age  0.0798890177        1.0831668   0.0389103629  2.0531553\n",
      "age2         -0.0001985078        0.9998015   0.0003402443 -0.5834272\n",
      "genetic_sex   0.5015095919        1.6512120   0.0388978453 12.8929916\n",
      "smoking_0     0.2421872297        1.2740327   0.0267781345  9.0442159\n",
      "PC1          -0.0019671351        0.9980348   0.0007453958 -2.6390478\n",
      "PC2           0.0036383286        1.0036450   0.0032687637  1.1130595\n",
      "PC3           0.0118461927        1.0119166   0.0052276302  2.2660732\n",
      "PCD4          0.0099438928        1.0099935   0.0023869496  4.1659417\n",
      "PC5           0.0117198351        1.0117888   0.0023553647  4.9758048\n",
      "ldl_0         0.1675000067        1.1823453   0.0217981126  7.6841518\n",
      "baseline_DM   0.5214649059        1.6844935   0.0839319649  6.2129477\n",
      "BMI_0         0.0156935721        1.0158174   0.0040325330  3.8917406\n",
      "baseline_HTN  0.5714203390        1.7707804   0.0509145318 11.2231286\n",
      "AID           1.2486487430        3.4856298   0.0721200537 17.3134750\n",
      "                  p value\n",
      "jak2         4.506685e-03\n",
      "baseline_age 4.005752e-02\n",
      "age2         5.596057e-01\n",
      "genetic_sex  4.929386e-38\n",
      "smoking_0    1.507431e-19\n",
      "PC1          8.313927e-03\n",
      "PC2          2.656829e-01\n",
      "PC3          2.344690e-02\n",
      "PCD4         3.100700e-05\n",
      "PC5          6.497711e-07\n",
      "ldl_0        1.540139e-14\n",
      "baseline_DM  5.199977e-10\n",
      "BMI_0        9.952764e-05\n",
      "baseline_HTN 3.139628e-29\n",
      "AID          3.722549e-67\n"
     ]
    }
   ],
   "source": [
    "il17ra_low <- filter(data_all_pheno_jak, data_all_pheno_jak$il17ra_333 == 1)\n",
    "results <- analyze_cox_model(\n",
    "  data = il17ra_low, \n",
    "  time_var = \"surv_CVD\", \n",
    "  event_var = \"CVD\", \n",
    "  group_var = \"jak2\", \n",
    "  covariates = c(\"baseline_age\", \"age2\", \"genetic_sex\", \"smoking_0\", \"PC1\", \"PC2\", \"PC3\", \"PCD4\", \"PC5\",\"ldl_0\",\"baseline_DM\",\"BMI_0\",\"baseline_HTN\",\"AID\")\n",
    ")"
   ]
  },
  {
   "cell_type": "code",
   "execution_count": 113,
   "metadata": {
    "hidden": true,
    "scrolled": true
   },
   "outputs": [
    {
     "name": "stdout",
     "output_type": "stream",
     "text": [
      "Call:\n",
      "coxph(formula = formula, data = df_filtered)\n",
      "\n",
      "  n= 145171, number of events= 2767 \n",
      "   (8197 observations deleted due to missingness)\n",
      "\n",
      "                   coef  exp(coef)   se(coef)      z Pr(>|z|)    \n",
      "jak2          4.023e-01  1.495e+00  7.077e-01  0.568  0.56970    \n",
      "baseline_age  4.479e-02  1.046e+00  3.873e-02  1.157  0.24743    \n",
      "age2          9.927e-05  1.000e+00  3.391e-04  0.293  0.76974    \n",
      "genetic_sex   5.448e-01  1.724e+00  3.951e-02 13.791  < 2e-16 ***\n",
      "smoking_0     2.569e-01  1.293e+00  2.694e-02  9.538  < 2e-16 ***\n",
      "PC1          -9.605e-04  9.990e-01  5.049e-04 -1.902  0.05714 .  \n",
      "PC2          -7.505e-04  9.992e-01  1.104e-03 -0.680  0.49667    \n",
      "PC3           2.273e-03  1.002e+00  1.880e-03  1.209  0.22666    \n",
      "PCD4          3.781e-03  1.004e+00  1.945e-03  1.945  0.05183 .  \n",
      "PC5           9.577e-03  1.010e+00  2.393e-03  4.002 6.27e-05 ***\n",
      "ldl_0         1.419e-01  1.152e+00  2.217e-02  6.397 1.58e-10 ***\n",
      "baseline_DM   4.763e-01  1.610e+00  8.354e-02  5.701 1.19e-08 ***\n",
      "BMI_0         1.396e-02  1.014e+00  4.105e-03  3.401  0.00067 ***\n",
      "baseline_HTN  6.250e-01  1.868e+00  5.131e-02 12.181  < 2e-16 ***\n",
      "AID           1.068e+00  2.909e+00  7.942e-02 13.447  < 2e-16 ***\n",
      "---\n",
      "Signif. codes:  0 ‘***’ 0.001 ‘**’ 0.01 ‘*’ 0.05 ‘.’ 0.1 ‘ ’ 1\n",
      "\n",
      "             exp(coef) exp(-coef) lower .95 upper .95\n",
      "jak2            1.4953     0.6688    0.3735     5.986\n",
      "baseline_age    1.0458     0.9562    0.9694     1.128\n",
      "age2            1.0001     0.9999    0.9994     1.001\n",
      "genetic_sex     1.7243     0.5799    1.5959     1.863\n",
      "smoking_0       1.2929     0.7734    1.2264     1.363\n",
      "PC1             0.9990     1.0010    0.9981     1.000\n",
      "PC2             0.9992     1.0008    0.9971     1.001\n",
      "PC3             1.0023     0.9977    0.9986     1.006\n",
      "PCD4            1.0038     0.9962    1.0000     1.008\n",
      "PC5             1.0096     0.9905    1.0049     1.014\n",
      "ldl_0           1.1524     0.8677    1.1034     1.204\n",
      "baseline_DM     1.6101     0.6211    1.3669     1.897\n",
      "BMI_0           1.0141     0.9861    1.0059     1.022\n",
      "baseline_HTN    1.8682     0.5353    1.6895     2.066\n",
      "AID             2.9095     0.3437    2.4901     3.400\n",
      "\n",
      "Concordance= 0.696  (se = 0.005 )\n",
      "Likelihood ratio test= 1384  on 15 df,   p=<2e-16\n",
      "Wald test            = 1434  on 15 df,   p=<2e-16\n",
      "Score (logrank) test = 1574  on 15 df,   p=<2e-16\n",
      "\n",
      "               Coefficient Exp(Coefficient) Standard Error    z value\n",
      "jak2          4.023301e-01        1.4953049   0.7077055813  0.5684993\n",
      "baseline_age  4.479313e-02        1.0458115   0.0387278778  1.1566120\n",
      "age2          9.926711e-05        1.0000993   0.0003391192  0.2927204\n",
      "genetic_sex   5.448399e-01        1.7243323   0.0395073518 13.7908484\n",
      "smoking_0     2.569063e-01        1.2929240   0.0269354213  9.5378608\n",
      "PC1          -9.604597e-04        0.9990400   0.0005049129 -1.9022286\n",
      "PC2          -7.504902e-04        0.9992498   0.0011040962 -0.6797326\n",
      "PC3           2.272900e-03        1.0022755   0.0018799623  1.2090137\n",
      "PCD4          3.781460e-03        1.0037886   0.0019446116  1.9445836\n",
      "PC5           9.576985e-03        1.0096230   0.0023927714  4.0024657\n",
      "ldl_0         1.418541e-01        1.1524085   0.0221743933  6.3972020\n",
      "baseline_DM   4.762769e-01        1.6100687   0.0835422247  5.7010317\n",
      "BMI_0         1.396389e-02        1.0140618   0.0041052533  3.4014684\n",
      "baseline_HTN  6.249996e-01        1.8682452   0.0513104297 12.1807517\n",
      "AID           1.067971e+00        2.9094695   0.0794208953 13.4469748\n",
      "                  p value\n",
      "jak2         5.696960e-01\n",
      "baseline_age 2.474309e-01\n",
      "age2         7.697359e-01\n",
      "genetic_sex  2.893372e-43\n",
      "smoking_0    1.458089e-21\n",
      "PC1          5.714128e-02\n",
      "PC2          4.966738e-01\n",
      "PC3          2.266576e-01\n",
      "PCD4         5.182512e-02\n",
      "PC5          6.268576e-05\n",
      "ldl_0        1.582499e-10\n",
      "baseline_DM  1.190845e-08\n",
      "BMI_0        6.702489e-04\n",
      "baseline_HTN 3.936369e-34\n",
      "AID          3.207277e-41\n"
     ]
    }
   ],
   "source": [
    "il17ra_low <- filter(data_all_pheno_jak, data_all_pheno_jak$il17ra_333 == 2)\n",
    "results <- analyze_cox_model(\n",
    "  data = il17ra_low, \n",
    "  time_var = \"surv_CVD\", \n",
    "  event_var = \"CVD\", \n",
    "  group_var = \"jak2\", \n",
    "  covariates = c(\"baseline_age\", \"age2\", \"genetic_sex\", \"smoking_0\", \"PC1\", \"PC2\", \"PC3\", \"PCD4\", \"PC5\",\"ldl_0\",\"baseline_DM\",\"BMI_0\",\"baseline_HTN\",\"AID\")\n",
    ")"
   ]
  },
  {
   "cell_type": "code",
   "execution_count": 114,
   "metadata": {
    "collapsed": true,
    "hidden": true
   },
   "outputs": [
    {
     "name": "stderr",
     "output_type": "stream",
     "text": [
      "Warning message in coxph.fit(X, Y, istrat, offset, init, control, weights = weights, :\n",
      "“Loglik converged before variable  1 ; coefficient may be infinite. ”\n"
     ]
    },
    {
     "name": "stdout",
     "output_type": "stream",
     "text": [
      "Call:\n",
      "coxph(formula = formula, data = df_filtered)\n",
      "\n",
      "  n= 145127, number of events= 2748 \n",
      "   (8206 observations deleted due to missingness)\n",
      "\n",
      "                   coef  exp(coef)   se(coef)      z Pr(>|z|)    \n",
      "jak2         -1.141e+01  1.111e-05  2.705e+02 -0.042 0.966364    \n",
      "baseline_age  3.100e-02  1.031e+00  3.829e-02  0.810 0.418195    \n",
      "age2          1.744e-04  1.000e+00  3.364e-04  0.518 0.604184    \n",
      "genetic_sex   5.456e-01  1.726e+00  3.960e-02 13.776  < 2e-16 ***\n",
      "smoking_0     2.610e-01  1.298e+00  2.704e-02  9.654  < 2e-16 ***\n",
      "PC1          -7.772e-04  9.992e-01  4.147e-04 -1.874 0.060891 .  \n",
      "PC2           1.106e-04  1.000e+00  6.880e-04  0.161 0.872339    \n",
      "PC3           2.321e-03  1.002e+00  1.257e-03  1.847 0.064751 .  \n",
      "PCD4          4.930e-03  1.005e+00  2.003e-03  2.462 0.013824 *  \n",
      "PC5           1.405e-02  1.014e+00  2.356e-03  5.963 2.48e-09 ***\n",
      "ldl_0         1.544e-01  1.167e+00  2.229e-02  6.930 4.21e-12 ***\n",
      "baseline_DM   3.248e-01  1.384e+00  8.640e-02  3.759 0.000171 ***\n",
      "BMI_0         2.202e-02  1.022e+00  4.018e-03  5.481 4.23e-08 ***\n",
      "baseline_HTN  6.958e-01  2.005e+00  5.054e-02 13.766  < 2e-16 ***\n",
      "AID           1.082e+00  2.952e+00  7.801e-02 13.876  < 2e-16 ***\n",
      "---\n",
      "Signif. codes:  0 ‘***’ 0.001 ‘**’ 0.01 ‘*’ 0.05 ‘.’ 0.1 ‘ ’ 1\n",
      "\n",
      "             exp(coef) exp(-coef)  lower .95  upper .95\n",
      "jak2         1.111e-05  8.998e+04 6.099e-236 2.025e+225\n",
      "baseline_age 1.031e+00  9.695e-01  9.569e-01  1.112e+00\n",
      "age2         1.000e+00  9.998e-01  9.995e-01  1.001e+00\n",
      "genetic_sex  1.726e+00  5.795e-01  1.597e+00  1.865e+00\n",
      "smoking_0    1.298e+00  7.703e-01  1.231e+00  1.369e+00\n",
      "PC1          9.992e-01  1.001e+00  9.984e-01  1.000e+00\n",
      "PC2          1.000e+00  9.999e-01  9.988e-01  1.001e+00\n",
      "PC3          1.002e+00  9.977e-01  9.999e-01  1.005e+00\n",
      "PCD4         1.005e+00  9.951e-01  1.001e+00  1.009e+00\n",
      "PC5          1.014e+00  9.860e-01  1.009e+00  1.019e+00\n",
      "ldl_0        1.167e+00  8.569e-01  1.117e+00  1.219e+00\n",
      "baseline_DM  1.384e+00  7.227e-01  1.168e+00  1.639e+00\n",
      "BMI_0        1.022e+00  9.782e-01  1.014e+00  1.030e+00\n",
      "baseline_HTN 2.005e+00  4.987e-01  1.816e+00  2.214e+00\n",
      "AID          2.952e+00  3.388e-01  2.533e+00  3.440e+00\n",
      "\n",
      "Concordance= 0.698  (se = 0.005 )\n",
      "Likelihood ratio test= 1402  on 15 df,   p=<2e-16\n",
      "Wald test            = 973.2  on 15 df,   p=<2e-16\n",
      "Score (logrank) test = 1606  on 15 df,   p=<2e-16\n",
      "\n",
      "               Coefficient Exp(Coefficient) Standard Error     z value\n",
      "jak2         -1.140737e+01     1.111328e-05   2.705124e+02 -0.04216949\n",
      "baseline_age  3.099878e-02     1.031484e+00   3.829106e-02  0.80955670\n",
      "age2          1.743646e-04     1.000174e+00   3.363563e-04  0.51839260\n",
      "genetic_sex   5.455503e-01     1.725558e+00   3.960245e-02 13.77566924\n",
      "smoking_0     2.610261e-01     1.298262e+00   2.703804e-02  9.65403230\n",
      "PC1          -7.772276e-04     9.992231e-01   4.146800e-04 -1.87428266\n",
      "PC2           1.105552e-04     1.000111e+00   6.880122e-04  0.16068782\n",
      "PC3           2.321070e-03     1.002324e+00   1.256687e-03  1.84697613\n",
      "PCD4          4.930236e-03     1.004942e+00   2.002689e-03  2.46180779\n",
      "PC5           1.404920e-02     1.014148e+00   2.356252e-03  5.96252067\n",
      "ldl_0         1.544435e-01     1.167008e+00   2.228673e-02  6.92984235\n",
      "baseline_DM   3.247567e-01     1.383694e+00   8.640467e-02  3.75855469\n",
      "BMI_0         2.202138e-02     1.022266e+00   4.017936e-03  5.48076878\n",
      "baseline_HTN  6.957563e-01     2.005225e+00   5.054137e-02 13.76607535\n",
      "AID           1.082458e+00     2.951926e+00   7.800883e-02 13.87609323\n",
      "                  p value\n",
      "jak2         9.663636e-01\n",
      "baseline_age 4.181950e-01\n",
      "age2         6.041844e-01\n",
      "genetic_sex  3.570588e-43\n",
      "smoking_0    4.726000e-22\n",
      "PC1          6.089148e-02\n",
      "PC2          8.723393e-01\n",
      "PC3          6.475060e-02\n",
      "PCD4         1.382387e-02\n",
      "PC5          2.483762e-09\n",
      "ldl_0        4.213099e-12\n",
      "baseline_DM  1.708977e-04\n",
      "BMI_0        4.234816e-08\n",
      "baseline_HTN 4.077712e-43\n",
      "AID          8.843439e-44\n"
     ]
    }
   ],
   "source": [
    "il17ra_high <- filter(data_all_pheno_jak, data_all_pheno_jak$il17ra_333 == 3)\n",
    "results <- analyze_cox_model(\n",
    "  data = il17ra_high, \n",
    "  time_var = \"surv_CVD\", \n",
    "  event_var = \"CVD\", \n",
    "  group_var = \"jak2\", \n",
    "  covariates = c(\"baseline_age\", \"age2\", \"genetic_sex\", \"smoking_0\", \"PC1\", \"PC2\", \"PC3\", \"PCD4\", \"PC5\",\"ldl_0\",\"baseline_DM\",\"BMI_0\",\"baseline_HTN\",\"AID\")\n",
    ")"
   ]
  },
  {
   "cell_type": "code",
   "execution_count": 27,
   "metadata": {
    "collapsed": true,
    "hidden": true
   },
   "outputs": [
    {
     "data": {
      "text/plain": [
       ", ,  = 1\n",
       "\n",
       "   \n",
       "        0     1\n",
       "  0 90118    31\n",
       "  1  1779     4\n",
       "\n",
       ", ,  = 2\n",
       "\n",
       "   \n",
       "        0     1\n",
       "  0 90260    27\n",
       "  1  1790     3\n",
       "\n",
       ", ,  = 3\n",
       "\n",
       "   \n",
       "        0     1\n",
       "  0 90209    48\n",
       "  1  1737     0\n",
       "\n",
       ", ,  = 4\n",
       "\n",
       "   \n",
       "        0     1\n",
       "  0 90197    31\n",
       "  1  1743     0\n",
       "\n",
       ", ,  = 5\n",
       "\n",
       "   \n",
       "        0     1\n",
       "  0 90217    34\n",
       "  1  1766     0\n"
      ]
     },
     "metadata": {},
     "output_type": "display_data"
    },
    {
     "data": {
      "text/plain": [
       ", ,  = 1\n",
       "\n",
       "   \n",
       "        0     1\n",
       "  0 90118    31\n",
       "  1  4115     8\n",
       "\n",
       ", ,  = 2\n",
       "\n",
       "   \n",
       "        0     1\n",
       "  0 90260    27\n",
       "  1  3978     6\n",
       "\n",
       ", ,  = 3\n",
       "\n",
       "   \n",
       "        0     1\n",
       "  0 90209    48\n",
       "  1  4011     3\n",
       "\n",
       ", ,  = 4\n",
       "\n",
       "   \n",
       "        0     1\n",
       "  0 90197    31\n",
       "  1  4041     2\n",
       "\n",
       ", ,  = 5\n",
       "\n",
       "   \n",
       "        0     1\n",
       "  0 90217    34\n",
       "  1  4018     2\n"
      ]
     },
     "metadata": {},
     "output_type": "display_data"
    }
   ],
   "source": [
    "data_all_pheno_filter <- filter(data_all_pheno_jak, data_all_pheno_jak$surv_CVD > 0)\n",
    "table(data_all_pheno_filter$CVD, data_all_pheno_filter$jak2,data_all_pheno_filter$il17_group5)\n",
    "table(data_all_pheno_jak$CVD, data_all_pheno_jak$jak2,data_all_pheno_jak$il17_group5)"
   ]
  },
  {
   "cell_type": "code",
   "execution_count": 120,
   "metadata": {
    "collapsed": true,
    "hidden": true
   },
   "outputs": [
    {
     "data": {
      "text/plain": [
       ", ,  = 1\n",
       "\n",
       "   \n",
       "         0      1\n",
       "  0 150251     51\n",
       "  1   2986      5\n",
       "\n",
       ", ,  = 2\n",
       "\n",
       "   \n",
       "         0      1\n",
       "  0 150365     64\n",
       "  1   2937      2\n",
       "\n",
       ", ,  = 3\n",
       "\n",
       "   \n",
       "         0      1\n",
       "  0 150385     56\n",
       "  1   2892      0\n"
      ]
     },
     "metadata": {},
     "output_type": "display_data"
    }
   ],
   "source": [
    "data_all_pheno_filter <- filter(data_all_pheno_jak, data_all_pheno_jak$surv_CVD > 0)\n",
    "table(data_all_pheno_filter$CVD, data_all_pheno_filter$jak2,data_all_pheno_filter$il17ra_333)"
   ]
  },
  {
   "cell_type": "code",
   "execution_count": 7,
   "metadata": {
    "hidden": true
   },
   "outputs": [],
   "source": [
    "jak2 <- filter(data_all_pheno_jak, data_all_pheno_jak$jak2 == 1)"
   ]
  },
  {
   "cell_type": "code",
   "execution_count": 8,
   "metadata": {
    "hidden": true
   },
   "outputs": [
    {
     "name": "stderr",
     "output_type": "stream",
     "text": [
      "Warning message in coxph.fit(X, Y, istrat, offset, init, control, weights = weights, :\n",
      "“Loglik converged before variable  2,13,16 ; coefficient may be infinite. ”\n"
     ]
    },
    {
     "name": "stdout",
     "output_type": "stream",
     "text": [
      "Call:\n",
      "coxph(formula = formula, data = df_filtered)\n",
      "\n",
      "  n= 164, number of events= 6 \n",
      "   (14 observations deleted due to missingness)\n",
      "\n",
      "                   coef  exp(coef)   se(coef)      z Pr(>|z|)\n",
      "il17ra_3332  -1.188e+00  3.049e-01  9.724e-01 -1.221    0.222\n",
      "il17ra_3333  -1.392e+02  3.531e-61  9.223e+03 -0.015    0.988\n",
      "baseline_age  7.256e-01  2.066e+00  1.312e+00  0.553    0.580\n",
      "age2         -6.090e-03  9.939e-01  1.126e-02 -0.541    0.589\n",
      "genetic_sex   4.926e-01  1.636e+00  9.952e-01  0.495    0.621\n",
      "smoking_0    -2.088e-01  8.116e-01  7.989e-01 -0.261    0.794\n",
      "PC1           2.369e-01  1.267e+00  2.830e-01  0.837    0.403\n",
      "PC2           3.002e-01  1.350e+00  3.828e-01  0.784    0.433\n",
      "PC3          -1.323e-01  8.761e-01  3.558e-01 -0.372    0.710\n",
      "PCD4          3.562e-01  1.428e+00  2.626e-01  1.356    0.175\n",
      "PC5          -7.408e-02  9.286e-01  7.416e-02 -0.999    0.318\n",
      "ldl_0         2.971e-01  1.346e+00  4.892e-01  0.607    0.544\n",
      "baseline_DM  -1.936e+01  3.921e-09  5.012e+04  0.000    1.000\n",
      "BMI_0        -6.560e-03  9.935e-01  1.193e-01 -0.055    0.956\n",
      "baseline_HTN  1.648e+00  5.199e+00  1.321e+00  1.248    0.212\n",
      "AID          -1.819e+01  1.263e-08  6.152e+04  0.000    1.000\n",
      "\n",
      "             exp(coef) exp(-coef) lower .95 upper .95\n",
      "il17ra_3332  3.049e-01  3.280e+00   0.04534     2.051\n",
      "il17ra_3333  3.531e-61  2.832e+60   0.00000       Inf\n",
      "baseline_age 2.066e+00  4.840e-01   0.15799    27.017\n",
      "age2         9.939e-01  1.006e+00   0.97224     1.016\n",
      "genetic_sex  1.636e+00  6.111e-01   0.23270    11.509\n",
      "smoking_0    8.116e-01  1.232e+00   0.16954     3.885\n",
      "PC1          1.267e+00  7.891e-01   0.72771     2.207\n",
      "PC2          1.350e+00  7.407e-01   0.63762     2.859\n",
      "PC3          8.761e-01  1.141e+00   0.43618     1.760\n",
      "PCD4         1.428e+00  7.003e-01   0.85337     2.389\n",
      "PC5          9.286e-01  1.077e+00   0.80297     1.074\n",
      "ldl_0        1.346e+00  7.430e-01   0.51596     3.511\n",
      "baseline_DM  3.921e-09  2.550e+08   0.00000       Inf\n",
      "BMI_0        9.935e-01  1.007e+00   0.78639     1.255\n",
      "baseline_HTN 5.199e+00  1.924e-01   0.39017    69.263\n",
      "AID          1.263e-08  7.917e+07   0.00000       Inf\n",
      "\n",
      "Concordance= 0.861  (se = 0.084 )\n",
      "Likelihood ratio test= 12.9  on 16 df,   p=0.7\n",
      "Wald test            = 5.7  on 16 df,   p=1\n",
      "Score (logrank) test = 7.61  on 16 df,   p=1\n",
      "\n",
      "               Coefficient Exp(Coefficient) Standard Error       z value\n",
      "il17ra_3332  -1.187730e+00     3.049127e-01   9.724017e-01 -1.2214394592\n",
      "il17ra_3333  -1.391961e+02     3.530909e-61   9.222676e+03 -0.0150928136\n",
      "baseline_age  7.256140e-01     2.065999e+00   1.311676e+00  0.5531962154\n",
      "age2         -6.089941e-03     9.939286e-01   1.125811e-02 -0.5409382332\n",
      "genetic_sex   4.925542e-01     1.636491e+00   9.952114e-01  0.4949241798\n",
      "smoking_0    -2.087555e-01     8.115936e-01   7.989359e-01 -0.2612919623\n",
      "PC1           2.369047e-01     1.267320e+00   2.830434e-01  0.8369909353\n",
      "PC2           3.001962e-01     1.350124e+00   3.827676e-01  0.7842778592\n",
      "PC3          -1.323130e-01     8.760668e-01   3.558153e-01 -0.3718586642\n",
      "PCD4          3.561839e-01     1.427870e+00   2.626277e-01  1.3562312378\n",
      "PC5          -7.407910e-02     9.285982e-01   7.416273e-02 -0.9988722434\n",
      "ldl_0         2.970822e-01     1.345926e+00   4.891922e-01  0.6072913992\n",
      "baseline_DM  -1.935691e+01     3.921047e-09   5.011876e+04 -0.0003862208\n",
      "BMI_0        -6.559721e-03     9.934617e-01   1.192596e-01 -0.0550036997\n",
      "baseline_HTN  1.648373e+00     5.198516e+00   1.321219e+00  1.2476153495\n",
      "AID          -1.818711e+01     1.263107e-08   6.151794e+04 -0.0002956390\n",
      "               p value\n",
      "il17ra_3332  0.2219197\n",
      "il17ra_3333  0.9879581\n",
      "baseline_age 0.5801291\n",
      "age2         0.5885502\n",
      "genetic_sex  0.6206536\n",
      "smoking_0    0.7938674\n",
      "PC1          0.4025977\n",
      "PC2          0.4328771\n",
      "PC3          0.7099981\n",
      "PCD4         0.1750256\n",
      "PC5          0.3178566\n",
      "ldl_0        0.5436575\n",
      "baseline_DM  0.9996918\n",
      "BMI_0        0.9561355\n",
      "baseline_HTN 0.2121720\n",
      "AID          0.9997641\n"
     ]
    }
   ],
   "source": [
    "results <- analyze_cox_model(\n",
    "  data = jak2, \n",
    "  time_var = \"surv_CVD\", \n",
    "  event_var = \"CVD\", \n",
    "  group_var = \"il17ra_333\", \n",
    "  covariates = c(\"baseline_age\", \"age2\", \"genetic_sex\", \"smoking_0\", \"PC1\", \"PC2\", \"PC3\", \"PCD4\", \"PC5\",\"ldl_0\",\"baseline_DM\",\"BMI_0\",\"baseline_HTN\",\"AID\")\n",
    ")"
   ]
  },
  {
   "cell_type": "code",
   "execution_count": 127,
   "metadata": {
    "hidden": true
   },
   "outputs": [
    {
     "name": "stderr",
     "output_type": "stream",
     "text": [
      "Installing package into ‘/home/jupyter/packages’\n",
      "(as ‘lib’ is unspecified)\n",
      "\n",
      "also installing the dependency ‘ggtext’\n",
      "\n",
      "\n",
      "Warning message in install.packages(\"survminer\"):\n",
      "“installation of package ‘ggtext’ had non-zero exit status”\n",
      "Warning message in install.packages(\"survminer\"):\n",
      "“installation of package ‘survminer’ had non-zero exit status”\n"
     ]
    }
   ],
   "source": [
    "install.packages(\"survminer\")"
   ]
  },
  {
   "cell_type": "code",
   "execution_count": 128,
   "metadata": {
    "hidden": true
   },
   "outputs": [
    {
     "data": {
      "text/html": [
       "<style>\n",
       ".list-inline {list-style: none; margin:0; padding: 0}\n",
       ".list-inline>li {display: inline-block}\n",
       ".list-inline>li:not(:last-child)::after {content: \"\\00b7\"; padding: 0 .5ex}\n",
       "</style>\n",
       "<ol class=list-inline><li>471356</li><li>4878</li></ol>\n"
      ],
      "text/latex": [
       "\\begin{enumerate*}\n",
       "\\item 471356\n",
       "\\item 4878\n",
       "\\end{enumerate*}\n"
      ],
      "text/markdown": [
       "1. 471356\n",
       "2. 4878\n",
       "\n",
       "\n"
      ],
      "text/plain": [
       "[1] 471356   4878"
      ]
     },
     "metadata": {},
     "output_type": "display_data"
    }
   ],
   "source": [
    "dim(data_all_pheno_jak)"
   ]
  },
  {
   "cell_type": "code",
   "execution_count": 132,
   "metadata": {
    "hidden": true
   },
   "outputs": [],
   "source": [
    "data_test <- data_all_pheno_jak[,c(\"ID\",\"surv_CVD\",\"CVD\",\"il17ra_333\",\"jak2\")]"
   ]
  },
  {
   "cell_type": "code",
   "execution_count": 133,
   "metadata": {
    "hidden": true
   },
   "outputs": [],
   "source": [
    "save(data_test, file = \"data_test_jak2_KM.Rdata\")"
   ]
  },
  {
   "cell_type": "code",
   "execution_count": 115,
   "metadata": {
    "hidden": true
   },
   "outputs": [],
   "source": []
  },
  {
   "cell_type": "markdown",
   "metadata": {},
   "source": [
    "# Measurement IL17RA"
   ]
  },
  {
   "cell_type": "code",
   "execution_count": 28,
   "metadata": {},
   "outputs": [],
   "source": [
    "score_yp <- fread(\"ukb_52k_proteome_dec12_yp.tsv\")"
   ]
  },
  {
   "cell_type": "code",
   "execution_count": 29,
   "metadata": {},
   "outputs": [
    {
     "data": {
      "text/html": [
       "<style>\n",
       ".list-inline {list-style: none; margin:0; padding: 0}\n",
       ".list-inline>li {display: inline-block}\n",
       ".list-inline>li:not(:last-child)::after {content: \"\\00b7\"; padding: 0 .5ex}\n",
       "</style>\n",
       "<ol class=list-inline><li>52705</li><li>1465</li></ol>\n"
      ],
      "text/latex": [
       "\\begin{enumerate*}\n",
       "\\item 52705\n",
       "\\item 1465\n",
       "\\end{enumerate*}\n"
      ],
      "text/markdown": [
       "1. 52705\n",
       "2. 1465\n",
       "\n",
       "\n"
      ],
      "text/plain": [
       "[1] 52705  1465"
      ]
     },
     "metadata": {},
     "output_type": "display_data"
    }
   ],
   "source": [
    "dim(score_yp)"
   ]
  },
  {
   "cell_type": "code",
   "execution_count": 30,
   "metadata": {},
   "outputs": [
    {
     "data": {
      "text/plain": [
       "   Min. 1st Qu.  Median    Mean 3rd Qu.    Max.    NA's \n",
       "-1.8790 -0.2236 -0.0009  0.0513  0.2435  7.1651    2221 "
      ]
     },
     "metadata": {},
     "output_type": "display_data"
    },
    {
     "data": {
      "text/plain": [
       "   Min. 1st Qu.  Median    Mean 3rd Qu.    Max.    NA's \n",
       "-2.1419 -0.3356  0.0000 -0.0307  0.2948  4.0311    1159 "
      ]
     },
     "metadata": {},
     "output_type": "display_data"
    }
   ],
   "source": [
    "summary(score_yp$il17a)\n",
    "summary(score_yp$il17ra)"
   ]
  },
  {
   "cell_type": "code",
   "execution_count": 31,
   "metadata": {},
   "outputs": [],
   "source": [
    "mea_il17 <- score_yp[,c(\"eid\",\"il17a\",\"il17ra\")]"
   ]
  },
  {
   "cell_type": "code",
   "execution_count": 32,
   "metadata": {},
   "outputs": [],
   "source": [
    "mea_il17$eid <- as.character(mea_il17$eid)"
   ]
  },
  {
   "cell_type": "code",
   "execution_count": 61,
   "metadata": {},
   "outputs": [
    {
     "data": {
      "text/html": [
       "<table class=\"dataframe\">\n",
       "<caption>A data.table: 6 × 2114</caption>\n",
       "<thead>\n",
       "\t<tr><th scope=col>ID_VUMC</th><th scope=col>baseline_age</th><th scope=col>age2</th><th scope=col>genetic_sex</th><th scope=col>smoking_0</th><th scope=col>PC1</th><th scope=col>PC2</th><th scope=col>PC3</th><th scope=col>PCD4</th><th scope=col>PC5</th><th scope=col>⋯</th><th scope=col>Zinc_finger_protein_843</th><th scope=col>Zinc_finger_protein_SNAI2</th><th scope=col>Zinc_fingers_and_homeoboxes_protein_3</th><th scope=col>Zincalpha2glycoprotein</th><th scope=col>Zona_pellucida_spermbinding_protein_4</th><th scope=col>Zymogen_granule_membrane_protein_16</th><th scope=col>Zymogen_granule_protein_16_homolog_B</th><th scope=col>d3a</th><th scope=col>tet2</th><th scope=col>jak2</th></tr>\n",
       "\t<tr><th scope=col>&lt;chr&gt;</th><th scope=col>&lt;int&gt;</th><th scope=col>&lt;int&gt;</th><th scope=col>&lt;int&gt;</th><th scope=col>&lt;int&gt;</th><th scope=col>&lt;dbl&gt;</th><th scope=col>&lt;dbl&gt;</th><th scope=col>&lt;dbl&gt;</th><th scope=col>&lt;dbl&gt;</th><th scope=col>&lt;dbl&gt;</th><th scope=col>⋯</th><th scope=col>&lt;dbl&gt;</th><th scope=col>&lt;dbl&gt;</th><th scope=col>&lt;dbl&gt;</th><th scope=col>&lt;dbl&gt;</th><th scope=col>&lt;dbl&gt;</th><th scope=col>&lt;dbl&gt;</th><th scope=col>&lt;dbl&gt;</th><th scope=col>&lt;dbl&gt;</th><th scope=col>&lt;dbl&gt;</th><th scope=col>&lt;dbl&gt;</th></tr>\n",
       "</thead>\n",
       "<tbody>\n",
       "\t<tr><td>1033475</td><td>64</td><td>4096</td><td>0</td><td>0</td><td>-13.98560</td><td>3.17726</td><td>-1.658810</td><td> 0.803840</td><td> 3.02571</td><td>⋯</td><td>0.351323</td><td>0</td><td>-0.269884</td><td> 0.08436380</td><td> 0.3080140</td><td>2.845382</td><td> 0.3131660</td><td>0</td><td>0</td><td>1</td></tr>\n",
       "\t<tr><td>1052712</td><td>50</td><td>2500</td><td>0</td><td>2</td><td>-12.66840</td><td>3.78042</td><td>-0.725549</td><td>-0.334773</td><td>-6.52676</td><td>⋯</td><td>0.351323</td><td>0</td><td>-0.359876</td><td> 0.08346737</td><td> 0.2362675</td><td>2.845382</td><td>-0.1935970</td><td>0</td><td>0</td><td>1</td></tr>\n",
       "\t<tr><td>1069427</td><td>44</td><td>1936</td><td>0</td><td>0</td><td>-13.77590</td><td>5.07735</td><td>-2.232210</td><td> 1.460990</td><td>-5.23230</td><td>⋯</td><td>0.175662</td><td>0</td><td>-0.348391</td><td>-0.21005350</td><td>-0.0967581</td><td>2.765219</td><td> 0.2793100</td><td>0</td><td>0</td><td>1</td></tr>\n",
       "\t<tr><td>1153082</td><td>57</td><td>3249</td><td>1</td><td>0</td><td> -9.14152</td><td>4.56751</td><td>-2.238610</td><td>-2.056030</td><td>-2.70210</td><td>⋯</td><td>0.175662</td><td>0</td><td>-0.190588</td><td>-0.19623850</td><td> 0.0259440</td><td>2.845382</td><td> 0.3202560</td><td>0</td><td>1</td><td>1</td></tr>\n",
       "\t<tr><td>1154927</td><td>66</td><td>4356</td><td>1</td><td>0</td><td>-11.81790</td><td>3.21741</td><td>-2.397850</td><td> 1.283260</td><td>-1.33530</td><td>⋯</td><td>0.263718</td><td>0</td><td>-0.158252</td><td>-0.24768300</td><td>-0.1224000</td><td>2.845382</td><td> 0.2306870</td><td>0</td><td>0</td><td>1</td></tr>\n",
       "\t<tr><td>1171867</td><td>68</td><td>4624</td><td>1</td><td>0</td><td>-13.11400</td><td>4.68281</td><td>-4.165490</td><td> 0.511219</td><td>-2.80631</td><td>⋯</td><td>0.351323</td><td>0</td><td>-0.306639</td><td>-0.10069340</td><td>-0.0448093</td><td>2.845382</td><td> 0.0375397</td><td>0</td><td>0</td><td>1</td></tr>\n",
       "</tbody>\n",
       "</table>\n"
      ],
      "text/latex": [
       "A data.table: 6 × 2114\n",
       "\\begin{tabular}{lllllllllllllllllllll}\n",
       " ID\\_VUMC & baseline\\_age & age2 & genetic\\_sex & smoking\\_0 & PC1 & PC2 & PC3 & PCD4 & PC5 & ⋯ & Zinc\\_finger\\_protein\\_843 & Zinc\\_finger\\_protein\\_SNAI2 & Zinc\\_fingers\\_and\\_homeoboxes\\_protein\\_3 & Zincalpha2glycoprotein & Zona\\_pellucida\\_spermbinding\\_protein\\_4 & Zymogen\\_granule\\_membrane\\_protein\\_16 & Zymogen\\_granule\\_protein\\_16\\_homolog\\_B & d3a & tet2 & jak2\\\\\n",
       " <chr> & <int> & <int> & <int> & <int> & <dbl> & <dbl> & <dbl> & <dbl> & <dbl> & ⋯ & <dbl> & <dbl> & <dbl> & <dbl> & <dbl> & <dbl> & <dbl> & <dbl> & <dbl> & <dbl>\\\\\n",
       "\\hline\n",
       "\t 1033475 & 64 & 4096 & 0 & 0 & -13.98560 & 3.17726 & -1.658810 &  0.803840 &  3.02571 & ⋯ & 0.351323 & 0 & -0.269884 &  0.08436380 &  0.3080140 & 2.845382 &  0.3131660 & 0 & 0 & 1\\\\\n",
       "\t 1052712 & 50 & 2500 & 0 & 2 & -12.66840 & 3.78042 & -0.725549 & -0.334773 & -6.52676 & ⋯ & 0.351323 & 0 & -0.359876 &  0.08346737 &  0.2362675 & 2.845382 & -0.1935970 & 0 & 0 & 1\\\\\n",
       "\t 1069427 & 44 & 1936 & 0 & 0 & -13.77590 & 5.07735 & -2.232210 &  1.460990 & -5.23230 & ⋯ & 0.175662 & 0 & -0.348391 & -0.21005350 & -0.0967581 & 2.765219 &  0.2793100 & 0 & 0 & 1\\\\\n",
       "\t 1153082 & 57 & 3249 & 1 & 0 &  -9.14152 & 4.56751 & -2.238610 & -2.056030 & -2.70210 & ⋯ & 0.175662 & 0 & -0.190588 & -0.19623850 &  0.0259440 & 2.845382 &  0.3202560 & 0 & 1 & 1\\\\\n",
       "\t 1154927 & 66 & 4356 & 1 & 0 & -11.81790 & 3.21741 & -2.397850 &  1.283260 & -1.33530 & ⋯ & 0.263718 & 0 & -0.158252 & -0.24768300 & -0.1224000 & 2.845382 &  0.2306870 & 0 & 0 & 1\\\\\n",
       "\t 1171867 & 68 & 4624 & 1 & 0 & -13.11400 & 4.68281 & -4.165490 &  0.511219 & -2.80631 & ⋯ & 0.351323 & 0 & -0.306639 & -0.10069340 & -0.0448093 & 2.845382 &  0.0375397 & 0 & 0 & 1\\\\\n",
       "\\end{tabular}\n"
      ],
      "text/markdown": [
       "\n",
       "A data.table: 6 × 2114\n",
       "\n",
       "| ID_VUMC &lt;chr&gt; | baseline_age &lt;int&gt; | age2 &lt;int&gt; | genetic_sex &lt;int&gt; | smoking_0 &lt;int&gt; | PC1 &lt;dbl&gt; | PC2 &lt;dbl&gt; | PC3 &lt;dbl&gt; | PCD4 &lt;dbl&gt; | PC5 &lt;dbl&gt; | ⋯ ⋯ | Zinc_finger_protein_843 &lt;dbl&gt; | Zinc_finger_protein_SNAI2 &lt;dbl&gt; | Zinc_fingers_and_homeoboxes_protein_3 &lt;dbl&gt; | Zincalpha2glycoprotein &lt;dbl&gt; | Zona_pellucida_spermbinding_protein_4 &lt;dbl&gt; | Zymogen_granule_membrane_protein_16 &lt;dbl&gt; | Zymogen_granule_protein_16_homolog_B &lt;dbl&gt; | d3a &lt;dbl&gt; | tet2 &lt;dbl&gt; | jak2 &lt;dbl&gt; |\n",
       "|---|---|---|---|---|---|---|---|---|---|---|---|---|---|---|---|---|---|---|---|---|\n",
       "| 1033475 | 64 | 4096 | 0 | 0 | -13.98560 | 3.17726 | -1.658810 |  0.803840 |  3.02571 | ⋯ | 0.351323 | 0 | -0.269884 |  0.08436380 |  0.3080140 | 2.845382 |  0.3131660 | 0 | 0 | 1 |\n",
       "| 1052712 | 50 | 2500 | 0 | 2 | -12.66840 | 3.78042 | -0.725549 | -0.334773 | -6.52676 | ⋯ | 0.351323 | 0 | -0.359876 |  0.08346737 |  0.2362675 | 2.845382 | -0.1935970 | 0 | 0 | 1 |\n",
       "| 1069427 | 44 | 1936 | 0 | 0 | -13.77590 | 5.07735 | -2.232210 |  1.460990 | -5.23230 | ⋯ | 0.175662 | 0 | -0.348391 | -0.21005350 | -0.0967581 | 2.765219 |  0.2793100 | 0 | 0 | 1 |\n",
       "| 1153082 | 57 | 3249 | 1 | 0 |  -9.14152 | 4.56751 | -2.238610 | -2.056030 | -2.70210 | ⋯ | 0.175662 | 0 | -0.190588 | -0.19623850 |  0.0259440 | 2.845382 |  0.3202560 | 0 | 1 | 1 |\n",
       "| 1154927 | 66 | 4356 | 1 | 0 | -11.81790 | 3.21741 | -2.397850 |  1.283260 | -1.33530 | ⋯ | 0.263718 | 0 | -0.158252 | -0.24768300 | -0.1224000 | 2.845382 |  0.2306870 | 0 | 0 | 1 |\n",
       "| 1171867 | 68 | 4624 | 1 | 0 | -13.11400 | 4.68281 | -4.165490 |  0.511219 | -2.80631 | ⋯ | 0.351323 | 0 | -0.306639 | -0.10069340 | -0.0448093 | 2.845382 |  0.0375397 | 0 | 0 | 1 |\n",
       "\n"
      ],
      "text/plain": [
       "  ID_VUMC baseline_age age2 genetic_sex smoking_0 PC1       PC2     PC3      \n",
       "1 1033475 64           4096 0           0         -13.98560 3.17726 -1.658810\n",
       "2 1052712 50           2500 0           2         -12.66840 3.78042 -0.725549\n",
       "3 1069427 44           1936 0           0         -13.77590 5.07735 -2.232210\n",
       "4 1153082 57           3249 1           0          -9.14152 4.56751 -2.238610\n",
       "5 1154927 66           4356 1           0         -11.81790 3.21741 -2.397850\n",
       "6 1171867 68           4624 1           0         -13.11400 4.68281 -4.165490\n",
       "  PCD4      PC5      ⋯ Zinc_finger_protein_843 Zinc_finger_protein_SNAI2\n",
       "1  0.803840  3.02571 ⋯ 0.351323                0                        \n",
       "2 -0.334773 -6.52676 ⋯ 0.351323                0                        \n",
       "3  1.460990 -5.23230 ⋯ 0.175662                0                        \n",
       "4 -2.056030 -2.70210 ⋯ 0.175662                0                        \n",
       "5  1.283260 -1.33530 ⋯ 0.263718                0                        \n",
       "6  0.511219 -2.80631 ⋯ 0.351323                0                        \n",
       "  Zinc_fingers_and_homeoboxes_protein_3 Zincalpha2glycoprotein\n",
       "1 -0.269884                              0.08436380           \n",
       "2 -0.359876                              0.08346737           \n",
       "3 -0.348391                             -0.21005350           \n",
       "4 -0.190588                             -0.19623850           \n",
       "5 -0.158252                             -0.24768300           \n",
       "6 -0.306639                             -0.10069340           \n",
       "  Zona_pellucida_spermbinding_protein_4 Zymogen_granule_membrane_protein_16\n",
       "1  0.3080140                            2.845382                           \n",
       "2  0.2362675                            2.845382                           \n",
       "3 -0.0967581                            2.765219                           \n",
       "4  0.0259440                            2.845382                           \n",
       "5 -0.1224000                            2.845382                           \n",
       "6 -0.0448093                            2.845382                           \n",
       "  Zymogen_granule_protein_16_homolog_B d3a tet2 jak2\n",
       "1  0.3131660                           0   0    1   \n",
       "2 -0.1935970                           0   0    1   \n",
       "3  0.2793100                           0   0    1   \n",
       "4  0.3202560                           0   1    1   \n",
       "5  0.2306870                           0   0    1   \n",
       "6  0.0375397                           0   0    1   "
      ]
     },
     "metadata": {},
     "output_type": "display_data"
    }
   ],
   "source": [
    "head(data_jak2)"
   ]
  },
  {
   "cell_type": "code",
   "execution_count": 62,
   "metadata": {},
   "outputs": [],
   "source": [
    "data_jak2_meas_il17 <- merge(data_jak2, mea_il17, by.x = \"ID_VUMC\", by.y = \"eid\", all = F)"
   ]
  },
  {
   "cell_type": "code",
   "execution_count": 63,
   "metadata": {},
   "outputs": [
    {
     "data": {
      "text/html": [
       "<style>\n",
       ".list-inline {list-style: none; margin:0; padding: 0}\n",
       ".list-inline>li {display: inline-block}\n",
       ".list-inline>li:not(:last-child)::after {content: \"\\00b7\"; padding: 0 .5ex}\n",
       "</style>\n",
       "<ol class=list-inline><li>22</li><li>2116</li></ol>\n"
      ],
      "text/latex": [
       "\\begin{enumerate*}\n",
       "\\item 22\n",
       "\\item 2116\n",
       "\\end{enumerate*}\n"
      ],
      "text/markdown": [
       "1. 22\n",
       "2. 2116\n",
       "\n",
       "\n"
      ],
      "text/plain": [
       "[1]   22 2116"
      ]
     },
     "metadata": {},
     "output_type": "display_data"
    },
    {
     "data": {
      "text/plain": [
       "\n",
       " 0  1 \n",
       "19  3 "
      ]
     },
     "metadata": {},
     "output_type": "display_data"
    }
   ],
   "source": [
    "dim(data_jak2_meas_il17)\n",
    "table(data_jak2_meas_il17$CVD)"
   ]
  },
  {
   "cell_type": "code",
   "execution_count": 64,
   "metadata": {},
   "outputs": [
    {
     "data": {
      "text/plain": [
       "   Min. 1st Qu.  Median    Mean 3rd Qu.    Max.    NA's \n",
       "-0.0370  0.2318  0.6332  0.5753  0.7891  1.6470       3 "
      ]
     },
     "metadata": {},
     "output_type": "display_data"
    }
   ],
   "source": [
    "summary(data_jak2_meas_il17$il17ra)"
   ]
  },
  {
   "cell_type": "code",
   "execution_count": 48,
   "metadata": {
    "scrolled": true
   },
   "outputs": [
    {
     "name": "stdout",
     "output_type": "stream",
     "text": [
      "CVD ~ il17a + baseline_age + age2 + genetic_sex + smoking_0 + \n",
      "    PC1 + PC2 + PC3 + PCD4 + PC5\n",
      "<environment: 0x5b5534e6ea18>\n"
     ]
    },
    {
     "name": "stderr",
     "output_type": "stream",
     "text": [
      "Warning message:\n",
      "“glm.fit: algorithm did not converge”\n",
      "Warning message:\n",
      "“glm.fit: fitted probabilities numerically 0 or 1 occurred”\n"
     ]
    },
    {
     "name": "stdout",
     "output_type": "stream",
     "text": [
      "CVD ~ il17ra + baseline_age + age2 + genetic_sex + smoking_0 + \n",
      "    PC1 + PC2 + PC3 + PCD4 + PC5\n",
      "<environment: 0x5b5534e6ea18>\n"
     ]
    },
    {
     "name": "stderr",
     "output_type": "stream",
     "text": [
      "Warning message:\n",
      "“glm.fit: fitted probabilities numerically 0 or 1 occurred”\n"
     ]
    },
    {
     "data": {
      "text/html": [
       "<table class=\"dataframe\">\n",
       "<caption>A data.frame: 2 × 7</caption>\n",
       "<thead>\n",
       "\t<tr><th></th><th scope=col>SNP</th><th scope=col>Beta</th><th scope=col>OR</th><th scope=col>SE</th><th scope=col>CI_Lower</th><th scope=col>CI_Upper</th><th scope=col>P_Value</th></tr>\n",
       "\t<tr><th></th><th scope=col>&lt;chr&gt;</th><th scope=col>&lt;dbl&gt;</th><th scope=col>&lt;dbl&gt;</th><th scope=col>&lt;dbl&gt;</th><th scope=col>&lt;dbl&gt;</th><th scope=col>&lt;dbl&gt;</th><th scope=col>&lt;dbl&gt;</th></tr>\n",
       "</thead>\n",
       "<tbody>\n",
       "\t<tr><th scope=row>il17a</th><td>il17a </td><td>117.20212</td><td>7.947545e+50</td><td>589107.6</td><td>0</td><td>Inf</td><td>0.9998413</td></tr>\n",
       "\t<tr><th scope=row>il17ra</th><td>il17ra</td><td> 10.99973</td><td>5.985788e+04</td><td>272199.1</td><td>0</td><td>Inf</td><td>0.9999678</td></tr>\n",
       "</tbody>\n",
       "</table>\n"
      ],
      "text/latex": [
       "A data.frame: 2 × 7\n",
       "\\begin{tabular}{r|lllllll}\n",
       "  & SNP & Beta & OR & SE & CI\\_Lower & CI\\_Upper & P\\_Value\\\\\n",
       "  & <chr> & <dbl> & <dbl> & <dbl> & <dbl> & <dbl> & <dbl>\\\\\n",
       "\\hline\n",
       "\til17a & il17a  & 117.20212 & 7.947545e+50 & 589107.6 & 0 & Inf & 0.9998413\\\\\n",
       "\til17ra & il17ra &  10.99973 & 5.985788e+04 & 272199.1 & 0 & Inf & 0.9999678\\\\\n",
       "\\end{tabular}\n"
      ],
      "text/markdown": [
       "\n",
       "A data.frame: 2 × 7\n",
       "\n",
       "| <!--/--> | SNP &lt;chr&gt; | Beta &lt;dbl&gt; | OR &lt;dbl&gt; | SE &lt;dbl&gt; | CI_Lower &lt;dbl&gt; | CI_Upper &lt;dbl&gt; | P_Value &lt;dbl&gt; |\n",
       "|---|---|---|---|---|---|---|---|\n",
       "| il17a | il17a  | 117.20212 | 7.947545e+50 | 589107.6 | 0 | Inf | 0.9998413 |\n",
       "| il17ra | il17ra |  10.99973 | 5.985788e+04 | 272199.1 | 0 | Inf | 0.9999678 |\n",
       "\n"
      ],
      "text/plain": [
       "       SNP    Beta      OR           SE       CI_Lower CI_Upper P_Value  \n",
       "il17a  il17a  117.20212 7.947545e+50 589107.6 0        Inf      0.9998413\n",
       "il17ra il17ra  10.99973 5.985788e+04 272199.1 0        Inf      0.9999678"
      ]
     },
     "metadata": {},
     "output_type": "display_data"
    }
   ],
   "source": [
    "logistic_mca <- batch_logistic_regression(\n",
    "  data = data_jak2_meas_il17,\n",
    "  snp_list = c(\"il17a\", \"il17ra\"),\n",
    "  outcome = \"CVD\",\n",
    "  covariates = c(\"baseline_age\", \"age2\", \"genetic_sex\", \"smoking_0\", \"PC1\",\"PC2\",\"PC3\",\"PCD4\",\"PC5\",\"BMI_0\",\"baseline_DM\",\"baseline_HTN\",\"ldl_0\",\"AID\")\n",
    ")\n",
    "logistic_mca"
   ]
  },
  {
   "cell_type": "code",
   "execution_count": 68,
   "metadata": {},
   "outputs": [
    {
     "data": {
      "text/html": [
       "<style>\n",
       ".list-inline {list-style: none; margin:0; padding: 0}\n",
       ".list-inline>li {display: inline-block}\n",
       ".list-inline>li:not(:last-child)::after {content: \"\\00b7\"; padding: 0 .5ex}\n",
       "</style>\n",
       "<ol class=list-inline><li>22</li><li>2116</li></ol>\n"
      ],
      "text/latex": [
       "\\begin{enumerate*}\n",
       "\\item 22\n",
       "\\item 2116\n",
       "\\end{enumerate*}\n"
      ],
      "text/markdown": [
       "1. 22\n",
       "2. 2116\n",
       "\n",
       "\n"
      ],
      "text/plain": [
       "[1]   22 2116"
      ]
     },
     "metadata": {},
     "output_type": "display_data"
    }
   ],
   "source": [
    "dim(data_jak2_meas_il17)"
   ]
  },
  {
   "cell_type": "code",
   "execution_count": 74,
   "metadata": {},
   "outputs": [
    {
     "data": {
      "text/plain": [
       "\n",
       "Call:\n",
       "lm(formula = Interleukin17_receptor_A ~ il17ra + baseline_age + \n",
       "    age2 + genetic_sex + smoking_0 + PC1 + PC2 + PC3 + PCD4 + \n",
       "    PC5, data = data_jak2_meas_il17)\n",
       "\n",
       "Residuals:\n",
       "     Min       1Q   Median       3Q      Max \n",
       "-0.99896 -0.20122 -0.03252  0.17115  0.72007 \n",
       "\n",
       "Coefficients:\n",
       "              Estimate Std. Error t value Pr(>|t|)  \n",
       "(Intercept)  10.436829   9.436039   1.106   0.3008  \n",
       "il17ra        0.111756   0.485467   0.230   0.8237  \n",
       "baseline_age -0.340034   0.342904  -0.992   0.3504  \n",
       "age2          0.003360   0.003083   1.090   0.3075  \n",
       "genetic_sex   0.076473   0.331373   0.231   0.8233  \n",
       "smoking_0     0.137077   0.328575   0.417   0.6875  \n",
       "PC1           0.184957   0.159701   1.158   0.2802  \n",
       "PC2           0.242988   0.225598   1.077   0.3128  \n",
       "PC3           0.128766   0.172038   0.748   0.4756  \n",
       "PCD4          0.050060   0.053824   0.930   0.3795  \n",
       "PC5          -0.037528   0.018978  -1.977   0.0834 .\n",
       "---\n",
       "Signif. codes:  0 ‘***’ 0.001 ‘**’ 0.01 ‘*’ 0.05 ‘.’ 0.1 ‘ ’ 1\n",
       "\n",
       "Residual standard error: 0.6276 on 8 degrees of freedom\n",
       "  (3 observations deleted due to missingness)\n",
       "Multiple R-squared:  0.6189,\tAdjusted R-squared:  0.1425 \n",
       "F-statistic: 1.299 on 10 and 8 DF,  p-value: 0.3624\n"
      ]
     },
     "metadata": {},
     "output_type": "display_data"
    }
   ],
   "source": [
    "results <- lm(Interleukin17_receptor_A ~ il17ra + baseline_age + age2 + genetic_sex + smoking_0 + PC1 + PC2 + PC3 + PCD4 + PC5,\n",
    "              data = data_jak2_meas_il17)\n",
    "summary(results)"
   ]
  },
  {
   "cell_type": "code",
   "execution_count": 75,
   "metadata": {},
   "outputs": [
    {
     "data": {
      "text/plain": [
       "\n",
       "Call:\n",
       "lm(formula = Interleukin17_receptor_A ~ il17ra + baseline_age + \n",
       "    age2 + genetic_sex + smoking_0 + PC1 + PC2 + PC3 + PCD4 + \n",
       "    PC5, data = data_all_pheno_cox4)\n",
       "\n",
       "Residuals:\n",
       "    Min      1Q  Median      3Q     Max \n",
       "-5.3441 -0.3080 -0.0028  0.3273  3.6616 \n",
       "\n",
       "Coefficients:\n",
       "               Estimate Std. Error t value Pr(>|t|)    \n",
       "(Intercept)   1.042e+00  1.137e-01   9.171  < 2e-16 ***\n",
       "il17ra        1.156e+00  4.785e-03 241.561  < 2e-16 ***\n",
       "baseline_age  3.882e-04  4.160e-03   0.093 0.925660    \n",
       "age2         -1.854e-05  3.746e-05  -0.495 0.620617    \n",
       "genetic_sex   6.483e-05  4.785e-03   0.014 0.989190    \n",
       "smoking_0    -2.114e-03  3.367e-03  -0.628 0.530148    \n",
       "PC1           2.441e-04  3.776e-05   6.465 1.02e-10 ***\n",
       "PC2          -5.685e-04  8.716e-05  -6.522 6.98e-11 ***\n",
       "PC3          -1.595e-03  1.647e-04  -9.684  < 2e-16 ***\n",
       "PCD4          7.253e-04  2.191e-04   3.310 0.000934 ***\n",
       "PC5           5.571e-04  3.145e-04   1.771 0.076485 .  \n",
       "---\n",
       "Signif. codes:  0 ‘***’ 0.001 ‘**’ 0.01 ‘*’ 0.05 ‘.’ 0.1 ‘ ’ 1\n",
       "\n",
       "Residual standard error: 0.5351 on 51018 degrees of freedom\n",
       "  (1208 observations deleted due to missingness)\n",
       "Multiple R-squared:  0.5367,\tAdjusted R-squared:  0.5366 \n",
       "F-statistic:  5911 on 10 and 51018 DF,  p-value: < 2.2e-16\n"
      ]
     },
     "metadata": {},
     "output_type": "display_data"
    }
   ],
   "source": [
    "results <- lm(Interleukin17_receptor_A ~ il17ra + baseline_age + age2 + genetic_sex + smoking_0 + PC1 + PC2 + PC3 + PCD4 + PC5,\n",
    "              data = data_all_pheno_cox4)\n",
    "summary(results)"
   ]
  },
  {
   "cell_type": "code",
   "execution_count": 86,
   "metadata": {},
   "outputs": [
    {
     "name": "stderr",
     "output_type": "stream",
     "text": [
      "Warning message:\n",
      "“\u001b[1m\u001b[22mRemoved 1150 rows containing missing values or values outside the scale range\n",
      "(`geom_point()`).”\n",
      "Warning message:\n",
      "“\u001b[1m\u001b[22mRemoved 3 rows containing missing values or values outside the scale range\n",
      "(`geom_point()`).”\n"
     ]
    },
    {
     "data": {
      "image/png": "[encoded data removed]",
      "text/plain": [
       "plot without title"
      ]
     },
     "metadata": {
      "image/png": {
       "height": 420,
       "width": 420
      }
     },
     "output_type": "display_data"
    }
   ],
   "source": [
    "ggplot(data_all_pheno_cox4, aes(x = Interleukin17_receptor_A, y = il17ra)) +\n",
    "  geom_point(data = subset(data_all_pheno_cox4, jak2 == 0), color = \"grey\", alpha = 0.4) +\n",
    "  geom_point(data = subset(data_all_pheno_cox4, jak2 == 1), color = \"red\", size = 2.5) +\n",
    "  scale_x_continuous(limits = c(-2, 4)) +\n",
    "  scale_y_continuous(limits = c(-2, 4)) +\n",
    "  labs(\n",
    "    title = \"Scatter Plot of gpIL17RA vs. Measured IL17RA\",\n",
    "    x = \"Genetically Predicted IL17RA\",\n",
    "    y = \"Measured IL17RA\"\n",
    "  ) +\n",
    "  theme_minimal(base_size = 14)"
   ]
  },
  {
   "cell_type": "markdown",
   "metadata": {},
   "source": [
    "## Interaction"
   ]
  },
  {
   "cell_type": "code",
   "execution_count": 71,
   "metadata": {},
   "outputs": [],
   "source": [
    "data_all_pheno_cox4 <- merge(data_all_pheno_cox3, mea_il17, by.x = \"ID\", by.y = \"eid\", all = F)"
   ]
  },
  {
   "cell_type": "code",
   "execution_count": 72,
   "metadata": {},
   "outputs": [
    {
     "data": {
      "text/html": [
       "<style>\n",
       ".list-inline {list-style: none; margin:0; padding: 0}\n",
       ".list-inline>li {display: inline-block}\n",
       ".list-inline>li:not(:last-child)::after {content: \"\\00b7\"; padding: 0 .5ex}\n",
       "</style>\n",
       "<ol class=list-inline><li>52237</li><li>4872</li></ol>\n"
      ],
      "text/latex": [
       "\\begin{enumerate*}\n",
       "\\item 52237\n",
       "\\item 4872\n",
       "\\end{enumerate*}\n"
      ],
      "text/markdown": [
       "1. 52237\n",
       "2. 4872\n",
       "\n",
       "\n"
      ],
      "text/plain": [
       "[1] 52237  4872"
      ]
     },
     "metadata": {},
     "output_type": "display_data"
    }
   ],
   "source": [
    "dim(data_all_pheno_cox4)"
   ]
  },
  {
   "cell_type": "code",
   "execution_count": 110,
   "metadata": {},
   "outputs": [],
   "source": [
    "data_filter2 <- filter(data_all_pheno_cox4,data_all_pheno_cox4$surv_CVD >0)"
   ]
  },
  {
   "cell_type": "code",
   "execution_count": 111,
   "metadata": {},
   "outputs": [
    {
     "data": {
      "text/html": [
       "<style>\n",
       ".list-inline {list-style: none; margin:0; padding: 0}\n",
       ".list-inline>li {display: inline-block}\n",
       ".list-inline>li:not(:last-child)::after {content: \"\\00b7\"; padding: 0 .5ex}\n",
       "</style>\n",
       "<ol class=list-inline><li>50720</li><li>4876</li></ol>\n"
      ],
      "text/latex": [
       "\\begin{enumerate*}\n",
       "\\item 50720\n",
       "\\item 4876\n",
       "\\end{enumerate*}\n"
      ],
      "text/markdown": [
       "1. 50720\n",
       "2. 4876\n",
       "\n",
       "\n"
      ],
      "text/plain": [
       "[1] 50720  4876"
      ]
     },
     "metadata": {},
     "output_type": "display_data"
    }
   ],
   "source": [
    "dim(data_filter2)"
   ]
  },
  {
   "cell_type": "code",
   "execution_count": 30,
   "metadata": {
    "scrolled": true
   },
   "outputs": [
    {
     "data": {
      "text/plain": [
       "Call:\n",
       "coxph(formula = Surv(surv_CVD, CVD) ~ jak2 + il17a + il17a * \n",
       "    jak2 + baseline_age + age2 + genetic_sex + smoking_0 + PC1 + \n",
       "    PC2 + PC3 + PCD4 + PC5 + ldl_0 + baseline_DM + BMI_0 + baseline_HTN + \n",
       "    AID, data = data_filter2)\n",
       "\n",
       "  n= 46048, number of events= 1029 \n",
       "   (4672 observations deleted due to missingness)\n",
       "\n",
       "                   coef  exp(coef)   se(coef)      z Pr(>|z|)    \n",
       "jak2         -0.0942032  0.9100978  2.0196509 -0.047 0.962798    \n",
       "il17a         0.1851401  1.2033871  0.0570401  3.246 0.001171 ** \n",
       "baseline_age  0.0323958  1.0329263  0.0643235  0.504 0.614515    \n",
       "age2          0.0002651  1.0002652  0.0005593  0.474 0.635469    \n",
       "genetic_sex   0.4149533  1.5143000  0.0643945  6.444 1.16e-10 ***\n",
       "smoking_0     0.2439921  1.2763342  0.0449767  5.425 5.80e-08 ***\n",
       "PC1          -0.0013027  0.9986981  0.0007967 -1.635 0.101996    \n",
       "PC2           0.0036060  1.0036125  0.0031169  1.157 0.247300    \n",
       "PC3           0.0090486  1.0090896  0.0051973  1.741 0.081679 .  \n",
       "PCD4          0.0099103  1.0099596  0.0036294  2.731 0.006322 ** \n",
       "PC5           0.0082701  1.0083044  0.0038995  2.121 0.033940 *  \n",
       "ldl_0         0.1204112  1.1279605  0.0361747  3.329 0.000873 ***\n",
       "baseline_DM   0.1551872  1.1678765  0.1476142  1.051 0.293120    \n",
       "BMI_0         0.0132538  1.0133420  0.0067289  1.970 0.048874 *  \n",
       "baseline_HTN  0.6162725  1.8520118  0.0815866  7.554 4.23e-14 ***\n",
       "AID           1.1205299  3.0664788  0.1196693  9.364  < 2e-16 ***\n",
       "jak2:il17a    3.9825032 53.6511644  5.2373620  0.760 0.447014    \n",
       "---\n",
       "Signif. codes:  0 ‘***’ 0.001 ‘**’ 0.01 ‘*’ 0.05 ‘.’ 0.1 ‘ ’ 1\n",
       "\n",
       "             exp(coef) exp(-coef) lower .95 upper .95\n",
       "jak2            0.9101    1.09878  0.017376 4.767e+01\n",
       "il17a           1.2034    0.83099  1.076100 1.346e+00\n",
       "baseline_age    1.0329    0.96812  0.910578 1.172e+00\n",
       "age2            1.0003    0.99973  0.999169 1.001e+00\n",
       "genetic_sex     1.5143    0.66037  1.334748 1.718e+00\n",
       "smoking_0       1.2763    0.78349  1.168638 1.394e+00\n",
       "PC1             0.9987    1.00130  0.997140 1.000e+00\n",
       "PC2             1.0036    0.99640  0.997500 1.010e+00\n",
       "PC3             1.0091    0.99099  0.998863 1.019e+00\n",
       "PCD4            1.0100    0.99014  1.002801 1.017e+00\n",
       "PC5             1.0083    0.99176  1.000627 1.016e+00\n",
       "ldl_0           1.1280    0.88656  1.050756 1.211e+00\n",
       "baseline_DM     1.1679    0.85625  0.874475 1.560e+00\n",
       "BMI_0           1.0133    0.98683  1.000065 1.027e+00\n",
       "baseline_HTN    1.8520    0.53995  1.578328 2.173e+00\n",
       "AID             3.0665    0.32611  2.425366 3.877e+00\n",
       "jak2:il17a     53.6512    0.01864  0.001869 1.540e+06\n",
       "\n",
       "Concordance= 0.703  (se = 0.008 )\n",
       "Likelihood ratio test= 546.5  on 17 df,   p=<2e-16\n",
       "Wald test            = 547  on 17 df,   p=<2e-16\n",
       "Score (logrank) test = 610.8  on 17 df,   p=<2e-16\n"
      ]
     },
     "metadata": {},
     "output_type": "display_data"
    }
   ],
   "source": [
    "cox_fit <- coxph(Surv(surv_CVD,CVD)~ jak2 + il17a + il17a*jak2 +\n",
    "                 baseline_age+age2+genetic_sex+smoking_0+PC1+PC2+PC3+PCD4+PC5+ldl_0+baseline_DM+BMI_0+baseline_HTN+AID, data = data_filter2)\n",
    "summary(cox_fit)"
   ]
  },
  {
   "cell_type": "markdown",
   "metadata": {},
   "source": [
    "## il17 to jak2"
   ]
  },
  {
   "cell_type": "code",
   "execution_count": 70,
   "metadata": {},
   "outputs": [
    {
     "ename": "ERROR",
     "evalue": "Error: object 'data_all_pheno_cox4' not found\n",
     "output_type": "error",
     "traceback": [
      "Error: object 'data_all_pheno_cox4' not found\nTraceback:\n"
     ]
    }
   ],
   "source": [
    "dim(data_all_pheno_cox4)"
   ]
  },
  {
   "cell_type": "code",
   "execution_count": 41,
   "metadata": {},
   "outputs": [
    {
     "name": "stdout",
     "output_type": "stream",
     "text": [
      "jak2 ~ il17a + baseline_age + age2 + genetic_sex + smoking_0 + \n",
      "    PC1 + PC2 + PC3 + PCD4 + PC5 + BMI_0 + baseline_DM + baseline_HTN + \n",
      "    ldl_0 + AID\n",
      "<environment: 0x5a5447f817a8>\n"
     ]
    },
    {
     "name": "stderr",
     "output_type": "stream",
     "text": [
      "Warning message:\n",
      "“glm.fit: fitted probabilities numerically 0 or 1 occurred”\n"
     ]
    },
    {
     "name": "stdout",
     "output_type": "stream",
     "text": [
      "jak2 ~ il17ra + baseline_age + age2 + genetic_sex + smoking_0 + \n",
      "    PC1 + PC2 + PC3 + PCD4 + PC5 + BMI_0 + baseline_DM + baseline_HTN + \n",
      "    ldl_0 + AID\n",
      "<environment: 0x5a5447f817a8>\n"
     ]
    },
    {
     "name": "stderr",
     "output_type": "stream",
     "text": [
      "Warning message:\n",
      "“glm.fit: fitted probabilities numerically 0 or 1 occurred”\n"
     ]
    },
    {
     "data": {
      "text/html": [
       "<table class=\"dataframe\">\n",
       "<caption>A data.frame: 2 × 7</caption>\n",
       "<thead>\n",
       "\t<tr><th></th><th scope=col>SNP</th><th scope=col>Beta</th><th scope=col>OR</th><th scope=col>SE</th><th scope=col>CI_Lower</th><th scope=col>CI_Upper</th><th scope=col>P_Value</th></tr>\n",
       "\t<tr><th></th><th scope=col>&lt;chr&gt;</th><th scope=col>&lt;dbl&gt;</th><th scope=col>&lt;dbl&gt;</th><th scope=col>&lt;dbl&gt;</th><th scope=col>&lt;dbl&gt;</th><th scope=col>&lt;dbl&gt;</th><th scope=col>&lt;dbl&gt;</th></tr>\n",
       "</thead>\n",
       "<tbody>\n",
       "\t<tr><th scope=row>il17a</th><td>il17a </td><td>0.08525063</td><td>1.088990</td><td>0.4249492</td><td>0.473478</td><td> 2.504655</td><td>8.410006e-01</td></tr>\n",
       "\t<tr><th scope=row>il17ra</th><td>il17ra</td><td>1.87489335</td><td>6.520124</td><td>0.2929747</td><td>3.671730</td><td>11.578196</td><td>1.558796e-10</td></tr>\n",
       "</tbody>\n",
       "</table>\n"
      ],
      "text/latex": [
       "A data.frame: 2 × 7\n",
       "\\begin{tabular}{r|lllllll}\n",
       "  & SNP & Beta & OR & SE & CI\\_Lower & CI\\_Upper & P\\_Value\\\\\n",
       "  & <chr> & <dbl> & <dbl> & <dbl> & <dbl> & <dbl> & <dbl>\\\\\n",
       "\\hline\n",
       "\til17a & il17a  & 0.08525063 & 1.088990 & 0.4249492 & 0.473478 &  2.504655 & 8.410006e-01\\\\\n",
       "\til17ra & il17ra & 1.87489335 & 6.520124 & 0.2929747 & 3.671730 & 11.578196 & 1.558796e-10\\\\\n",
       "\\end{tabular}\n"
      ],
      "text/markdown": [
       "\n",
       "A data.frame: 2 × 7\n",
       "\n",
       "| <!--/--> | SNP &lt;chr&gt; | Beta &lt;dbl&gt; | OR &lt;dbl&gt; | SE &lt;dbl&gt; | CI_Lower &lt;dbl&gt; | CI_Upper &lt;dbl&gt; | P_Value &lt;dbl&gt; |\n",
       "|---|---|---|---|---|---|---|---|\n",
       "| il17a | il17a  | 0.08525063 | 1.088990 | 0.4249492 | 0.473478 |  2.504655 | 8.410006e-01 |\n",
       "| il17ra | il17ra | 1.87489335 | 6.520124 | 0.2929747 | 3.671730 | 11.578196 | 1.558796e-10 |\n",
       "\n"
      ],
      "text/plain": [
       "       SNP    Beta       OR       SE        CI_Lower CI_Upper  P_Value     \n",
       "il17a  il17a  0.08525063 1.088990 0.4249492 0.473478  2.504655 8.410006e-01\n",
       "il17ra il17ra 1.87489335 6.520124 0.2929747 3.671730 11.578196 1.558796e-10"
      ]
     },
     "metadata": {},
     "output_type": "display_data"
    }
   ],
   "source": [
    "logistic_mca <- batch_logistic_regression(\n",
    "  data = data_all_pheno_cox4,\n",
    "  snp_list = c(\"il17a\", \"il17ra\"),\n",
    "  outcome = \"jak2\",\n",
    "  covariates = c(\"baseline_age\", \"age2\", \"genetic_sex\", \"smoking_0\", \"PC1\",\"PC2\",\"PC3\",\"PCD4\",\"PC5\",\"BMI_0\",\"baseline_DM\",\"baseline_HTN\",\"ldl_0\",\"AID\")\n",
    ")\n",
    "logistic_mca"
   ]
  },
  {
   "cell_type": "code",
   "execution_count": 42,
   "metadata": {},
   "outputs": [
    {
     "name": "stdout",
     "output_type": "stream",
     "text": [
      "jak2 ~ Interleukin17_receptor_A + baseline_age + age2 + genetic_sex + \n",
      "    smoking_0 + PC1 + PC2 + PC3 + PCD4 + PC5 + BMI_0 + baseline_DM + \n",
      "    baseline_HTN + ldl_0 + AID\n",
      "<environment: 0x5a54451ab1e8>\n"
     ]
    },
    {
     "name": "stderr",
     "output_type": "stream",
     "text": [
      "Warning message:\n",
      "“glm.fit: fitted probabilities numerically 0 or 1 occurred”\n"
     ]
    },
    {
     "data": {
      "text/html": [
       "<table class=\"dataframe\">\n",
       "<caption>A data.frame: 1 × 7</caption>\n",
       "<thead>\n",
       "\t<tr><th></th><th scope=col>SNP</th><th scope=col>Beta</th><th scope=col>OR</th><th scope=col>SE</th><th scope=col>CI_Lower</th><th scope=col>CI_Upper</th><th scope=col>P_Value</th></tr>\n",
       "\t<tr><th></th><th scope=col>&lt;chr&gt;</th><th scope=col>&lt;dbl&gt;</th><th scope=col>&lt;dbl&gt;</th><th scope=col>&lt;dbl&gt;</th><th scope=col>&lt;dbl&gt;</th><th scope=col>&lt;dbl&gt;</th><th scope=col>&lt;dbl&gt;</th></tr>\n",
       "</thead>\n",
       "<tbody>\n",
       "\t<tr><th scope=row>Interleukin17_receptor_A</th><td>Interleukin17_receptor_A</td><td>-0.0631698</td><td>0.9387841</td><td>0.09617523</td><td>0.7774987</td><td>1.133527</td><td>0.5112968</td></tr>\n",
       "</tbody>\n",
       "</table>\n"
      ],
      "text/latex": [
       "A data.frame: 1 × 7\n",
       "\\begin{tabular}{r|lllllll}\n",
       "  & SNP & Beta & OR & SE & CI\\_Lower & CI\\_Upper & P\\_Value\\\\\n",
       "  & <chr> & <dbl> & <dbl> & <dbl> & <dbl> & <dbl> & <dbl>\\\\\n",
       "\\hline\n",
       "\tInterleukin17\\_receptor\\_A & Interleukin17\\_receptor\\_A & -0.0631698 & 0.9387841 & 0.09617523 & 0.7774987 & 1.133527 & 0.5112968\\\\\n",
       "\\end{tabular}\n"
      ],
      "text/markdown": [
       "\n",
       "A data.frame: 1 × 7\n",
       "\n",
       "| <!--/--> | SNP &lt;chr&gt; | Beta &lt;dbl&gt; | OR &lt;dbl&gt; | SE &lt;dbl&gt; | CI_Lower &lt;dbl&gt; | CI_Upper &lt;dbl&gt; | P_Value &lt;dbl&gt; |\n",
       "|---|---|---|---|---|---|---|---|\n",
       "| Interleukin17_receptor_A | Interleukin17_receptor_A | -0.0631698 | 0.9387841 | 0.09617523 | 0.7774987 | 1.133527 | 0.5112968 |\n",
       "\n"
      ],
      "text/plain": [
       "                         SNP                      Beta       OR       \n",
       "Interleukin17_receptor_A Interleukin17_receptor_A -0.0631698 0.9387841\n",
       "                         SE         CI_Lower  CI_Upper P_Value  \n",
       "Interleukin17_receptor_A 0.09617523 0.7774987 1.133527 0.5112968"
      ]
     },
     "metadata": {},
     "output_type": "display_data"
    }
   ],
   "source": [
    "logistic_mca <- batch_logistic_regression(\n",
    "  data = data_all_pheno_cox3,\n",
    "  snp_list = c(\"Interleukin17_receptor_A\"),\n",
    "  outcome = \"jak2\",\n",
    "  covariates = c(\"baseline_age\", \"age2\", \"genetic_sex\", \"smoking_0\", \"PC1\",\"PC2\",\"PC3\",\"PCD4\",\"PC5\",\"BMI_0\",\"baseline_DM\",\"baseline_HTN\",\"ldl_0\",\"AID\")\n",
    ")\n",
    "logistic_mca"
   ]
  },
  {
   "cell_type": "code",
   "execution_count": 119,
   "metadata": {},
   "outputs": [
    {
     "name": "stdout",
     "output_type": "stream",
     "text": [
      "logistf(formula = jak2 ~ il17ra + baseline_age + genetic_sex + \n",
      "    smoking_0 + PC1 + PC2 + PC3 + PCD4 + PC5 + BMI_0 + baseline_DM + \n",
      "    baseline_HTN + ldl_0 + AID, data = data_all_pheno_cox4)\n",
      "\n",
      "Model fitted by Penalized ML\n",
      "Coefficients:\n",
      "                      coef    se(coef)    lower 0.95   upper 0.95        Chisq\n",
      "(Intercept)  -7.3819063179 2.084074325 -12.349093146 -2.851045591 1.063548e+01\n",
      "il17ra        1.8647344244 0.249123098   1.273212914  2.385183721 2.627692e+01\n",
      "baseline_age  0.0499645572 0.025863401  -0.006583192  0.112157907 2.977956e+00\n",
      "genetic_sex  -0.0639455851 0.405962221  -0.996494852  0.851798127 1.895131e-02\n",
      "smoking_0    -0.0355107458 0.281241404  -0.703213763  0.612178550 1.069652e-02\n",
      "PC1          -0.0001059963 0.003333932  -0.020158011  0.005284667 7.959545e-04\n",
      "PC2          -0.0075892309 0.004268135  -0.022097995  0.026092216 1.822023e+00\n",
      "PC3           0.0083065363 0.007181639  -0.008857690  0.063807561 1.040086e+00\n",
      "PCD4         -0.0041479417 0.011564511  -0.026361342  0.031617274 9.173183e-02\n",
      "PC5           0.0235801130 0.024760617  -0.036492059  0.074356245 6.618146e-01\n",
      "BMI_0        -0.0489415661 0.047038855  -0.166881099  0.052827145 8.099321e-01\n",
      "baseline_DM  -0.6097560476 1.209708385  -5.494831202  1.558679677 1.993885e-01\n",
      "baseline_HTN -1.0246294156 0.792930751  -3.366994135  0.529602115 1.489568e+00\n",
      "ldl_0        -0.6096107907 0.251745494  -1.199376163 -0.051252916 4.602655e+00\n",
      "AID           0.0627630698 1.245565112  -4.785182816  2.057044985 1.876150e-03\n",
      "                        p method\n",
      "(Intercept)  1.109385e-03      2\n",
      "il17ra       2.958026e-07      2\n",
      "baseline_age 8.440579e-02      2\n",
      "genetic_sex  8.905062e-01      2\n",
      "smoking_0    9.176265e-01      2\n",
      "PC1          9.774925e-01      2\n",
      "PC2          1.770727e-01      2\n",
      "PC3          3.078014e-01      2\n",
      "PCD4         7.619869e-01      2\n",
      "PC5          4.159200e-01      2\n",
      "BMI_0        3.681403e-01      2\n",
      "baseline_DM  6.552149e-01      2\n",
      "baseline_HTN 2.222834e-01      2\n",
      "ldl_0        3.192249e-02      2\n",
      "AID          9.654508e-01      2\n",
      "\n",
      "Method: 1-Wald, 2-Profile penalized log-likelihood, 3-None\n",
      "\n",
      "Likelihood ratio test=38.30569 on 14 df, p=0.0004665294, n=48397\n",
      "Wald test = 1204.053 on 14 df, p = 0"
     ]
    }
   ],
   "source": [
    "firth <- logistf(jak2 ~ il17ra + baseline_age  + genetic_sex + smoking_0\n",
    "                 +PC1+PC2+PC3+PCD4+PC5+ BMI_0+baseline_DM+baseline_HTN+ldl_0+AID, data = data_all_pheno_cox4\n",
    ")\n",
    "summary(firth)"
   ]
  },
  {
   "cell_type": "markdown",
   "metadata": {},
   "source": [
    "# Heme data"
   ]
  },
  {
   "cell_type": "code",
   "execution_count": 9,
   "metadata": {},
   "outputs": [],
   "source": [
    "system(\"gsutil cp gs://bicklab-main-storage/Users/Yash_Pershad/ukb_measurement_data.csv .\")"
   ]
  },
  {
   "cell_type": "code",
   "execution_count": 2,
   "metadata": {},
   "outputs": [],
   "source": [
    "ukb_measure <- read.csv(\"ukb_measurement_data.csv\")"
   ]
  },
  {
   "cell_type": "code",
   "execution_count": 47,
   "metadata": {},
   "outputs": [],
   "source": [
    "names(data_all_pheno_cox3)[1] <- \"person_id\""
   ]
  },
  {
   "cell_type": "code",
   "execution_count": 49,
   "metadata": {},
   "outputs": [],
   "source": [
    "data_all_pheno_cox3$person_id <- as.character(data_all_pheno_cox3$person_id)"
   ]
  },
  {
   "cell_type": "code",
   "execution_count": 52,
   "metadata": {},
   "outputs": [],
   "source": [
    "ukb_measure$person_id <- as.character(ukb_measure$person_id)"
   ]
  },
  {
   "cell_type": "code",
   "execution_count": 53,
   "metadata": {},
   "outputs": [],
   "source": [
    "ukb_measure_all <- ukb_measure %>%\n",
    "  left_join(data_all_pheno_cox3 %>% select(person_id, min_date), by = \"person_id\")"
   ]
  },
  {
   "cell_type": "code",
   "execution_count": 54,
   "metadata": {},
   "outputs": [
    {
     "data": {
      "text/html": [
       "<table class=\"dataframe\">\n",
       "<caption>A data.frame: 6 × 8</caption>\n",
       "<thead>\n",
       "\t<tr><th></th><th scope=col>person_id</th><th scope=col>measurement_datetime</th><th scope=col>hgb</th><th scope=col>mcv</th><th scope=col>plt</th><th scope=col>rdw</th><th scope=col>wbc</th><th scope=col>min_date</th></tr>\n",
       "\t<tr><th></th><th scope=col>&lt;chr&gt;</th><th scope=col>&lt;chr&gt;</th><th scope=col>&lt;dbl&gt;</th><th scope=col>&lt;dbl&gt;</th><th scope=col>&lt;dbl&gt;</th><th scope=col>&lt;dbl&gt;</th><th scope=col>&lt;dbl&gt;</th><th scope=col>&lt;IDate&gt;</th></tr>\n",
       "</thead>\n",
       "<tbody>\n",
       "\t<tr><th scope=row>1</th><td>1000024</td><td>2009-11-30 00:00:00+00:00</td><td>14.05</td><td>93.37</td><td>272.4</td><td>12.8</td><td>7.37</td><td>2009-11-30</td></tr>\n",
       "\t<tr><th scope=row>2</th><td>1000036</td><td>2004-02-23 00:00:00+00:00</td><td>14.20</td><td>   NA</td><td>135.0</td><td>  NA</td><td>5.90</td><td>2008-04-12</td></tr>\n",
       "\t<tr><th scope=row>3</th><td>1000036</td><td>2008-04-12 00:00:00+00:00</td><td>14.00</td><td>90.70</td><td> 99.0</td><td>12.8</td><td>7.60</td><td>2008-04-12</td></tr>\n",
       "\t<tr><th scope=row>4</th><td>1000036</td><td>2008-05-16 00:00:00+00:00</td><td>13.70</td><td>   NA</td><td>117.0</td><td>  NA</td><td>6.44</td><td>2008-04-12</td></tr>\n",
       "\t<tr><th scope=row>5</th><td>1000036</td><td>2008-05-30 00:00:00+00:00</td><td>13.70</td><td>   NA</td><td> 66.0</td><td>  NA</td><td>5.49</td><td>2008-04-12</td></tr>\n",
       "\t<tr><th scope=row>6</th><td>1000036</td><td>2008-06-18 00:00:00+00:00</td><td>13.90</td><td>   NA</td><td> 62.0</td><td>  NA</td><td>6.59</td><td>2008-04-12</td></tr>\n",
       "</tbody>\n",
       "</table>\n"
      ],
      "text/latex": [
       "A data.frame: 6 × 8\n",
       "\\begin{tabular}{r|llllllll}\n",
       "  & person\\_id & measurement\\_datetime & hgb & mcv & plt & rdw & wbc & min\\_date\\\\\n",
       "  & <chr> & <chr> & <dbl> & <dbl> & <dbl> & <dbl> & <dbl> & <IDate>\\\\\n",
       "\\hline\n",
       "\t1 & 1000024 & 2009-11-30 00:00:00+00:00 & 14.05 & 93.37 & 272.4 & 12.8 & 7.37 & 2009-11-30\\\\\n",
       "\t2 & 1000036 & 2004-02-23 00:00:00+00:00 & 14.20 &    NA & 135.0 &   NA & 5.90 & 2008-04-12\\\\\n",
       "\t3 & 1000036 & 2008-04-12 00:00:00+00:00 & 14.00 & 90.70 &  99.0 & 12.8 & 7.60 & 2008-04-12\\\\\n",
       "\t4 & 1000036 & 2008-05-16 00:00:00+00:00 & 13.70 &    NA & 117.0 &   NA & 6.44 & 2008-04-12\\\\\n",
       "\t5 & 1000036 & 2008-05-30 00:00:00+00:00 & 13.70 &    NA &  66.0 &   NA & 5.49 & 2008-04-12\\\\\n",
       "\t6 & 1000036 & 2008-06-18 00:00:00+00:00 & 13.90 &    NA &  62.0 &   NA & 6.59 & 2008-04-12\\\\\n",
       "\\end{tabular}\n"
      ],
      "text/markdown": [
       "\n",
       "A data.frame: 6 × 8\n",
       "\n",
       "| <!--/--> | person_id &lt;chr&gt; | measurement_datetime &lt;chr&gt; | hgb &lt;dbl&gt; | mcv &lt;dbl&gt; | plt &lt;dbl&gt; | rdw &lt;dbl&gt; | wbc &lt;dbl&gt; | min_date &lt;IDate&gt; |\n",
       "|---|---|---|---|---|---|---|---|---|\n",
       "| 1 | 1000024 | 2009-11-30 00:00:00+00:00 | 14.05 | 93.37 | 272.4 | 12.8 | 7.37 | 2009-11-30 |\n",
       "| 2 | 1000036 | 2004-02-23 00:00:00+00:00 | 14.20 |    NA | 135.0 |   NA | 5.90 | 2008-04-12 |\n",
       "| 3 | 1000036 | 2008-04-12 00:00:00+00:00 | 14.00 | 90.70 |  99.0 | 12.8 | 7.60 | 2008-04-12 |\n",
       "| 4 | 1000036 | 2008-05-16 00:00:00+00:00 | 13.70 |    NA | 117.0 |   NA | 6.44 | 2008-04-12 |\n",
       "| 5 | 1000036 | 2008-05-30 00:00:00+00:00 | 13.70 |    NA |  66.0 |   NA | 5.49 | 2008-04-12 |\n",
       "| 6 | 1000036 | 2008-06-18 00:00:00+00:00 | 13.90 |    NA |  62.0 |   NA | 6.59 | 2008-04-12 |\n",
       "\n"
      ],
      "text/plain": [
       "  person_id measurement_datetime      hgb   mcv   plt   rdw  wbc  min_date  \n",
       "1 1000024   2009-11-30 00:00:00+00:00 14.05 93.37 272.4 12.8 7.37 2009-11-30\n",
       "2 1000036   2004-02-23 00:00:00+00:00 14.20    NA 135.0   NA 5.90 2008-04-12\n",
       "3 1000036   2008-04-12 00:00:00+00:00 14.00 90.70  99.0 12.8 7.60 2008-04-12\n",
       "4 1000036   2008-05-16 00:00:00+00:00 13.70    NA 117.0   NA 6.44 2008-04-12\n",
       "5 1000036   2008-05-30 00:00:00+00:00 13.70    NA  66.0   NA 5.49 2008-04-12\n",
       "6 1000036   2008-06-18 00:00:00+00:00 13.90    NA  62.0   NA 6.59 2008-04-12"
      ]
     },
     "metadata": {},
     "output_type": "display_data"
    }
   ],
   "source": [
    "head(ukb_measure_all)"
   ]
  },
  {
   "cell_type": "code",
   "execution_count": 55,
   "metadata": {},
   "outputs": [
    {
     "name": "stderr",
     "output_type": "stream",
     "text": [
      "Warning message:\n",
      "“\u001b[1m\u001b[22mReturning more (or less) than 1 row per `summarise()` group was deprecated in\n",
      "dplyr 1.1.0.\n",
      "\u001b[36mℹ\u001b[39m Please use `reframe()` instead.\n",
      "\u001b[36mℹ\u001b[39m When switching from `summarise()` to `reframe()`, remember that `reframe()`\n",
      "  always returns an ungrouped data frame and adjust accordingly.”\n"
     ]
    }
   ],
   "source": [
    "summary_stats <- ukb_measure_all %>%\n",
    "  arrange(person_id, measurement_datetime) %>%\n",
    "  group_by(person_id) %>%\n",
    "  summarise(\n",
    "    hgb_baseline = first(hgb),\n",
    "    hgb_latest   = last(hgb),\n",
    "    hgb_mean     = mean(hgb, na.rm = TRUE),\n",
    "    hgb_dna      = hgb[which.min(abs(difftime(measurement_datetime, min_date, units = \"days\")))],\n",
    "\n",
    "    mcv_baseline = first(mcv),\n",
    "    mcv_latest   = last(mcv),\n",
    "    mcv_mean     = mean(mcv, na.rm = TRUE),\n",
    "    mcv_dna      = mcv[which.min(abs(difftime(measurement_datetime, min_date, units = \"days\")))],\n",
    "\n",
    "    plt_baseline = first(plt),\n",
    "    plt_latest   = last(plt),\n",
    "    plt_mean     = mean(plt, na.rm = TRUE),\n",
    "    plt_dna      = plt[which.min(abs(difftime(measurement_datetime, min_date, units = \"days\")))],\n",
    "\n",
    "    rdw_baseline = first(rdw),\n",
    "    rdw_latest   = last(rdw),\n",
    "    rdw_mean     = mean(rdw, na.rm = TRUE),\n",
    "    rdw_dna      = rdw[which.min(abs(difftime(measurement_datetime, min_date, units = \"days\")))],\n",
    "\n",
    "    wbc_baseline = first(wbc),\n",
    "    wbc_latest   = last(wbc),\n",
    "    wbc_mean     = mean(wbc, na.rm = TRUE),\n",
    "    wbc_dna      = wbc[which.min(abs(difftime(measurement_datetime, min_date, units = \"days\")))],\n",
    "\n",
    "    .groups = \"drop\"\n",
    "  )"
   ]
  },
  {
   "cell_type": "code",
   "execution_count": 57,
   "metadata": {},
   "outputs": [
    {
     "data": {
      "text/html": [
       "<style>\n",
       ".list-inline {list-style: none; margin:0; padding: 0}\n",
       ".list-inline>li {display: inline-block}\n",
       ".list-inline>li:not(:last-child)::after {content: \"\\00b7\"; padding: 0 .5ex}\n",
       "</style>\n",
       "<ol class=list-inline><li>476579</li><li>21</li></ol>\n"
      ],
      "text/latex": [
       "\\begin{enumerate*}\n",
       "\\item 476579\n",
       "\\item 21\n",
       "\\end{enumerate*}\n"
      ],
      "text/markdown": [
       "1. 476579\n",
       "2. 21\n",
       "\n",
       "\n"
      ],
      "text/plain": [
       "[1] 476579     21"
      ]
     },
     "metadata": {},
     "output_type": "display_data"
    },
    {
     "data": {
      "text/html": [
       "<table class=\"dataframe\">\n",
       "<caption>A tibble: 6 × 21</caption>\n",
       "<thead>\n",
       "\t<tr><th scope=col>person_id</th><th scope=col>hgb_baseline</th><th scope=col>hgb_latest</th><th scope=col>hgb_mean</th><th scope=col>hgb_dna</th><th scope=col>mcv_baseline</th><th scope=col>mcv_latest</th><th scope=col>mcv_mean</th><th scope=col>mcv_dna</th><th scope=col>plt_baseline</th><th scope=col>⋯</th><th scope=col>plt_mean</th><th scope=col>plt_dna</th><th scope=col>rdw_baseline</th><th scope=col>rdw_latest</th><th scope=col>rdw_mean</th><th scope=col>rdw_dna</th><th scope=col>wbc_baseline</th><th scope=col>wbc_latest</th><th scope=col>wbc_mean</th><th scope=col>wbc_dna</th></tr>\n",
       "\t<tr><th scope=col>&lt;chr&gt;</th><th scope=col>&lt;dbl&gt;</th><th scope=col>&lt;dbl&gt;</th><th scope=col>&lt;dbl&gt;</th><th scope=col>&lt;dbl&gt;</th><th scope=col>&lt;dbl&gt;</th><th scope=col>&lt;dbl&gt;</th><th scope=col>&lt;dbl&gt;</th><th scope=col>&lt;dbl&gt;</th><th scope=col>&lt;dbl&gt;</th><th scope=col>⋯</th><th scope=col>&lt;dbl&gt;</th><th scope=col>&lt;dbl&gt;</th><th scope=col>&lt;dbl&gt;</th><th scope=col>&lt;dbl&gt;</th><th scope=col>&lt;dbl&gt;</th><th scope=col>&lt;dbl&gt;</th><th scope=col>&lt;dbl&gt;</th><th scope=col>&lt;dbl&gt;</th><th scope=col>&lt;dbl&gt;</th><th scope=col>&lt;dbl&gt;</th></tr>\n",
       "</thead>\n",
       "<tbody>\n",
       "\t<tr><td>1000024</td><td>14.05</td><td>14.05</td><td>14.05000</td><td>14.05</td><td>93.37</td><td>93.37</td><td>93.37</td><td>93.37</td><td>272.4</td><td>⋯</td><td>272.4000</td><td>272.4</td><td>12.80</td><td>12.80</td><td>12.80</td><td>12.80</td><td>7.37</td><td>7.37</td><td>7.370000</td><td>7.37</td></tr>\n",
       "\t<tr><td>1000036</td><td>14.20</td><td>13.50</td><td>13.97083</td><td>14.00</td><td>   NA</td><td>   NA</td><td>90.70</td><td>90.70</td><td>135.0</td><td>⋯</td><td> 94.3750</td><td> 99.0</td><td>   NA</td><td>   NA</td><td>12.80</td><td>12.80</td><td>5.90</td><td>9.58</td><td>6.227083</td><td>7.60</td></tr>\n",
       "\t<tr><td>1000048</td><td>13.00</td><td>13.00</td><td>13.00000</td><td>13.00</td><td>83.40</td><td>83.40</td><td>83.40</td><td>83.40</td><td>256.0</td><td>⋯</td><td>256.0000</td><td>256.0</td><td>15.60</td><td>15.60</td><td>15.60</td><td>15.60</td><td>6.40</td><td>6.40</td><td>6.400000</td><td>6.40</td></tr>\n",
       "\t<tr><td>1000055</td><td>13.98</td><td>13.98</td><td>13.98000</td><td>13.98</td><td>93.37</td><td>93.37</td><td>93.37</td><td>93.37</td><td>320.6</td><td>⋯</td><td>320.6000</td><td>320.6</td><td>12.57</td><td>12.57</td><td>12.57</td><td>12.57</td><td>8.58</td><td>8.58</td><td>8.580000</td><td>8.58</td></tr>\n",
       "\t<tr><td>1000067</td><td>14.10</td><td>14.10</td><td>14.10000</td><td>14.10</td><td>87.80</td><td>87.80</td><td>87.80</td><td>87.80</td><td>221.0</td><td>⋯</td><td>221.0000</td><td>221.0</td><td>13.40</td><td>13.40</td><td>13.40</td><td>13.40</td><td>5.80</td><td>5.80</td><td>5.800000</td><td>5.80</td></tr>\n",
       "\t<tr><td>1000072</td><td>12.00</td><td>13.70</td><td>13.46667</td><td>12.00</td><td>85.80</td><td>   NA</td><td>85.80</td><td>85.80</td><td>290.0</td><td>⋯</td><td>266.6667</td><td>290.0</td><td>14.80</td><td>   NA</td><td>14.80</td><td>14.80</td><td>6.40</td><td>6.20</td><td>6.400000</td><td>6.40</td></tr>\n",
       "</tbody>\n",
       "</table>\n"
      ],
      "text/latex": [
       "A tibble: 6 × 21\n",
       "\\begin{tabular}{lllllllllllllllllllll}\n",
       " person\\_id & hgb\\_baseline & hgb\\_latest & hgb\\_mean & hgb\\_dna & mcv\\_baseline & mcv\\_latest & mcv\\_mean & mcv\\_dna & plt\\_baseline & ⋯ & plt\\_mean & plt\\_dna & rdw\\_baseline & rdw\\_latest & rdw\\_mean & rdw\\_dna & wbc\\_baseline & wbc\\_latest & wbc\\_mean & wbc\\_dna\\\\\n",
       " <chr> & <dbl> & <dbl> & <dbl> & <dbl> & <dbl> & <dbl> & <dbl> & <dbl> & <dbl> & ⋯ & <dbl> & <dbl> & <dbl> & <dbl> & <dbl> & <dbl> & <dbl> & <dbl> & <dbl> & <dbl>\\\\\n",
       "\\hline\n",
       "\t 1000024 & 14.05 & 14.05 & 14.05000 & 14.05 & 93.37 & 93.37 & 93.37 & 93.37 & 272.4 & ⋯ & 272.4000 & 272.4 & 12.80 & 12.80 & 12.80 & 12.80 & 7.37 & 7.37 & 7.370000 & 7.37\\\\\n",
       "\t 1000036 & 14.20 & 13.50 & 13.97083 & 14.00 &    NA &    NA & 90.70 & 90.70 & 135.0 & ⋯ &  94.3750 &  99.0 &    NA &    NA & 12.80 & 12.80 & 5.90 & 9.58 & 6.227083 & 7.60\\\\\n",
       "\t 1000048 & 13.00 & 13.00 & 13.00000 & 13.00 & 83.40 & 83.40 & 83.40 & 83.40 & 256.0 & ⋯ & 256.0000 & 256.0 & 15.60 & 15.60 & 15.60 & 15.60 & 6.40 & 6.40 & 6.400000 & 6.40\\\\\n",
       "\t 1000055 & 13.98 & 13.98 & 13.98000 & 13.98 & 93.37 & 93.37 & 93.37 & 93.37 & 320.6 & ⋯ & 320.6000 & 320.6 & 12.57 & 12.57 & 12.57 & 12.57 & 8.58 & 8.58 & 8.580000 & 8.58\\\\\n",
       "\t 1000067 & 14.10 & 14.10 & 14.10000 & 14.10 & 87.80 & 87.80 & 87.80 & 87.80 & 221.0 & ⋯ & 221.0000 & 221.0 & 13.40 & 13.40 & 13.40 & 13.40 & 5.80 & 5.80 & 5.800000 & 5.80\\\\\n",
       "\t 1000072 & 12.00 & 13.70 & 13.46667 & 12.00 & 85.80 &    NA & 85.80 & 85.80 & 290.0 & ⋯ & 266.6667 & 290.0 & 14.80 &    NA & 14.80 & 14.80 & 6.40 & 6.20 & 6.400000 & 6.40\\\\\n",
       "\\end{tabular}\n"
      ],
      "text/markdown": [
       "\n",
       "A tibble: 6 × 21\n",
       "\n",
       "| person_id &lt;chr&gt; | hgb_baseline &lt;dbl&gt; | hgb_latest &lt;dbl&gt; | hgb_mean &lt;dbl&gt; | hgb_dna &lt;dbl&gt; | mcv_baseline &lt;dbl&gt; | mcv_latest &lt;dbl&gt; | mcv_mean &lt;dbl&gt; | mcv_dna &lt;dbl&gt; | plt_baseline &lt;dbl&gt; | ⋯ ⋯ | plt_mean &lt;dbl&gt; | plt_dna &lt;dbl&gt; | rdw_baseline &lt;dbl&gt; | rdw_latest &lt;dbl&gt; | rdw_mean &lt;dbl&gt; | rdw_dna &lt;dbl&gt; | wbc_baseline &lt;dbl&gt; | wbc_latest &lt;dbl&gt; | wbc_mean &lt;dbl&gt; | wbc_dna &lt;dbl&gt; |\n",
       "|---|---|---|---|---|---|---|---|---|---|---|---|---|---|---|---|---|---|---|---|---|\n",
       "| 1000024 | 14.05 | 14.05 | 14.05000 | 14.05 | 93.37 | 93.37 | 93.37 | 93.37 | 272.4 | ⋯ | 272.4000 | 272.4 | 12.80 | 12.80 | 12.80 | 12.80 | 7.37 | 7.37 | 7.370000 | 7.37 |\n",
       "| 1000036 | 14.20 | 13.50 | 13.97083 | 14.00 |    NA |    NA | 90.70 | 90.70 | 135.0 | ⋯ |  94.3750 |  99.0 |    NA |    NA | 12.80 | 12.80 | 5.90 | 9.58 | 6.227083 | 7.60 |\n",
       "| 1000048 | 13.00 | 13.00 | 13.00000 | 13.00 | 83.40 | 83.40 | 83.40 | 83.40 | 256.0 | ⋯ | 256.0000 | 256.0 | 15.60 | 15.60 | 15.60 | 15.60 | 6.40 | 6.40 | 6.400000 | 6.40 |\n",
       "| 1000055 | 13.98 | 13.98 | 13.98000 | 13.98 | 93.37 | 93.37 | 93.37 | 93.37 | 320.6 | ⋯ | 320.6000 | 320.6 | 12.57 | 12.57 | 12.57 | 12.57 | 8.58 | 8.58 | 8.580000 | 8.58 |\n",
       "| 1000067 | 14.10 | 14.10 | 14.10000 | 14.10 | 87.80 | 87.80 | 87.80 | 87.80 | 221.0 | ⋯ | 221.0000 | 221.0 | 13.40 | 13.40 | 13.40 | 13.40 | 5.80 | 5.80 | 5.800000 | 5.80 |\n",
       "| 1000072 | 12.00 | 13.70 | 13.46667 | 12.00 | 85.80 |    NA | 85.80 | 85.80 | 290.0 | ⋯ | 266.6667 | 290.0 | 14.80 |    NA | 14.80 | 14.80 | 6.40 | 6.20 | 6.400000 | 6.40 |\n",
       "\n"
      ],
      "text/plain": [
       "  person_id hgb_baseline hgb_latest hgb_mean hgb_dna mcv_baseline mcv_latest\n",
       "1 1000024   14.05        14.05      14.05000 14.05   93.37        93.37     \n",
       "2 1000036   14.20        13.50      13.97083 14.00      NA           NA     \n",
       "3 1000048   13.00        13.00      13.00000 13.00   83.40        83.40     \n",
       "4 1000055   13.98        13.98      13.98000 13.98   93.37        93.37     \n",
       "5 1000067   14.10        14.10      14.10000 14.10   87.80        87.80     \n",
       "6 1000072   12.00        13.70      13.46667 12.00   85.80           NA     \n",
       "  mcv_mean mcv_dna plt_baseline ⋯ plt_mean plt_dna rdw_baseline rdw_latest\n",
       "1 93.37    93.37   272.4        ⋯ 272.4000 272.4   12.80        12.80     \n",
       "2 90.70    90.70   135.0        ⋯  94.3750  99.0      NA           NA     \n",
       "3 83.40    83.40   256.0        ⋯ 256.0000 256.0   15.60        15.60     \n",
       "4 93.37    93.37   320.6        ⋯ 320.6000 320.6   12.57        12.57     \n",
       "5 87.80    87.80   221.0        ⋯ 221.0000 221.0   13.40        13.40     \n",
       "6 85.80    85.80   290.0        ⋯ 266.6667 290.0   14.80           NA     \n",
       "  rdw_mean rdw_dna wbc_baseline wbc_latest wbc_mean wbc_dna\n",
       "1 12.80    12.80   7.37         7.37       7.370000 7.37   \n",
       "2 12.80    12.80   5.90         9.58       6.227083 7.60   \n",
       "3 15.60    15.60   6.40         6.40       6.400000 6.40   \n",
       "4 12.57    12.57   8.58         8.58       8.580000 8.58   \n",
       "5 13.40    13.40   5.80         5.80       5.800000 5.80   \n",
       "6 14.80    14.80   6.40         6.20       6.400000 6.40   "
      ]
     },
     "metadata": {},
     "output_type": "display_data"
    }
   ],
   "source": [
    "dim(summary_stats)\n",
    "head(summary_stats)"
   ]
  },
  {
   "cell_type": "code",
   "execution_count": 45,
   "metadata": {},
   "outputs": [
    {
     "data": {
      "text/html": [
       "<style>\n",
       ".list-inline {list-style: none; margin:0; padding: 0}\n",
       ".list-inline>li {display: inline-block}\n",
       ".list-inline>li:not(:last-child)::after {content: \"\\00b7\"; padding: 0 .5ex}\n",
       "</style>\n",
       "<ol class=list-inline><li>487409</li><li>4870</li></ol>\n"
      ],
      "text/latex": [
       "\\begin{enumerate*}\n",
       "\\item 487409\n",
       "\\item 4870\n",
       "\\end{enumerate*}\n"
      ],
      "text/markdown": [
       "1. 487409\n",
       "2. 4870\n",
       "\n",
       "\n"
      ],
      "text/plain": [
       "[1] 487409   4870"
      ]
     },
     "metadata": {},
     "output_type": "display_data"
    },
    {
     "data": {
      "text/html": [
       "<style>\n",
       ".list-inline {list-style: none; margin:0; padding: 0}\n",
       ".list-inline>li {display: inline-block}\n",
       ".list-inline>li:not(:last-child)::after {content: \"\\00b7\"; padding: 0 .5ex}\n",
       "</style>\n",
       "<ol class=list-inline><li>471356</li><li>4876</li></ol>\n"
      ],
      "text/latex": [
       "\\begin{enumerate*}\n",
       "\\item 471356\n",
       "\\item 4876\n",
       "\\end{enumerate*}\n"
      ],
      "text/markdown": [
       "1. 471356\n",
       "2. 4876\n",
       "\n",
       "\n"
      ],
      "text/plain": [
       "[1] 471356   4876"
      ]
     },
     "metadata": {},
     "output_type": "display_data"
    }
   ],
   "source": [
    "dim(data_all_pheno_cox3)\n",
    "dim(data_all_pheno_jak)"
   ]
  },
  {
   "cell_type": "code",
   "execution_count": 17,
   "metadata": {
    "scrolled": true
   },
   "outputs": [
    {
     "data": {
      "text/plain": [
       "\n",
       "     0      1   <NA> \n",
       "486879    192    338 "
      ]
     },
     "metadata": {},
     "output_type": "display_data"
    }
   ],
   "source": [
    "table(data_all_pheno_cox3$jak2, useNA = \"always\")"
   ]
  },
  {
   "cell_type": "code",
   "execution_count": 22,
   "metadata": {},
   "outputs": [
    {
     "data": {
      "text/html": [
       "<style>\n",
       ".list-inline {list-style: none; margin:0; padding: 0}\n",
       ".list-inline>li {display: inline-block}\n",
       ".list-inline>li:not(:last-child)::after {content: \"\\00b7\"; padding: 0 .5ex}\n",
       "</style>\n",
       "<ol class=list-inline><li>758</li><li>7</li></ol>\n"
      ],
      "text/latex": [
       "\\begin{enumerate*}\n",
       "\\item 758\n",
       "\\item 7\n",
       "\\end{enumerate*}\n"
      ],
      "text/markdown": [
       "1. 758\n",
       "2. 7\n",
       "\n",
       "\n"
      ],
      "text/plain": [
       "[1] 758   7"
      ]
     },
     "metadata": {},
     "output_type": "display_data"
    }
   ],
   "source": [
    "ukb_measure_jak2 <- filter(ukb_measure, ukb_measure$person_id %in% data_jak2_pheno$ID)\n",
    "dim(ukb_measure_jak2)"
   ]
  },
  {
   "cell_type": "code",
   "execution_count": 19,
   "metadata": {},
   "outputs": [
    {
     "data": {
      "text/html": [
       "<style>\n",
       ".list-inline {list-style: none; margin:0; padding: 0}\n",
       ".list-inline>li {display: inline-block}\n",
       ".list-inline>li:not(:last-child)::after {content: \"\\00b7\"; padding: 0 .5ex}\n",
       "</style>\n",
       "<ol class=list-inline><li>192</li><li>4870</li></ol>\n"
      ],
      "text/latex": [
       "\\begin{enumerate*}\n",
       "\\item 192\n",
       "\\item 4870\n",
       "\\end{enumerate*}\n"
      ],
      "text/markdown": [
       "1. 192\n",
       "2. 4870\n",
       "\n",
       "\n"
      ],
      "text/plain": [
       "[1]  192 4870"
      ]
     },
     "metadata": {},
     "output_type": "display_data"
    }
   ],
   "source": [
    "data_jak2_pheno <- filter(data_all_pheno_cox3, data_all_pheno_cox3$jak2 == 1)\n",
    "dim(data_jak2_pheno)"
   ]
  },
  {
   "cell_type": "code",
   "execution_count": 140,
   "metadata": {},
   "outputs": [],
   "source": [
    "data_all_jak_heme <- merge(data_all_pheno_jak,summary_stats,by.x = \"ID\", by.y = \"person_id\", all = F)"
   ]
  },
  {
   "cell_type": "code",
   "execution_count": 141,
   "metadata": {},
   "outputs": [
    {
     "data": {
      "text/html": [
       "<style>\n",
       ".list-inline {list-style: none; margin:0; padding: 0}\n",
       ".list-inline>li {display: inline-block}\n",
       ".list-inline>li:not(:last-child)::after {content: \"\\00b7\"; padding: 0 .5ex}\n",
       "</style>\n",
       "<ol class=list-inline><li>461176</li><li>4898</li></ol>\n"
      ],
      "text/latex": [
       "\\begin{enumerate*}\n",
       "\\item 461176\n",
       "\\item 4898\n",
       "\\end{enumerate*}\n"
      ],
      "text/markdown": [
       "1. 461176\n",
       "2. 4898\n",
       "\n",
       "\n"
      ],
      "text/plain": [
       "[1] 461176   4898"
      ]
     },
     "metadata": {},
     "output_type": "display_data"
    }
   ],
   "source": [
    "dim(data_all_jak_heme)"
   ]
  },
  {
   "cell_type": "code",
   "execution_count": 142,
   "metadata": {},
   "outputs": [],
   "source": [
    "save(data_all_jak_heme, file = \"data_all_jak_heme.Rdata\")"
   ]
  },
  {
   "cell_type": "code",
   "execution_count": 10,
   "metadata": {},
   "outputs": [
    {
     "data": {
      "text/html": [
       "'data_all_jak_heme'"
      ],
      "text/latex": [
       "'data\\_all\\_jak\\_heme'"
      ],
      "text/markdown": [
       "'data_all_jak_heme'"
      ],
      "text/plain": [
       "[1] \"data_all_jak_heme\""
      ]
     },
     "metadata": {},
     "output_type": "display_data"
    }
   ],
   "source": [
    "x <- load(\"data_all_jak_heme.Rdata\")\n",
    "x"
   ]
  },
  {
   "cell_type": "code",
   "execution_count": 4,
   "metadata": {},
   "outputs": [],
   "source": [
    "blood_vars <- c(\"wbc_baseline\", \"wbc_latest\", \"wbc_dna\", \"wbc_mean\",\n",
    "                \"hgb_baseline\", \"hgb_latest\", \"hgb_dna\", \"hgb_mean\",\n",
    "                \"mcv_baseline\", \"mcv_latest\", \"mcv_dna\", \"mcv_mean\",\n",
    "                \"plt_baseline\", \"plt_latest\", \"plt_dna\", \"plt_mean\",\n",
    "                \"rdw_baseline\", \"rdw_latest\", \"rdw_dna\", \"rdw_mean\")"
   ]
  },
  {
   "cell_type": "code",
   "execution_count": 11,
   "metadata": {},
   "outputs": [],
   "source": [
    "blood_vars <- c(\"wbc_dna\",\n",
    "                \"hgb_dna\",\n",
    "                \"mcv_dna\",\n",
    "                \"plt_dna\",\n",
    "                \"rdw_dna\")"
   ]
  },
  {
   "cell_type": "code",
   "execution_count": 12,
   "metadata": {
    "code_folding": [
     0
    ]
   },
   "outputs": [],
   "source": [
    "analyze_jak2_assoc <- function(var, data) {\n",
    "  formula <- as.formula(paste(\"jak2 ~\", var, \"+baseline_age+age2+genetic_sex+smoking_0+PC1+PC2+PC3+PCD4+PC5\"))\n",
    "  model <- glm(formula, data = data, family = binomial)\n",
    "\n",
    "  tidy_result <- tidy(model) %>%\n",
    "    filter(term == var) %>%\n",
    "    mutate(\n",
    "      OR = exp(estimate),\n",
    "      CI_lower = exp(estimate - 1.96 * std.error),\n",
    "      CI_upper = exp(estimate + 1.96 * std.error)\n",
    "    ) %>%\n",
    "    select(term, OR, CI_lower, CI_upper, p.value) %>%\n",
    "    rename(Variable = term, P = p.value)\n",
    "\n",
    "  return(tidy_result)\n",
    "}"
   ]
  },
  {
   "cell_type": "code",
   "execution_count": 150,
   "metadata": {
    "collapsed": true
   },
   "outputs": [
    {
     "name": "stderr",
     "output_type": "stream",
     "text": [
      "Warning message:\n",
      "“glm.fit: fitted probabilities numerically 0 or 1 occurred”\n",
      "Warning message:\n",
      "“glm.fit: fitted probabilities numerically 0 or 1 occurred”\n",
      "Warning message:\n",
      "“glm.fit: fitted probabilities numerically 0 or 1 occurred”\n",
      "Warning message:\n",
      "“glm.fit: fitted probabilities numerically 0 or 1 occurred”\n",
      "Warning message:\n",
      "“glm.fit: fitted probabilities numerically 0 or 1 occurred”\n",
      "Warning message:\n",
      "“glm.fit: fitted probabilities numerically 0 or 1 occurred”\n",
      "Warning message:\n",
      "“glm.fit: fitted probabilities numerically 0 or 1 occurred”\n",
      "Warning message:\n",
      "“glm.fit: fitted probabilities numerically 0 or 1 occurred”\n",
      "Warning message:\n",
      "“glm.fit: fitted probabilities numerically 0 or 1 occurred”\n",
      "Warning message:\n",
      "“glm.fit: fitted probabilities numerically 0 or 1 occurred”\n",
      "Warning message:\n",
      "“glm.fit: fitted probabilities numerically 0 or 1 occurred”\n",
      "Warning message:\n",
      "“glm.fit: fitted probabilities numerically 0 or 1 occurred”\n",
      "Warning message:\n",
      "“glm.fit: fitted probabilities numerically 0 or 1 occurred”\n",
      "Warning message:\n",
      "“glm.fit: fitted probabilities numerically 0 or 1 occurred”\n"
     ]
    }
   ],
   "source": [
    "results <- lapply(blood_vars, analyze_jak2_assoc, data = data_all_jak_heme)\n",
    "results_df <- bind_rows(results)"
   ]
  },
  {
   "cell_type": "code",
   "execution_count": 151,
   "metadata": {
    "scrolled": true
   },
   "outputs": [
    {
     "data": {
      "text/html": [
       "<table class=\"dataframe\">\n",
       "<caption>A tibble: 20 × 5</caption>\n",
       "<thead>\n",
       "\t<tr><th scope=col>Variable</th><th scope=col>OR</th><th scope=col>CI_lower</th><th scope=col>CI_upper</th><th scope=col>P</th></tr>\n",
       "\t<tr><th scope=col>&lt;chr&gt;</th><th scope=col>&lt;dbl&gt;</th><th scope=col>&lt;dbl&gt;</th><th scope=col>&lt;dbl&gt;</th><th scope=col>&lt;dbl&gt;</th></tr>\n",
       "</thead>\n",
       "<tbody>\n",
       "\t<tr><td>hgb_baseline</td><td>1.4461437</td><td>1.2508646</td><td>1.671909</td><td> 6.219761e-07</td></tr>\n",
       "\t<tr><td>hgb_latest  </td><td>0.9373439</td><td>0.8243863</td><td>1.065779</td><td> 3.233372e-01</td></tr>\n",
       "\t<tr><td>hgb_mean    </td><td>1.1597572</td><td>1.0010325</td><td>1.343649</td><td> 4.841097e-02</td></tr>\n",
       "\t<tr><td>hgb_dna     </td><td>1.2612924</td><td>1.0886356</td><td>1.461333</td><td> 1.996805e-03</td></tr>\n",
       "\t<tr><td>mcv_baseline</td><td>1.0779389</td><td>1.0431735</td><td>1.113863</td><td> 7.222474e-06</td></tr>\n",
       "\t<tr><td>mcv_latest  </td><td>1.0918138</td><td>1.0577054</td><td>1.127022</td><td> 5.809929e-08</td></tr>\n",
       "\t<tr><td>mcv_mean    </td><td>1.0952220</td><td>1.0666902</td><td>1.124517</td><td> 1.440570e-11</td></tr>\n",
       "\t<tr><td>mcv_dna     </td><td>1.0952220</td><td>1.0666902</td><td>1.124517</td><td> 1.440570e-11</td></tr>\n",
       "\t<tr><td>plt_baseline</td><td>1.0119698</td><td>1.0111336</td><td>1.012807</td><td>4.222978e-175</td></tr>\n",
       "\t<tr><td>plt_latest  </td><td>1.0116242</td><td>1.0107997</td><td>1.012449</td><td>7.569470e-170</td></tr>\n",
       "\t<tr><td>plt_mean    </td><td>1.0138770</td><td>1.0128909</td><td>1.014864</td><td>1.380789e-169</td></tr>\n",
       "\t<tr><td>plt_dna     </td><td>1.0134713</td><td>1.0125417</td><td>1.014402</td><td>1.081540e-179</td></tr>\n",
       "\t<tr><td>rdw_baseline</td><td>1.6012974</td><td>1.5361011</td><td>1.669261</td><td>3.407935e-109</td></tr>\n",
       "\t<tr><td>rdw_latest  </td><td>1.6135218</td><td>1.5454042</td><td>1.684642</td><td>8.705083e-105</td></tr>\n",
       "\t<tr><td>rdw_mean    </td><td>1.6105740</td><td>1.5525961</td><td>1.670717</td><td>3.366696e-143</td></tr>\n",
       "\t<tr><td>rdw_dna     </td><td>1.6105740</td><td>1.5525961</td><td>1.670717</td><td>3.366696e-143</td></tr>\n",
       "\t<tr><td>wbc_baseline</td><td>1.0472390</td><td>1.0347355</td><td>1.059893</td><td> 5.000052e-14</td></tr>\n",
       "\t<tr><td>wbc_latest  </td><td>1.0598624</td><td>1.0463034</td><td>1.073597</td><td> 8.736336e-19</td></tr>\n",
       "\t<tr><td>wbc_mean    </td><td>1.0573882</td><td>1.0437629</td><td>1.071191</td><td> 3.370033e-17</td></tr>\n",
       "\t<tr><td>wbc_dna     </td><td>1.0459121</td><td>1.0336164</td><td>1.058354</td><td> 1.006486e-13</td></tr>\n",
       "</tbody>\n",
       "</table>\n"
      ],
      "text/latex": [
       "A tibble: 20 × 5\n",
       "\\begin{tabular}{lllll}\n",
       " Variable & OR & CI\\_lower & CI\\_upper & P\\\\\n",
       " <chr> & <dbl> & <dbl> & <dbl> & <dbl>\\\\\n",
       "\\hline\n",
       "\t hgb\\_baseline & 1.4461437 & 1.2508646 & 1.671909 &  6.219761e-07\\\\\n",
       "\t hgb\\_latest   & 0.9373439 & 0.8243863 & 1.065779 &  3.233372e-01\\\\\n",
       "\t hgb\\_mean     & 1.1597572 & 1.0010325 & 1.343649 &  4.841097e-02\\\\\n",
       "\t hgb\\_dna      & 1.2612924 & 1.0886356 & 1.461333 &  1.996805e-03\\\\\n",
       "\t mcv\\_baseline & 1.0779389 & 1.0431735 & 1.113863 &  7.222474e-06\\\\\n",
       "\t mcv\\_latest   & 1.0918138 & 1.0577054 & 1.127022 &  5.809929e-08\\\\\n",
       "\t mcv\\_mean     & 1.0952220 & 1.0666902 & 1.124517 &  1.440570e-11\\\\\n",
       "\t mcv\\_dna      & 1.0952220 & 1.0666902 & 1.124517 &  1.440570e-11\\\\\n",
       "\t plt\\_baseline & 1.0119698 & 1.0111336 & 1.012807 & 4.222978e-175\\\\\n",
       "\t plt\\_latest   & 1.0116242 & 1.0107997 & 1.012449 & 7.569470e-170\\\\\n",
       "\t plt\\_mean     & 1.0138770 & 1.0128909 & 1.014864 & 1.380789e-169\\\\\n",
       "\t plt\\_dna      & 1.0134713 & 1.0125417 & 1.014402 & 1.081540e-179\\\\\n",
       "\t rdw\\_baseline & 1.6012974 & 1.5361011 & 1.669261 & 3.407935e-109\\\\\n",
       "\t rdw\\_latest   & 1.6135218 & 1.5454042 & 1.684642 & 8.705083e-105\\\\\n",
       "\t rdw\\_mean     & 1.6105740 & 1.5525961 & 1.670717 & 3.366696e-143\\\\\n",
       "\t rdw\\_dna      & 1.6105740 & 1.5525961 & 1.670717 & 3.366696e-143\\\\\n",
       "\t wbc\\_baseline & 1.0472390 & 1.0347355 & 1.059893 &  5.000052e-14\\\\\n",
       "\t wbc\\_latest   & 1.0598624 & 1.0463034 & 1.073597 &  8.736336e-19\\\\\n",
       "\t wbc\\_mean     & 1.0573882 & 1.0437629 & 1.071191 &  3.370033e-17\\\\\n",
       "\t wbc\\_dna      & 1.0459121 & 1.0336164 & 1.058354 &  1.006486e-13\\\\\n",
       "\\end{tabular}\n"
      ],
      "text/markdown": [
       "\n",
       "A tibble: 20 × 5\n",
       "\n",
       "| Variable &lt;chr&gt; | OR &lt;dbl&gt; | CI_lower &lt;dbl&gt; | CI_upper &lt;dbl&gt; | P &lt;dbl&gt; |\n",
       "|---|---|---|---|---|\n",
       "| hgb_baseline | 1.4461437 | 1.2508646 | 1.671909 |  6.219761e-07 |\n",
       "| hgb_latest   | 0.9373439 | 0.8243863 | 1.065779 |  3.233372e-01 |\n",
       "| hgb_mean     | 1.1597572 | 1.0010325 | 1.343649 |  4.841097e-02 |\n",
       "| hgb_dna      | 1.2612924 | 1.0886356 | 1.461333 |  1.996805e-03 |\n",
       "| mcv_baseline | 1.0779389 | 1.0431735 | 1.113863 |  7.222474e-06 |\n",
       "| mcv_latest   | 1.0918138 | 1.0577054 | 1.127022 |  5.809929e-08 |\n",
       "| mcv_mean     | 1.0952220 | 1.0666902 | 1.124517 |  1.440570e-11 |\n",
       "| mcv_dna      | 1.0952220 | 1.0666902 | 1.124517 |  1.440570e-11 |\n",
       "| plt_baseline | 1.0119698 | 1.0111336 | 1.012807 | 4.222978e-175 |\n",
       "| plt_latest   | 1.0116242 | 1.0107997 | 1.012449 | 7.569470e-170 |\n",
       "| plt_mean     | 1.0138770 | 1.0128909 | 1.014864 | 1.380789e-169 |\n",
       "| plt_dna      | 1.0134713 | 1.0125417 | 1.014402 | 1.081540e-179 |\n",
       "| rdw_baseline | 1.6012974 | 1.5361011 | 1.669261 | 3.407935e-109 |\n",
       "| rdw_latest   | 1.6135218 | 1.5454042 | 1.684642 | 8.705083e-105 |\n",
       "| rdw_mean     | 1.6105740 | 1.5525961 | 1.670717 | 3.366696e-143 |\n",
       "| rdw_dna      | 1.6105740 | 1.5525961 | 1.670717 | 3.366696e-143 |\n",
       "| wbc_baseline | 1.0472390 | 1.0347355 | 1.059893 |  5.000052e-14 |\n",
       "| wbc_latest   | 1.0598624 | 1.0463034 | 1.073597 |  8.736336e-19 |\n",
       "| wbc_mean     | 1.0573882 | 1.0437629 | 1.071191 |  3.370033e-17 |\n",
       "| wbc_dna      | 1.0459121 | 1.0336164 | 1.058354 |  1.006486e-13 |\n",
       "\n"
      ],
      "text/plain": [
       "   Variable     OR        CI_lower  CI_upper P            \n",
       "1  hgb_baseline 1.4461437 1.2508646 1.671909  6.219761e-07\n",
       "2  hgb_latest   0.9373439 0.8243863 1.065779  3.233372e-01\n",
       "3  hgb_mean     1.1597572 1.0010325 1.343649  4.841097e-02\n",
       "4  hgb_dna      1.2612924 1.0886356 1.461333  1.996805e-03\n",
       "5  mcv_baseline 1.0779389 1.0431735 1.113863  7.222474e-06\n",
       "6  mcv_latest   1.0918138 1.0577054 1.127022  5.809929e-08\n",
       "7  mcv_mean     1.0952220 1.0666902 1.124517  1.440570e-11\n",
       "8  mcv_dna      1.0952220 1.0666902 1.124517  1.440570e-11\n",
       "9  plt_baseline 1.0119698 1.0111336 1.012807 4.222978e-175\n",
       "10 plt_latest   1.0116242 1.0107997 1.012449 7.569470e-170\n",
       "11 plt_mean     1.0138770 1.0128909 1.014864 1.380789e-169\n",
       "12 plt_dna      1.0134713 1.0125417 1.014402 1.081540e-179\n",
       "13 rdw_baseline 1.6012974 1.5361011 1.669261 3.407935e-109\n",
       "14 rdw_latest   1.6135218 1.5454042 1.684642 8.705083e-105\n",
       "15 rdw_mean     1.6105740 1.5525961 1.670717 3.366696e-143\n",
       "16 rdw_dna      1.6105740 1.5525961 1.670717 3.366696e-143\n",
       "17 wbc_baseline 1.0472390 1.0347355 1.059893  5.000052e-14\n",
       "18 wbc_latest   1.0598624 1.0463034 1.073597  8.736336e-19\n",
       "19 wbc_mean     1.0573882 1.0437629 1.071191  3.370033e-17\n",
       "20 wbc_dna      1.0459121 1.0336164 1.058354  1.006486e-13"
      ]
     },
     "metadata": {},
     "output_type": "display_data"
    }
   ],
   "source": [
    "results_df"
   ]
  },
  {
   "cell_type": "code",
   "execution_count": 13,
   "metadata": {},
   "outputs": [
    {
     "name": "stderr",
     "output_type": "stream",
     "text": [
      "Warning message:\n",
      "“glm.fit: fitted probabilities numerically 0 or 1 occurred”\n",
      "Warning message:\n",
      "“glm.fit: fitted probabilities numerically 0 or 1 occurred”\n",
      "Warning message:\n",
      "“glm.fit: fitted probabilities numerically 0 or 1 occurred”\n",
      "Warning message:\n",
      "“glm.fit: fitted probabilities numerically 0 or 1 occurred”\n",
      "Warning message:\n",
      "“glm.fit: fitted probabilities numerically 0 or 1 occurred”\n"
     ]
    },
    {
     "data": {
      "text/html": [
       "<table class=\"dataframe\">\n",
       "<caption>A tibble: 5 × 5</caption>\n",
       "<thead>\n",
       "\t<tr><th scope=col>Variable</th><th scope=col>OR</th><th scope=col>CI_lower</th><th scope=col>CI_upper</th><th scope=col>P</th></tr>\n",
       "\t<tr><th scope=col>&lt;chr&gt;</th><th scope=col>&lt;dbl&gt;</th><th scope=col>&lt;dbl&gt;</th><th scope=col>&lt;dbl&gt;</th><th scope=col>&lt;dbl&gt;</th></tr>\n",
       "</thead>\n",
       "<tbody>\n",
       "\t<tr><td>wbc_dna</td><td>1.045912</td><td>1.033616</td><td>1.058354</td><td> 1.006486e-13</td></tr>\n",
       "\t<tr><td>hgb_dna</td><td>1.261292</td><td>1.088636</td><td>1.461333</td><td> 1.996805e-03</td></tr>\n",
       "\t<tr><td>mcv_dna</td><td>1.095222</td><td>1.066690</td><td>1.124517</td><td> 1.440570e-11</td></tr>\n",
       "\t<tr><td>plt_dna</td><td>1.013471</td><td>1.012542</td><td>1.014402</td><td>1.081540e-179</td></tr>\n",
       "\t<tr><td>rdw_dna</td><td>1.610574</td><td>1.552596</td><td>1.670717</td><td>3.366696e-143</td></tr>\n",
       "</tbody>\n",
       "</table>\n"
      ],
      "text/latex": [
       "A tibble: 5 × 5\n",
       "\\begin{tabular}{lllll}\n",
       " Variable & OR & CI\\_lower & CI\\_upper & P\\\\\n",
       " <chr> & <dbl> & <dbl> & <dbl> & <dbl>\\\\\n",
       "\\hline\n",
       "\t wbc\\_dna & 1.045912 & 1.033616 & 1.058354 &  1.006486e-13\\\\\n",
       "\t hgb\\_dna & 1.261292 & 1.088636 & 1.461333 &  1.996805e-03\\\\\n",
       "\t mcv\\_dna & 1.095222 & 1.066690 & 1.124517 &  1.440570e-11\\\\\n",
       "\t plt\\_dna & 1.013471 & 1.012542 & 1.014402 & 1.081540e-179\\\\\n",
       "\t rdw\\_dna & 1.610574 & 1.552596 & 1.670717 & 3.366696e-143\\\\\n",
       "\\end{tabular}\n"
      ],
      "text/markdown": [
       "\n",
       "A tibble: 5 × 5\n",
       "\n",
       "| Variable &lt;chr&gt; | OR &lt;dbl&gt; | CI_lower &lt;dbl&gt; | CI_upper &lt;dbl&gt; | P &lt;dbl&gt; |\n",
       "|---|---|---|---|---|\n",
       "| wbc_dna | 1.045912 | 1.033616 | 1.058354 |  1.006486e-13 |\n",
       "| hgb_dna | 1.261292 | 1.088636 | 1.461333 |  1.996805e-03 |\n",
       "| mcv_dna | 1.095222 | 1.066690 | 1.124517 |  1.440570e-11 |\n",
       "| plt_dna | 1.013471 | 1.012542 | 1.014402 | 1.081540e-179 |\n",
       "| rdw_dna | 1.610574 | 1.552596 | 1.670717 | 3.366696e-143 |\n",
       "\n"
      ],
      "text/plain": [
       "  Variable OR       CI_lower CI_upper P            \n",
       "1 wbc_dna  1.045912 1.033616 1.058354  1.006486e-13\n",
       "2 hgb_dna  1.261292 1.088636 1.461333  1.996805e-03\n",
       "3 mcv_dna  1.095222 1.066690 1.124517  1.440570e-11\n",
       "4 plt_dna  1.013471 1.012542 1.014402 1.081540e-179\n",
       "5 rdw_dna  1.610574 1.552596 1.670717 3.366696e-143"
      ]
     },
     "metadata": {},
     "output_type": "display_data"
    }
   ],
   "source": [
    "results <- lapply(blood_vars, analyze_jak2_assoc, data = data_all_jak_heme)\n",
    "results_df <- bind_rows(results)\n",
    "results_df"
   ]
  },
  {
   "cell_type": "code",
   "execution_count": 21,
   "metadata": {},
   "outputs": [
    {
     "data": {
      "text/html": [
       "<table class=\"dataframe\">\n",
       "<caption>A tibble: 5 × 6</caption>\n",
       "<thead>\n",
       "\t<tr><th scope=col>Variable</th><th scope=col>OR</th><th scope=col>CI_lower</th><th scope=col>CI_upper</th><th scope=col>P</th><th scope=col>P_Bonferroni</th></tr>\n",
       "\t<tr><th scope=col>&lt;chr&gt;</th><th scope=col>&lt;dbl&gt;</th><th scope=col>&lt;dbl&gt;</th><th scope=col>&lt;dbl&gt;</th><th scope=col>&lt;dbl&gt;</th><th scope=col>&lt;dbl&gt;</th></tr>\n",
       "</thead>\n",
       "<tbody>\n",
       "\t<tr><td>wbc_dna</td><td>1.045912</td><td>1.033616</td><td>1.058354</td><td> 1.006486e-13</td><td> 1.677477e-13</td></tr>\n",
       "\t<tr><td>hgb_dna</td><td>1.261292</td><td>1.088636</td><td>1.461333</td><td> 1.996805e-03</td><td> 1.996805e-03</td></tr>\n",
       "\t<tr><td>mcv_dna</td><td>1.095222</td><td>1.066690</td><td>1.124517</td><td> 1.440570e-11</td><td> 1.800713e-11</td></tr>\n",
       "\t<tr><td>plt_dna</td><td>1.013471</td><td>1.012542</td><td>1.014402</td><td>1.081540e-179</td><td>5.407698e-179</td></tr>\n",
       "\t<tr><td>rdw_dna</td><td>1.610574</td><td>1.552596</td><td>1.670717</td><td>3.366696e-143</td><td>8.416740e-143</td></tr>\n",
       "</tbody>\n",
       "</table>\n"
      ],
      "text/latex": [
       "A tibble: 5 × 6\n",
       "\\begin{tabular}{llllll}\n",
       " Variable & OR & CI\\_lower & CI\\_upper & P & P\\_Bonferroni\\\\\n",
       " <chr> & <dbl> & <dbl> & <dbl> & <dbl> & <dbl>\\\\\n",
       "\\hline\n",
       "\t wbc\\_dna & 1.045912 & 1.033616 & 1.058354 &  1.006486e-13 &  1.677477e-13\\\\\n",
       "\t hgb\\_dna & 1.261292 & 1.088636 & 1.461333 &  1.996805e-03 &  1.996805e-03\\\\\n",
       "\t mcv\\_dna & 1.095222 & 1.066690 & 1.124517 &  1.440570e-11 &  1.800713e-11\\\\\n",
       "\t plt\\_dna & 1.013471 & 1.012542 & 1.014402 & 1.081540e-179 & 5.407698e-179\\\\\n",
       "\t rdw\\_dna & 1.610574 & 1.552596 & 1.670717 & 3.366696e-143 & 8.416740e-143\\\\\n",
       "\\end{tabular}\n"
      ],
      "text/markdown": [
       "\n",
       "A tibble: 5 × 6\n",
       "\n",
       "| Variable &lt;chr&gt; | OR &lt;dbl&gt; | CI_lower &lt;dbl&gt; | CI_upper &lt;dbl&gt; | P &lt;dbl&gt; | P_Bonferroni &lt;dbl&gt; |\n",
       "|---|---|---|---|---|---|\n",
       "| wbc_dna | 1.045912 | 1.033616 | 1.058354 |  1.006486e-13 |  1.677477e-13 |\n",
       "| hgb_dna | 1.261292 | 1.088636 | 1.461333 |  1.996805e-03 |  1.996805e-03 |\n",
       "| mcv_dna | 1.095222 | 1.066690 | 1.124517 |  1.440570e-11 |  1.800713e-11 |\n",
       "| plt_dna | 1.013471 | 1.012542 | 1.014402 | 1.081540e-179 | 5.407698e-179 |\n",
       "| rdw_dna | 1.610574 | 1.552596 | 1.670717 | 3.366696e-143 | 8.416740e-143 |\n",
       "\n"
      ],
      "text/plain": [
       "  Variable OR       CI_lower CI_upper P             P_Bonferroni \n",
       "1 wbc_dna  1.045912 1.033616 1.058354  1.006486e-13  1.677477e-13\n",
       "2 hgb_dna  1.261292 1.088636 1.461333  1.996805e-03  1.996805e-03\n",
       "3 mcv_dna  1.095222 1.066690 1.124517  1.440570e-11  1.800713e-11\n",
       "4 plt_dna  1.013471 1.012542 1.014402 1.081540e-179 5.407698e-179\n",
       "5 rdw_dna  1.610574 1.552596 1.670717 3.366696e-143 8.416740e-143"
      ]
     },
     "metadata": {},
     "output_type": "display_data"
    }
   ],
   "source": [
    "results_df$P_Bonferroni <- p.adjust(results_df$P, method = \"fdr\")\n",
    "results_df"
   ]
  },
  {
   "cell_type": "code",
   "execution_count": 152,
   "metadata": {},
   "outputs": [
    {
     "data": {
      "text/html": [
       "<style>\n",
       ".list-inline {list-style: none; margin:0; padding: 0}\n",
       ".list-inline>li {display: inline-block}\n",
       ".list-inline>li:not(:last-child)::after {content: \"\\00b7\"; padding: 0 .5ex}\n",
       "</style>\n",
       "<ol class=list-inline><li>186</li><li>4898</li></ol>\n"
      ],
      "text/latex": [
       "\\begin{enumerate*}\n",
       "\\item 186\n",
       "\\item 4898\n",
       "\\end{enumerate*}\n"
      ],
      "text/markdown": [
       "1. 186\n",
       "2. 4898\n",
       "\n",
       "\n"
      ],
      "text/plain": [
       "[1]  186 4898"
      ]
     },
     "metadata": {},
     "output_type": "display_data"
    }
   ],
   "source": [
    "jak2_heme <- filter(data_all_jak_heme, data_all_jak_heme$jak2 == 1)\n",
    "dim(jak2_heme)"
   ]
  },
  {
   "cell_type": "code",
   "execution_count": 156,
   "metadata": {
    "code_folding": []
   },
   "outputs": [],
   "source": [
    "analyze_il17ra_assoc <- function(var, data) {\n",
    "  formula <- as.formula(paste(\"Interleukin17_receptor_A ~\", var, \n",
    "                              \"+ baseline_age + age2 + genetic_sex + smoking_0 + PC1 + PC2 + PC3 + PCD4 + PC5\"))\n",
    "  \n",
    "  model <- lm(formula, data = data)\n",
    "\n",
    "  tidy_result <- tidy(model) %>%\n",
    "    filter(term == var) %>%\n",
    "    mutate(\n",
    "      CI_lower = estimate - 1.96 * std.error,\n",
    "      CI_upper = estimate + 1.96 * std.error\n",
    "    ) %>%\n",
    "    select(term, estimate, CI_lower, CI_upper, p.value) %>%\n",
    "    rename(Variable = term, Beta = estimate, P = p.value)\n",
    "\n",
    "  return(tidy_result)\n",
    "}"
   ]
  },
  {
   "cell_type": "code",
   "execution_count": 157,
   "metadata": {
    "scrolled": true
   },
   "outputs": [],
   "source": [
    "results_jak2 <- lapply(blood_vars, analyze_il17ra_assoc, data = jak2_heme)\n",
    "results_jak2 <- bind_rows(results_jak2)"
   ]
  },
  {
   "cell_type": "code",
   "execution_count": 158,
   "metadata": {
    "scrolled": true
   },
   "outputs": [
    {
     "data": {
      "text/html": [
       "<table class=\"dataframe\">\n",
       "<caption>A tibble: 20 × 5</caption>\n",
       "<thead>\n",
       "\t<tr><th scope=col>Variable</th><th scope=col>Beta</th><th scope=col>CI_lower</th><th scope=col>CI_upper</th><th scope=col>P</th></tr>\n",
       "\t<tr><th scope=col>&lt;chr&gt;</th><th scope=col>&lt;dbl&gt;</th><th scope=col>&lt;dbl&gt;</th><th scope=col>&lt;dbl&gt;</th><th scope=col>&lt;dbl&gt;</th></tr>\n",
       "</thead>\n",
       "<tbody>\n",
       "\t<tr><td>hgb_baseline</td><td>-1.135149e-02</td><td>-0.0674309064</td><td>0.0447279247</td><td>0.6920429</td></tr>\n",
       "\t<tr><td>hgb_latest  </td><td> 2.651687e-02</td><td>-0.0285329431</td><td>0.0815666765</td><td>0.3464152</td></tr>\n",
       "\t<tr><td>hgb_mean    </td><td> 5.480474e-03</td><td>-0.0568677511</td><td>0.0678286985</td><td>0.8634117</td></tr>\n",
       "\t<tr><td>hgb_dna     </td><td>-7.308665e-03</td><td>-0.0687963200</td><td>0.0541789900</td><td>0.8160544</td></tr>\n",
       "\t<tr><td>mcv_baseline</td><td>-3.110886e-03</td><td>-0.0135495308</td><td>0.0073277591</td><td>0.5601651</td></tr>\n",
       "\t<tr><td>mcv_latest  </td><td>-4.314268e-03</td><td>-0.0154167065</td><td>0.0067881710</td><td>0.4478667</td></tr>\n",
       "\t<tr><td>mcv_mean    </td><td>-1.733901e-03</td><td>-0.0105195642</td><td>0.0070517621</td><td>0.6993669</td></tr>\n",
       "\t<tr><td>mcv_dna     </td><td>-1.733901e-03</td><td>-0.0105195642</td><td>0.0070517621</td><td>0.6993669</td></tr>\n",
       "\t<tr><td>plt_baseline</td><td>-4.131788e-05</td><td>-0.0006172112</td><td>0.0005345755</td><td>0.8883306</td></tr>\n",
       "\t<tr><td>plt_latest  </td><td> 1.521374e-04</td><td>-0.0004287374</td><td>0.0007330123</td><td>0.6083573</td></tr>\n",
       "\t<tr><td>plt_mean    </td><td> 5.081099e-05</td><td>-0.0005599435</td><td>0.0006615654</td><td>0.8706594</td></tr>\n",
       "\t<tr><td>plt_dna     </td><td> 1.079019e-04</td><td>-0.0004586502</td><td>0.0006744540</td><td>0.7093851</td></tr>\n",
       "\t<tr><td>rdw_baseline</td><td>-1.109951e-02</td><td>-0.0501716837</td><td>0.0279726713</td><td>0.5786350</td></tr>\n",
       "\t<tr><td>rdw_latest  </td><td>-2.014252e-02</td><td>-0.0604056465</td><td>0.0201206149</td><td>0.3289177</td></tr>\n",
       "\t<tr><td>rdw_mean    </td><td>-1.612590e-02</td><td>-0.0507581377</td><td>0.0185063364</td><td>0.3627020</td></tr>\n",
       "\t<tr><td>rdw_dna     </td><td>-1.612590e-02</td><td>-0.0507581377</td><td>0.0185063364</td><td>0.3627020</td></tr>\n",
       "\t<tr><td>wbc_baseline</td><td> 1.762544e-02</td><td>-0.0119216170</td><td>0.0471725027</td><td>0.2439207</td></tr>\n",
       "\t<tr><td>wbc_latest  </td><td> 1.139878e-02</td><td>-0.0090179959</td><td>0.0318155650</td><td>0.2753373</td></tr>\n",
       "\t<tr><td>wbc_mean    </td><td> 1.315911e-02</td><td>-0.0152991902</td><td>0.0416174082</td><td>0.3660215</td></tr>\n",
       "\t<tr><td>wbc_dna     </td><td> 1.628358e-02</td><td>-0.0154423626</td><td>0.0480095308</td><td>0.3158118</td></tr>\n",
       "</tbody>\n",
       "</table>\n"
      ],
      "text/latex": [
       "A tibble: 20 × 5\n",
       "\\begin{tabular}{lllll}\n",
       " Variable & Beta & CI\\_lower & CI\\_upper & P\\\\\n",
       " <chr> & <dbl> & <dbl> & <dbl> & <dbl>\\\\\n",
       "\\hline\n",
       "\t hgb\\_baseline & -1.135149e-02 & -0.0674309064 & 0.0447279247 & 0.6920429\\\\\n",
       "\t hgb\\_latest   &  2.651687e-02 & -0.0285329431 & 0.0815666765 & 0.3464152\\\\\n",
       "\t hgb\\_mean     &  5.480474e-03 & -0.0568677511 & 0.0678286985 & 0.8634117\\\\\n",
       "\t hgb\\_dna      & -7.308665e-03 & -0.0687963200 & 0.0541789900 & 0.8160544\\\\\n",
       "\t mcv\\_baseline & -3.110886e-03 & -0.0135495308 & 0.0073277591 & 0.5601651\\\\\n",
       "\t mcv\\_latest   & -4.314268e-03 & -0.0154167065 & 0.0067881710 & 0.4478667\\\\\n",
       "\t mcv\\_mean     & -1.733901e-03 & -0.0105195642 & 0.0070517621 & 0.6993669\\\\\n",
       "\t mcv\\_dna      & -1.733901e-03 & -0.0105195642 & 0.0070517621 & 0.6993669\\\\\n",
       "\t plt\\_baseline & -4.131788e-05 & -0.0006172112 & 0.0005345755 & 0.8883306\\\\\n",
       "\t plt\\_latest   &  1.521374e-04 & -0.0004287374 & 0.0007330123 & 0.6083573\\\\\n",
       "\t plt\\_mean     &  5.081099e-05 & -0.0005599435 & 0.0006615654 & 0.8706594\\\\\n",
       "\t plt\\_dna      &  1.079019e-04 & -0.0004586502 & 0.0006744540 & 0.7093851\\\\\n",
       "\t rdw\\_baseline & -1.109951e-02 & -0.0501716837 & 0.0279726713 & 0.5786350\\\\\n",
       "\t rdw\\_latest   & -2.014252e-02 & -0.0604056465 & 0.0201206149 & 0.3289177\\\\\n",
       "\t rdw\\_mean     & -1.612590e-02 & -0.0507581377 & 0.0185063364 & 0.3627020\\\\\n",
       "\t rdw\\_dna      & -1.612590e-02 & -0.0507581377 & 0.0185063364 & 0.3627020\\\\\n",
       "\t wbc\\_baseline &  1.762544e-02 & -0.0119216170 & 0.0471725027 & 0.2439207\\\\\n",
       "\t wbc\\_latest   &  1.139878e-02 & -0.0090179959 & 0.0318155650 & 0.2753373\\\\\n",
       "\t wbc\\_mean     &  1.315911e-02 & -0.0152991902 & 0.0416174082 & 0.3660215\\\\\n",
       "\t wbc\\_dna      &  1.628358e-02 & -0.0154423626 & 0.0480095308 & 0.3158118\\\\\n",
       "\\end{tabular}\n"
      ],
      "text/markdown": [
       "\n",
       "A tibble: 20 × 5\n",
       "\n",
       "| Variable &lt;chr&gt; | Beta &lt;dbl&gt; | CI_lower &lt;dbl&gt; | CI_upper &lt;dbl&gt; | P &lt;dbl&gt; |\n",
       "|---|---|---|---|---|\n",
       "| hgb_baseline | -1.135149e-02 | -0.0674309064 | 0.0447279247 | 0.6920429 |\n",
       "| hgb_latest   |  2.651687e-02 | -0.0285329431 | 0.0815666765 | 0.3464152 |\n",
       "| hgb_mean     |  5.480474e-03 | -0.0568677511 | 0.0678286985 | 0.8634117 |\n",
       "| hgb_dna      | -7.308665e-03 | -0.0687963200 | 0.0541789900 | 0.8160544 |\n",
       "| mcv_baseline | -3.110886e-03 | -0.0135495308 | 0.0073277591 | 0.5601651 |\n",
       "| mcv_latest   | -4.314268e-03 | -0.0154167065 | 0.0067881710 | 0.4478667 |\n",
       "| mcv_mean     | -1.733901e-03 | -0.0105195642 | 0.0070517621 | 0.6993669 |\n",
       "| mcv_dna      | -1.733901e-03 | -0.0105195642 | 0.0070517621 | 0.6993669 |\n",
       "| plt_baseline | -4.131788e-05 | -0.0006172112 | 0.0005345755 | 0.8883306 |\n",
       "| plt_latest   |  1.521374e-04 | -0.0004287374 | 0.0007330123 | 0.6083573 |\n",
       "| plt_mean     |  5.081099e-05 | -0.0005599435 | 0.0006615654 | 0.8706594 |\n",
       "| plt_dna      |  1.079019e-04 | -0.0004586502 | 0.0006744540 | 0.7093851 |\n",
       "| rdw_baseline | -1.109951e-02 | -0.0501716837 | 0.0279726713 | 0.5786350 |\n",
       "| rdw_latest   | -2.014252e-02 | -0.0604056465 | 0.0201206149 | 0.3289177 |\n",
       "| rdw_mean     | -1.612590e-02 | -0.0507581377 | 0.0185063364 | 0.3627020 |\n",
       "| rdw_dna      | -1.612590e-02 | -0.0507581377 | 0.0185063364 | 0.3627020 |\n",
       "| wbc_baseline |  1.762544e-02 | -0.0119216170 | 0.0471725027 | 0.2439207 |\n",
       "| wbc_latest   |  1.139878e-02 | -0.0090179959 | 0.0318155650 | 0.2753373 |\n",
       "| wbc_mean     |  1.315911e-02 | -0.0152991902 | 0.0416174082 | 0.3660215 |\n",
       "| wbc_dna      |  1.628358e-02 | -0.0154423626 | 0.0480095308 | 0.3158118 |\n",
       "\n"
      ],
      "text/plain": [
       "   Variable     Beta          CI_lower      CI_upper     P        \n",
       "1  hgb_baseline -1.135149e-02 -0.0674309064 0.0447279247 0.6920429\n",
       "2  hgb_latest    2.651687e-02 -0.0285329431 0.0815666765 0.3464152\n",
       "3  hgb_mean      5.480474e-03 -0.0568677511 0.0678286985 0.8634117\n",
       "4  hgb_dna      -7.308665e-03 -0.0687963200 0.0541789900 0.8160544\n",
       "5  mcv_baseline -3.110886e-03 -0.0135495308 0.0073277591 0.5601651\n",
       "6  mcv_latest   -4.314268e-03 -0.0154167065 0.0067881710 0.4478667\n",
       "7  mcv_mean     -1.733901e-03 -0.0105195642 0.0070517621 0.6993669\n",
       "8  mcv_dna      -1.733901e-03 -0.0105195642 0.0070517621 0.6993669\n",
       "9  plt_baseline -4.131788e-05 -0.0006172112 0.0005345755 0.8883306\n",
       "10 plt_latest    1.521374e-04 -0.0004287374 0.0007330123 0.6083573\n",
       "11 plt_mean      5.081099e-05 -0.0005599435 0.0006615654 0.8706594\n",
       "12 plt_dna       1.079019e-04 -0.0004586502 0.0006744540 0.7093851\n",
       "13 rdw_baseline -1.109951e-02 -0.0501716837 0.0279726713 0.5786350\n",
       "14 rdw_latest   -2.014252e-02 -0.0604056465 0.0201206149 0.3289177\n",
       "15 rdw_mean     -1.612590e-02 -0.0507581377 0.0185063364 0.3627020\n",
       "16 rdw_dna      -1.612590e-02 -0.0507581377 0.0185063364 0.3627020\n",
       "17 wbc_baseline  1.762544e-02 -0.0119216170 0.0471725027 0.2439207\n",
       "18 wbc_latest    1.139878e-02 -0.0090179959 0.0318155650 0.2753373\n",
       "19 wbc_mean      1.315911e-02 -0.0152991902 0.0416174082 0.3660215\n",
       "20 wbc_dna       1.628358e-02 -0.0154423626 0.0480095308 0.3158118"
      ]
     },
     "metadata": {},
     "output_type": "display_data"
    }
   ],
   "source": [
    "results_jak2"
   ]
  },
  {
   "cell_type": "code",
   "execution_count": 159,
   "metadata": {},
   "outputs": [],
   "source": [
    "results_il17all <- lapply(blood_vars, analyze_il17ra_assoc, data = data_all_jak_heme)\n",
    "results_il17all <- bind_rows(results_il17all)"
   ]
  },
  {
   "cell_type": "code",
   "execution_count": 160,
   "metadata": {
    "scrolled": true
   },
   "outputs": [
    {
     "data": {
      "text/html": [
       "<table class=\"dataframe\">\n",
       "<caption>A tibble: 20 × 5</caption>\n",
       "<thead>\n",
       "\t<tr><th scope=col>Variable</th><th scope=col>Beta</th><th scope=col>CI_lower</th><th scope=col>CI_upper</th><th scope=col>P</th></tr>\n",
       "\t<tr><th scope=col>&lt;chr&gt;</th><th scope=col>&lt;dbl&gt;</th><th scope=col>&lt;dbl&gt;</th><th scope=col>&lt;dbl&gt;</th><th scope=col>&lt;dbl&gt;</th></tr>\n",
       "</thead>\n",
       "<tbody>\n",
       "\t<tr><td>hgb_baseline</td><td>-2.158482e-03</td><td>-4.348304e-03</td><td>3.134000e-05</td><td>0.05336640</td></tr>\n",
       "\t<tr><td>hgb_latest  </td><td>-1.115235e-03</td><td>-3.285630e-03</td><td>1.055159e-03</td><td>0.31387453</td></tr>\n",
       "\t<tr><td>hgb_mean    </td><td>-1.828389e-03</td><td>-4.144532e-03</td><td>4.877529e-04</td><td>0.12180448</td></tr>\n",
       "\t<tr><td>hgb_dna     </td><td>-2.002734e-03</td><td>-4.282694e-03</td><td>2.772247e-04</td><td>0.08512822</td></tr>\n",
       "\t<tr><td>mcv_baseline</td><td>-1.077211e-04</td><td>-6.696387e-04</td><td>4.541965e-04</td><td>0.70711253</td></tr>\n",
       "\t<tr><td>mcv_latest  </td><td>-1.245143e-04</td><td>-7.160938e-04</td><td>4.670653e-04</td><td>0.67994674</td></tr>\n",
       "\t<tr><td>mcv_mean    </td><td>-1.297770e-04</td><td>-6.405794e-04</td><td>3.810253e-04</td><td>0.61850721</td></tr>\n",
       "\t<tr><td>mcv_dna     </td><td>-1.297770e-04</td><td>-6.405794e-04</td><td>3.810253e-04</td><td>0.61850721</td></tr>\n",
       "\t<tr><td>plt_baseline</td><td>-2.364521e-06</td><td>-4.031554e-05</td><td>3.558650e-05</td><td>0.90280648</td></tr>\n",
       "\t<tr><td>plt_latest  </td><td>-1.212703e-05</td><td>-4.996722e-05</td><td>2.571315e-05</td><td>0.52991164</td></tr>\n",
       "\t<tr><td>plt_mean    </td><td>-1.495998e-05</td><td>-5.436974e-05</td><td>2.444977e-05</td><td>0.45686600</td></tr>\n",
       "\t<tr><td>plt_dna     </td><td>-7.857946e-06</td><td>-4.680296e-05</td><td>3.108707e-05</td><td>0.69249645</td></tr>\n",
       "\t<tr><td>rdw_baseline</td><td> 1.122549e-03</td><td>-1.461004e-03</td><td>3.706102e-03</td><td>0.39442767</td></tr>\n",
       "\t<tr><td>rdw_latest  </td><td> 1.992477e-03</td><td>-7.253268e-04</td><td>4.710281e-03</td><td>0.15074287</td></tr>\n",
       "\t<tr><td>rdw_mean    </td><td> 1.114042e-03</td><td>-1.219373e-03</td><td>3.447457e-03</td><td>0.34939585</td></tr>\n",
       "\t<tr><td>rdw_dna     </td><td> 1.114042e-03</td><td>-1.219373e-03</td><td>3.447457e-03</td><td>0.34939585</td></tr>\n",
       "\t<tr><td>wbc_baseline</td><td>-4.820234e-04</td><td>-1.623254e-03</td><td>6.592070e-04</td><td>0.40775672</td></tr>\n",
       "\t<tr><td>wbc_latest  </td><td>-3.859158e-04</td><td>-1.517017e-03</td><td>7.451855e-04</td><td>0.50367167</td></tr>\n",
       "\t<tr><td>wbc_mean    </td><td>-5.916009e-04</td><td>-1.793618e-03</td><td>6.104166e-04</td><td>0.33471580</td></tr>\n",
       "\t<tr><td>wbc_dna     </td><td>-6.546533e-04</td><td>-1.791036e-03</td><td>4.817295e-04</td><td>0.25884484</td></tr>\n",
       "</tbody>\n",
       "</table>\n"
      ],
      "text/latex": [
       "A tibble: 20 × 5\n",
       "\\begin{tabular}{lllll}\n",
       " Variable & Beta & CI\\_lower & CI\\_upper & P\\\\\n",
       " <chr> & <dbl> & <dbl> & <dbl> & <dbl>\\\\\n",
       "\\hline\n",
       "\t hgb\\_baseline & -2.158482e-03 & -4.348304e-03 & 3.134000e-05 & 0.05336640\\\\\n",
       "\t hgb\\_latest   & -1.115235e-03 & -3.285630e-03 & 1.055159e-03 & 0.31387453\\\\\n",
       "\t hgb\\_mean     & -1.828389e-03 & -4.144532e-03 & 4.877529e-04 & 0.12180448\\\\\n",
       "\t hgb\\_dna      & -2.002734e-03 & -4.282694e-03 & 2.772247e-04 & 0.08512822\\\\\n",
       "\t mcv\\_baseline & -1.077211e-04 & -6.696387e-04 & 4.541965e-04 & 0.70711253\\\\\n",
       "\t mcv\\_latest   & -1.245143e-04 & -7.160938e-04 & 4.670653e-04 & 0.67994674\\\\\n",
       "\t mcv\\_mean     & -1.297770e-04 & -6.405794e-04 & 3.810253e-04 & 0.61850721\\\\\n",
       "\t mcv\\_dna      & -1.297770e-04 & -6.405794e-04 & 3.810253e-04 & 0.61850721\\\\\n",
       "\t plt\\_baseline & -2.364521e-06 & -4.031554e-05 & 3.558650e-05 & 0.90280648\\\\\n",
       "\t plt\\_latest   & -1.212703e-05 & -4.996722e-05 & 2.571315e-05 & 0.52991164\\\\\n",
       "\t plt\\_mean     & -1.495998e-05 & -5.436974e-05 & 2.444977e-05 & 0.45686600\\\\\n",
       "\t plt\\_dna      & -7.857946e-06 & -4.680296e-05 & 3.108707e-05 & 0.69249645\\\\\n",
       "\t rdw\\_baseline &  1.122549e-03 & -1.461004e-03 & 3.706102e-03 & 0.39442767\\\\\n",
       "\t rdw\\_latest   &  1.992477e-03 & -7.253268e-04 & 4.710281e-03 & 0.15074287\\\\\n",
       "\t rdw\\_mean     &  1.114042e-03 & -1.219373e-03 & 3.447457e-03 & 0.34939585\\\\\n",
       "\t rdw\\_dna      &  1.114042e-03 & -1.219373e-03 & 3.447457e-03 & 0.34939585\\\\\n",
       "\t wbc\\_baseline & -4.820234e-04 & -1.623254e-03 & 6.592070e-04 & 0.40775672\\\\\n",
       "\t wbc\\_latest   & -3.859158e-04 & -1.517017e-03 & 7.451855e-04 & 0.50367167\\\\\n",
       "\t wbc\\_mean     & -5.916009e-04 & -1.793618e-03 & 6.104166e-04 & 0.33471580\\\\\n",
       "\t wbc\\_dna      & -6.546533e-04 & -1.791036e-03 & 4.817295e-04 & 0.25884484\\\\\n",
       "\\end{tabular}\n"
      ],
      "text/markdown": [
       "\n",
       "A tibble: 20 × 5\n",
       "\n",
       "| Variable &lt;chr&gt; | Beta &lt;dbl&gt; | CI_lower &lt;dbl&gt; | CI_upper &lt;dbl&gt; | P &lt;dbl&gt; |\n",
       "|---|---|---|---|---|\n",
       "| hgb_baseline | -2.158482e-03 | -4.348304e-03 | 3.134000e-05 | 0.05336640 |\n",
       "| hgb_latest   | -1.115235e-03 | -3.285630e-03 | 1.055159e-03 | 0.31387453 |\n",
       "| hgb_mean     | -1.828389e-03 | -4.144532e-03 | 4.877529e-04 | 0.12180448 |\n",
       "| hgb_dna      | -2.002734e-03 | -4.282694e-03 | 2.772247e-04 | 0.08512822 |\n",
       "| mcv_baseline | -1.077211e-04 | -6.696387e-04 | 4.541965e-04 | 0.70711253 |\n",
       "| mcv_latest   | -1.245143e-04 | -7.160938e-04 | 4.670653e-04 | 0.67994674 |\n",
       "| mcv_mean     | -1.297770e-04 | -6.405794e-04 | 3.810253e-04 | 0.61850721 |\n",
       "| mcv_dna      | -1.297770e-04 | -6.405794e-04 | 3.810253e-04 | 0.61850721 |\n",
       "| plt_baseline | -2.364521e-06 | -4.031554e-05 | 3.558650e-05 | 0.90280648 |\n",
       "| plt_latest   | -1.212703e-05 | -4.996722e-05 | 2.571315e-05 | 0.52991164 |\n",
       "| plt_mean     | -1.495998e-05 | -5.436974e-05 | 2.444977e-05 | 0.45686600 |\n",
       "| plt_dna      | -7.857946e-06 | -4.680296e-05 | 3.108707e-05 | 0.69249645 |\n",
       "| rdw_baseline |  1.122549e-03 | -1.461004e-03 | 3.706102e-03 | 0.39442767 |\n",
       "| rdw_latest   |  1.992477e-03 | -7.253268e-04 | 4.710281e-03 | 0.15074287 |\n",
       "| rdw_mean     |  1.114042e-03 | -1.219373e-03 | 3.447457e-03 | 0.34939585 |\n",
       "| rdw_dna      |  1.114042e-03 | -1.219373e-03 | 3.447457e-03 | 0.34939585 |\n",
       "| wbc_baseline | -4.820234e-04 | -1.623254e-03 | 6.592070e-04 | 0.40775672 |\n",
       "| wbc_latest   | -3.859158e-04 | -1.517017e-03 | 7.451855e-04 | 0.50367167 |\n",
       "| wbc_mean     | -5.916009e-04 | -1.793618e-03 | 6.104166e-04 | 0.33471580 |\n",
       "| wbc_dna      | -6.546533e-04 | -1.791036e-03 | 4.817295e-04 | 0.25884484 |\n",
       "\n"
      ],
      "text/plain": [
       "   Variable     Beta          CI_lower      CI_upper     P         \n",
       "1  hgb_baseline -2.158482e-03 -4.348304e-03 3.134000e-05 0.05336640\n",
       "2  hgb_latest   -1.115235e-03 -3.285630e-03 1.055159e-03 0.31387453\n",
       "3  hgb_mean     -1.828389e-03 -4.144532e-03 4.877529e-04 0.12180448\n",
       "4  hgb_dna      -2.002734e-03 -4.282694e-03 2.772247e-04 0.08512822\n",
       "5  mcv_baseline -1.077211e-04 -6.696387e-04 4.541965e-04 0.70711253\n",
       "6  mcv_latest   -1.245143e-04 -7.160938e-04 4.670653e-04 0.67994674\n",
       "7  mcv_mean     -1.297770e-04 -6.405794e-04 3.810253e-04 0.61850721\n",
       "8  mcv_dna      -1.297770e-04 -6.405794e-04 3.810253e-04 0.61850721\n",
       "9  plt_baseline -2.364521e-06 -4.031554e-05 3.558650e-05 0.90280648\n",
       "10 plt_latest   -1.212703e-05 -4.996722e-05 2.571315e-05 0.52991164\n",
       "11 plt_mean     -1.495998e-05 -5.436974e-05 2.444977e-05 0.45686600\n",
       "12 plt_dna      -7.857946e-06 -4.680296e-05 3.108707e-05 0.69249645\n",
       "13 rdw_baseline  1.122549e-03 -1.461004e-03 3.706102e-03 0.39442767\n",
       "14 rdw_latest    1.992477e-03 -7.253268e-04 4.710281e-03 0.15074287\n",
       "15 rdw_mean      1.114042e-03 -1.219373e-03 3.447457e-03 0.34939585\n",
       "16 rdw_dna       1.114042e-03 -1.219373e-03 3.447457e-03 0.34939585\n",
       "17 wbc_baseline -4.820234e-04 -1.623254e-03 6.592070e-04 0.40775672\n",
       "18 wbc_latest   -3.859158e-04 -1.517017e-03 7.451855e-04 0.50367167\n",
       "19 wbc_mean     -5.916009e-04 -1.793618e-03 6.104166e-04 0.33471580\n",
       "20 wbc_dna      -6.546533e-04 -1.791036e-03 4.817295e-04 0.25884484"
      ]
     },
     "metadata": {},
     "output_type": "display_data"
    }
   ],
   "source": [
    "results_il17all"
   ]
  },
  {
   "cell_type": "code",
   "execution_count": 16,
   "metadata": {
    "code_folding": [
     3
    ]
   },
   "outputs": [],
   "source": [
    "library(dplyr)\n",
    "library(broom)\n",
    "\n",
    "analyze_interaction <- function(var, data) {\n",
    "  formula_str <- paste(var, \"~ Interleukin17_receptor_A * jak2 + baseline_age + age2 + genetic_sex + smoking_0 + PC1 + PC2 + PC3 + PCD4 + PC5\")\n",
    "  model <- lm(as.formula(formula_str), data = data)\n",
    "\n",
    "  tidy_result <- tidy(model) %>%\n",
    "    filter(term == \"Interleukin17_receptor_A:jak2\") %>%\n",
    "    mutate(\n",
    "      CI_lower = estimate - 1.96 * std.error,\n",
    "      CI_upper = estimate + 1.96 * std.error\n",
    "    ) %>%\n",
    "    select(term, estimate, CI_lower, CI_upper, p.value) %>%\n",
    "    rename(\n",
    "      Variable = term,\n",
    "      Beta = estimate,\n",
    "      P = p.value\n",
    "    ) %>%\n",
    "    mutate(Blood_Measure = var) %>%\n",
    "    select(Blood_Measure, everything())\n",
    "\n",
    "  return(tidy_result)\n",
    "}"
   ]
  },
  {
   "cell_type": "code",
   "execution_count": 17,
   "metadata": {},
   "outputs": [],
   "source": [
    "interaction_results <- lapply(blood_vars, analyze_interaction, data = data_all_jak_heme)\n",
    "interaction_summary <- bind_rows(interaction_results)"
   ]
  },
  {
   "cell_type": "code",
   "execution_count": 183,
   "metadata": {
    "scrolled": true
   },
   "outputs": [
    {
     "data": {
      "text/html": [
       "<table class=\"dataframe\">\n",
       "<caption>A tibble: 20 × 6</caption>\n",
       "<thead>\n",
       "\t<tr><th scope=col>Blood_Measure</th><th scope=col>Variable</th><th scope=col>Beta</th><th scope=col>CI_lower</th><th scope=col>CI_upper</th><th scope=col>P</th></tr>\n",
       "\t<tr><th scope=col>&lt;chr&gt;</th><th scope=col>&lt;chr&gt;</th><th scope=col>&lt;dbl&gt;</th><th scope=col>&lt;dbl&gt;</th><th scope=col>&lt;dbl&gt;</th><th scope=col>&lt;dbl&gt;</th></tr>\n",
       "</thead>\n",
       "<tbody>\n",
       "\t<tr><td>hgb_baseline</td><td>Interleukin17_receptor_A:jak2</td><td>-0.11769768</td><td> -0.31332274</td><td> 0.07792738</td><td>0.238306168</td></tr>\n",
       "\t<tr><td>hgb_latest  </td><td>Interleukin17_receptor_A:jak2</td><td> 0.07989188</td><td> -0.11748994</td><td> 0.27727370</td><td>0.427588447</td></tr>\n",
       "\t<tr><td>hgb_mean    </td><td>Interleukin17_receptor_A:jak2</td><td>-0.04218524</td><td> -0.22714562</td><td> 0.14277514</td><td>0.654852711</td></tr>\n",
       "\t<tr><td>hgb_dna     </td><td>Interleukin17_receptor_A:jak2</td><td>-0.09647871</td><td> -0.28437296</td><td> 0.09141554</td><td>0.314219870</td></tr>\n",
       "\t<tr><td>mcv_baseline</td><td>Interleukin17_receptor_A:jak2</td><td>-1.13985126</td><td> -2.09912581</td><td>-0.18057672</td><td>0.019861906</td></tr>\n",
       "\t<tr><td>mcv_latest  </td><td>Interleukin17_receptor_A:jak2</td><td>-1.50051666</td><td> -2.49694426</td><td>-0.50408906</td><td>0.003161978</td></tr>\n",
       "\t<tr><td>mcv_mean    </td><td>Interleukin17_receptor_A:jak2</td><td>-0.61338963</td><td> -1.46403589</td><td> 0.23725662</td><td>0.157559466</td></tr>\n",
       "\t<tr><td>mcv_dna     </td><td>Interleukin17_receptor_A:jak2</td><td>-0.61338963</td><td> -1.46403589</td><td> 0.23725662</td><td>0.157559466</td></tr>\n",
       "\t<tr><td>plt_baseline</td><td>Interleukin17_receptor_A:jak2</td><td>-1.33784607</td><td>-12.60460580</td><td> 9.92891366</td><td>0.815966674</td></tr>\n",
       "\t<tr><td>plt_latest  </td><td>Interleukin17_receptor_A:jak2</td><td>10.95351302</td><td> -0.34899605</td><td>22.25602210</td><td>0.057502069</td></tr>\n",
       "\t<tr><td>plt_mean    </td><td>Interleukin17_receptor_A:jak2</td><td> 3.81526900</td><td> -7.03302985</td><td>14.66356785</td><td>0.490623545</td></tr>\n",
       "\t<tr><td>plt_dna     </td><td>Interleukin17_receptor_A:jak2</td><td> 6.09382061</td><td> -4.88083166</td><td>17.06847289</td><td>0.276456250</td></tr>\n",
       "\t<tr><td>rdw_baseline</td><td>Interleukin17_receptor_A:jak2</td><td>-0.14859241</td><td> -0.35685256</td><td> 0.05966774</td><td>0.161979206</td></tr>\n",
       "\t<tr><td>rdw_latest  </td><td>Interleukin17_receptor_A:jak2</td><td>-0.29970919</td><td> -0.51614719</td><td>-0.08327119</td><td>0.006646347</td></tr>\n",
       "\t<tr><td>rdw_mean    </td><td>Interleukin17_receptor_A:jak2</td><td>-0.26962433</td><td> -0.45548967</td><td>-0.08375899</td><td>0.004465645</td></tr>\n",
       "\t<tr><td>rdw_dna     </td><td>Interleukin17_receptor_A:jak2</td><td>-0.26962433</td><td> -0.45548967</td><td>-0.08375899</td><td>0.004465645</td></tr>\n",
       "\t<tr><td>wbc_baseline</td><td>Interleukin17_receptor_A:jak2</td><td> 0.46425330</td><td>  0.08895712</td><td> 0.83954948</td><td>0.015326393</td></tr>\n",
       "\t<tr><td>wbc_latest  </td><td>Interleukin17_receptor_A:jak2</td><td> 0.58932527</td><td>  0.21072164</td><td> 0.96792890</td><td>0.002281781</td></tr>\n",
       "\t<tr><td>wbc_mean    </td><td>Interleukin17_receptor_A:jak2</td><td> 0.38264164</td><td>  0.02635641</td><td> 0.73892686</td><td>0.035292533</td></tr>\n",
       "\t<tr><td>wbc_dna     </td><td>Interleukin17_receptor_A:jak2</td><td> 0.34448641</td><td> -0.03241935</td><td> 0.72139216</td><td>0.073227921</td></tr>\n",
       "</tbody>\n",
       "</table>\n"
      ],
      "text/latex": [
       "A tibble: 20 × 6\n",
       "\\begin{tabular}{llllll}\n",
       " Blood\\_Measure & Variable & Beta & CI\\_lower & CI\\_upper & P\\\\\n",
       " <chr> & <chr> & <dbl> & <dbl> & <dbl> & <dbl>\\\\\n",
       "\\hline\n",
       "\t hgb\\_baseline & Interleukin17\\_receptor\\_A:jak2 & -0.11769768 &  -0.31332274 &  0.07792738 & 0.238306168\\\\\n",
       "\t hgb\\_latest   & Interleukin17\\_receptor\\_A:jak2 &  0.07989188 &  -0.11748994 &  0.27727370 & 0.427588447\\\\\n",
       "\t hgb\\_mean     & Interleukin17\\_receptor\\_A:jak2 & -0.04218524 &  -0.22714562 &  0.14277514 & 0.654852711\\\\\n",
       "\t hgb\\_dna      & Interleukin17\\_receptor\\_A:jak2 & -0.09647871 &  -0.28437296 &  0.09141554 & 0.314219870\\\\\n",
       "\t mcv\\_baseline & Interleukin17\\_receptor\\_A:jak2 & -1.13985126 &  -2.09912581 & -0.18057672 & 0.019861906\\\\\n",
       "\t mcv\\_latest   & Interleukin17\\_receptor\\_A:jak2 & -1.50051666 &  -2.49694426 & -0.50408906 & 0.003161978\\\\\n",
       "\t mcv\\_mean     & Interleukin17\\_receptor\\_A:jak2 & -0.61338963 &  -1.46403589 &  0.23725662 & 0.157559466\\\\\n",
       "\t mcv\\_dna      & Interleukin17\\_receptor\\_A:jak2 & -0.61338963 &  -1.46403589 &  0.23725662 & 0.157559466\\\\\n",
       "\t plt\\_baseline & Interleukin17\\_receptor\\_A:jak2 & -1.33784607 & -12.60460580 &  9.92891366 & 0.815966674\\\\\n",
       "\t plt\\_latest   & Interleukin17\\_receptor\\_A:jak2 & 10.95351302 &  -0.34899605 & 22.25602210 & 0.057502069\\\\\n",
       "\t plt\\_mean     & Interleukin17\\_receptor\\_A:jak2 &  3.81526900 &  -7.03302985 & 14.66356785 & 0.490623545\\\\\n",
       "\t plt\\_dna      & Interleukin17\\_receptor\\_A:jak2 &  6.09382061 &  -4.88083166 & 17.06847289 & 0.276456250\\\\\n",
       "\t rdw\\_baseline & Interleukin17\\_receptor\\_A:jak2 & -0.14859241 &  -0.35685256 &  0.05966774 & 0.161979206\\\\\n",
       "\t rdw\\_latest   & Interleukin17\\_receptor\\_A:jak2 & -0.29970919 &  -0.51614719 & -0.08327119 & 0.006646347\\\\\n",
       "\t rdw\\_mean     & Interleukin17\\_receptor\\_A:jak2 & -0.26962433 &  -0.45548967 & -0.08375899 & 0.004465645\\\\\n",
       "\t rdw\\_dna      & Interleukin17\\_receptor\\_A:jak2 & -0.26962433 &  -0.45548967 & -0.08375899 & 0.004465645\\\\\n",
       "\t wbc\\_baseline & Interleukin17\\_receptor\\_A:jak2 &  0.46425330 &   0.08895712 &  0.83954948 & 0.015326393\\\\\n",
       "\t wbc\\_latest   & Interleukin17\\_receptor\\_A:jak2 &  0.58932527 &   0.21072164 &  0.96792890 & 0.002281781\\\\\n",
       "\t wbc\\_mean     & Interleukin17\\_receptor\\_A:jak2 &  0.38264164 &   0.02635641 &  0.73892686 & 0.035292533\\\\\n",
       "\t wbc\\_dna      & Interleukin17\\_receptor\\_A:jak2 &  0.34448641 &  -0.03241935 &  0.72139216 & 0.073227921\\\\\n",
       "\\end{tabular}\n"
      ],
      "text/markdown": [
       "\n",
       "A tibble: 20 × 6\n",
       "\n",
       "| Blood_Measure &lt;chr&gt; | Variable &lt;chr&gt; | Beta &lt;dbl&gt; | CI_lower &lt;dbl&gt; | CI_upper &lt;dbl&gt; | P &lt;dbl&gt; |\n",
       "|---|---|---|---|---|---|\n",
       "| hgb_baseline | Interleukin17_receptor_A:jak2 | -0.11769768 |  -0.31332274 |  0.07792738 | 0.238306168 |\n",
       "| hgb_latest   | Interleukin17_receptor_A:jak2 |  0.07989188 |  -0.11748994 |  0.27727370 | 0.427588447 |\n",
       "| hgb_mean     | Interleukin17_receptor_A:jak2 | -0.04218524 |  -0.22714562 |  0.14277514 | 0.654852711 |\n",
       "| hgb_dna      | Interleukin17_receptor_A:jak2 | -0.09647871 |  -0.28437296 |  0.09141554 | 0.314219870 |\n",
       "| mcv_baseline | Interleukin17_receptor_A:jak2 | -1.13985126 |  -2.09912581 | -0.18057672 | 0.019861906 |\n",
       "| mcv_latest   | Interleukin17_receptor_A:jak2 | -1.50051666 |  -2.49694426 | -0.50408906 | 0.003161978 |\n",
       "| mcv_mean     | Interleukin17_receptor_A:jak2 | -0.61338963 |  -1.46403589 |  0.23725662 | 0.157559466 |\n",
       "| mcv_dna      | Interleukin17_receptor_A:jak2 | -0.61338963 |  -1.46403589 |  0.23725662 | 0.157559466 |\n",
       "| plt_baseline | Interleukin17_receptor_A:jak2 | -1.33784607 | -12.60460580 |  9.92891366 | 0.815966674 |\n",
       "| plt_latest   | Interleukin17_receptor_A:jak2 | 10.95351302 |  -0.34899605 | 22.25602210 | 0.057502069 |\n",
       "| plt_mean     | Interleukin17_receptor_A:jak2 |  3.81526900 |  -7.03302985 | 14.66356785 | 0.490623545 |\n",
       "| plt_dna      | Interleukin17_receptor_A:jak2 |  6.09382061 |  -4.88083166 | 17.06847289 | 0.276456250 |\n",
       "| rdw_baseline | Interleukin17_receptor_A:jak2 | -0.14859241 |  -0.35685256 |  0.05966774 | 0.161979206 |\n",
       "| rdw_latest   | Interleukin17_receptor_A:jak2 | -0.29970919 |  -0.51614719 | -0.08327119 | 0.006646347 |\n",
       "| rdw_mean     | Interleukin17_receptor_A:jak2 | -0.26962433 |  -0.45548967 | -0.08375899 | 0.004465645 |\n",
       "| rdw_dna      | Interleukin17_receptor_A:jak2 | -0.26962433 |  -0.45548967 | -0.08375899 | 0.004465645 |\n",
       "| wbc_baseline | Interleukin17_receptor_A:jak2 |  0.46425330 |   0.08895712 |  0.83954948 | 0.015326393 |\n",
       "| wbc_latest   | Interleukin17_receptor_A:jak2 |  0.58932527 |   0.21072164 |  0.96792890 | 0.002281781 |\n",
       "| wbc_mean     | Interleukin17_receptor_A:jak2 |  0.38264164 |   0.02635641 |  0.73892686 | 0.035292533 |\n",
       "| wbc_dna      | Interleukin17_receptor_A:jak2 |  0.34448641 |  -0.03241935 |  0.72139216 | 0.073227921 |\n",
       "\n"
      ],
      "text/plain": [
       "   Blood_Measure Variable                      Beta        CI_lower    \n",
       "1  hgb_baseline  Interleukin17_receptor_A:jak2 -0.11769768  -0.31332274\n",
       "2  hgb_latest    Interleukin17_receptor_A:jak2  0.07989188  -0.11748994\n",
       "3  hgb_mean      Interleukin17_receptor_A:jak2 -0.04218524  -0.22714562\n",
       "4  hgb_dna       Interleukin17_receptor_A:jak2 -0.09647871  -0.28437296\n",
       "5  mcv_baseline  Interleukin17_receptor_A:jak2 -1.13985126  -2.09912581\n",
       "6  mcv_latest    Interleukin17_receptor_A:jak2 -1.50051666  -2.49694426\n",
       "7  mcv_mean      Interleukin17_receptor_A:jak2 -0.61338963  -1.46403589\n",
       "8  mcv_dna       Interleukin17_receptor_A:jak2 -0.61338963  -1.46403589\n",
       "9  plt_baseline  Interleukin17_receptor_A:jak2 -1.33784607 -12.60460580\n",
       "10 plt_latest    Interleukin17_receptor_A:jak2 10.95351302  -0.34899605\n",
       "11 plt_mean      Interleukin17_receptor_A:jak2  3.81526900  -7.03302985\n",
       "12 plt_dna       Interleukin17_receptor_A:jak2  6.09382061  -4.88083166\n",
       "13 rdw_baseline  Interleukin17_receptor_A:jak2 -0.14859241  -0.35685256\n",
       "14 rdw_latest    Interleukin17_receptor_A:jak2 -0.29970919  -0.51614719\n",
       "15 rdw_mean      Interleukin17_receptor_A:jak2 -0.26962433  -0.45548967\n",
       "16 rdw_dna       Interleukin17_receptor_A:jak2 -0.26962433  -0.45548967\n",
       "17 wbc_baseline  Interleukin17_receptor_A:jak2  0.46425330   0.08895712\n",
       "18 wbc_latest    Interleukin17_receptor_A:jak2  0.58932527   0.21072164\n",
       "19 wbc_mean      Interleukin17_receptor_A:jak2  0.38264164   0.02635641\n",
       "20 wbc_dna       Interleukin17_receptor_A:jak2  0.34448641  -0.03241935\n",
       "   CI_upper    P          \n",
       "1   0.07792738 0.238306168\n",
       "2   0.27727370 0.427588447\n",
       "3   0.14277514 0.654852711\n",
       "4   0.09141554 0.314219870\n",
       "5  -0.18057672 0.019861906\n",
       "6  -0.50408906 0.003161978\n",
       "7   0.23725662 0.157559466\n",
       "8   0.23725662 0.157559466\n",
       "9   9.92891366 0.815966674\n",
       "10 22.25602210 0.057502069\n",
       "11 14.66356785 0.490623545\n",
       "12 17.06847289 0.276456250\n",
       "13  0.05966774 0.161979206\n",
       "14 -0.08327119 0.006646347\n",
       "15 -0.08375899 0.004465645\n",
       "16 -0.08375899 0.004465645\n",
       "17  0.83954948 0.015326393\n",
       "18  0.96792890 0.002281781\n",
       "19  0.73892686 0.035292533\n",
       "20  0.72139216 0.073227921"
      ]
     },
     "metadata": {},
     "output_type": "display_data"
    }
   ],
   "source": [
    "interaction_summary"
   ]
  },
  {
   "cell_type": "code",
   "execution_count": 20,
   "metadata": {},
   "outputs": [
    {
     "data": {
      "text/html": [
       "<table class=\"dataframe\">\n",
       "<caption>A tibble: 5 × 7</caption>\n",
       "<thead>\n",
       "\t<tr><th scope=col>Blood_Measure</th><th scope=col>Variable</th><th scope=col>Beta</th><th scope=col>CI_lower</th><th scope=col>CI_upper</th><th scope=col>P</th><th scope=col>P_Bonferroni</th></tr>\n",
       "\t<tr><th scope=col>&lt;chr&gt;</th><th scope=col>&lt;chr&gt;</th><th scope=col>&lt;dbl&gt;</th><th scope=col>&lt;dbl&gt;</th><th scope=col>&lt;dbl&gt;</th><th scope=col>&lt;dbl&gt;</th><th scope=col>&lt;dbl&gt;</th></tr>\n",
       "</thead>\n",
       "<tbody>\n",
       "\t<tr><td>wbc_dna</td><td>Interleukin17_receptor_A:jak2</td><td> 0.34448641</td><td>-0.03241935</td><td> 0.72139216</td><td>0.073227921</td><td>0.18306980</td></tr>\n",
       "\t<tr><td>hgb_dna</td><td>Interleukin17_receptor_A:jak2</td><td>-0.09647871</td><td>-0.28437296</td><td> 0.09141554</td><td>0.314219870</td><td>0.31421987</td></tr>\n",
       "\t<tr><td>mcv_dna</td><td>Interleukin17_receptor_A:jak2</td><td>-0.61338963</td><td>-1.46403589</td><td> 0.23725662</td><td>0.157559466</td><td>0.26259911</td></tr>\n",
       "\t<tr><td>plt_dna</td><td>Interleukin17_receptor_A:jak2</td><td> 6.09382061</td><td>-4.88083166</td><td>17.06847289</td><td>0.276456250</td><td>0.31421987</td></tr>\n",
       "\t<tr><td>rdw_dna</td><td>Interleukin17_receptor_A:jak2</td><td>-0.26962433</td><td>-0.45548967</td><td>-0.08375899</td><td>0.004465645</td><td>0.02232823</td></tr>\n",
       "</tbody>\n",
       "</table>\n"
      ],
      "text/latex": [
       "A tibble: 5 × 7\n",
       "\\begin{tabular}{lllllll}\n",
       " Blood\\_Measure & Variable & Beta & CI\\_lower & CI\\_upper & P & P\\_Bonferroni\\\\\n",
       " <chr> & <chr> & <dbl> & <dbl> & <dbl> & <dbl> & <dbl>\\\\\n",
       "\\hline\n",
       "\t wbc\\_dna & Interleukin17\\_receptor\\_A:jak2 &  0.34448641 & -0.03241935 &  0.72139216 & 0.073227921 & 0.18306980\\\\\n",
       "\t hgb\\_dna & Interleukin17\\_receptor\\_A:jak2 & -0.09647871 & -0.28437296 &  0.09141554 & 0.314219870 & 0.31421987\\\\\n",
       "\t mcv\\_dna & Interleukin17\\_receptor\\_A:jak2 & -0.61338963 & -1.46403589 &  0.23725662 & 0.157559466 & 0.26259911\\\\\n",
       "\t plt\\_dna & Interleukin17\\_receptor\\_A:jak2 &  6.09382061 & -4.88083166 & 17.06847289 & 0.276456250 & 0.31421987\\\\\n",
       "\t rdw\\_dna & Interleukin17\\_receptor\\_A:jak2 & -0.26962433 & -0.45548967 & -0.08375899 & 0.004465645 & 0.02232823\\\\\n",
       "\\end{tabular}\n"
      ],
      "text/markdown": [
       "\n",
       "A tibble: 5 × 7\n",
       "\n",
       "| Blood_Measure &lt;chr&gt; | Variable &lt;chr&gt; | Beta &lt;dbl&gt; | CI_lower &lt;dbl&gt; | CI_upper &lt;dbl&gt; | P &lt;dbl&gt; | P_Bonferroni &lt;dbl&gt; |\n",
       "|---|---|---|---|---|---|---|\n",
       "| wbc_dna | Interleukin17_receptor_A:jak2 |  0.34448641 | -0.03241935 |  0.72139216 | 0.073227921 | 0.18306980 |\n",
       "| hgb_dna | Interleukin17_receptor_A:jak2 | -0.09647871 | -0.28437296 |  0.09141554 | 0.314219870 | 0.31421987 |\n",
       "| mcv_dna | Interleukin17_receptor_A:jak2 | -0.61338963 | -1.46403589 |  0.23725662 | 0.157559466 | 0.26259911 |\n",
       "| plt_dna | Interleukin17_receptor_A:jak2 |  6.09382061 | -4.88083166 | 17.06847289 | 0.276456250 | 0.31421987 |\n",
       "| rdw_dna | Interleukin17_receptor_A:jak2 | -0.26962433 | -0.45548967 | -0.08375899 | 0.004465645 | 0.02232823 |\n",
       "\n"
      ],
      "text/plain": [
       "  Blood_Measure Variable                      Beta        CI_lower   \n",
       "1 wbc_dna       Interleukin17_receptor_A:jak2  0.34448641 -0.03241935\n",
       "2 hgb_dna       Interleukin17_receptor_A:jak2 -0.09647871 -0.28437296\n",
       "3 mcv_dna       Interleukin17_receptor_A:jak2 -0.61338963 -1.46403589\n",
       "4 plt_dna       Interleukin17_receptor_A:jak2  6.09382061 -4.88083166\n",
       "5 rdw_dna       Interleukin17_receptor_A:jak2 -0.26962433 -0.45548967\n",
       "  CI_upper    P           P_Bonferroni\n",
       "1  0.72139216 0.073227921 0.18306980  \n",
       "2  0.09141554 0.314219870 0.31421987  \n",
       "3  0.23725662 0.157559466 0.26259911  \n",
       "4 17.06847289 0.276456250 0.31421987  \n",
       "5 -0.08375899 0.004465645 0.02232823  "
      ]
     },
     "metadata": {},
     "output_type": "display_data"
    }
   ],
   "source": [
    "interaction_summary$P_Bonferroni <- p.adjust(interaction_summary$P, method = \"fdr\")\n",
    "interaction_summary"
   ]
  },
  {
   "cell_type": "code",
   "execution_count": null,
   "metadata": {},
   "outputs": [],
   "source": [
    "#impuation of missing data by mean"
   ]
  },
  {
   "cell_type": "code",
   "execution_count": 6,
   "metadata": {},
   "outputs": [
    {
     "data": {
      "text/plain": [
       "   Min. 1st Qu.  Median    Mean 3rd Qu.    Max.    NA's \n",
       "  52.10   88.53   91.20   91.11   93.89  160.30    4245 "
      ]
     },
     "metadata": {},
     "output_type": "display_data"
    }
   ],
   "source": [
    "summary(data_all_jak_heme$mcv_dna)"
   ]
  },
  {
   "cell_type": "code",
   "execution_count": 171,
   "metadata": {},
   "outputs": [],
   "source": [
    "data_all_jak_heme2 <- data_all_jak_heme %>%\n",
    "  mutate(across(all_of(blood_vars), ~ ifelse(is.na(.), mean(., na.rm = TRUE), .)))"
   ]
  },
  {
   "cell_type": "code",
   "execution_count": 186,
   "metadata": {},
   "outputs": [
    {
     "data": {
      "text/plain": [
       "   Min. 1st Qu.  Median    Mean 3rd Qu.    Max. \n",
       "    0.4   213.3   248.0   253.1   287.0  1821.0 "
      ]
     },
     "metadata": {},
     "output_type": "display_data"
    }
   ],
   "source": [
    "summary(data_all_jak_heme2$plt_dna)"
   ]
  },
  {
   "cell_type": "code",
   "execution_count": 173,
   "metadata": {
    "scrolled": false
   },
   "outputs": [
    {
     "data": {
      "text/html": [
       "<table class=\"dataframe\">\n",
       "<caption>A tibble: 20 × 6</caption>\n",
       "<thead>\n",
       "\t<tr><th scope=col>Blood_Measure</th><th scope=col>Variable</th><th scope=col>Beta</th><th scope=col>CI_lower</th><th scope=col>CI_upper</th><th scope=col>P</th></tr>\n",
       "\t<tr><th scope=col>&lt;chr&gt;</th><th scope=col>&lt;chr&gt;</th><th scope=col>&lt;dbl&gt;</th><th scope=col>&lt;dbl&gt;</th><th scope=col>&lt;dbl&gt;</th><th scope=col>&lt;dbl&gt;</th></tr>\n",
       "</thead>\n",
       "<tbody>\n",
       "\t<tr><td>hgb_baseline</td><td>Interleukin17_receptor_A:jak2</td><td>-0.11769768</td><td> -0.31332274</td><td> 0.07792738</td><td>0.238306168</td></tr>\n",
       "\t<tr><td>hgb_latest  </td><td>Interleukin17_receptor_A:jak2</td><td> 0.07989188</td><td> -0.11748994</td><td> 0.27727370</td><td>0.427588447</td></tr>\n",
       "\t<tr><td>hgb_mean    </td><td>Interleukin17_receptor_A:jak2</td><td>-0.04218524</td><td> -0.22714562</td><td> 0.14277514</td><td>0.654852711</td></tr>\n",
       "\t<tr><td>hgb_dna     </td><td>Interleukin17_receptor_A:jak2</td><td>-0.09647871</td><td> -0.28437296</td><td> 0.09141554</td><td>0.314219870</td></tr>\n",
       "\t<tr><td>mcv_baseline</td><td>Interleukin17_receptor_A:jak2</td><td>-0.80979722</td><td> -1.57725873</td><td>-0.04233571</td><td>0.038629291</td></tr>\n",
       "\t<tr><td>mcv_latest  </td><td>Interleukin17_receptor_A:jak2</td><td>-1.09673670</td><td> -1.82787007</td><td>-0.36560334</td><td>0.003281245</td></tr>\n",
       "\t<tr><td>mcv_mean    </td><td>Interleukin17_receptor_A:jak2</td><td>-0.56949839</td><td> -1.40844904</td><td> 0.26945226</td><td>0.183356993</td></tr>\n",
       "\t<tr><td>mcv_dna     </td><td>Interleukin17_receptor_A:jak2</td><td>-0.56949839</td><td> -1.40844904</td><td> 0.26945226</td><td>0.183356993</td></tr>\n",
       "\t<tr><td>plt_baseline</td><td>Interleukin17_receptor_A:jak2</td><td>-1.33784607</td><td>-12.60460580</td><td> 9.92891366</td><td>0.815966674</td></tr>\n",
       "\t<tr><td>plt_latest  </td><td>Interleukin17_receptor_A:jak2</td><td>10.95351302</td><td> -0.34899605</td><td>22.25602210</td><td>0.057502069</td></tr>\n",
       "\t<tr><td>plt_mean    </td><td>Interleukin17_receptor_A:jak2</td><td> 3.81526900</td><td> -7.03302985</td><td>14.66356785</td><td>0.490623545</td></tr>\n",
       "\t<tr><td>plt_dna     </td><td>Interleukin17_receptor_A:jak2</td><td> 6.09382061</td><td> -4.88083166</td><td>17.06847289</td><td>0.276456250</td></tr>\n",
       "\t<tr><td>rdw_baseline</td><td>Interleukin17_receptor_A:jak2</td><td> 0.02352073</td><td> -0.14235398</td><td> 0.18939543</td><td>0.781070521</td></tr>\n",
       "\t<tr><td>rdw_latest  </td><td>Interleukin17_receptor_A:jak2</td><td>-0.18767031</td><td> -0.34552991</td><td>-0.02981070</td><td>0.019799577</td></tr>\n",
       "\t<tr><td>rdw_mean    </td><td>Interleukin17_receptor_A:jak2</td><td>-0.22184883</td><td> -0.40510772</td><td>-0.03858994</td><td>0.017657615</td></tr>\n",
       "\t<tr><td>rdw_dna     </td><td>Interleukin17_receptor_A:jak2</td><td>-0.22184883</td><td> -0.40510772</td><td>-0.03858994</td><td>0.017657615</td></tr>\n",
       "\t<tr><td>wbc_baseline</td><td>Interleukin17_receptor_A:jak2</td><td> 0.46425330</td><td>  0.08895712</td><td> 0.83954948</td><td>0.015326393</td></tr>\n",
       "\t<tr><td>wbc_latest  </td><td>Interleukin17_receptor_A:jak2</td><td> 0.58932527</td><td>  0.21072164</td><td> 0.96792890</td><td>0.002281781</td></tr>\n",
       "\t<tr><td>wbc_mean    </td><td>Interleukin17_receptor_A:jak2</td><td> 0.38264164</td><td>  0.02635641</td><td> 0.73892686</td><td>0.035292533</td></tr>\n",
       "\t<tr><td>wbc_dna     </td><td>Interleukin17_receptor_A:jak2</td><td> 0.34448641</td><td> -0.03241935</td><td> 0.72139216</td><td>0.073227921</td></tr>\n",
       "</tbody>\n",
       "</table>\n"
      ],
      "text/latex": [
       "A tibble: 20 × 6\n",
       "\\begin{tabular}{llllll}\n",
       " Blood\\_Measure & Variable & Beta & CI\\_lower & CI\\_upper & P\\\\\n",
       " <chr> & <chr> & <dbl> & <dbl> & <dbl> & <dbl>\\\\\n",
       "\\hline\n",
       "\t hgb\\_baseline & Interleukin17\\_receptor\\_A:jak2 & -0.11769768 &  -0.31332274 &  0.07792738 & 0.238306168\\\\\n",
       "\t hgb\\_latest   & Interleukin17\\_receptor\\_A:jak2 &  0.07989188 &  -0.11748994 &  0.27727370 & 0.427588447\\\\\n",
       "\t hgb\\_mean     & Interleukin17\\_receptor\\_A:jak2 & -0.04218524 &  -0.22714562 &  0.14277514 & 0.654852711\\\\\n",
       "\t hgb\\_dna      & Interleukin17\\_receptor\\_A:jak2 & -0.09647871 &  -0.28437296 &  0.09141554 & 0.314219870\\\\\n",
       "\t mcv\\_baseline & Interleukin17\\_receptor\\_A:jak2 & -0.80979722 &  -1.57725873 & -0.04233571 & 0.038629291\\\\\n",
       "\t mcv\\_latest   & Interleukin17\\_receptor\\_A:jak2 & -1.09673670 &  -1.82787007 & -0.36560334 & 0.003281245\\\\\n",
       "\t mcv\\_mean     & Interleukin17\\_receptor\\_A:jak2 & -0.56949839 &  -1.40844904 &  0.26945226 & 0.183356993\\\\\n",
       "\t mcv\\_dna      & Interleukin17\\_receptor\\_A:jak2 & -0.56949839 &  -1.40844904 &  0.26945226 & 0.183356993\\\\\n",
       "\t plt\\_baseline & Interleukin17\\_receptor\\_A:jak2 & -1.33784607 & -12.60460580 &  9.92891366 & 0.815966674\\\\\n",
       "\t plt\\_latest   & Interleukin17\\_receptor\\_A:jak2 & 10.95351302 &  -0.34899605 & 22.25602210 & 0.057502069\\\\\n",
       "\t plt\\_mean     & Interleukin17\\_receptor\\_A:jak2 &  3.81526900 &  -7.03302985 & 14.66356785 & 0.490623545\\\\\n",
       "\t plt\\_dna      & Interleukin17\\_receptor\\_A:jak2 &  6.09382061 &  -4.88083166 & 17.06847289 & 0.276456250\\\\\n",
       "\t rdw\\_baseline & Interleukin17\\_receptor\\_A:jak2 &  0.02352073 &  -0.14235398 &  0.18939543 & 0.781070521\\\\\n",
       "\t rdw\\_latest   & Interleukin17\\_receptor\\_A:jak2 & -0.18767031 &  -0.34552991 & -0.02981070 & 0.019799577\\\\\n",
       "\t rdw\\_mean     & Interleukin17\\_receptor\\_A:jak2 & -0.22184883 &  -0.40510772 & -0.03858994 & 0.017657615\\\\\n",
       "\t rdw\\_dna      & Interleukin17\\_receptor\\_A:jak2 & -0.22184883 &  -0.40510772 & -0.03858994 & 0.017657615\\\\\n",
       "\t wbc\\_baseline & Interleukin17\\_receptor\\_A:jak2 &  0.46425330 &   0.08895712 &  0.83954948 & 0.015326393\\\\\n",
       "\t wbc\\_latest   & Interleukin17\\_receptor\\_A:jak2 &  0.58932527 &   0.21072164 &  0.96792890 & 0.002281781\\\\\n",
       "\t wbc\\_mean     & Interleukin17\\_receptor\\_A:jak2 &  0.38264164 &   0.02635641 &  0.73892686 & 0.035292533\\\\\n",
       "\t wbc\\_dna      & Interleukin17\\_receptor\\_A:jak2 &  0.34448641 &  -0.03241935 &  0.72139216 & 0.073227921\\\\\n",
       "\\end{tabular}\n"
      ],
      "text/markdown": [
       "\n",
       "A tibble: 20 × 6\n",
       "\n",
       "| Blood_Measure &lt;chr&gt; | Variable &lt;chr&gt; | Beta &lt;dbl&gt; | CI_lower &lt;dbl&gt; | CI_upper &lt;dbl&gt; | P &lt;dbl&gt; |\n",
       "|---|---|---|---|---|---|\n",
       "| hgb_baseline | Interleukin17_receptor_A:jak2 | -0.11769768 |  -0.31332274 |  0.07792738 | 0.238306168 |\n",
       "| hgb_latest   | Interleukin17_receptor_A:jak2 |  0.07989188 |  -0.11748994 |  0.27727370 | 0.427588447 |\n",
       "| hgb_mean     | Interleukin17_receptor_A:jak2 | -0.04218524 |  -0.22714562 |  0.14277514 | 0.654852711 |\n",
       "| hgb_dna      | Interleukin17_receptor_A:jak2 | -0.09647871 |  -0.28437296 |  0.09141554 | 0.314219870 |\n",
       "| mcv_baseline | Interleukin17_receptor_A:jak2 | -0.80979722 |  -1.57725873 | -0.04233571 | 0.038629291 |\n",
       "| mcv_latest   | Interleukin17_receptor_A:jak2 | -1.09673670 |  -1.82787007 | -0.36560334 | 0.003281245 |\n",
       "| mcv_mean     | Interleukin17_receptor_A:jak2 | -0.56949839 |  -1.40844904 |  0.26945226 | 0.183356993 |\n",
       "| mcv_dna      | Interleukin17_receptor_A:jak2 | -0.56949839 |  -1.40844904 |  0.26945226 | 0.183356993 |\n",
       "| plt_baseline | Interleukin17_receptor_A:jak2 | -1.33784607 | -12.60460580 |  9.92891366 | 0.815966674 |\n",
       "| plt_latest   | Interleukin17_receptor_A:jak2 | 10.95351302 |  -0.34899605 | 22.25602210 | 0.057502069 |\n",
       "| plt_mean     | Interleukin17_receptor_A:jak2 |  3.81526900 |  -7.03302985 | 14.66356785 | 0.490623545 |\n",
       "| plt_dna      | Interleukin17_receptor_A:jak2 |  6.09382061 |  -4.88083166 | 17.06847289 | 0.276456250 |\n",
       "| rdw_baseline | Interleukin17_receptor_A:jak2 |  0.02352073 |  -0.14235398 |  0.18939543 | 0.781070521 |\n",
       "| rdw_latest   | Interleukin17_receptor_A:jak2 | -0.18767031 |  -0.34552991 | -0.02981070 | 0.019799577 |\n",
       "| rdw_mean     | Interleukin17_receptor_A:jak2 | -0.22184883 |  -0.40510772 | -0.03858994 | 0.017657615 |\n",
       "| rdw_dna      | Interleukin17_receptor_A:jak2 | -0.22184883 |  -0.40510772 | -0.03858994 | 0.017657615 |\n",
       "| wbc_baseline | Interleukin17_receptor_A:jak2 |  0.46425330 |   0.08895712 |  0.83954948 | 0.015326393 |\n",
       "| wbc_latest   | Interleukin17_receptor_A:jak2 |  0.58932527 |   0.21072164 |  0.96792890 | 0.002281781 |\n",
       "| wbc_mean     | Interleukin17_receptor_A:jak2 |  0.38264164 |   0.02635641 |  0.73892686 | 0.035292533 |\n",
       "| wbc_dna      | Interleukin17_receptor_A:jak2 |  0.34448641 |  -0.03241935 |  0.72139216 | 0.073227921 |\n",
       "\n"
      ],
      "text/plain": [
       "   Blood_Measure Variable                      Beta        CI_lower    \n",
       "1  hgb_baseline  Interleukin17_receptor_A:jak2 -0.11769768  -0.31332274\n",
       "2  hgb_latest    Interleukin17_receptor_A:jak2  0.07989188  -0.11748994\n",
       "3  hgb_mean      Interleukin17_receptor_A:jak2 -0.04218524  -0.22714562\n",
       "4  hgb_dna       Interleukin17_receptor_A:jak2 -0.09647871  -0.28437296\n",
       "5  mcv_baseline  Interleukin17_receptor_A:jak2 -0.80979722  -1.57725873\n",
       "6  mcv_latest    Interleukin17_receptor_A:jak2 -1.09673670  -1.82787007\n",
       "7  mcv_mean      Interleukin17_receptor_A:jak2 -0.56949839  -1.40844904\n",
       "8  mcv_dna       Interleukin17_receptor_A:jak2 -0.56949839  -1.40844904\n",
       "9  plt_baseline  Interleukin17_receptor_A:jak2 -1.33784607 -12.60460580\n",
       "10 plt_latest    Interleukin17_receptor_A:jak2 10.95351302  -0.34899605\n",
       "11 plt_mean      Interleukin17_receptor_A:jak2  3.81526900  -7.03302985\n",
       "12 plt_dna       Interleukin17_receptor_A:jak2  6.09382061  -4.88083166\n",
       "13 rdw_baseline  Interleukin17_receptor_A:jak2  0.02352073  -0.14235398\n",
       "14 rdw_latest    Interleukin17_receptor_A:jak2 -0.18767031  -0.34552991\n",
       "15 rdw_mean      Interleukin17_receptor_A:jak2 -0.22184883  -0.40510772\n",
       "16 rdw_dna       Interleukin17_receptor_A:jak2 -0.22184883  -0.40510772\n",
       "17 wbc_baseline  Interleukin17_receptor_A:jak2  0.46425330   0.08895712\n",
       "18 wbc_latest    Interleukin17_receptor_A:jak2  0.58932527   0.21072164\n",
       "19 wbc_mean      Interleukin17_receptor_A:jak2  0.38264164   0.02635641\n",
       "20 wbc_dna       Interleukin17_receptor_A:jak2  0.34448641  -0.03241935\n",
       "   CI_upper    P          \n",
       "1   0.07792738 0.238306168\n",
       "2   0.27727370 0.427588447\n",
       "3   0.14277514 0.654852711\n",
       "4   0.09141554 0.314219870\n",
       "5  -0.04233571 0.038629291\n",
       "6  -0.36560334 0.003281245\n",
       "7   0.26945226 0.183356993\n",
       "8   0.26945226 0.183356993\n",
       "9   9.92891366 0.815966674\n",
       "10 22.25602210 0.057502069\n",
       "11 14.66356785 0.490623545\n",
       "12 17.06847289 0.276456250\n",
       "13  0.18939543 0.781070521\n",
       "14 -0.02981070 0.019799577\n",
       "15 -0.03858994 0.017657615\n",
       "16 -0.03858994 0.017657615\n",
       "17  0.83954948 0.015326393\n",
       "18  0.96792890 0.002281781\n",
       "19  0.73892686 0.035292533\n",
       "20  0.72139216 0.073227921"
      ]
     },
     "metadata": {},
     "output_type": "display_data"
    }
   ],
   "source": [
    "interaction_results <- lapply(blood_vars, analyze_interaction, data = data_all_jak_heme2)\n",
    "interaction_summary <- bind_rows(interaction_results)\n",
    "interaction_summary"
   ]
  },
  {
   "cell_type": "code",
   "execution_count": 187,
   "metadata": {},
   "outputs": [],
   "source": [
    "# Thrombocytoses"
   ]
  },
  {
   "cell_type": "code",
   "execution_count": 188,
   "metadata": {},
   "outputs": [],
   "source": [
    "data_all_jak_heme$thromb_dna <- NA\n",
    "data_all_jak_heme$thromb_dna <- ifelse(data_all_jak_heme$plt_dna >450, 1, 0)"
   ]
  },
  {
   "cell_type": "code",
   "execution_count": 192,
   "metadata": {},
   "outputs": [],
   "source": [
    "results_thromb <- glm(thromb_dna~ jak2*Interleukin17_receptor_A+baseline_age+age2+genetic_sex+smoking_0+PC1+PC2+PC3+PCD4+PC5, data = data_all_jak_heme, family = binomial)"
   ]
  },
  {
   "cell_type": "code",
   "execution_count": 194,
   "metadata": {
    "scrolled": true
   },
   "outputs": [
    {
     "data": {
      "text/plain": [
       "\n",
       "Call:\n",
       "glm(formula = thromb_dna ~ jak2 * Interleukin17_receptor_A + \n",
       "    baseline_age + age2 + genetic_sex + smoking_0 + PC1 + PC2 + \n",
       "    PC3 + PCD4 + PC5, family = binomial, data = data_all_jak_heme)\n",
       "\n",
       "Coefficients:\n",
       "                                Estimate Std. Error z value Pr(>|z|)    \n",
       "(Intercept)                   -4.1792499  0.9885120  -4.228 2.36e-05 ***\n",
       "jak2                           5.0393890  0.2463230  20.458  < 2e-16 ***\n",
       "Interleukin17_receptor_A      -0.0203973  0.0266217  -0.766   0.4436    \n",
       "baseline_age                  -0.0211076  0.0365227  -0.578   0.5633    \n",
       "age2                           0.0000921  0.0003320   0.277   0.7815    \n",
       "genetic_sex                   -0.8981756  0.0469954 -19.112  < 2e-16 ***\n",
       "smoking_0                      0.1975745  0.0288019   6.860 6.90e-12 ***\n",
       "PC1                           -0.0003823  0.0004208  -0.909   0.3636    \n",
       "PC2                           -0.0006216  0.0008789  -0.707   0.4794    \n",
       "PC3                            0.0064191  0.0015225   4.216 2.49e-05 ***\n",
       "PCD4                           0.0049996  0.0020821   2.401   0.0163 *  \n",
       "PC5                            0.0040433  0.0026719   1.513   0.1302    \n",
       "jak2:Interleukin17_receptor_A  0.2451806  0.2032978   1.206   0.2278    \n",
       "---\n",
       "Signif. codes:  0 ‘***’ 0.001 ‘**’ 0.01 ‘*’ 0.05 ‘.’ 0.1 ‘ ’ 1\n",
       "\n",
       "(Dispersion parameter for binomial family taken to be 1)\n",
       "\n",
       "    Null deviance: 29991  on 460690  degrees of freedom\n",
       "Residual deviance: 28935  on 460678  degrees of freedom\n",
       "  (485 observations deleted due to missingness)\n",
       "AIC: 28961\n",
       "\n",
       "Number of Fisher Scoring iterations: 8\n"
      ]
     },
     "metadata": {},
     "output_type": "display_data"
    }
   ],
   "source": [
    "summary(results_thromb)"
   ]
  },
  {
   "cell_type": "code",
   "execution_count": 10,
   "metadata": {},
   "outputs": [],
   "source": [
    "data_all_jak_heme$thromb_latest <- NA\n",
    "data_all_jak_heme$thromb_latest <- ifelse(data_all_jak_heme$plt_latest >450, 1, 0)"
   ]
  },
  {
   "cell_type": "code",
   "execution_count": 13,
   "metadata": {
    "scrolled": true
   },
   "outputs": [
    {
     "data": {
      "text/plain": [
       "\n",
       "Call:\n",
       "glm(formula = thromb_latest ~ jak2 * Interleukin17_receptor_A + \n",
       "    baseline_age + age2 + genetic_sex + smoking_0 + PC1 + PC2 + \n",
       "    PC3 + PCD4 + PC5 + baseline_DM + BMI_0 + baseline_HTN + ldl_0, \n",
       "    family = binomial, data = data_all_jak_heme)\n",
       "\n",
       "Coefficients:\n",
       "                                Estimate Std. Error z value Pr(>|z|)    \n",
       "(Intercept)                   -4.0288796  0.9197202  -4.381 1.18e-05 ***\n",
       "jak2                           4.4920457  0.2626298  17.104  < 2e-16 ***\n",
       "Interleukin17_receptor_A      -0.0187689  0.0243516  -0.771 0.440858    \n",
       "baseline_age                  -0.0342776  0.0338815  -1.012 0.311685    \n",
       "age2                           0.0002939  0.0003060   0.961 0.336749    \n",
       "genetic_sex                   -0.7099798  0.0414275 -17.138  < 2e-16 ***\n",
       "smoking_0                      0.2651918  0.0262836  10.090  < 2e-16 ***\n",
       "PC1                           -0.0004167  0.0003854  -1.081 0.279676    \n",
       "PC2                           -0.0002988  0.0007988  -0.374 0.708368    \n",
       "PC3                            0.0040120  0.0014193   2.827 0.004702 ** \n",
       "PCD4                           0.0083972  0.0022030   3.812 0.000138 ***\n",
       "PC5                           -0.0016333  0.0025013  -0.653 0.513773    \n",
       "baseline_DM                    0.4636380  0.0946083   4.901 9.55e-07 ***\n",
       "BMI_0                          0.0037436  0.0038854   0.963 0.335303    \n",
       "baseline_HTN                   0.2954436  0.0600079   4.923 8.50e-07 ***\n",
       "ldl_0                         -0.0220733  0.0225811  -0.978 0.328314    \n",
       "jak2:Interleukin17_receptor_A  0.2722454  0.2175095   1.252 0.210698    \n",
       "---\n",
       "Signif. codes:  0 ‘***’ 0.001 ‘**’ 0.01 ‘*’ 0.05 ‘.’ 0.1 ‘ ’ 1\n",
       "\n",
       "(Dispersion parameter for binomial family taken to be 1)\n",
       "\n",
       "    Null deviance: 34306  on 438471  degrees of freedom\n",
       "Residual deviance: 33411  on 438455  degrees of freedom\n",
       "  (22704 observations deleted due to missingness)\n",
       "AIC: 33445\n",
       "\n",
       "Number of Fisher Scoring iterations: 8\n"
      ]
     },
     "metadata": {},
     "output_type": "display_data"
    }
   ],
   "source": [
    "results_thromb <- glm(thromb_latest~ jak2*Interleukin17_receptor_A+baseline_age+age2+genetic_sex+smoking_0+PC1+PC2+PC3+PCD4+PC5 +baseline_DM+ BMI_0+baseline_HTN+ ldl_0, data = data_all_jak_heme, family = binomial)\n",
    "summary(results_thromb)"
   ]
  }
 ],
 "metadata": {
  "kernelspec": {
   "display_name": "R",
   "language": "R",
   "name": "ir"
  },
  "language_info": {
   "codemirror_mode": "r",
   "file_extension": ".r",
   "mimetype": "text/x-r-source",
   "name": "R",
   "pygments_lexer": "r",
   "version": "4.4.0"
  },
  "toc": {
   "base_numbering": 1,
   "nav_menu": {},
   "number_sections": true,
   "sideBar": true,
   "skip_h1_title": false,
   "title_cell": "Table of Contents",
   "title_sidebar": "Contents",
   "toc_cell": false,
   "toc_position": {},
   "toc_section_display": true,
   "toc_window_display": false
  }
 },
 "nbformat": 4,
 "nbformat_minor": 2
}
